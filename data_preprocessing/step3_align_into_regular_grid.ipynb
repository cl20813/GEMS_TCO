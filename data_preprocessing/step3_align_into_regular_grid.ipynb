{
 "cells": [
  {
   "cell_type": "code",
   "execution_count": null,
   "metadata": {},
   "outputs": [],
   "source": [
    "# work environment: jl2815\n",
    "import pandas as pd\n",
    "import xarray as xr # for netCDF4 \n",
    "from netCDF4 import Dataset\n",
    "\n",
    "import numpy as np\n",
    "import pickle\n",
    "import sys\n",
    "import os\n",
    "gems_tco_path = \"/Users/joonwonlee/Documents/GEMS_TCO-1/src\"\n",
    "sys.path.append(gems_tco_path)\n",
    "\n",
    "\n",
    "# work with jl2815 environment\n",
    "\n",
    "# Ignore warnings due to duplicated dimension names\n",
    "import warnings\n",
    "warnings.filterwarnings(\"ignore\", category=FutureWarning)\n",
    "warnings.filterwarnings(\"ignore\", category=UserWarning, module=\"xarray\")\n",
    "from pathlib import Path\n",
    "\n",
    "\n",
    "from GEMS_TCO import configuration as config\n",
    "from GEMS_TCO import data_preprocess as dmbh\n"
   ]
  },
  {
   "cell_type": "markdown",
   "metadata": {},
   "source": [
    "### Load pickle file"
   ]
  },
  {
   "cell_type": "code",
   "execution_count": 2,
   "metadata": {},
   "outputs": [
    {
     "name": "stdout",
     "output_type": "stream",
     "text": [
      "/Users/joonwonlee/Documents/GEMS_DATA/pickle_2024/orbit_map24_07.pkl\n"
     ]
    }
   ],
   "source": [
    "mac_data_path = config.mac_data_load_path\n",
    "years = [2024]  # years = [2023,2024]\n",
    "months = list( range(7,8))\n",
    "year = years[0]\n",
    "month = months[0]\n",
    "month_str = f\"{month:02d}\"  \n",
    "filename = f\"pickle_2024/orbit_map{str(year)[2:]}_{month_str}.pkl\"\n",
    "picklefile_path = Path(mac_data_path) / filename\n",
    "print(picklefile_path)"
   ]
  },
  {
   "cell_type": "code",
   "execution_count": 3,
   "metadata": {},
   "outputs": [],
   "source": [
    "with open(picklefile_path, 'rb') as pickle_file:\n",
    "    data_map_hour = pickle.load(pickle_file)"
   ]
  },
  {
   "cell_type": "markdown",
   "metadata": {},
   "source": [
    "### Make consistent map matching by centers\n",
    "\n",
    "year =2024 or 2023   \n",
    "for month in range(start,end+1)   "
   ]
  },
  {
   "cell_type": "markdown",
   "metadata": {},
   "source": [
    "Now use loop"
   ]
  },
  {
   "cell_type": "code",
   "execution_count": 5,
   "metadata": {},
   "outputs": [
    {
     "name": "stdout",
     "output_type": "stream",
     "text": [
      "Successfully processed and saved data for year 24 month 07.\n"
     ]
    }
   ],
   "source": [
    "# Base file path and settings\n",
    "# base_path = \"C:\\\\Users\\\\joonw\\\\TCO\\\\GEMS_data\"    MSI notebook\n",
    "\n",
    "mac_data_path = config.mac_data_load_path\n",
    "lat_start, lat_end, lon_start, lon_end = 0, 5, 123, 133\n",
    "step_lat, step_lon = 0.022, 0.066\n",
    "\n",
    "# df = pd.read_csv(\"C:\\\\Users\\\\joonw\\\\TCO\\\\GEMS_data\\\\data_2024\\\\data_24_07_0131_N510_E110120.csv\")  MSI notebook\n",
    "df = pd.read_csv(\"/Users/joonwonlee/Documents/GEMS_DATA/data_2024/data_24_07_0131_N05_E123133.csv\")  # MAC\n",
    "instance = dmbh.center_matching_hour(df, lat_start, lat_end, lon_start, lon_end)  \n",
    "\n",
    "for year in years:        # years = [2023,2024]\n",
    "    for month in months:  \n",
    "        try:\n",
    "            # load pickle (dense ORI data)\n",
    "            pickle_path = os.path.join(mac_data_path, f'pickle_{year}')\n",
    "            input_filename = f\"orbit_map{str(year)[2:]}_{month_str}.pkl\"\n",
    "            input_filepath = os.path.join(pickle_path, input_filename)\n",
    "            with open(input_filepath, 'rb') as pickle_file:\n",
    "                loaded_map = pickle.load(pickle_file)\n",
    "            center_points = instance.make_center_points(step_lat = step_lat, step_lon= step_lon)\n",
    "            coarse_cen_map = instance.coarse_by_center(loaded_map, center_points)\n",
    "\n",
    "            # Save pickle (coarse data)\n",
    "            output_filename = f\"coarse_cen_map{str(year)[2:]}_{month_str}.pkl\"\n",
    "            output_filepath = os.path.join(pickle_path, output_filename)\n",
    "            with open(output_filepath, 'wb') as pickle_file:\n",
    "                pickle.dump(coarse_cen_map, pickle_file)\n",
    "            \n",
    "            print(f\"Successfully processed and saved data for year {str(year)[2:]} month {month_str}.\")\n",
    "        except FileNotFoundError:\n",
    "            print(f\"Warning: File {input_filename} not found. Skipping.\")\n",
    "        except Exception as e:\n",
    "            print(f\"Error processing file {input_filename}: {e}\")"
   ]
  },
  {
   "cell_type": "markdown",
   "metadata": {},
   "source": [
    "## Original code below: use for debugging errors"
   ]
  },
  {
   "cell_type": "code",
   "execution_count": 6,
   "metadata": {},
   "outputs": [],
   "source": [
    "with open(output_filepath, 'rb') as pickle_file:\n",
    "    cbmap = pickle.load(pickle_file)"
   ]
  },
  {
   "cell_type": "code",
   "execution_count": 9,
   "metadata": {},
   "outputs": [
    {
     "data": {
      "text/html": [
       "<div>\n",
       "<style scoped>\n",
       "    .dataframe tbody tr th:only-of-type {\n",
       "        vertical-align: middle;\n",
       "    }\n",
       "\n",
       "    .dataframe tbody tr th {\n",
       "        vertical-align: top;\n",
       "    }\n",
       "\n",
       "    .dataframe thead th {\n",
       "        text-align: right;\n",
       "    }\n",
       "</style>\n",
       "<table border=\"1\" class=\"dataframe\">\n",
       "  <thead>\n",
       "    <tr style=\"text-align: right;\">\n",
       "      <th></th>\n",
       "      <th>Latitude</th>\n",
       "      <th>Longitude</th>\n",
       "      <th>ColumnAmountO3</th>\n",
       "      <th>Hours_elapsed</th>\n",
       "      <th>Time</th>\n",
       "      <th>Source_Latitude</th>\n",
       "      <th>Source_Longitude</th>\n",
       "    </tr>\n",
       "  </thead>\n",
       "  <tbody>\n",
       "    <tr>\n",
       "      <th>0</th>\n",
       "      <td>4.9998</td>\n",
       "      <td>132.9998</td>\n",
       "      <td>260.68182</td>\n",
       "      <td>477720.866667</td>\n",
       "      <td>2024-07-01 00:52:00</td>\n",
       "      <td>4.998375</td>\n",
       "      <td>132.98442</td>\n",
       "    </tr>\n",
       "    <tr>\n",
       "      <th>1</th>\n",
       "      <td>4.9999</td>\n",
       "      <td>132.9338</td>\n",
       "      <td>262.34076</td>\n",
       "      <td>477720.866667</td>\n",
       "      <td>2024-07-01 00:52:00</td>\n",
       "      <td>4.998421</td>\n",
       "      <td>132.92055</td>\n",
       "    </tr>\n",
       "    <tr>\n",
       "      <th>2</th>\n",
       "      <td>5.0000</td>\n",
       "      <td>132.8678</td>\n",
       "      <td>262.01970</td>\n",
       "      <td>477720.866667</td>\n",
       "      <td>2024-07-01 00:52:00</td>\n",
       "      <td>4.998329</td>\n",
       "      <td>132.85893</td>\n",
       "    </tr>\n",
       "    <tr>\n",
       "      <th>3</th>\n",
       "      <td>5.0001</td>\n",
       "      <td>132.8018</td>\n",
       "      <td>264.06370</td>\n",
       "      <td>477720.866667</td>\n",
       "      <td>2024-07-01 00:52:00</td>\n",
       "      <td>4.998335</td>\n",
       "      <td>132.79536</td>\n",
       "    </tr>\n",
       "    <tr>\n",
       "      <th>4</th>\n",
       "      <td>5.0002</td>\n",
       "      <td>132.7358</td>\n",
       "      <td>262.72656</td>\n",
       "      <td>477720.866667</td>\n",
       "      <td>2024-07-01 00:52:00</td>\n",
       "      <td>4.998388</td>\n",
       "      <td>132.73280</td>\n",
       "    </tr>\n",
       "  </tbody>\n",
       "</table>\n",
       "</div>"
      ],
      "text/plain": [
       "   Latitude  Longitude  ColumnAmountO3  Hours_elapsed                 Time  \\\n",
       "0    4.9998   132.9998       260.68182  477720.866667  2024-07-01 00:52:00   \n",
       "1    4.9999   132.9338       262.34076  477720.866667  2024-07-01 00:52:00   \n",
       "2    5.0000   132.8678       262.01970  477720.866667  2024-07-01 00:52:00   \n",
       "3    5.0001   132.8018       264.06370  477720.866667  2024-07-01 00:52:00   \n",
       "4    5.0002   132.7358       262.72656  477720.866667  2024-07-01 00:52:00   \n",
       "\n",
       "   Source_Latitude  Source_Longitude  \n",
       "0         4.998375         132.98442  \n",
       "1         4.998421         132.92055  \n",
       "2         4.998329         132.85893  \n",
       "3         4.998335         132.79536  \n",
       "4         4.998388         132.73280  "
      ]
     },
     "execution_count": 9,
     "metadata": {},
     "output_type": "execute_result"
    }
   ],
   "source": [
    "cbmap['y24m07day01_hm00:52'].head()"
   ]
  }
 ],
 "metadata": {
  "kernelspec": {
   "display_name": "faiss_env",
   "language": "python",
   "name": "python3"
  },
  "language_info": {
   "codemirror_mode": {
    "name": "ipython",
    "version": 3
   },
   "file_extension": ".py",
   "mimetype": "text/x-python",
   "name": "python",
   "nbconvert_exporter": "python",
   "pygments_lexer": "ipython3",
   "version": "3.12.3"
  }
 },
 "nbformat": 4,
 "nbformat_minor": 2
}
