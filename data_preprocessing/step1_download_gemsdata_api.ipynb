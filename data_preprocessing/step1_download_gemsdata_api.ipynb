{
 "cells": [
  {
   "cell_type": "code",
   "execution_count": 1,
   "metadata": {},
   "outputs": [],
   "source": [
    "import sys\n",
    "import os\n",
    "\n",
    "# Add the directory containing smoothspace.py to sys.path\n",
    "# sys.path.append(r'c:\\\\Users\\\\joonw\\\\TCO\\\\GEMS_TCO')\n",
    "# sys.path.append(r'c:\\\\Users\\\\joonw\\\\TCO')"
   ]
  },
  {
   "cell_type": "code",
   "execution_count": 2,
   "metadata": {},
   "outputs": [],
   "source": [
    "from GEMS_TCO import download_data"
   ]
  },
  {
   "cell_type": "markdown",
   "metadata": {},
   "source": [
    "Input:\n",
    "\n",
    "year: int   \n",
    "month int  \n",
    "days = list of integers\n",
    "\n",
    "Example code below:  \n"
   ]
  },
  {
   "cell_type": "code",
   "execution_count": null,
   "metadata": {},
   "outputs": [],
   "source": [
    "\n",
    "dayslist = list(range(29,30))\n",
    "instance = download_data.Download_file(year=2023, month=2, days = dayslist )\n",
    "\n",
    "instance.run()"
   ]
  },
  {
   "cell_type": "markdown",
   "metadata": {},
   "source": [
    "error test in 2024 11 (weird there is no 11/31 )"
   ]
  },
  {
   "cell_type": "code",
   "execution_count": null,
   "metadata": {},
   "outputs": [],
   "source": [
    "dayslist = list(range(31,32))\n",
    "instance = download_data.Download_file(year=2024, month=11, days = dayslist )\n",
    "\n",
    "instance.run()"
   ]
  }
 ],
 "metadata": {
  "kernelspec": {
   "display_name": "faiss_env",
   "language": "python",
   "name": "python3"
  },
  "language_info": {
   "codemirror_mode": {
    "name": "ipython",
    "version": 3
   },
   "file_extension": ".py",
   "mimetype": "text/x-python",
   "name": "python",
   "nbconvert_exporter": "python",
   "pygments_lexer": "ipython3",
   "version": "3.12.9"
  }
 },
 "nbformat": 4,
 "nbformat_minor": 2
}
