{
 "cells": [
  {
   "cell_type": "markdown",
   "metadata": {},
   "source": [
    "Import packages and set the directory to load data"
   ]
  },
  {
   "cell_type": "code",
   "execution_count": 1,
   "metadata": {},
   "outputs": [],
   "source": [
    "# work with jl2815 environment\n",
    "import xarray as xr # for netCDF4 \n",
    "import pandas as pd\n",
    "import numpy as np\n",
    "from netCDF4 import Dataset\n",
    "from matplotlib import pyplot as plt\n",
    "import os\n",
    "# Ignore warnings due to duplicated dimension names\n",
    "import warnings\n",
    "warnings.filterwarnings(\"ignore\", category=FutureWarning)\n",
    "warnings.filterwarnings(\"ignore\", category=UserWarning, module=\"xarray\")\n",
    "from pathlib import Path\n",
    "\n",
    "import sys\n",
    "gems_tco_path = \"/Users/joonwonlee/Documents/GEMS_TCO-1/src\"\n",
    "sys.path.append(gems_tco_path)\n",
    "\n",
    "from GEMS_TCO import configuration as config\n",
    "from GEMS_TCO import data_preprocess as dmbh"
   ]
  },
  {
   "cell_type": "markdown",
   "metadata": {},
   "source": [
    "2024 01: hours: 00 to 05   N3035_E100110\n",
    "2023 04: hours: 00 to 07   N3035_E100110\n",
    "2023 01: hours: 00 to 05   N3035_E100110\n",
    "\n",
    "2023: y23m04day20_8 and y23m07day13_8 missing !! for N3035_E100110\n",
    "2023: y23m04day20_8 !! for N3035_E110120\n",
    "\n",
    "2023 04: hours: 00 to 07   N3035_E110120           \n",
    "2023 07: hours: 00 to 07   N3035_E110120\n",
    "2024 04: hours: 00 to 07   N3035_E110120\n",
    "2024 07: hours: 00 to 07   N3035_E110120"
   ]
  },
  {
   "cell_type": "markdown",
   "metadata": {},
   "source": [
    "# Explore Groups in the NetCDF file"
   ]
  },
  {
   "cell_type": "code",
   "execution_count": 2,
   "metadata": {},
   "outputs": [
    {
     "name": "stdout",
     "output_type": "stream",
     "text": [
      "Groups in the NetCDF file:\n",
      "Data Fields\n",
      "Geolocation Fields\n",
      "METADATA\n",
      "\n",
      "Variables in group 'Data Fields':\n",
      "AveragingKernel\n",
      "CloudPressure\n",
      "ColumnAmountO3\n",
      "DegreesOfFreedomForSignal\n",
      "EstimatedError\n",
      "FinalAlgorithmFlags\n",
      "LayerEfficiency\n",
      "Nvalue\n",
      "O3BelowCloud\n",
      "Reflectivity340\n",
      "Reflectivity380\n",
      "Residue\n",
      "StepOneO3\n",
      "StepTwoO3\n",
      "TerrainPressure\n",
      "dNdR\n",
      "dR_dl\n",
      "EffectiveCloudFraction\n",
      "\n",
      "Variables in group 'Geolocation Fields':\n",
      "Latitude\n",
      "Longitude\n",
      "RelativeAzimuthAngle\n",
      "SolarZenithAngle\n",
      "ViewingZenithAngle\n",
      "Time\n",
      "GroundPixelQualityFlags\n",
      "\n",
      "Variables in group 'METADATA':\n"
     ]
    }
   ],
   "source": [
    "# file_path = \"/Volumes/Backup Plus/GEMS_UNZIPPED/2024070131/20240701_0045.nc\"  # portable device\n",
    "file_path = \"/Users/joonwonlee/Documents/GEMS_DATA/2024070131/20240701_0045.nc\" # mac\n",
    "location = xr.open_dataset(file_path, group='Geolocation Fields')\n",
    "Z = xr.open_dataset(file_path, group='Data Fields')\n",
    "\n",
    "\n",
    "import netCDF4 as nc\n",
    "\n",
    "dataset = nc.Dataset(file_path)\n",
    "\n",
    "# Print all group names\n",
    "print(\"Groups in the NetCDF file:\")\n",
    "for group_name in dataset.groups:\n",
    "    print(group_name)\n",
    "\n",
    "# Optionally, print variables in each group\n",
    "for group_name, group in dataset.groups.items():\n",
    "    print(f\"\\nVariables in group '{group_name}':\")\n",
    "    for var_name in group.variables:\n",
    "        print(var_name)\n",
    "\n",
    "# Close the dataset\n",
    "dataset.close()\n"
   ]
  },
  {
   "cell_type": "markdown",
   "metadata": {},
   "source": [
    "# Truncate the area of interest and save in csv"
   ]
  },
  {
   "cell_type": "markdown",
   "metadata": {},
   "source": [
    "Extract the region of interest"
   ]
  },
  {
   "cell_type": "code",
   "execution_count": 3,
   "metadata": {},
   "outputs": [],
   "source": [
    "computer_path = config.mac_data_load_path  # mac\n",
    "# portable_disk = \"/Volumes/Backup Plus/GEMS_UNZIPPED/\" \n",
    "year=2024\n",
    "month = 7\n",
    "filelist_instance = dmbh.file_path_list(year, month, computer_path)\n",
    "# filelist_instance = file_path_list(year, month, portable_disk)\n",
    "file_paths_list = filelist_instance.file_names_july24() \n",
    "\n",
    "\n",
    "# instance= MonthAggregatedCSV(4.99, 10.01, 110.01, 123.01)\n",
    "instance= dmbh.MonthAggregatedCSV(0, 5, 123, 133)\n",
    "GoodQualityData = instance.aggregate_july24tocsv(file_paths_list)"
   ]
  },
  {
   "cell_type": "markdown",
   "metadata": {},
   "source": [
    "check data quality"
   ]
  },
  {
   "cell_type": "code",
   "execution_count": 4,
   "metadata": {},
   "outputs": [
    {
     "data": {
      "text/plain": [
       "33092.709677419356"
      ]
     },
     "execution_count": 4,
     "metadata": {},
     "output_type": "execute_result"
    }
   ],
   "source": [
    "GoodQualityData.shape[0]/31/8  \n",
    "# 5 10 123 133  33856 without filtering 0 only: 10759  fine list: 32063 \n",
    "# 0 5 123 133 00 only  13520  33092 if 0|2|4|128"
   ]
  },
  {
   "cell_type": "code",
   "execution_count": 5,
   "metadata": {},
   "outputs": [
    {
     "data": {
      "text/plain": [
       "(array([8032227.,       0.,       0.,       0.,       0.,       0.,\n",
       "              0.,       0.,       0.,  174765.]),\n",
       " array([  0.        ,  12.80000019,  25.60000038,  38.40000153,\n",
       "         51.20000076,  64.        ,  76.80000305,  89.59999847,\n",
       "        102.40000153, 115.19999695, 128.        ]),\n",
       " <BarContainer object of 10 artists>)"
      ]
     },
     "execution_count": 5,
     "metadata": {},
     "output_type": "execute_result"
    },
    {
     "data": {
      "image/png": "[encoded data removed]",
      "text/plain": [
       "<Figure size 640x480 with 1 Axes>"
      ]
     },
     "metadata": {},
     "output_type": "display_data"
    }
   ],
   "source": [
    "plt.hist( GoodQualityData['FinalAlgorithmFlags'])"
   ]
  },
  {
   "cell_type": "markdown",
   "metadata": {},
   "source": [
    "save file"
   ]
  },
  {
   "cell_type": "code",
   "execution_count": 6,
   "metadata": {},
   "outputs": [],
   "source": [
    "instance.save(GoodQualityData, 2024, 7, computer_path)"
   ]
  },
  {
   "cell_type": "markdown",
   "metadata": {},
   "source": [
    "-observation 1: weird no matter how i truncated why there is consitent missing in some longitude range? (solved: when viewing angle is bad like E110, instrument go downward when moving from East to West)\n",
    "\n"
   ]
  },
  {
   "cell_type": "markdown",
   "metadata": {},
   "source": [
    "### Make a loop to process multiple months\n"
   ]
  },
  {
   "cell_type": "code",
   "execution_count": null,
   "metadata": {},
   "outputs": [],
   "source": [
    "year = 2024\n",
    "portable_disk = \"/Volumes/Backup Plus/GEMS_UNZIPPED/\" \n",
    "for month in range(7, 8):  # From January to November\n",
    "    # filelist_instance = file_path_list(year, month, computer_path)\n",
    "\n",
    "    # truncate data and save in cvs\n",
    "    filelist_instance = dmbh.file_path_list(year, month, portable_disk)\n",
    "    file_paths_list = filelist_instance.file_names_july24() \n",
    "\n",
    "    # transform ORI dense data into pickle file\n",
    "    instance= dmbh.MonthAggregatedCSV(0, 5, 123, 133)\n",
    "    GoodQualityData = instance.aggregate_july24tocsv(file_paths_list)\n",
    "    instance.save(GoodQualityData, year, month, computer_path)"
   ]
  },
  {
   "cell_type": "markdown",
   "metadata": {},
   "source": [
    "### Transform CVS into pickle file after saving csv file into the folder"
   ]
  },
  {
   "cell_type": "code",
   "execution_count": 45,
   "metadata": {},
   "outputs": [
    {
     "name": "stdout",
     "output_type": "stream",
     "text": [
      "Reading file: /Users/joonwonlee/Documents/GEMS_DATA/data_2024/data_24_07_0131_N05_E123133.csv\n",
      "Successfully processed and saved data for year 24 month 07.\n"
     ]
    }
   ],
   "source": [
    "\n",
    "# input_base = \"/Volumes/Backup Plus/Extracted_data/\"       MAC: working from portable disk requires permission, figure out later\n",
    "mac_data_path = config.mac_data_load_path   # \"C:\\\\Users\\\\joonw\\\\TCO\\\\GEMS_data\"    MSI notebook\n",
    "\n",
    "lat_start, lat_end, lon_start, lon_end = 0, 5, 123, 133\n",
    "\n",
    "years = [2024]  # years = [2023,2024]\n",
    "months = list( range(7,8))\n",
    "\n",
    "instance = dmbh.MonthAggregatedHashmap(lat_start, lat_end, lon_start, lon_end, years, months)\n",
    "instance.aggregate_july24topickle(csvfilepath = mac_data_path)"
   ]
  }
 ],
 "metadata": {
  "kernelspec": {
   "display_name": "faiss_env",
   "language": "python",
   "name": "python3"
  },
  "language_info": {
   "codemirror_mode": {
    "name": "ipython",
    "version": 3
   },
   "file_extension": ".py",
   "mimetype": "text/x-python",
   "name": "python",
   "nbconvert_exporter": "python",
   "pygments_lexer": "ipython3",
   "version": "3.12.3"
  }
 },
 "nbformat": 4,
 "nbformat_minor": 2
}
