{
 "cells": [
  {
   "cell_type": "code",
   "execution_count": 82,
   "metadata": {},
   "outputs": [],
   "source": [
    "# work environment: jl2815\n",
    "import pandas as pd\n",
    "import pickle\n",
    "import sys\n",
    "import os\n",
    "gems_tco_path = \"/Users/joonwonlee/Documents/GEMS_TCO-1/src\"\n",
    "sys.path.append(gems_tco_path)\n",
    "#  sys.path\n",
    "# !pip install numpy==2.0\n",
    "\n",
    "from GEMS_TCO import data_map_by_hour\n",
    "\n",
    "\n",
    "# work with jl2815 environment\n",
    "import xarray as xr # for netCDF4 \n",
    "import pandas as pd\n",
    "import numpy as np\n",
    "from netCDF4 import Dataset\n",
    "\n",
    "# Ignore warnings due to duplicated dimension names\n",
    "import warnings\n",
    "warnings.filterwarnings(\"ignore\", category=FutureWarning)\n",
    "warnings.filterwarnings(\"ignore\", category=UserWarning, module=\"xarray\")\n",
    "from pathlib import Path\n",
    "\n",
    "\n",
    "from GEMS_TCO import configuration as config\n",
    "from GEMS_TCO import data_map_by_hour\n"
   ]
  },
  {
   "cell_type": "markdown",
   "metadata": {},
   "source": [
    "Make orbit maps:\n",
    "\n",
    "year =2024 or 2023   \n",
    "for month in range(start,end+1)   "
   ]
  },
  {
   "cell_type": "code",
   "execution_count": 123,
   "metadata": {},
   "outputs": [
    {
     "name": "stdout",
     "output_type": "stream",
     "text": [
      "Reading file: /Users/joonwonlee/Documents/GEMS_DATA/data_2024/data_24_07_0131_N4.910.1_E109.9124.1.csv\n",
      "Successfully processed and saved data for year 24 month 07.\n"
     ]
    }
   ],
   "source": [
    "class\n",
    "# input_base = \"/Volumes/Backup Plus/Extracted_data/\"       MAC: working from portable disk requires permission, figure out later\n",
    "# base_path = \"C:\\\\Users\\\\joonw\\\\TCO\\\\GEMS_data\"    MSI notebook\n",
    "base_path = config.mac_data_load_path   \n",
    "output_path = base_path\n",
    "#lat_start, lat_end, lon_start, lon_end = 5, 10, 110, 120\n",
    "\n",
    "lat_start, lat_end, lon_start, lon_end = 4.9, 10.1, 109.9, 124.1\n",
    "\n",
    "# years = [2023,2024]\n",
    "years = [2024] \n",
    "months = list( range(7,8))\n",
    "# Loop through months\n",
    "for year in years:\n",
    "    for month in months:  \n",
    "        try:\n",
    "            # Construct filenames dynamically\n",
    "            month_str = f\"{month:02d}\"  # Ensure month is zero-padded\n",
    "            if month == 2 and year==2023:\n",
    "                day_str = \"0128\"  # Handle February specifically\n",
    "            elif month ==2 and year==2024:\n",
    "                day_str = \"0129\"\n",
    "            else:\n",
    "                day_str = \"0131\" if (month in [1, 3, 5, 7, 8, 10, 12]) else \"0130\"\n",
    "    \n",
    "            input_filename = f\"data_{year}/data_{str(year)[2:]}_{month_str}_{day_str}_N{lat_start}{lat_end}_E{lon_start}{lon_end}.csv\"\n",
    "            \n",
    "            input_filepath = os.path.join(base_path, input_filename)\n",
    "            \n",
    "            # Read data\n",
    "            print(f\"Reading file: {input_filepath}\")\n",
    "            df = pd.read_csv(input_filepath)\n",
    "\n",
    "            # Process data\n",
    "            instance = data_map_by_hour.center_matching_hour(df, lat_start, lat_end, lon_start, lon_end)\n",
    "            orbit_map = instance.group_data_by_orbits()\n",
    "            \n",
    "            output_path = os.path.join(base_path, f'pickle_{year}')\n",
    "\n",
    "            # Ensure output directory exists\n",
    "            if not os.path.exists(output_path):\n",
    "                os.makedirs(output_path)\n",
    "            # Save pickle\n",
    "            output_filename = f\"orbit_map{str(year)[2:]}_{month_str}.pkl\"\n",
    "            output_filepath = os.path.join(output_path, output_filename)\n",
    "            with open(output_filepath, 'wb') as pickle_file:\n",
    "                pickle.dump(orbit_map, pickle_file)\n",
    "            \n",
    "            print(f\"Successfully processed and saved data for year {str(year)[2:]} month {month_str}.\")\n",
    "        except FileNotFoundError:\n",
    "            print(f\"Warning: File {input_filename} not found. Skipping.\")\n",
    "        except Exception as e:\n",
    "            print(f\"Error processing file {input_filename}: {e}\")\n"
   ]
  },
  {
   "cell_type": "markdown",
   "metadata": {},
   "source": [
    "### Now we should investigate whether there is a data showing lot of missing in certain range of latitude and longitude."
   ]
  },
  {
   "cell_type": "code",
   "execution_count": 124,
   "metadata": {},
   "outputs": [],
   "source": [
    "import pickle\n",
    "\n",
    "with open(output_filepath, 'rb') as pickle_file:\n",
    "    data_map_hour = pickle.load(pickle_file)\n",
    "\n",
    "\n",
    "# /Users/joonwonlee/Documents/GEMS_DATA/pickle_2024"
   ]
  },
  {
   "cell_type": "markdown",
   "metadata": {},
   "source": [
    "Longitude\n",
    "\n",
    "July-24\n",
    "based on below it seems like 113.5-123.5 has smallest missing set.\n",
    "\n",
    "July-23\n",
    "It seems 111-124 is good enough for almost all days except day 21: 111-122.92\n",
    "\n"
   ]
  },
  {
   "cell_type": "code",
   "execution_count": 116,
   "metadata": {},
   "outputs": [
    {
     "name": "stdout",
     "output_type": "stream",
     "text": [
      "109.90028 124.09987\n"
     ]
    },
    {
     "data": {
      "text/plain": [
       "[<matplotlib.lines.Line2D at 0x486e65820>]"
      ]
     },
     "execution_count": 116,
     "metadata": {},
     "output_type": "execute_result"
    },
    {
     "data": {
      "image/png": "[encoded data removed]",
      "text/plain": [
       "<Figure size 640x480 with 1 Axes>"
      ]
     },
     "metadata": {},
     "output_type": "display_data"
    }
   ],
   "source": [
    "key_list = list( data_map_hour.keys() )\n",
    "\n",
    "i=20\n",
    "# 2024 July 0,1,2: 113-124, 5: 113-123 6:113.431- 123.5, 26:110-123 29,30: 110:122.5\n",
    "# 2023 July 10,11: 111-124, 20: 111-122.92\n",
    "sdf = data_map_hour[key_list[i]]\n",
    "\n",
    "from matplotlib import pyplot as plt  \n",
    "\n",
    "print( sdf['Longitude'].min(), sdf['Longitude'].max())\n",
    "plt.plot( sdf['Longitude'])"
   ]
  },
  {
   "cell_type": "markdown",
   "metadata": {},
   "source": [
    "Look closer "
   ]
  },
  {
   "cell_type": "code",
   "execution_count": null,
   "metadata": {},
   "outputs": [],
   "source": [
    "\n",
    "plt.plot(sdf.iloc[29500:29700]['Longitude'])\n",
    "\n",
    "# sdf.iloc[43500:]['Longitude'].min()\n",
    "\n",
    "# sdf.iloc[29500:29700]['Longitude'].max()"
   ]
  },
  {
   "cell_type": "markdown",
   "metadata": {},
   "source": [
    "Latitude\n",
    "\n",
    "Longitude is the one we should worry about"
   ]
  },
  {
   "cell_type": "code",
   "execution_count": 122,
   "metadata": {},
   "outputs": [
    {
     "name": "stdout",
     "output_type": "stream",
     "text": [
      "4.9001527 10.09973\n"
     ]
    },
    {
     "data": {
      "text/plain": [
       "[<matplotlib.lines.Line2D at 0x4835ee210>]"
      ]
     },
     "execution_count": 122,
     "metadata": {},
     "output_type": "execute_result"
    },
    {
     "data": {
      "image/png": "[encoded data removed]",
      "text/plain": [
       "<Figure size 640x480 with 1 Axes>"
      ]
     },
     "metadata": {},
     "output_type": "display_data"
    }
   ],
   "source": [
    "\n",
    "print( sdf['Latitude'].min(), sdf['Latitude'].max())\n",
    "plt.plot( sdf['Latitude'])"
   ]
  }
 ],
 "metadata": {
  "kernelspec": {
   "display_name": "faiss_env",
   "language": "python",
   "name": "python3"
  },
  "language_info": {
   "codemirror_mode": {
    "name": "ipython",
    "version": 3
   },
   "file_extension": ".py",
   "mimetype": "text/x-python",
   "name": "python",
   "nbconvert_exporter": "python",
   "pygments_lexer": "ipython3",
   "version": "3.12.3"
  }
 },
 "nbformat": 4,
 "nbformat_minor": 2
}
