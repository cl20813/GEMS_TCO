{
 "cells": [
  {
   "cell_type": "code",
   "execution_count": 1,
   "metadata": {},
   "outputs": [],
   "source": [
    "# work environment: jl2815\n",
    "import pandas as pd\n",
    "import pickle\n",
    "import sys \n",
    "import os\n",
    "#  sys.path\n",
    "# !pip install numpy==2.0\n",
    "\n",
    "from GEMS_TCO import orbitmap\n",
    "# from GEMS_TCO import smoothspace\n",
    "from GEMS_TCO.smoothspace import space_average\n"
   ]
  },
  {
   "cell_type": "markdown",
   "metadata": {},
   "source": [
    "Make orbit maps:\n",
    "\n",
    "year =2024 or 2023   \n",
    "for month in range(start,end+1)   "
   ]
  },
  {
   "cell_type": "code",
   "execution_count": 14,
   "metadata": {},
   "outputs": [
    {
     "name": "stdout",
     "output_type": "stream",
     "text": [
      "Successfully processed and saved data for year 23 month 09.\n"
     ]
    }
   ],
   "source": [
    "# Base file path and settings\n",
    "base_path = \"C:\\\\Users\\\\joonw\\\\TCO\\\\data_engineering\"\n",
    "output_path = base_path\n",
    "lat_start, lat_end, lon_start, lon_end = 5, 10, 110, 120\n",
    "\n",
    "year=2023\n",
    "# Loop through months\n",
    "for month in range(9, 10):  \n",
    "    try:\n",
    "        # Construct filenames dynamically\n",
    "        month_str = f\"{month:02d}\"  # Ensure month is zero-padded\n",
    "        if month == 2:\n",
    "            day_str = \"0129\"  # Handle February specifically\n",
    "        else:\n",
    "            day_str = \"0131\" if (month in [1, 3, 5, 7, 8, 10, 12]) else \"0130\"\n",
    "  \n",
    "        input_filename = f\"data_{str(year)[2:]}_{month_str}_{day_str}_N510_E110120.csv\"\n",
    "        input_filepath = os.path.join(base_path, input_filename)\n",
    "        \n",
    "        # Read data\n",
    "        df = pd.read_csv(input_filepath)\n",
    "        \n",
    "        # Process data\n",
    "        instance = orbitmap.MakeOrbitdata(df, lat_start, lat_end, lon_start, lon_end)\n",
    "        orbit_map = instance.group_data_by_orbits()\n",
    "        \n",
    "        # Save pickle\n",
    "        output_filename = f\"orbit_map{str(year)[2:]}_{month_str}.pkl\"\n",
    "        output_filepath = os.path.join(output_path, output_filename)\n",
    "        with open(output_filepath, 'wb') as pickle_file:\n",
    "            pickle.dump(orbit_map, pickle_file)\n",
    "        \n",
    "        print(f\"Successfully processed and saved data for year {str(year)[2:]} month {month_str}.\")\n",
    "    \n",
    "    except FileNotFoundError:\n",
    "        print(f\"Warning: File {input_filename} not found. Skipping.\")\n",
    "    except Exception as e:\n",
    "        print(f\"Error processing file {input_filename}: {e}\")\n"
   ]
  },
  {
   "cell_type": "markdown",
   "metadata": {},
   "source": [
    "Make consistent map matching by centers\n",
    "\n",
    "year =2024 or 2023   \n",
    "for month in range(start,end+1)   "
   ]
  },
  {
   "cell_type": "code",
   "execution_count": null,
   "metadata": {},
   "outputs": [
    {
     "name": "stdout",
     "output_type": "stream",
     "text": [
      "Successfully processed and saved data for year 23 month 09.\n",
      "Successfully processed and saved data for year 23 month 10.\n"
     ]
    }
   ],
   "source": [
    "# Base file path and settings\n",
    "base_path = \"C:\\\\Users\\\\joonw\\\\TCO\\\\data_engineering\"\n",
    "output_path = base_path\n",
    "lat_start, lat_end, lon_start, lon_end = 5, 10, 110, 120\n",
    "\n",
    "df = pd.read_csv(\"C:\\\\Users\\\\joonw\\\\TCO\\\\data_engineering\\\\data_2024\\\\data_24_07_0131_N510_E110120.csv\")\n",
    "instance = orbitmap.MakeOrbitdata(df, 5,10,110,120)  \n",
    "\n",
    "year=2023\n",
    "# Loop through months\n",
    "for month in range(9, 13):  # From January to November\n",
    "    try:\n",
    "        # Construct filenames dynamically\n",
    "        month_str = f\"{month:02d}\"  # Ensure month is zero-padded\n",
    "        if month == 2:\n",
    "            day_str = \"0129\"  # Handle February specifically\n",
    "        else:\n",
    "            day_str = \"0131\" if (month in [1, 3, 5, 7, 8, 10, 12]) else \"0130\"\n",
    "\n",
    "        # load pickle\n",
    "        input_filename = f\"orbit_map{str(year)[2:]}_{month_str}.pkl\"\n",
    "        input_filepath = os.path.join(output_path, input_filename)\n",
    "        with open(input_filepath, 'rb') as pickle_file:\n",
    "            loaded_map = pickle.load(pickle_file)\n",
    "        center_points = instance.make_center_points(step=0.05)\n",
    "        sparse_cen_map = instance.sparse_by_center(loaded_map, center_points)\n",
    "\n",
    "        # Save pickle\n",
    "        output_filename = f\"sparse_cen_map{str(year)[2:]}_{month_str}.pkl\"\n",
    "        output_filepath = os.path.join(output_path, output_filename)\n",
    "        with open(output_filepath, 'wb') as pickle_file:\n",
    "            pickle.dump(sparse_cen_map, pickle_file)\n",
    "        \n",
    "        print(f\"Successfully processed and saved data for year {str(year)[2:]} month {month_str}.\")\n",
    "    \n",
    "    except FileNotFoundError:\n",
    "        print(f\"Warning: File {input_filename} not found. Skipping.\")\n",
    "    except Exception as e:\n",
    "        print(f\"Error processing file {input_filename}: {e}\")"
   ]
  },
  {
   "cell_type": "markdown",
   "metadata": {},
   "source": [
    "# You may ignore belows:"
   ]
  },
  {
   "cell_type": "markdown",
   "metadata": {},
   "source": [
    "#### Original code below: use for debugging errors"
   ]
  },
  {
   "cell_type": "code",
   "execution_count": 2,
   "metadata": {},
   "outputs": [],
   "source": [
    "df = pd.read_csv(\"C:\\\\Users\\\\joonw\\\\TCO\\\\data_engineering\\\\data_24_07_0131_N510_E110120.csv\")\n",
    "\n",
    "instance = orbitmap.MakeOrbitdata(df, 5,10,110,120)   # lat_s,lat_e, lon_s, lon_e\n",
    "with open('C:\\\\Users\\\\joonw\\\\TCO\\\\data_engineering\\\\orbit_map24_7.pkl', 'rb') as pickle_file:\n",
    "    orbit_map24_7 = pickle.load(pickle_file)\n",
    "\n",
    "center_points = instance.make_center_points(step=0.05)\n",
    "sparse_cen_map = instance.sparse_by_center(orbit_map24_7, center_points)\n"
   ]
  },
  {
   "cell_type": "markdown",
   "metadata": {},
   "source": [
    "Now let's save dictionary map "
   ]
  },
  {
   "cell_type": "code",
   "execution_count": 4,
   "metadata": {},
   "outputs": [],
   "source": [
    "# Save the dictionary to a pickle file\n",
    "with open('C:\\\\Users\\\\joonw\\\\TCO\\\\data_engineering\\\\sparse_cen_map24_7.pkl', 'wb') as pickle_file:\n",
    "    pickle.dump(sparse_cen_map, pickle_file)\n",
    "\n",
    "# Load the dictionary from the pickle file\n",
    "with open('C:\\\\Users\\\\joonw\\\\TCO\\\\data_engineering\\\\sparse_cen_map24_7.pkl', 'rb') as pickle_file:\n",
    "    loaded_dict = pickle.load(pickle_file)"
   ]
  }
 ],
 "metadata": {
  "kernelspec": {
   "display_name": "jl2815",
   "language": "python",
   "name": "python3"
  },
  "language_info": {
   "codemirror_mode": {
    "name": "ipython",
    "version": 3
   },
   "file_extension": ".py",
   "mimetype": "text/x-python",
   "name": "python",
   "nbconvert_exporter": "python",
   "pygments_lexer": "ipython3",
   "version": "3.12.2"
  }
 },
 "nbformat": 4,
 "nbformat_minor": 2
}
