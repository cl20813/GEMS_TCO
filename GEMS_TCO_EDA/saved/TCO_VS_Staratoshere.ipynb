{
 "cells": [
  {
   "cell_type": "code",
   "execution_count": 1,
   "metadata": {},
   "outputs": [],
   "source": [
    "# work with jl2815 environment\n",
    "\n",
    "import xarray as xr # for netCDF4 \n",
    "import pandas as pd\n",
    "import numpy as np\n",
    "from netCDF4 import Dataset\n",
    "from matplotlib import pyplot as plt\n",
    "import os\n"
   ]
  },
  {
   "cell_type": "code",
   "execution_count": 2,
   "metadata": {},
   "outputs": [
    {
     "name": "stdout",
     "output_type": "stream",
     "text": [
      "Current working directory: c:\\Users\\joonw\\AppData\\Local\\Programs\\Microsoft VS Code\n",
      "Updated working directory: D:\\GEMS_UNZIPPED\n"
     ]
    }
   ],
   "source": [
    "current_directory = os.getcwd()\n",
    "print(\"Current working directory:\", current_directory)\n",
    "new_directory = \"D:\\\\GEMS_UNZIPPED\"\n",
    "os.chdir(new_directory)\n",
    "updated_directory = os.getcwd()\n",
    "print(\"Updated working directory:\", updated_directory)"
   ]
  },
  {
   "cell_type": "markdown",
   "metadata": {},
   "source": [
    "Investigate if there is a big difference between total column ozones and ozones in stratosphere. "
   ]
  },
  {
   "cell_type": "code",
   "execution_count": 3,
   "metadata": {},
   "outputs": [
    {
     "name": "stderr",
     "output_type": "stream",
     "text": [
      "c:\\Users\\joonw\\anaconda3\\envs\\jl2815\\Lib\\site-packages\\xarray\\namedarray\\core.py:514: UserWarning: Duplicate dimension names present: dimensions {'nlayer'} appear more than once in dims=('nlayer', 'nlayer', 'spatial', 'image'). We do not yet support duplicate dimension names, but we do allow initial construction of the object. We recommend you rename the dims immediately to become distinct, as most xarray functionality is likely to fail silently if you do not. To rename the dimensions you will need to set the ``.dims`` attribute of each variable, ``e.g. var.dims=('x0', 'x1')``.\n",
      "  warnings.warn(\n"
     ]
    }
   ],
   "source": [
    "file_path = \"D:\\\\GEMS_UNZIPPED\\\\20240701\\\\20240701_0045.nc\"\n",
    "# file_path = \"D:\\\\GEMS_UNZIPPED\\\\2024070130\\\\20240701_0045.nc\"\n",
    "# Open the geolocation data and the data fields\n",
    "location = xr.open_dataset(file_path, group='Geolocation Fields')\n",
    "Z = xr.open_dataset(file_path, group='Data Fields')\n",
    "\n",
    "# Z_variables = ['O3', 'O3Apriori', 'O3AprioriError', 'O3RandomNoiseError', 'O3SolutionError','FinalAlgorithmFlags']\n",
    "\n",
    "a2= Z['O3']\n",
    "a1 = location[['Latitude','Longitude','Altitude']]\n",
    "\n",
    "a1 = a1.to_dataframe().reset_index()\n",
    "a2 = a2.to_dataframe().reset_index()\n",
    "\n",
    "a1=a1.dropna()\n",
    "a2=a2.dropna()\n",
    "\n",
    "d = pd.concat((a1,a2), axis=1)\n",
    "d = d.dropna()\n",
    "\n",
    "d1=d[d['nlayer']==0]      #nlayayer from 0 to 23. "
   ]
  },
  {
   "cell_type": "code",
   "execution_count": 4,
   "metadata": {},
   "outputs": [
    {
     "name": "stdout",
     "output_type": "stream",
     "text": [
      "Mean of total column ozones: 0.2045551564980993\n",
      "Mean of ozones in stratosphere: 0.20455317188481734\n",
      "Varianace of total column ozones: 2.1842442227343254e-05\n",
      "Variance of ozones in stratosphere: 2.1702879262779542e-05\n",
      "\n",
      "\n",
      "Mean of total column ozones: 0.18393069637171577\n",
      "Mean of ozones in stratosphere: 0.18392687787965048\n",
      "Varianace of total column ozones: 3.165873006537321e-05\n",
      "Variance of ozones in stratosphere: 3.135462824522952e-05\n",
      "\n",
      "\n",
      "Mean of total column ozones: 0.332784970258013\n",
      "Mean of ozones in stratosphere: 0.3327509993955693\n",
      "Varianace of total column ozones: 0.00018338543630961\n",
      "Variance of ozones in stratosphere: 0.00018496723698951692\n",
      "\n",
      "\n",
      "Mean of total column ozones: 0.6078902430422656\n",
      "Mean of ozones in stratosphere: 0.6079361227623736\n",
      "Varianace of total column ozones: 0.0008533108839580243\n",
      "Variance of ozones in stratosphere: 0.0008452268861314105\n",
      "\n",
      "\n",
      "Mean of total column ozones: 1.1052714742330358\n",
      "Mean of ozones in stratosphere: 1.1051621240637588\n",
      "Varianace of total column ozones: 0.003331908703959186\n",
      "Variance of ozones in stratosphere: 0.0033497401957565806\n",
      "\n",
      "\n",
      "Mean of total column ozones: 1.9699401095828861\n",
      "Mean of ozones in stratosphere: 1.9700636929831925\n",
      "Varianace of total column ozones: 0.012656113146298343\n",
      "Variance of ozones in stratosphere: 0.012595531338935392\n",
      "\n",
      "\n",
      "Mean of total column ozones: 3.544259477858354\n",
      "Mean of ozones in stratosphere: 3.543924726045467\n",
      "Varianace of total column ozones: 0.054734312202242175\n",
      "Variance of ozones in stratosphere: 0.05505314388389941\n",
      "\n",
      "\n",
      "Mean of total column ozones: 6.211139225479858\n",
      "Mean of ozones in stratosphere: 6.212904253529104\n",
      "Varianace of total column ozones: 0.20464623179187316\n",
      "Variance of ozones in stratosphere: 0.20279136627595956\n",
      "\n",
      "\n",
      "Mean of total column ozones: 10.104004045151544\n",
      "Mean of ozones in stratosphere: 10.101197583089114\n",
      "Varianace of total column ozones: 0.5473712842798375\n",
      "Variance of ozones in stratosphere: 0.5512031422765746\n",
      "\n",
      "\n",
      "Mean of total column ozones: 15.185580944545935\n",
      "Mean of ozones in stratosphere: 15.187945226474726\n",
      "Varianace of total column ozones: 1.5365025565628856\n",
      "Variance of ozones in stratosphere: 1.531328971857321\n",
      "\n",
      "\n",
      "Mean of total column ozones: 21.611276124738616\n",
      "Mean of ozones in stratosphere: 21.609146383573698\n",
      "Varianace of total column ozones: 5.283193562394413\n",
      "Variance of ozones in stratosphere: 5.293461791386433\n",
      "\n",
      "\n",
      "Mean of total column ozones: 29.613409612152978\n",
      "Mean of ozones in stratosphere: 29.618563608851215\n",
      "Varianace of total column ozones: 13.985739205280339\n",
      "Variance of ozones in stratosphere: 13.893221968797468\n",
      "\n",
      "\n",
      "Mean of total column ozones: 34.660986618624115\n",
      "Mean of ozones in stratosphere: 34.65756362625392\n",
      "Varianace of total column ozones: 21.280308499729237\n",
      "Variance of ozones in stratosphere: 21.35109603952648\n",
      "\n",
      "\n",
      "Mean of total column ozones: 33.811923775657355\n",
      "Mean of ozones in stratosphere: 33.81338085072568\n",
      "Varianace of total column ozones: 13.94514558167416\n",
      "Variance of ozones in stratosphere: 13.89478354902393\n",
      "\n",
      "\n",
      "Mean of total column ozones: 28.28691987490883\n",
      "Mean of ozones in stratosphere: 28.287972844350953\n",
      "Varianace of total column ozones: 9.403182561628412\n",
      "Variance of ozones in stratosphere: 9.353772156215419\n",
      "\n",
      "\n",
      "Mean of total column ozones: 19.7751270311024\n",
      "Mean of ozones in stratosphere: 19.76549421620705\n",
      "Varianace of total column ozones: 20.362931918016272\n",
      "Variance of ozones in stratosphere: 20.416533497052384\n",
      "\n",
      "\n",
      "Mean of total column ozones: 10.666009970289014\n",
      "Mean of ozones in stratosphere: 10.710789468268588\n",
      "Varianace of total column ozones: 46.77566010855748\n",
      "Variance of ozones in stratosphere: 47.910397555503074\n",
      "\n",
      "\n",
      "Mean of total column ozones: 5.261804107436471\n",
      "Mean of ozones in stratosphere: 5.240033728993335\n",
      "Varianace of total column ozones: 91.13877388241649\n",
      "Variance of ozones in stratosphere: 90.21662733284514\n",
      "\n",
      "\n",
      "Mean of total column ozones: 6.416779901345663\n",
      "Mean of ozones in stratosphere: 6.400453849899029\n",
      "Varianace of total column ozones: 88.46697852601122\n",
      "Variance of ozones in stratosphere: 86.82043148416562\n",
      "\n",
      "\n",
      "Mean of total column ozones: 5.975274656343908\n",
      "Mean of ozones in stratosphere: 5.9956141741092415\n",
      "Varianace of total column ozones: 11.566743572062363\n",
      "Variance of ozones in stratosphere: 11.945566657062372\n",
      "\n",
      "\n",
      "Mean of total column ozones: 8.039844388285623\n",
      "Mean of ozones in stratosphere: 8.040197448670682\n",
      "Varianace of total column ozones: 10.37381878521104\n",
      "Variance of ozones in stratosphere: 10.28137153358853\n",
      "\n",
      "\n",
      "Mean of total column ozones: 10.7347347021443\n",
      "Mean of ozones in stratosphere: 10.730805500505186\n",
      "Varianace of total column ozones: 11.222443552598204\n",
      "Variance of ozones in stratosphere: 11.214287222172226\n",
      "\n",
      "\n",
      "Mean of total column ozones: 12.699405015659176\n",
      "Mean of ozones in stratosphere: 12.708419629034296\n",
      "Varianace of total column ozones: 17.23561915244778\n",
      "Variance of ozones in stratosphere: 17.169671516164073\n",
      "\n",
      "\n"
     ]
    }
   ],
   "source": [
    "for j in range(23):\n",
    "    d1=d[d['nlayer']==j]\n",
    "    d3 = d1[d1['Altitude']>=20]\n",
    "    print(f'Mean of total column ozones: {np.mean(d1['O3'])}')\n",
    "    print(f'Mean of ozones in stratosphere: {np.mean(d3['O3'])}')\n",
    "    print(f'Varianace of total column ozones: {np.var(d1['O3'])}')\n",
    "    print(f'Variance of ozones in stratosphere: {np.var(d3['O3'])}\\n\\n')"
   ]
  },
  {
   "cell_type": "markdown",
   "metadata": {},
   "source": [
    "I don't think there is a huge difference between two. "
   ]
  }
 ],
 "metadata": {
  "kernelspec": {
   "display_name": "jl2815",
   "language": "python",
   "name": "python3"
  },
  "language_info": {
   "codemirror_mode": {
    "name": "ipython",
    "version": 3
   },
   "file_extension": ".py",
   "mimetype": "text/x-python",
   "name": "python",
   "nbconvert_exporter": "python",
   "pygments_lexer": "ipython3",
   "version": "3.12.2"
  }
 },
 "nbformat": 4,
 "nbformat_minor": 2
}
