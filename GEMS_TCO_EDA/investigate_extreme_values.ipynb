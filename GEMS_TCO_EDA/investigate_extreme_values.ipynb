{
 "cells": [
  {
   "cell_type": "code",
   "execution_count": null,
   "metadata": {},
   "outputs": [],
   "source": [
    "# work environment: jl2815\n",
    "import pandas as pd\n",
    "import numpy as np\n",
    "import pickle\n",
    "import os\n",
    "import sys\n",
    "\n",
    "from collections import defaultdict\n",
    "import matplotlib.pyplot as plt\n",
    "from matplotlib import cm  # Colormap module  # Create a colormap (e.g., 'viridis' or 'plasma')\n",
    "\n",
    "from skgstat import Variogram\n",
    "from scipy.spatial.distance import pdist, squareform\n",
    "\n",
    "from typing import Callable   # nearest neighbor function input type\n",
    "import sklearn.neighbors  # nearest neighbor\n",
    "from sklearn.neighbors import BallTree # for space_center function\n",
    " \n",
    "from GEMS_TCO import orbitmap\n",
    "from GEMS_TCO.smoothspace import space_average"
   ]
  },
  {
   "cell_type": "markdown",
   "metadata": {},
   "source": [
    "# How should I clip the ozone values?"
   ]
  },
  {
   "cell_type": "code",
   "execution_count": null,
   "metadata": {},
   "outputs": [],
   "source": [
    "for year in ['2023']:\n",
    "    for month in range(1,2):\n",
    "        filepath = f\"C:\\\\Users\\\\joonw\\\\TCO\\\\data_engineering\\\\data_{year}\\\\sparse_cen_map{year[2:]}_{month:02d}.pkl\"\n",
    "        with open(filepath, 'rb') as pickle_file:\n",
    "            loaded_map = pickle.load(pickle_file)\n",
    "\n",
    "\n",
    "\n",
    "for key in loaded_map:\n",
    "    cur = loaded_map[key]\n",
    "    # plt.scatter(cur.index, cur['ColumnAmountO3'])\n",
    "        ## we need to remove outliars\n",
    "    mask = (cur['ColumnAmountO3'] < 150) | (cur['ColumnAmountO3'] > 300)\n",
    "    filtered_data = cur[~mask].reset_index(drop=True)\n",
    "    plt.scatter(filtered_data.index, filtered_data['ColumnAmountO3'] , label='clipped')\n",
    "    print(np.var(filtered_data['ColumnAmountO3']))"
   ]
  }
 ],
 "metadata": {
  "language_info": {
   "name": "python"
  }
 },
 "nbformat": 4,
 "nbformat_minor": 2
}
