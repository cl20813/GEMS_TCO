{
 "cells": [
  {
   "cell_type": "code",
   "execution_count": 1,
   "metadata": {},
   "outputs": [],
   "source": [
    "import sys\n",
    "import os\n",
    "\n",
    "# Add the directory containing smoothspace.py to sys.path\n",
    "# sys.path.append(r'c:\\\\Users\\\\joonw\\\\TCO\\\\GEMS_TCO')\n",
    "# sys.path.append(r'c:\\\\Users\\\\joonw\\\\TCO')\n",
    "import sys\n",
    "gems_tco_path = \"/Users/joonwonlee/Documents/GEMS_TCO-1/src\"\n",
    "sys.path.append(gems_tco_path)\n",
    "from GEMS_TCO import download_data\n",
    "from GEMS_TCO import configuration as config"
   ]
  },
  {
   "cell_type": "markdown",
   "metadata": {},
   "source": [
    "Input:\n",
    "\n",
    "year: int   \n",
    "month int  \n",
    "days = list of integers (range from 1-31)\n",
    "\n",
    "Example code below:  \n"
   ]
  },
  {
   "cell_type": "code",
   "execution_count": null,
   "metadata": {},
   "outputs": [],
   "source": [
    "dayslist = list(range(1,2))\n",
    "instance = download_data.Download_file(year=2024, month=7, days = dayslist, ouptut_folder= config.mac_data_load_path )\n",
    "\n",
    "instance.run()"
   ]
  },
  {
   "cell_type": "markdown",
   "metadata": {},
   "source": [
    "error test in 2024 11 (weird there is no 11/31 )"
   ]
  },
  {
   "cell_type": "code",
   "execution_count": null,
   "metadata": {},
   "outputs": [],
   "source": [
    "dayslist = list(range(31,32))\n",
    "instance = download_data.Download_file(year=2024, month=11, days = dayslist )\n",
    "\n",
    "instance.run()"
   ]
  }
 ],
 "metadata": {
  "kernelspec": {
   "display_name": "faiss_env",
   "language": "python",
   "name": "python3"
  },
  "language_info": {
   "codemirror_mode": {
    "name": "ipython",
    "version": 3
   },
   "file_extension": ".py",
   "mimetype": "text/x-python",
   "name": "python",
   "nbconvert_exporter": "python",
   "pygments_lexer": "ipython3",
   "version": "3.12.3"
  }
 },
 "nbformat": 4,
 "nbformat_minor": 2
}
