{
 "cells": [
  {
   "cell_type": "markdown",
   "metadata": {},
   "source": [
    "Import packages and set the directory to load data"
   ]
  },
  {
   "cell_type": "code",
<<<<<<< HEAD
<<<<<<< HEAD
   "execution_count": 2,
=======
   "execution_count": 1,
>>>>>>> 98fc71c474ddced6792e89e9ab27c07529da5b48
=======
   "execution_count": 1,
>>>>>>> 0a418ac421c02a3cd32b6e4c97b2bdc92cdb79b7
   "metadata": {},
   "outputs": [],
   "source": [
    "# work with jl2815 environment\n",
    "import xarray as xr # for netCDF4 \n",
    "import pandas as pd\n",
    "import numpy as np\n",
    "from netCDF4 import Dataset\n",
    "from matplotlib import pyplot as plt\n",
    "import os\n",
    "# Ignore warnings due to duplicated dimension names\n",
    "import warnings\n",
    "warnings.filterwarnings(\"ignore\", category=FutureWarning)\n",
    "warnings.filterwarnings(\"ignore\", category=UserWarning, module=\"xarray\")\n",
    "from pathlib import Path\n",
    "\n",
    "import sys\n",
    "gems_tco_path = \"/Users/joonwonlee/Documents/GEMS_TCO-1/src\"\n",
    "sys.path.append(gems_tco_path)\n",
    "\n",
    "from GEMS_TCO import configuration as config\n",
    "from GEMS_TCO import data_preprocess as dmbh"
   ]
  },
  {
   "cell_type": "markdown",
   "metadata": {},
   "source": [
    "2024 01: hours: 00 to 05   N3035_E100110\n",
    "2023 04: hours: 00 to 07   N3035_E100110\n",
    "2023 01: hours: 00 to 05   N3035_E100110\n",
    "\n",
    "2023: y23m04day20_8 and y23m07day13_8 missing !! for N3035_E100110\n",
    "2023: y23m04day20_8 !! for N3035_E110120\n",
    "\n",
    "2023 04: hours: 00 to 07   N3035_E110120           \n",
    "2023 07: hours: 00 to 07   N3035_E110120\n",
    "2024 04: hours: 00 to 07   N3035_E110120\n",
    "2024 07: hours: 00 to 07   N3035_E110120"
   ]
  },
  {
   "cell_type": "markdown",
   "metadata": {},
   "source": [
    "# Explore Groups in the NetCDF file"
   ]
  },
  {
   "cell_type": "code",
<<<<<<< HEAD
<<<<<<< HEAD
   "execution_count": 19,
=======
   "execution_count": 2,
>>>>>>> 98fc71c474ddced6792e89e9ab27c07529da5b48
=======
   "execution_count": 2,
>>>>>>> 0a418ac421c02a3cd32b6e4c97b2bdc92cdb79b7
   "metadata": {},
   "outputs": [
    {
     "name": "stdout",
     "output_type": "stream",
     "text": [
      "Groups in the NetCDF file:\n",
      "Data Fields\n",
      "Geolocation Fields\n",
      "METADATA\n",
      "\n",
      "Variables in group 'Data Fields':\n",
      "AveragingKernel\n",
      "CloudPressure\n",
      "ColumnAmountO3\n",
      "DegreesOfFreedomForSignal\n",
      "EstimatedError\n",
      "FinalAlgorithmFlags\n",
      "LayerEfficiency\n",
      "Nvalue\n",
      "O3BelowCloud\n",
      "Reflectivity340\n",
      "Reflectivity380\n",
      "Residue\n",
      "StepOneO3\n",
      "StepTwoO3\n",
      "TerrainPressure\n",
      "dNdR\n",
      "dR_dl\n",
      "EffectiveCloudFraction\n",
      "\n",
      "Variables in group 'Geolocation Fields':\n",
      "Latitude\n",
      "Longitude\n",
      "RelativeAzimuthAngle\n",
      "SolarZenithAngle\n",
      "ViewingZenithAngle\n",
      "Time\n",
      "GroundPixelQualityFlags\n",
      "\n",
      "Variables in group 'METADATA':\n"
     ]
    }
   ],
   "source": [
    "# file_path = \"/Volumes/Backup Plus/GEMS_UNZIPPED/2024070131/20240701_0045.nc\"  # portable device\n",
    "file_path = \"/Users/joonwonlee/Documents/GEMS_DATA/2024070131/20240701_0045.nc\" # mac\n",
    "location = xr.open_dataset(file_path, group='Geolocation Fields')\n",
    "Z = xr.open_dataset(file_path, group='Data Fields')\n",
    "\n",
    "\n",
    "import netCDF4 as nc\n",
    "\n",
    "dataset = nc.Dataset(file_path)\n",
    "\n",
    "# Print all group names\n",
    "print(\"Groups in the NetCDF file:\")\n",
    "for group_name in dataset.groups:\n",
    "    print(group_name)\n",
    "\n",
    "# Optionally, print variables in each group\n",
    "for group_name, group in dataset.groups.items():\n",
    "    print(f\"\\nVariables in group '{group_name}':\")\n",
    "    for var_name in group.variables:\n",
    "        print(var_name)\n",
    "\n",
    "# Close the dataset\n",
    "dataset.close()\n"
   ]
  },
  {
   "cell_type": "markdown",
   "metadata": {},
   "source": [
    "# Truncate the area of interest and save in csv"
   ]
  },
  {
   "cell_type": "markdown",
   "metadata": {},
   "source": [
    "Extract the region of interest"
   ]
  },
  {
   "cell_type": "code",
<<<<<<< HEAD
<<<<<<< HEAD
   "execution_count": 30,
   "metadata": {},
   "outputs": [
    {
     "name": "stdout",
     "output_type": "stream",
     "text": [
      "/Users/joonwonlee/Documents/GEMS_DATA/\n"
     ]
    }
   ],
   "source": [
    "computer_path = config.mac_data_load_path  # mac\n",
    "print(computer_path)\n",
=======
=======
>>>>>>> 0a418ac421c02a3cd32b6e4c97b2bdc92cdb79b7
   "execution_count": 3,
   "metadata": {},
   "outputs": [],
   "source": [
    "computer_path = config.mac_data_load_path  # mac\n",
<<<<<<< HEAD
>>>>>>> 98fc71c474ddced6792e89e9ab27c07529da5b48
=======
>>>>>>> 0a418ac421c02a3cd32b6e4c97b2bdc92cdb79b7
    "# portable_disk = \"/Volumes/Backup Plus/GEMS_UNZIPPED/\" \n",
    "year=2024\n",
    "month = 7\n",
    "filelist_instance = dmbh.file_path_list(year, month, computer_path)\n",
    "# filelist_instance = file_path_list(year, month, portable_disk)\n",
    "file_paths_list = filelist_instance.file_names_july24() \n",
    "\n",
    "\n",
    "# instance= MonthAggregatedCSV(4.99, 10.01, 110.01, 123.01)\n",
<<<<<<< HEAD
<<<<<<< HEAD
    "#instance= dmbh.MonthAggregatedCSV(0, 5, 123, 133)\n",
    "instance= dmbh.MonthAggregatedCSV(-5, 7, 118, 135)\n",
=======
    "instance= dmbh.MonthAggregatedCSV(0, 5, 123, 133)\n",
>>>>>>> 98fc71c474ddced6792e89e9ab27c07529da5b48
=======
    "instance= dmbh.MonthAggregatedCSV(0, 5, 123, 133)\n",
>>>>>>> 0a418ac421c02a3cd32b6e4c97b2bdc92cdb79b7
    "GoodQualityData = instance.aggregate_july24tocsv(file_paths_list)"
   ]
  },
  {
   "cell_type": "markdown",
   "metadata": {},
   "source": [
    "check data quality"
   ]
  },
  {
   "cell_type": "code",
<<<<<<< HEAD
<<<<<<< HEAD
   "execution_count": 33,
=======
   "execution_count": 4,
>>>>>>> 98fc71c474ddced6792e89e9ab27c07529da5b48
=======
   "execution_count": 4,
>>>>>>> 0a418ac421c02a3cd32b6e4c97b2bdc92cdb79b7
   "metadata": {},
   "outputs": [
    {
     "data": {
      "text/plain": [
<<<<<<< HEAD
<<<<<<< HEAD
       "130065.63306451614"
      ]
     },
     "execution_count": 33,
=======
=======
>>>>>>> 0a418ac421c02a3cd32b6e4c97b2bdc92cdb79b7
       "33092.709677419356"
      ]
     },
     "execution_count": 4,
<<<<<<< HEAD
>>>>>>> 98fc71c474ddced6792e89e9ab27c07529da5b48
=======
>>>>>>> 0a418ac421c02a3cd32b6e4c97b2bdc92cdb79b7
     "metadata": {},
     "output_type": "execute_result"
    }
   ],
   "source": [
    "GoodQualityData.shape[0]/31/8  \n",
    "# 5 10 123 133  33856 without filtering 0 only: 10759  fine list: 32063 \n",
    "# 0 5 123 133 00 only  13520  33092 if 0|2|4|128"
   ]
  },
  {
   "cell_type": "code",
<<<<<<< HEAD
<<<<<<< HEAD
   "execution_count": 32,
=======
   "execution_count": 5,
>>>>>>> 98fc71c474ddced6792e89e9ab27c07529da5b48
=======
   "execution_count": 5,
>>>>>>> 0a418ac421c02a3cd32b6e4c97b2bdc92cdb79b7
   "metadata": {},
   "outputs": [
    {
     "data": {
      "text/plain": [
<<<<<<< HEAD
<<<<<<< HEAD
       "(array([31564844.,        0.,        0.,        0.,        0.,        0.,\n",
       "               0.,        0.,        0.,   691433.]),\n",
=======
       "(array([8032227.,       0.,       0.,       0.,       0.,       0.,\n",
       "              0.,       0.,       0.,  174765.]),\n",
>>>>>>> 98fc71c474ddced6792e89e9ab27c07529da5b48
=======
       "(array([8032227.,       0.,       0.,       0.,       0.,       0.,\n",
       "              0.,       0.,       0.,  174765.]),\n",
>>>>>>> 0a418ac421c02a3cd32b6e4c97b2bdc92cdb79b7
       " array([  0.        ,  12.80000019,  25.60000038,  38.40000153,\n",
       "         51.20000076,  64.        ,  76.80000305,  89.59999847,\n",
       "        102.40000153, 115.19999695, 128.        ]),\n",
       " <BarContainer object of 10 artists>)"
      ]
     },
<<<<<<< HEAD
<<<<<<< HEAD
     "execution_count": 32,
=======
     "execution_count": 5,
>>>>>>> 98fc71c474ddced6792e89e9ab27c07529da5b48
=======
     "execution_count": 5,
>>>>>>> 0a418ac421c02a3cd32b6e4c97b2bdc92cdb79b7
     "metadata": {},
     "output_type": "execute_result"
    },
    {
     "data": {
<<<<<<< HEAD
<<<<<<< HEAD
      "image/png": "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",
=======
      "image/png": "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",
>>>>>>> 98fc71c474ddced6792e89e9ab27c07529da5b48
=======
      "image/png": "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",
>>>>>>> 0a418ac421c02a3cd32b6e4c97b2bdc92cdb79b7
      "text/plain": [
       "<Figure size 640x480 with 1 Axes>"
      ]
     },
     "metadata": {},
     "output_type": "display_data"
    }
   ],
   "source": [
    "plt.hist( GoodQualityData['FinalAlgorithmFlags'])"
   ]
  },
  {
   "cell_type": "markdown",
   "metadata": {},
   "source": [
<<<<<<< HEAD
<<<<<<< HEAD
    "save file into GEMS folder. After this step, you have to manually copy the file into the folder 'data2024'"
=======
    "save file"
>>>>>>> 98fc71c474ddced6792e89e9ab27c07529da5b48
=======
    "save file"
>>>>>>> 0a418ac421c02a3cd32b6e4c97b2bdc92cdb79b7
   ]
  },
  {
   "cell_type": "code",
<<<<<<< HEAD
<<<<<<< HEAD
   "execution_count": 34,
=======
   "execution_count": 6,
>>>>>>> 98fc71c474ddced6792e89e9ab27c07529da5b48
=======
   "execution_count": 6,
>>>>>>> 0a418ac421c02a3cd32b6e4c97b2bdc92cdb79b7
   "metadata": {},
   "outputs": [],
   "source": [
    "instance.save(GoodQualityData, 2024, 7, computer_path)"
   ]
  },
  {
   "cell_type": "markdown",
   "metadata": {},
   "source": [
    "-observation 1: weird no matter how i truncated why there is consitent missing in some longitude range? (solved: when viewing angle is bad like E110, instrument go downward when moving from East to West)\n",
    "\n"
   ]
  },
  {
   "cell_type": "markdown",
   "metadata": {},
   "source": [
<<<<<<< HEAD
<<<<<<< HEAD
    "### Make a loop to process multiple months\n",
    "\n",
    "This requires data from portable disk to access 2023-2024 \n"
=======
    "### Make a loop to process multiple months\n"
>>>>>>> 98fc71c474ddced6792e89e9ab27c07529da5b48
=======
    "### Make a loop to process multiple months\n"
>>>>>>> 0a418ac421c02a3cd32b6e4c97b2bdc92cdb79b7
   ]
  },
  {
   "cell_type": "code",
   "execution_count": null,
   "metadata": {},
   "outputs": [],
   "source": [
    "year = 2024\n",
    "portable_disk = \"/Volumes/Backup Plus/GEMS_UNZIPPED/\" \n",
    "for month in range(7, 8):  # From January to November\n",
    "    # filelist_instance = file_path_list(year, month, computer_path)\n",
    "\n",
    "    # truncate data and save in cvs\n",
    "    filelist_instance = dmbh.file_path_list(year, month, portable_disk)\n",
    "    file_paths_list = filelist_instance.file_names_july24() \n",
    "\n",
    "    # transform ORI dense data into pickle file\n",
<<<<<<< HEAD
<<<<<<< HEAD
    "    #instance= dmbh.MonthAggregatedCSV(0, 5, 123, 133)\n",
    "    instance= dmbh.MonthAggregatedCSV(-3, 3, 118, 135)\n",
=======
    "    instance= dmbh.MonthAggregatedCSV(0, 5, 123, 133)\n",
>>>>>>> 98fc71c474ddced6792e89e9ab27c07529da5b48
=======
    "    instance= dmbh.MonthAggregatedCSV(0, 5, 123, 133)\n",
>>>>>>> 0a418ac421c02a3cd32b6e4c97b2bdc92cdb79b7
    "    GoodQualityData = instance.aggregate_july24tocsv(file_paths_list)\n",
    "    instance.save(GoodQualityData, year, month, computer_path)"
   ]
  },
  {
   "cell_type": "markdown",
   "metadata": {},
   "source": [
<<<<<<< HEAD
<<<<<<< HEAD
    "### Transform CVS into pickle file after saving csv file into the folder 'GEMS'\n"
=======
    "### Transform CVS into pickle file after saving csv file into the folder"
>>>>>>> 98fc71c474ddced6792e89e9ab27c07529da5b48
=======
    "### Transform CVS into pickle file after saving csv file into the folder"
>>>>>>> 0a418ac421c02a3cd32b6e4c97b2bdc92cdb79b7
   ]
  },
  {
   "cell_type": "code",
<<<<<<< HEAD
<<<<<<< HEAD
   "execution_count": 35,
=======
   "execution_count": 45,
>>>>>>> 98fc71c474ddced6792e89e9ab27c07529da5b48
=======
   "execution_count": 45,
>>>>>>> 0a418ac421c02a3cd32b6e4c97b2bdc92cdb79b7
   "metadata": {},
   "outputs": [
    {
     "name": "stdout",
     "output_type": "stream",
     "text": [
<<<<<<< HEAD
<<<<<<< HEAD
      "Reading file: /Users/joonwonlee/Documents/GEMS_DATA/data_2024/data_24_07_0131_N-57_E118135.csv\n",
=======
      "Reading file: /Users/joonwonlee/Documents/GEMS_DATA/data_2024/data_24_07_0131_N05_E123133.csv\n",
>>>>>>> 98fc71c474ddced6792e89e9ab27c07529da5b48
=======
      "Reading file: /Users/joonwonlee/Documents/GEMS_DATA/data_2024/data_24_07_0131_N05_E123133.csv\n",
>>>>>>> 0a418ac421c02a3cd32b6e4c97b2bdc92cdb79b7
      "Successfully processed and saved data for year 24 month 07.\n"
     ]
    }
   ],
   "source": [
    "\n",
    "# input_base = \"/Volumes/Backup Plus/Extracted_data/\"       MAC: working from portable disk requires permission, figure out later\n",
    "mac_data_path = config.mac_data_load_path   # \"C:\\\\Users\\\\joonw\\\\TCO\\\\GEMS_data\"    MSI notebook\n",
    "\n",
<<<<<<< HEAD
<<<<<<< HEAD
    "#lat_start, lat_end, lon_start, lon_end = 0, 5, 123, 133\n",
    "lat_start, lat_end, lon_start, lon_end = -5, 7, 118, 135\n",
=======
    "lat_start, lat_end, lon_start, lon_end = 0, 5, 123, 133\n",
>>>>>>> 98fc71c474ddced6792e89e9ab27c07529da5b48
=======
    "lat_start, lat_end, lon_start, lon_end = 0, 5, 123, 133\n",
>>>>>>> 0a418ac421c02a3cd32b6e4c97b2bdc92cdb79b7
    "\n",
    "years = [2024]  # years = [2023,2024]\n",
    "months = list( range(7,8))\n",
    "\n",
    "instance = dmbh.MonthAggregatedHashmap(lat_start, lat_end, lon_start, lon_end, years, months)\n",
    "instance.aggregate_july24topickle(csvfilepath = mac_data_path)"
   ]
  }
 ],
 "metadata": {
  "kernelspec": {
   "display_name": "faiss_env",
   "language": "python",
   "name": "python3"
  },
  "language_info": {
   "codemirror_mode": {
    "name": "ipython",
    "version": 3
   },
   "file_extension": ".py",
   "mimetype": "text/x-python",
   "name": "python",
   "nbconvert_exporter": "python",
   "pygments_lexer": "ipython3",
   "version": "3.12.3"
  }
 },
 "nbformat": 4,
 "nbformat_minor": 2
}
