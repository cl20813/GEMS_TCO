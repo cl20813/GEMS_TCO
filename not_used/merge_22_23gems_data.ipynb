{
 "cells": [
  {
   "cell_type": "code",
   "execution_count": 1,
   "metadata": {},
   "outputs": [],
   "source": [
    "# work with jl2815 environment\n",
    "\n",
    "import xarray as xr # for netCDF4 \n",
    "import pandas as pd\n",
    "import numpy as np\n",
    "from netCDF4 import Dataset\n",
    "from matplotlib import pyplot as plt\n",
    "import os\n",
    "\n",
    "# !pip install xarray"
   ]
  },
  {
   "cell_type": "code",
   "execution_count": 2,
   "metadata": {},
   "outputs": [
    {
     "name": "stdout",
     "output_type": "stream",
     "text": [
      "Current working directory: c:\\Users\\joonw\\Downloads\\TCO_analysis\\data_engineering\n",
      "Updated working directory: D:\\GEMS_UNZIPPED\n"
     ]
    }
   ],
   "source": [
    "current_directory = os.getcwd()\n",
    "print(\"Current working directory:\", current_directory)\n",
    "new_directory = \"D:\\\\GEMS_UNZIPPED\"\n",
    "os.chdir(new_directory)\n",
    "updated_directory = os.getcwd()\n",
    "print(\"Updated working directory:\", updated_directory)"
   ]
  },
  {
   "cell_type": "code",
   "execution_count": 76,
   "metadata": {},
   "outputs": [],
   "source": [
    "class gems_loader_2022:          \n",
    "    def __init__(self, file_path = '22070106/20220701_0045.nc'):\n",
    "        self.file_path = file_path                                    \n",
    "  \n",
    "    def extract_data(self,file_path):\n",
    "        location = xr.open_dataset(file_path, group='Geolocation Fields')\n",
    "        Z = xr.open_dataset(file_path, group='Data Fields')\n",
    "        \n",
    "        location_variables = ['Latitude', 'Longitude', 'Time']\n",
    "        tmp1 = location[location_variables]\n",
    "\n",
    "        # Convert xarray.Dataset to pandas DataFrame\n",
    "        location_df = tmp1.to_dataframe().reset_index()\n",
    "        location_df = location_df[location_variables]  # remove first (spatial) and second(image) column\n",
    "        \n",
    "        Z_variables = ['ColumnAmountO3','FinalAlgorithmFlags']\n",
    "        tmp2 = Z[Z_variables]\n",
    "\n",
    "        Z_df = tmp2.to_dataframe().reset_index()\n",
    "        Z_df = Z_df[Z_variables]\n",
    "\n",
    "        mydata = pd.concat([location_df, Z_df], axis=1)\n",
    "        mydata = mydata[ location_variables + Z_variables ]\n",
    "        \n",
    "        print(f'Dimension of data from single orbit around {self.file_path} is {mydata.shape}')\n",
    "        \n",
    "        # Close the NetCDF file\n",
    "        location.close()\n",
    "        Z.close()\n",
    "        return mydata\n",
    "    \n",
    "    def dropna(self):\n",
    "        mydata = self.extract_data(self.file_path)\n",
    "        mydata = mydata.dropna(subset=['Latitude', 'Longitude','Time','ColumnAmountO3','FinalAlgorithmFlags'])\n",
    "        \n",
    "        return mydata\n",
    "\n",
    "    def result(self):\n",
    "        # self.mydata =  self.extract_data(self.file_path)\n",
    "\n",
    "        df = self.dropna()\n",
    "\n",
    "        df2 = df[ (df['Latitude']<=10) & (df['Latitude']>=5) & (df['Longitude']>=125) & (df['Longitude']<=130) ]\n",
    "        \n",
    "        df2 = df2[df2.iloc[:,3]<1000]    # Cut off missing values\n",
    "        # Time is elapsed seconds from 2000.1.1. 12:00 not 1970.1.1. 00:00. Also should consider leap years. For 30 years, 30/4 ~ 7 leap years\n",
    "        df2['Time'] = np.mean(df2.iloc[:,2])/3600 + 24*365*30+12 + 24*7   # consider leap years, so added 24*7\n",
    "\n",
    "        df2['Time'] = pd.to_datetime(df2['Time'], unit='h')\n",
    "        df2['Time'] = df2['Time'].dt.floor('T')  # T represents minute\n",
    "        \n",
    "        return df2\n",
    "    "
   ]
  },
  {
   "cell_type": "markdown",
   "metadata": {},
   "source": [
    "Compare with hours"
   ]
  },
  {
   "cell_type": "code",
   "execution_count": 24,
   "metadata": {},
   "outputs": [
    {
     "name": "stderr",
     "output_type": "stream",
     "text": [
      "c:\\Users\\joonw\\anaconda3\\envs\\jl2815\\Lib\\site-packages\\xarray\\namedarray\\core.py:514: UserWarning: Duplicate dimension names present: dimensions {'nlayer2'} appear more than once in dims=('nlayer2', 'nlayer2', 'spatial', 'image'). We do not yet support duplicate dimension names, but we do allow initial construction of the object. We recommend you rename the dims immediately to become distinct, as most xarray functionality is likely to fail silently if you do not. To rename the dimensions you will need to set the ``.dims`` attribute of each variable, ``e.g. var.dims=('x0', 'x1')``.\n",
      "  warnings.warn(\n"
     ]
    },
    {
     "name": "stdout",
     "output_type": "stream",
     "text": [
      "Dimension of data from single orbit around 2022070116\\20220701_0045.nc is (1423360, 5)\n",
      "Series([], Name: Time, dtype: datetime64[ns])\n"
     ]
    },
    {
     "name": "stderr",
     "output_type": "stream",
     "text": [
      "C:\\Users\\Public\\Documents\\ESTsoft\\CreatorTemp\\ipykernel_35752\\3172628277.py:50: FutureWarning: 'T' is deprecated and will be removed in a future version, please use 'min' instead.\n",
      "  df2['Time'] = df2['Time'].dt.floor('T')  # T represents minute\n"
     ]
    },
    {
     "data": {
      "text/html": [
       "<div>\n",
       "<style scoped>\n",
       "    .dataframe tbody tr th:only-of-type {\n",
       "        vertical-align: middle;\n",
       "    }\n",
       "\n",
       "    .dataframe tbody tr th {\n",
       "        vertical-align: top;\n",
       "    }\n",
       "\n",
       "    .dataframe thead th {\n",
       "        text-align: right;\n",
       "    }\n",
       "</style>\n",
       "<table border=\"1\" class=\"dataframe\">\n",
       "  <thead>\n",
       "    <tr style=\"text-align: right;\">\n",
       "      <th></th>\n",
       "      <th>Latitude</th>\n",
       "      <th>Longitude</th>\n",
       "      <th>Time</th>\n",
       "      <th>ColumnAmountO3</th>\n",
       "      <th>FinalAlgorithmFlags</th>\n",
       "      <th>hours_slapsed</th>\n",
       "    </tr>\n",
       "  </thead>\n",
       "  <tbody>\n",
       "  </tbody>\n",
       "</table>\n",
       "</div>"
      ],
      "text/plain": [
       "Empty DataFrame\n",
       "Columns: [Latitude, Longitude, Time, ColumnAmountO3, FinalAlgorithmFlags, hours_slapsed]\n",
       "Index: []"
      ]
     },
     "execution_count": 24,
     "metadata": {},
     "output_type": "execute_result"
    }
   ],
   "source": [
    "my_loader= gems_loader_2022('2022070116\\\\20220701_0045.nc')\n",
    "df1 = my_loader.result()\n",
    "df1.head()\n",
    "\n",
    "# Round timestamps to the closest minute\n",
    "df1['Time'] = df1['Time'].dt.round('min')\n",
    "print(df1['Time'])\n",
    "df1.head()\n",
    "# Convert timestamps to seconds (since 1970 1.1,  //10**9 converts nanoseconds to seconds, /3600 this division converts seconds to hours)\n",
    "df1['hours_slapsed'] = df1['Time'].astype('int64') // 10**9/3600\n",
    "# 197196+ 262980 = 461076\n",
    "df1.head()"
   ]
  },
  {
   "cell_type": "code",
   "execution_count": 80,
   "metadata": {},
   "outputs": [
    {
     "name": "stdout",
     "output_type": "stream",
     "text": [
      "['2022070116/20220701_0045.nc', '2022070116/20220701_0145.nc', '2022070116/20220701_0245.nc', '2022070116/20220701_0345.nc', '2022070116/20220701_0445.nc', '2022070116/20220701_0545.nc', '2022070116/20220701_0645.nc', '2022070116/20220701_0745.nc', '2022070116/20220702_0045.nc', '2022070116/20220702_0145.nc', '2022070116/20220702_0245.nc', '2022070116/20220702_0345.nc', '2022070116/20220702_0445.nc', '2022070116/20220702_0545.nc', '2022070116/20220702_0645.nc', '2022070116/20220702_0745.nc', '2022070116/20220703_0045.nc', '2022070116/20220703_0145.nc', '2022070116/20220703_0245.nc', '2022070116/20220703_0345.nc', '2022070116/20220703_0445.nc', '2022070116/20220703_0545.nc', '2022070116/20220703_0645.nc', '2022070116/20220703_0745.nc', '2022070116/20220704_0045.nc', '2022070116/20220704_0145.nc', '2022070116/20220704_0245.nc', '2022070116/20220704_0345.nc', '2022070116/20220704_0445.nc', '2022070116/20220704_0545.nc', '2022070116/20220704_0645.nc', '2022070116/20220704_0745.nc', '2022070116/20220705_0045.nc', '2022070116/20220705_0145.nc', '2022070116/20220705_0245.nc', '2022070116/20220705_0345.nc', '2022070116/20220705_0445.nc', '2022070116/20220705_0545.nc', '2022070116/20220705_0645.nc', '2022070116/20220705_0745.nc', '2022070116/20220706_0045.nc', '2022070116/20220706_0145.nc', '2022070116/20220706_0245.nc', '2022070116/20220706_0345.nc', '2022070116/20220706_0445.nc', '2022070116/20220706_0545.nc', '2022070116/20220706_0645.nc', '2022070116/20220706_0745.nc', '2022070116/20220707_0045.nc', '2022070116/20220707_0145.nc', '2022070116/20220707_0245.nc', '2022070116/20220707_0345.nc', '2022070116/20220707_0445.nc', '2022070116/20220707_0545.nc', '2022070116/20220707_0645.nc', '2022070116/20220707_0745.nc', '2022070116/20220708_0045.nc', '2022070116/20220708_0145.nc', '2022070116/20220708_0245.nc', '2022070116/20220708_0345.nc', '2022070116/20220708_0445.nc', '2022070116/20220708_0545.nc', '2022070116/20220708_0645.nc', '2022070116/20220708_0745.nc', '2022070116/20220709_0045.nc', '2022070116/20220709_0145.nc', '2022070116/20220709_0245.nc', '2022070116/20220709_0345.nc', '2022070116/20220709_0445.nc', '2022070116/20220709_0545.nc', '2022070116/20220709_0645.nc', '2022070116/20220709_0745.nc', '2022070116/20220710_0045.nc', '2022070116/20220710_0145.nc', '2022070116/20220710_0245.nc', '2022070116/20220710_0345.nc', '2022070116/20220710_0445.nc', '2022070116/20220710_0545.nc', '2022070116/20220710_0645.nc', '2022070116/20220710_0745.nc', '2022070116/20220711_0045.nc', '2022070116/20220711_0145.nc', '2022070116/20220711_0245.nc', '2022070116/20220711_0345.nc', '2022070116/20220711_0445.nc', '2022070116/20220711_0545.nc', '2022070116/20220711_0645.nc', '2022070116/20220711_0745.nc', '2022070116/20220712_0045.nc', '2022070116/20220712_0145.nc', '2022070116/20220712_0245.nc', '2022070116/20220712_0345.nc', '2022070116/20220712_0445.nc', '2022070116/20220712_0545.nc', '2022070116/20220712_0645.nc', '2022070116/20220712_0745.nc', '2022070116/20220713_0045.nc', '2022070116/20220713_0145.nc', '2022070116/20220713_0245.nc', '2022070116/20220713_0345.nc', '2022070116/20220713_0445.nc', '2022070116/20220713_0545.nc', '2022070116/20220713_0645.nc', '2022070116/20220713_0745.nc', '2022070116/20220714_0045.nc', '2022070116/20220714_0145.nc', '2022070116/20220714_0245.nc', '2022070116/20220714_0345.nc', '2022070116/20220714_0445.nc', '2022070116/20220714_0545.nc', '2022070116/20220714_0645.nc', '2022070116/20220714_0745.nc', '2022070116/20220715_0045.nc', '2022070116/20220715_0145.nc', '2022070116/20220715_0245.nc', '2022070116/20220715_0345.nc', '2022070116/20220715_0445.nc', '2022070116/20220715_0545.nc', '2022070116/20220715_0645.nc', '2022070116/20220715_0745.nc', '2023070118/20230701_0045.nc', '2023070118/20230701_0145.nc', '2023070118/20230701_0245.nc', '2023070118/20230701_0345.nc', '2023070118/20230701_0445.nc', '2023070118/20230701_0545.nc', '2023070118/20230701_0645.nc', '2023070118/20230701_0745.nc', '2023070118/20230702_0045.nc', '2023070118/20230702_0145.nc', '2023070118/20230702_0245.nc', '2023070118/20230702_0345.nc', '2023070118/20230702_0445.nc', '2023070118/20230702_0545.nc', '2023070118/20230702_0645.nc', '2023070118/20230702_0745.nc', '2023070118/20230703_0045.nc', '2023070118/20230703_0145.nc', '2023070118/20230703_0245.nc', '2023070118/20230703_0345.nc', '2023070118/20230703_0445.nc', '2023070118/20230703_0545.nc', '2023070118/20230703_0645.nc', '2023070118/20230703_0745.nc', '2023070118/20230704_0045.nc', '2023070118/20230704_0145.nc', '2023070118/20230704_0245.nc', '2023070118/20230704_0345.nc', '2023070118/20230704_0445.nc', '2023070118/20230704_0545.nc', '2023070118/20230704_0645.nc', '2023070118/20230704_0745.nc', '2023070118/20230705_0045.nc', '2023070118/20230705_0145.nc', '2023070118/20230705_0245.nc', '2023070118/20230705_0345.nc', '2023070118/20230705_0445.nc', '2023070118/20230705_0545.nc', '2023070118/20230705_0645.nc', '2023070118/20230705_0745.nc', '2023070118/20230706_0045.nc', '2023070118/20230706_0145.nc', '2023070118/20230706_0245.nc', '2023070118/20230706_0345.nc', '2023070118/20230706_0445.nc', '2023070118/20230706_0545.nc', '2023070118/20230706_0645.nc', '2023070118/20230706_0745.nc', '2023070118/20230707_0045.nc', '2023070118/20230707_0145.nc', '2023070118/20230707_0245.nc', '2023070118/20230707_0345.nc', '2023070118/20230707_0445.nc', '2023070118/20230707_0545.nc', '2023070118/20230707_0645.nc', '2023070118/20230707_0745.nc', '2023070118/20230708_0045.nc', '2023070118/20230708_0145.nc', '2023070118/20230708_0245.nc', '2023070118/20230708_0345.nc', '2023070118/20230708_0445.nc', '2023070118/20230708_0545.nc', '2023070118/20230708_0645.nc', '2023070118/20230708_0745.nc', '2023070118/20230709_0045.nc', '2023070118/20230709_0145.nc', '2023070118/20230709_0245.nc', '2023070118/20230709_0345.nc', '2023070118/20230709_0445.nc', '2023070118/20230709_0545.nc', '2023070118/20230709_0645.nc', '2023070118/20230709_0745.nc', '2023070118/20230710_0045.nc', '2023070118/20230710_0145.nc', '2023070118/20230710_0245.nc', '2023070118/20230710_0345.nc', '2023070118/20230710_0445.nc', '2023070118/20230710_0545.nc', '2023070118/20230710_0645.nc', '2023070118/20230710_0745.nc', '2023070118/20230711_0045.nc', '2023070118/20230711_0145.nc', '2023070118/20230711_0245.nc', '2023070118/20230711_0345.nc', '2023070118/20230711_0445.nc', '2023070118/20230711_0545.nc', '2023070118/20230711_0645.nc', '2023070118/20230711_0745.nc', '2023070118/20230712_0045.nc', '2023070118/20230712_0145.nc', '2023070118/20230712_0245.nc', '2023070118/20230712_0345.nc', '2023070118/20230712_0445.nc', '2023070118/20230712_0545.nc', '2023070118/20230712_0645.nc', '2023070118/20230712_0745.nc', '2023070118/20230713_0045.nc', '2023070118/20230713_0145.nc', '2023070118/20230713_0245.nc', '2023070118/20230713_0345.nc', '2023070118/20230713_0445.nc', '2023070118/20230713_0545.nc', '2023070118/20230713_0645.nc', '2023070118/20230713_0745.nc', '2023070118/20230714_0045.nc', '2023070118/20230714_0145.nc', '2023070118/20230714_0245.nc', '2023070118/20230714_0345.nc', '2023070118/20230714_0445.nc', '2023070118/20230714_0545.nc', '2023070118/20230714_0645.nc', '2023070118/20230714_0745.nc', '2023070118/20230715_0045.nc', '2023070118/20230715_0145.nc', '2023070118/20230715_0245.nc', '2023070118/20230715_0345.nc', '2023070118/20230715_0445.nc', '2023070118/20230715_0545.nc', '2023070118/20230715_0645.nc', '2023070118/20230715_0745.nc', '2024070112/20240701_0045.nc', '2024070112/20240701_0145.nc', '2024070112/20240701_0245.nc', '2024070112/20240701_0345.nc', '2024070112/20240701_0445.nc', '2024070112/20240701_0545.nc', '2024070112/20240701_0645.nc', '2024070112/20240701_0745.nc', '2024070112/20240702_0045.nc', '2024070112/20240702_0145.nc', '2024070112/20240702_0245.nc', '2024070112/20240702_0345.nc', '2024070112/20240702_0445.nc', '2024070112/20240702_0545.nc', '2024070112/20240702_0645.nc', '2024070112/20240702_0745.nc', '2024070112/20240703_0045.nc', '2024070112/20240703_0145.nc', '2024070112/20240703_0245.nc', '2024070112/20240703_0345.nc', '2024070112/20240703_0445.nc', '2024070112/20240703_0545.nc', '2024070112/20240703_0645.nc', '2024070112/20240703_0745.nc', '2024070112/20240704_0045.nc', '2024070112/20240704_0145.nc', '2024070112/20240704_0245.nc', '2024070112/20240704_0345.nc', '2024070112/20240704_0445.nc', '2024070112/20240704_0545.nc', '2024070112/20240704_0645.nc', '2024070112/20240704_0745.nc', '2024070112/20240705_0045.nc', '2024070112/20240705_0145.nc', '2024070112/20240705_0245.nc', '2024070112/20240705_0345.nc', '2024070112/20240705_0445.nc', '2024070112/20240705_0545.nc', '2024070112/20240705_0645.nc', '2024070112/20240705_0745.nc', '2024070112/20240706_0045.nc', '2024070112/20240706_0145.nc', '2024070112/20240706_0245.nc', '2024070112/20240706_0345.nc', '2024070112/20240706_0445.nc', '2024070112/20240706_0545.nc', '2024070112/20240706_0645.nc', '2024070112/20240706_0745.nc', '2024070112/20240707_0045.nc', '2024070112/20240707_0145.nc', '2024070112/20240707_0245.nc', '2024070112/20240707_0345.nc', '2024070112/20240707_0445.nc', '2024070112/20240707_0545.nc', '2024070112/20240707_0645.nc', '2024070112/20240707_0745.nc', '2024070112/20240708_0045.nc', '2024070112/20240708_0145.nc', '2024070112/20240708_0245.nc', '2024070112/20240708_0345.nc', '2024070112/20240708_0445.nc', '2024070112/20240708_0545.nc', '2024070112/20240708_0645.nc', '2024070112/20240708_0745.nc', '2024070112/20240709_0045.nc', '2024070112/20240709_0145.nc', '2024070112/20240709_0245.nc', '2024070112/20240709_0345.nc', '2024070112/20240709_0445.nc', '2024070112/20240709_0545.nc', '2024070112/20240709_0645.nc', '2024070112/20240709_0745.nc', '2024070112/20240710_0045.nc', '2024070112/20240710_0145.nc', '2024070112/20240710_0245.nc', '2024070112/20240710_0345.nc', '2024070112/20240710_0445.nc', '2024070112/20240710_0545.nc', '2024070112/20240710_0645.nc', '2024070112/20240710_0745.nc', '2024070112/20240711_0045.nc', '2024070112/20240711_0145.nc', '2024070112/20240711_0245.nc', '2024070112/20240711_0345.nc', '2024070112/20240711_0445.nc', '2024070112/20240711_0545.nc', '2024070112/20240711_0645.nc', '2024070112/20240711_0745.nc', '2024070112/20240712_0045.nc', '2024070112/20240712_0145.nc', '2024070112/20240712_0245.nc', '2024070112/20240712_0345.nc', '2024070112/20240712_0445.nc', '2024070112/20240712_0545.nc', '2024070112/20240712_0645.nc', '2024070112/20240712_0745.nc']\n"
     ]
    }
   ],
   "source": [
    "# Define the base directories and file prefixes for both years\n",
    "base_directories_2022 = '2022070116/'\n",
    "base_directories_2023 = '2023070118/'\n",
    "base_directories_2024 = '2024070112/'\n",
    "file_prefixes_2022 = ['20220701_', '20220702_', '20220703_', '20220704_', '20220705_','20220706_','20220707_','20220708_','20220709_',\n",
    "                      '20220710_','20220711_','20220712_','20220713_','20220714_','20220715_']\n",
    "file_prefixes_2023 = ['20230701_', '20230702_', '20230703_', '20230704_', '20230705_','20230706_','20230707_','20230708_','20230709_',\n",
    "                      '20230710_','20230711_','20230712_','20230713_','20230714_','20230715_']\n",
    "\n",
    "\n",
    "file_prefixes_2024 = ['20240701_', '20240702_', '20240703_', '20240704_', '20240705_','20240706_','20240707_','20240708_','20240709_',\n",
    "                      '20240710_', '20240711_','20240712_' ]\n",
    "\n",
    "# Combine the prefixes for both years\n",
    "file_prefixes = file_prefixes_2022 + file_prefixes_2023 + file_prefixes_2024\n",
    "\n",
    "# hour:02d  0 means 0 should be added if smaller than 10 and 2 means 2 digits and d means integer\n",
    "# Generate the list of filenames using nested list comprehensions\n",
    "filenames_2022 = [f\"{base_directories_2022}{prefix}{hour:02d}45.nc\" for prefix in file_prefixes_2022 for hour in range(0, 8)]\n",
    "filenames_2023 = [f\"{base_directories_2023}{prefix}{hour:02d}45.nc\" for prefix in file_prefixes_2023 for hour in range(0, 8)]\n",
    "filenames_2024 = [f\"{base_directories_2024}{prefix}{hour:02d}45.nc\" for prefix in file_prefixes_2024 for hour in range(0, 8)]\n",
    "\n",
    "filenames=filenames_2022 + filenames_2023 + filenames_2024\n",
    "\n",
    "# Print the generated list\n",
    "print(filenames)"
   ]
  },
  {
   "cell_type": "markdown",
   "metadata": {},
   "source": [
    "# Merge 2022 data "
   ]
  },
  {
   "cell_type": "code",
   "execution_count": 10,
   "metadata": {},
   "outputs": [
    {
     "name": "stderr",
     "output_type": "stream",
     "text": [
      "c:\\Users\\joonw\\anaconda3\\envs\\jl2815\\Lib\\site-packages\\xarray\\namedarray\\core.py:514: UserWarning: Duplicate dimension names present: dimensions {'nlayer2'} appear more than once in dims=('nlayer2', 'nlayer2', 'spatial', 'image'). We do not yet support duplicate dimension names, but we do allow initial construction of the object. We recommend you rename the dims immediately to become distinct, as most xarray functionality is likely to fail silently if you do not. To rename the dimensions you will need to set the ``.dims`` attribute of each variable, ``e.g. var.dims=('x0', 'x1')``.\n",
      "  warnings.warn(\n"
     ]
    },
    {
     "name": "stdout",
     "output_type": "stream",
     "text": [
      "Dimension of data from single orbit around 2022070116/20220701_0045.nc is (1423360, 5)\n"
     ]
    },
    {
     "name": "stderr",
     "output_type": "stream",
     "text": [
      "C:\\Users\\Public\\Documents\\ESTsoft\\CreatorTemp\\ipykernel_27924\\2905133411.py:50: FutureWarning: 'T' is deprecated and will be removed in a future version, please use 'min' instead.\n",
      "  df2['Time'] = df2['Time'].dt.floor('T')  # T represents minute\n",
      "c:\\Users\\joonw\\anaconda3\\envs\\jl2815\\Lib\\site-packages\\xarray\\namedarray\\core.py:514: UserWarning: Duplicate dimension names present: dimensions {'nlayer2'} appear more than once in dims=('nlayer2', 'nlayer2', 'spatial', 'image'). We do not yet support duplicate dimension names, but we do allow initial construction of the object. We recommend you rename the dims immediately to become distinct, as most xarray functionality is likely to fail silently if you do not. To rename the dimensions you will need to set the ``.dims`` attribute of each variable, ``e.g. var.dims=('x0', 'x1')``.\n",
      "  warnings.warn(\n"
     ]
    },
    {
     "name": "stdout",
     "output_type": "stream",
     "text": [
      "Dimension of data from single orbit around 2022070116/20220701_0145.nc is (1423360, 5)\n"
     ]
    },
    {
     "name": "stderr",
     "output_type": "stream",
     "text": [
      "C:\\Users\\Public\\Documents\\ESTsoft\\CreatorTemp\\ipykernel_27924\\2905133411.py:50: FutureWarning: 'T' is deprecated and will be removed in a future version, please use 'min' instead.\n",
      "  df2['Time'] = df2['Time'].dt.floor('T')  # T represents minute\n",
      "c:\\Users\\joonw\\anaconda3\\envs\\jl2815\\Lib\\site-packages\\xarray\\namedarray\\core.py:514: UserWarning: Duplicate dimension names present: dimensions {'nlayer2'} appear more than once in dims=('nlayer2', 'nlayer2', 'spatial', 'image'). We do not yet support duplicate dimension names, but we do allow initial construction of the object. We recommend you rename the dims immediately to become distinct, as most xarray functionality is likely to fail silently if you do not. To rename the dimensions you will need to set the ``.dims`` attribute of each variable, ``e.g. var.dims=('x0', 'x1')``.\n",
      "  warnings.warn(\n"
     ]
    },
    {
     "name": "stdout",
     "output_type": "stream",
     "text": [
      "Dimension of data from single orbit around 2022070116/20220701_0245.nc is (1423360, 5)\n"
     ]
    },
    {
     "name": "stderr",
     "output_type": "stream",
     "text": [
      "C:\\Users\\Public\\Documents\\ESTsoft\\CreatorTemp\\ipykernel_27924\\2905133411.py:50: FutureWarning: 'T' is deprecated and will be removed in a future version, please use 'min' instead.\n",
      "  df2['Time'] = df2['Time'].dt.floor('T')  # T represents minute\n",
      "c:\\Users\\joonw\\anaconda3\\envs\\jl2815\\Lib\\site-packages\\xarray\\namedarray\\core.py:514: UserWarning: Duplicate dimension names present: dimensions {'nlayer2'} appear more than once in dims=('nlayer2', 'nlayer2', 'spatial', 'image'). We do not yet support duplicate dimension names, but we do allow initial construction of the object. We recommend you rename the dims immediately to become distinct, as most xarray functionality is likely to fail silently if you do not. To rename the dimensions you will need to set the ``.dims`` attribute of each variable, ``e.g. var.dims=('x0', 'x1')``.\n",
      "  warnings.warn(\n"
     ]
    },
    {
     "name": "stdout",
     "output_type": "stream",
     "text": [
      "Dimension of data from single orbit around 2022070116/20220701_0345.nc is (1423360, 5)\n"
     ]
    },
    {
     "name": "stderr",
     "output_type": "stream",
     "text": [
      "C:\\Users\\Public\\Documents\\ESTsoft\\CreatorTemp\\ipykernel_27924\\2905133411.py:50: FutureWarning: 'T' is deprecated and will be removed in a future version, please use 'min' instead.\n",
      "  df2['Time'] = df2['Time'].dt.floor('T')  # T represents minute\n",
      "c:\\Users\\joonw\\anaconda3\\envs\\jl2815\\Lib\\site-packages\\xarray\\namedarray\\core.py:514: UserWarning: Duplicate dimension names present: dimensions {'nlayer2'} appear more than once in dims=('nlayer2', 'nlayer2', 'spatial', 'image'). We do not yet support duplicate dimension names, but we do allow initial construction of the object. We recommend you rename the dims immediately to become distinct, as most xarray functionality is likely to fail silently if you do not. To rename the dimensions you will need to set the ``.dims`` attribute of each variable, ``e.g. var.dims=('x0', 'x1')``.\n",
      "  warnings.warn(\n"
     ]
    },
    {
     "name": "stdout",
     "output_type": "stream",
     "text": [
      "Dimension of data from single orbit around 2022070116/20220701_0445.nc is (1423360, 5)\n"
     ]
    },
    {
     "name": "stderr",
     "output_type": "stream",
     "text": [
      "C:\\Users\\Public\\Documents\\ESTsoft\\CreatorTemp\\ipykernel_27924\\2905133411.py:50: FutureWarning: 'T' is deprecated and will be removed in a future version, please use 'min' instead.\n",
      "  df2['Time'] = df2['Time'].dt.floor('T')  # T represents minute\n",
      "c:\\Users\\joonw\\anaconda3\\envs\\jl2815\\Lib\\site-packages\\xarray\\namedarray\\core.py:514: UserWarning: Duplicate dimension names present: dimensions {'nlayer2'} appear more than once in dims=('nlayer2', 'nlayer2', 'spatial', 'image'). We do not yet support duplicate dimension names, but we do allow initial construction of the object. We recommend you rename the dims immediately to become distinct, as most xarray functionality is likely to fail silently if you do not. To rename the dimensions you will need to set the ``.dims`` attribute of each variable, ``e.g. var.dims=('x0', 'x1')``.\n",
      "  warnings.warn(\n"
     ]
    },
    {
     "name": "stdout",
     "output_type": "stream",
     "text": [
      "Dimension of data from single orbit around 2022070116/20220701_0545.nc is (1423360, 5)\n"
     ]
    },
    {
     "name": "stderr",
     "output_type": "stream",
     "text": [
      "C:\\Users\\Public\\Documents\\ESTsoft\\CreatorTemp\\ipykernel_27924\\2905133411.py:50: FutureWarning: 'T' is deprecated and will be removed in a future version, please use 'min' instead.\n",
      "  df2['Time'] = df2['Time'].dt.floor('T')  # T represents minute\n",
      "c:\\Users\\joonw\\anaconda3\\envs\\jl2815\\Lib\\site-packages\\xarray\\namedarray\\core.py:514: UserWarning: Duplicate dimension names present: dimensions {'nlayer2'} appear more than once in dims=('nlayer2', 'nlayer2', 'spatial', 'image'). We do not yet support duplicate dimension names, but we do allow initial construction of the object. We recommend you rename the dims immediately to become distinct, as most xarray functionality is likely to fail silently if you do not. To rename the dimensions you will need to set the ``.dims`` attribute of each variable, ``e.g. var.dims=('x0', 'x1')``.\n",
      "  warnings.warn(\n"
     ]
    },
    {
     "name": "stdout",
     "output_type": "stream",
     "text": [
      "Dimension of data from single orbit around 2022070116/20220701_0645.nc is (1423360, 5)\n"
     ]
    },
    {
     "name": "stderr",
     "output_type": "stream",
     "text": [
      "C:\\Users\\Public\\Documents\\ESTsoft\\CreatorTemp\\ipykernel_27924\\2905133411.py:50: FutureWarning: 'T' is deprecated and will be removed in a future version, please use 'min' instead.\n",
      "  df2['Time'] = df2['Time'].dt.floor('T')  # T represents minute\n",
      "c:\\Users\\joonw\\anaconda3\\envs\\jl2815\\Lib\\site-packages\\xarray\\namedarray\\core.py:514: UserWarning: Duplicate dimension names present: dimensions {'nlayer2'} appear more than once in dims=('nlayer2', 'nlayer2', 'spatial', 'image'). We do not yet support duplicate dimension names, but we do allow initial construction of the object. We recommend you rename the dims immediately to become distinct, as most xarray functionality is likely to fail silently if you do not. To rename the dimensions you will need to set the ``.dims`` attribute of each variable, ``e.g. var.dims=('x0', 'x1')``.\n",
      "  warnings.warn(\n"
     ]
    },
    {
     "name": "stdout",
     "output_type": "stream",
     "text": [
      "Dimension of data from single orbit around 2022070116/20220701_0745.nc is (1423360, 5)\n"
     ]
    },
    {
     "name": "stderr",
     "output_type": "stream",
     "text": [
      "C:\\Users\\Public\\Documents\\ESTsoft\\CreatorTemp\\ipykernel_27924\\2905133411.py:50: FutureWarning: 'T' is deprecated and will be removed in a future version, please use 'min' instead.\n",
      "  df2['Time'] = df2['Time'].dt.floor('T')  # T represents minute\n",
      "c:\\Users\\joonw\\anaconda3\\envs\\jl2815\\Lib\\site-packages\\xarray\\namedarray\\core.py:514: UserWarning: Duplicate dimension names present: dimensions {'nlayer2'} appear more than once in dims=('nlayer2', 'nlayer2', 'spatial', 'image'). We do not yet support duplicate dimension names, but we do allow initial construction of the object. We recommend you rename the dims immediately to become distinct, as most xarray functionality is likely to fail silently if you do not. To rename the dimensions you will need to set the ``.dims`` attribute of each variable, ``e.g. var.dims=('x0', 'x1')``.\n",
      "  warnings.warn(\n"
     ]
    },
    {
     "name": "stdout",
     "output_type": "stream",
     "text": [
      "Dimension of data from single orbit around 2022070116/20220702_0045.nc is (1423360, 5)\n"
     ]
    },
    {
     "name": "stderr",
     "output_type": "stream",
     "text": [
      "C:\\Users\\Public\\Documents\\ESTsoft\\CreatorTemp\\ipykernel_27924\\2905133411.py:50: FutureWarning: 'T' is deprecated and will be removed in a future version, please use 'min' instead.\n",
      "  df2['Time'] = df2['Time'].dt.floor('T')  # T represents minute\n",
      "c:\\Users\\joonw\\anaconda3\\envs\\jl2815\\Lib\\site-packages\\xarray\\namedarray\\core.py:514: UserWarning: Duplicate dimension names present: dimensions {'nlayer2'} appear more than once in dims=('nlayer2', 'nlayer2', 'spatial', 'image'). We do not yet support duplicate dimension names, but we do allow initial construction of the object. We recommend you rename the dims immediately to become distinct, as most xarray functionality is likely to fail silently if you do not. To rename the dimensions you will need to set the ``.dims`` attribute of each variable, ``e.g. var.dims=('x0', 'x1')``.\n",
      "  warnings.warn(\n"
     ]
    },
    {
     "name": "stdout",
     "output_type": "stream",
     "text": [
      "Dimension of data from single orbit around 2022070116/20220702_0145.nc is (1423360, 5)\n"
     ]
    },
    {
     "name": "stderr",
     "output_type": "stream",
     "text": [
      "C:\\Users\\Public\\Documents\\ESTsoft\\CreatorTemp\\ipykernel_27924\\2905133411.py:50: FutureWarning: 'T' is deprecated and will be removed in a future version, please use 'min' instead.\n",
      "  df2['Time'] = df2['Time'].dt.floor('T')  # T represents minute\n",
      "c:\\Users\\joonw\\anaconda3\\envs\\jl2815\\Lib\\site-packages\\xarray\\namedarray\\core.py:514: UserWarning: Duplicate dimension names present: dimensions {'nlayer2'} appear more than once in dims=('nlayer2', 'nlayer2', 'spatial', 'image'). We do not yet support duplicate dimension names, but we do allow initial construction of the object. We recommend you rename the dims immediately to become distinct, as most xarray functionality is likely to fail silently if you do not. To rename the dimensions you will need to set the ``.dims`` attribute of each variable, ``e.g. var.dims=('x0', 'x1')``.\n",
      "  warnings.warn(\n"
     ]
    },
    {
     "name": "stdout",
     "output_type": "stream",
     "text": [
      "Dimension of data from single orbit around 2022070116/20220702_0245.nc is (1423360, 5)\n"
     ]
    },
    {
     "name": "stderr",
     "output_type": "stream",
     "text": [
      "C:\\Users\\Public\\Documents\\ESTsoft\\CreatorTemp\\ipykernel_27924\\2905133411.py:50: FutureWarning: 'T' is deprecated and will be removed in a future version, please use 'min' instead.\n",
      "  df2['Time'] = df2['Time'].dt.floor('T')  # T represents minute\n",
      "c:\\Users\\joonw\\anaconda3\\envs\\jl2815\\Lib\\site-packages\\xarray\\namedarray\\core.py:514: UserWarning: Duplicate dimension names present: dimensions {'nlayer2'} appear more than once in dims=('nlayer2', 'nlayer2', 'spatial', 'image'). We do not yet support duplicate dimension names, but we do allow initial construction of the object. We recommend you rename the dims immediately to become distinct, as most xarray functionality is likely to fail silently if you do not. To rename the dimensions you will need to set the ``.dims`` attribute of each variable, ``e.g. var.dims=('x0', 'x1')``.\n",
      "  warnings.warn(\n"
     ]
    },
    {
     "name": "stdout",
     "output_type": "stream",
     "text": [
      "Dimension of data from single orbit around 2022070116/20220702_0345.nc is (1423360, 5)\n"
     ]
    },
    {
     "name": "stderr",
     "output_type": "stream",
     "text": [
      "C:\\Users\\Public\\Documents\\ESTsoft\\CreatorTemp\\ipykernel_27924\\2905133411.py:50: FutureWarning: 'T' is deprecated and will be removed in a future version, please use 'min' instead.\n",
      "  df2['Time'] = df2['Time'].dt.floor('T')  # T represents minute\n",
      "c:\\Users\\joonw\\anaconda3\\envs\\jl2815\\Lib\\site-packages\\xarray\\namedarray\\core.py:514: UserWarning: Duplicate dimension names present: dimensions {'nlayer2'} appear more than once in dims=('nlayer2', 'nlayer2', 'spatial', 'image'). We do not yet support duplicate dimension names, but we do allow initial construction of the object. We recommend you rename the dims immediately to become distinct, as most xarray functionality is likely to fail silently if you do not. To rename the dimensions you will need to set the ``.dims`` attribute of each variable, ``e.g. var.dims=('x0', 'x1')``.\n",
      "  warnings.warn(\n"
     ]
    },
    {
     "name": "stdout",
     "output_type": "stream",
     "text": [
      "Dimension of data from single orbit around 2022070116/20220702_0445.nc is (1423360, 5)\n"
     ]
    },
    {
     "name": "stderr",
     "output_type": "stream",
     "text": [
      "C:\\Users\\Public\\Documents\\ESTsoft\\CreatorTemp\\ipykernel_27924\\2905133411.py:50: FutureWarning: 'T' is deprecated and will be removed in a future version, please use 'min' instead.\n",
      "  df2['Time'] = df2['Time'].dt.floor('T')  # T represents minute\n",
      "c:\\Users\\joonw\\anaconda3\\envs\\jl2815\\Lib\\site-packages\\xarray\\namedarray\\core.py:514: UserWarning: Duplicate dimension names present: dimensions {'nlayer2'} appear more than once in dims=('nlayer2', 'nlayer2', 'spatial', 'image'). We do not yet support duplicate dimension names, but we do allow initial construction of the object. We recommend you rename the dims immediately to become distinct, as most xarray functionality is likely to fail silently if you do not. To rename the dimensions you will need to set the ``.dims`` attribute of each variable, ``e.g. var.dims=('x0', 'x1')``.\n",
      "  warnings.warn(\n"
     ]
    },
    {
     "name": "stdout",
     "output_type": "stream",
     "text": [
      "Dimension of data from single orbit around 2022070116/20220702_0545.nc is (1423360, 5)\n"
     ]
    },
    {
     "name": "stderr",
     "output_type": "stream",
     "text": [
      "C:\\Users\\Public\\Documents\\ESTsoft\\CreatorTemp\\ipykernel_27924\\2905133411.py:50: FutureWarning: 'T' is deprecated and will be removed in a future version, please use 'min' instead.\n",
      "  df2['Time'] = df2['Time'].dt.floor('T')  # T represents minute\n",
      "c:\\Users\\joonw\\anaconda3\\envs\\jl2815\\Lib\\site-packages\\xarray\\namedarray\\core.py:514: UserWarning: Duplicate dimension names present: dimensions {'nlayer2'} appear more than once in dims=('nlayer2', 'nlayer2', 'spatial', 'image'). We do not yet support duplicate dimension names, but we do allow initial construction of the object. We recommend you rename the dims immediately to become distinct, as most xarray functionality is likely to fail silently if you do not. To rename the dimensions you will need to set the ``.dims`` attribute of each variable, ``e.g. var.dims=('x0', 'x1')``.\n",
      "  warnings.warn(\n"
     ]
    },
    {
     "name": "stdout",
     "output_type": "stream",
     "text": [
      "Dimension of data from single orbit around 2022070116/20220702_0645.nc is (1423360, 5)\n"
     ]
    },
    {
     "name": "stderr",
     "output_type": "stream",
     "text": [
      "C:\\Users\\Public\\Documents\\ESTsoft\\CreatorTemp\\ipykernel_27924\\2905133411.py:50: FutureWarning: 'T' is deprecated and will be removed in a future version, please use 'min' instead.\n",
      "  df2['Time'] = df2['Time'].dt.floor('T')  # T represents minute\n",
      "c:\\Users\\joonw\\anaconda3\\envs\\jl2815\\Lib\\site-packages\\xarray\\namedarray\\core.py:514: UserWarning: Duplicate dimension names present: dimensions {'nlayer2'} appear more than once in dims=('nlayer2', 'nlayer2', 'spatial', 'image'). We do not yet support duplicate dimension names, but we do allow initial construction of the object. We recommend you rename the dims immediately to become distinct, as most xarray functionality is likely to fail silently if you do not. To rename the dimensions you will need to set the ``.dims`` attribute of each variable, ``e.g. var.dims=('x0', 'x1')``.\n",
      "  warnings.warn(\n"
     ]
    },
    {
     "name": "stdout",
     "output_type": "stream",
     "text": [
      "Dimension of data from single orbit around 2022070116/20220702_0745.nc is (1423360, 5)\n"
     ]
    },
    {
     "name": "stderr",
     "output_type": "stream",
     "text": [
      "C:\\Users\\Public\\Documents\\ESTsoft\\CreatorTemp\\ipykernel_27924\\2905133411.py:50: FutureWarning: 'T' is deprecated and will be removed in a future version, please use 'min' instead.\n",
      "  df2['Time'] = df2['Time'].dt.floor('T')  # T represents minute\n",
      "c:\\Users\\joonw\\anaconda3\\envs\\jl2815\\Lib\\site-packages\\xarray\\namedarray\\core.py:514: UserWarning: Duplicate dimension names present: dimensions {'nlayer2'} appear more than once in dims=('nlayer2', 'nlayer2', 'spatial', 'image'). We do not yet support duplicate dimension names, but we do allow initial construction of the object. We recommend you rename the dims immediately to become distinct, as most xarray functionality is likely to fail silently if you do not. To rename the dimensions you will need to set the ``.dims`` attribute of each variable, ``e.g. var.dims=('x0', 'x1')``.\n",
      "  warnings.warn(\n"
     ]
    },
    {
     "name": "stdout",
     "output_type": "stream",
     "text": [
      "Dimension of data from single orbit around 2022070116/20220703_0045.nc is (1423360, 5)\n"
     ]
    },
    {
     "name": "stderr",
     "output_type": "stream",
     "text": [
      "C:\\Users\\Public\\Documents\\ESTsoft\\CreatorTemp\\ipykernel_27924\\2905133411.py:50: FutureWarning: 'T' is deprecated and will be removed in a future version, please use 'min' instead.\n",
      "  df2['Time'] = df2['Time'].dt.floor('T')  # T represents minute\n",
      "c:\\Users\\joonw\\anaconda3\\envs\\jl2815\\Lib\\site-packages\\xarray\\namedarray\\core.py:514: UserWarning: Duplicate dimension names present: dimensions {'nlayer2'} appear more than once in dims=('nlayer2', 'nlayer2', 'spatial', 'image'). We do not yet support duplicate dimension names, but we do allow initial construction of the object. We recommend you rename the dims immediately to become distinct, as most xarray functionality is likely to fail silently if you do not. To rename the dimensions you will need to set the ``.dims`` attribute of each variable, ``e.g. var.dims=('x0', 'x1')``.\n",
      "  warnings.warn(\n"
     ]
    },
    {
     "name": "stdout",
     "output_type": "stream",
     "text": [
      "Dimension of data from single orbit around 2022070116/20220703_0145.nc is (1423360, 5)\n"
     ]
    },
    {
     "name": "stderr",
     "output_type": "stream",
     "text": [
      "C:\\Users\\Public\\Documents\\ESTsoft\\CreatorTemp\\ipykernel_27924\\2905133411.py:50: FutureWarning: 'T' is deprecated and will be removed in a future version, please use 'min' instead.\n",
      "  df2['Time'] = df2['Time'].dt.floor('T')  # T represents minute\n",
      "c:\\Users\\joonw\\anaconda3\\envs\\jl2815\\Lib\\site-packages\\xarray\\namedarray\\core.py:514: UserWarning: Duplicate dimension names present: dimensions {'nlayer2'} appear more than once in dims=('nlayer2', 'nlayer2', 'spatial', 'image'). We do not yet support duplicate dimension names, but we do allow initial construction of the object. We recommend you rename the dims immediately to become distinct, as most xarray functionality is likely to fail silently if you do not. To rename the dimensions you will need to set the ``.dims`` attribute of each variable, ``e.g. var.dims=('x0', 'x1')``.\n",
      "  warnings.warn(\n"
     ]
    },
    {
     "name": "stdout",
     "output_type": "stream",
     "text": [
      "Dimension of data from single orbit around 2022070116/20220703_0245.nc is (1423360, 5)\n"
     ]
    },
    {
     "name": "stderr",
     "output_type": "stream",
     "text": [
      "C:\\Users\\Public\\Documents\\ESTsoft\\CreatorTemp\\ipykernel_27924\\2905133411.py:50: FutureWarning: 'T' is deprecated and will be removed in a future version, please use 'min' instead.\n",
      "  df2['Time'] = df2['Time'].dt.floor('T')  # T represents minute\n",
      "c:\\Users\\joonw\\anaconda3\\envs\\jl2815\\Lib\\site-packages\\xarray\\namedarray\\core.py:514: UserWarning: Duplicate dimension names present: dimensions {'nlayer2'} appear more than once in dims=('nlayer2', 'nlayer2', 'spatial', 'image'). We do not yet support duplicate dimension names, but we do allow initial construction of the object. We recommend you rename the dims immediately to become distinct, as most xarray functionality is likely to fail silently if you do not. To rename the dimensions you will need to set the ``.dims`` attribute of each variable, ``e.g. var.dims=('x0', 'x1')``.\n",
      "  warnings.warn(\n"
     ]
    },
    {
     "name": "stdout",
     "output_type": "stream",
     "text": [
      "Dimension of data from single orbit around 2022070116/20220703_0345.nc is (1423360, 5)\n"
     ]
    },
    {
     "name": "stderr",
     "output_type": "stream",
     "text": [
      "C:\\Users\\Public\\Documents\\ESTsoft\\CreatorTemp\\ipykernel_27924\\2905133411.py:50: FutureWarning: 'T' is deprecated and will be removed in a future version, please use 'min' instead.\n",
      "  df2['Time'] = df2['Time'].dt.floor('T')  # T represents minute\n",
      "c:\\Users\\joonw\\anaconda3\\envs\\jl2815\\Lib\\site-packages\\xarray\\namedarray\\core.py:514: UserWarning: Duplicate dimension names present: dimensions {'nlayer2'} appear more than once in dims=('nlayer2', 'nlayer2', 'spatial', 'image'). We do not yet support duplicate dimension names, but we do allow initial construction of the object. We recommend you rename the dims immediately to become distinct, as most xarray functionality is likely to fail silently if you do not. To rename the dimensions you will need to set the ``.dims`` attribute of each variable, ``e.g. var.dims=('x0', 'x1')``.\n",
      "  warnings.warn(\n"
     ]
    },
    {
     "name": "stdout",
     "output_type": "stream",
     "text": [
      "Dimension of data from single orbit around 2022070116/20220703_0445.nc is (1423360, 5)\n"
     ]
    },
    {
     "name": "stderr",
     "output_type": "stream",
     "text": [
      "C:\\Users\\Public\\Documents\\ESTsoft\\CreatorTemp\\ipykernel_27924\\2905133411.py:50: FutureWarning: 'T' is deprecated and will be removed in a future version, please use 'min' instead.\n",
      "  df2['Time'] = df2['Time'].dt.floor('T')  # T represents minute\n",
      "c:\\Users\\joonw\\anaconda3\\envs\\jl2815\\Lib\\site-packages\\xarray\\namedarray\\core.py:514: UserWarning: Duplicate dimension names present: dimensions {'nlayer2'} appear more than once in dims=('nlayer2', 'nlayer2', 'spatial', 'image'). We do not yet support duplicate dimension names, but we do allow initial construction of the object. We recommend you rename the dims immediately to become distinct, as most xarray functionality is likely to fail silently if you do not. To rename the dimensions you will need to set the ``.dims`` attribute of each variable, ``e.g. var.dims=('x0', 'x1')``.\n",
      "  warnings.warn(\n"
     ]
    },
    {
     "name": "stdout",
     "output_type": "stream",
     "text": [
      "Dimension of data from single orbit around 2022070116/20220703_0545.nc is (1423360, 5)\n"
     ]
    },
    {
     "name": "stderr",
     "output_type": "stream",
     "text": [
      "C:\\Users\\Public\\Documents\\ESTsoft\\CreatorTemp\\ipykernel_27924\\2905133411.py:50: FutureWarning: 'T' is deprecated and will be removed in a future version, please use 'min' instead.\n",
      "  df2['Time'] = df2['Time'].dt.floor('T')  # T represents minute\n",
      "c:\\Users\\joonw\\anaconda3\\envs\\jl2815\\Lib\\site-packages\\xarray\\namedarray\\core.py:514: UserWarning: Duplicate dimension names present: dimensions {'nlayer2'} appear more than once in dims=('nlayer2', 'nlayer2', 'spatial', 'image'). We do not yet support duplicate dimension names, but we do allow initial construction of the object. We recommend you rename the dims immediately to become distinct, as most xarray functionality is likely to fail silently if you do not. To rename the dimensions you will need to set the ``.dims`` attribute of each variable, ``e.g. var.dims=('x0', 'x1')``.\n",
      "  warnings.warn(\n"
     ]
    },
    {
     "name": "stdout",
     "output_type": "stream",
     "text": [
      "Dimension of data from single orbit around 2022070116/20220703_0645.nc is (1423360, 5)\n"
     ]
    },
    {
     "name": "stderr",
     "output_type": "stream",
     "text": [
      "C:\\Users\\Public\\Documents\\ESTsoft\\CreatorTemp\\ipykernel_27924\\2905133411.py:50: FutureWarning: 'T' is deprecated and will be removed in a future version, please use 'min' instead.\n",
      "  df2['Time'] = df2['Time'].dt.floor('T')  # T represents minute\n",
      "c:\\Users\\joonw\\anaconda3\\envs\\jl2815\\Lib\\site-packages\\xarray\\namedarray\\core.py:514: UserWarning: Duplicate dimension names present: dimensions {'nlayer2'} appear more than once in dims=('nlayer2', 'nlayer2', 'spatial', 'image'). We do not yet support duplicate dimension names, but we do allow initial construction of the object. We recommend you rename the dims immediately to become distinct, as most xarray functionality is likely to fail silently if you do not. To rename the dimensions you will need to set the ``.dims`` attribute of each variable, ``e.g. var.dims=('x0', 'x1')``.\n",
      "  warnings.warn(\n"
     ]
    },
    {
     "name": "stdout",
     "output_type": "stream",
     "text": [
      "Dimension of data from single orbit around 2022070116/20220703_0745.nc is (1423360, 5)\n"
     ]
    },
    {
     "name": "stderr",
     "output_type": "stream",
     "text": [
      "C:\\Users\\Public\\Documents\\ESTsoft\\CreatorTemp\\ipykernel_27924\\2905133411.py:50: FutureWarning: 'T' is deprecated and will be removed in a future version, please use 'min' instead.\n",
      "  df2['Time'] = df2['Time'].dt.floor('T')  # T represents minute\n",
      "c:\\Users\\joonw\\anaconda3\\envs\\jl2815\\Lib\\site-packages\\xarray\\namedarray\\core.py:514: UserWarning: Duplicate dimension names present: dimensions {'nlayer2'} appear more than once in dims=('nlayer2', 'nlayer2', 'spatial', 'image'). We do not yet support duplicate dimension names, but we do allow initial construction of the object. We recommend you rename the dims immediately to become distinct, as most xarray functionality is likely to fail silently if you do not. To rename the dimensions you will need to set the ``.dims`` attribute of each variable, ``e.g. var.dims=('x0', 'x1')``.\n",
      "  warnings.warn(\n"
     ]
    },
    {
     "name": "stdout",
     "output_type": "stream",
     "text": [
      "Dimension of data from single orbit around 2022070116/20220704_0045.nc is (1423360, 5)\n"
     ]
    },
    {
     "name": "stderr",
     "output_type": "stream",
     "text": [
      "C:\\Users\\Public\\Documents\\ESTsoft\\CreatorTemp\\ipykernel_27924\\2905133411.py:50: FutureWarning: 'T' is deprecated and will be removed in a future version, please use 'min' instead.\n",
      "  df2['Time'] = df2['Time'].dt.floor('T')  # T represents minute\n",
      "c:\\Users\\joonw\\anaconda3\\envs\\jl2815\\Lib\\site-packages\\xarray\\namedarray\\core.py:514: UserWarning: Duplicate dimension names present: dimensions {'nlayer2'} appear more than once in dims=('nlayer2', 'nlayer2', 'spatial', 'image'). We do not yet support duplicate dimension names, but we do allow initial construction of the object. We recommend you rename the dims immediately to become distinct, as most xarray functionality is likely to fail silently if you do not. To rename the dimensions you will need to set the ``.dims`` attribute of each variable, ``e.g. var.dims=('x0', 'x1')``.\n",
      "  warnings.warn(\n"
     ]
    },
    {
     "name": "stdout",
     "output_type": "stream",
     "text": [
      "Dimension of data from single orbit around 2022070116/20220704_0145.nc is (1423360, 5)\n"
     ]
    },
    {
     "name": "stderr",
     "output_type": "stream",
     "text": [
      "C:\\Users\\Public\\Documents\\ESTsoft\\CreatorTemp\\ipykernel_27924\\2905133411.py:50: FutureWarning: 'T' is deprecated and will be removed in a future version, please use 'min' instead.\n",
      "  df2['Time'] = df2['Time'].dt.floor('T')  # T represents minute\n",
      "c:\\Users\\joonw\\anaconda3\\envs\\jl2815\\Lib\\site-packages\\xarray\\namedarray\\core.py:514: UserWarning: Duplicate dimension names present: dimensions {'nlayer2'} appear more than once in dims=('nlayer2', 'nlayer2', 'spatial', 'image'). We do not yet support duplicate dimension names, but we do allow initial construction of the object. We recommend you rename the dims immediately to become distinct, as most xarray functionality is likely to fail silently if you do not. To rename the dimensions you will need to set the ``.dims`` attribute of each variable, ``e.g. var.dims=('x0', 'x1')``.\n",
      "  warnings.warn(\n"
     ]
    },
    {
     "name": "stdout",
     "output_type": "stream",
     "text": [
      "Dimension of data from single orbit around 2022070116/20220704_0245.nc is (1423360, 5)\n"
     ]
    },
    {
     "name": "stderr",
     "output_type": "stream",
     "text": [
      "C:\\Users\\Public\\Documents\\ESTsoft\\CreatorTemp\\ipykernel_27924\\2905133411.py:50: FutureWarning: 'T' is deprecated and will be removed in a future version, please use 'min' instead.\n",
      "  df2['Time'] = df2['Time'].dt.floor('T')  # T represents minute\n",
      "c:\\Users\\joonw\\anaconda3\\envs\\jl2815\\Lib\\site-packages\\xarray\\namedarray\\core.py:514: UserWarning: Duplicate dimension names present: dimensions {'nlayer2'} appear more than once in dims=('nlayer2', 'nlayer2', 'spatial', 'image'). We do not yet support duplicate dimension names, but we do allow initial construction of the object. We recommend you rename the dims immediately to become distinct, as most xarray functionality is likely to fail silently if you do not. To rename the dimensions you will need to set the ``.dims`` attribute of each variable, ``e.g. var.dims=('x0', 'x1')``.\n",
      "  warnings.warn(\n"
     ]
    },
    {
     "name": "stdout",
     "output_type": "stream",
     "text": [
      "Dimension of data from single orbit around 2022070116/20220704_0345.nc is (1423360, 5)\n"
     ]
    },
    {
     "name": "stderr",
     "output_type": "stream",
     "text": [
      "C:\\Users\\Public\\Documents\\ESTsoft\\CreatorTemp\\ipykernel_27924\\2905133411.py:50: FutureWarning: 'T' is deprecated and will be removed in a future version, please use 'min' instead.\n",
      "  df2['Time'] = df2['Time'].dt.floor('T')  # T represents minute\n",
      "c:\\Users\\joonw\\anaconda3\\envs\\jl2815\\Lib\\site-packages\\xarray\\namedarray\\core.py:514: UserWarning: Duplicate dimension names present: dimensions {'nlayer2'} appear more than once in dims=('nlayer2', 'nlayer2', 'spatial', 'image'). We do not yet support duplicate dimension names, but we do allow initial construction of the object. We recommend you rename the dims immediately to become distinct, as most xarray functionality is likely to fail silently if you do not. To rename the dimensions you will need to set the ``.dims`` attribute of each variable, ``e.g. var.dims=('x0', 'x1')``.\n",
      "  warnings.warn(\n"
     ]
    },
    {
     "name": "stdout",
     "output_type": "stream",
     "text": [
      "Dimension of data from single orbit around 2022070116/20220704_0445.nc is (1423360, 5)\n"
     ]
    },
    {
     "name": "stderr",
     "output_type": "stream",
     "text": [
      "C:\\Users\\Public\\Documents\\ESTsoft\\CreatorTemp\\ipykernel_27924\\2905133411.py:50: FutureWarning: 'T' is deprecated and will be removed in a future version, please use 'min' instead.\n",
      "  df2['Time'] = df2['Time'].dt.floor('T')  # T represents minute\n",
      "c:\\Users\\joonw\\anaconda3\\envs\\jl2815\\Lib\\site-packages\\xarray\\namedarray\\core.py:514: UserWarning: Duplicate dimension names present: dimensions {'nlayer2'} appear more than once in dims=('nlayer2', 'nlayer2', 'spatial', 'image'). We do not yet support duplicate dimension names, but we do allow initial construction of the object. We recommend you rename the dims immediately to become distinct, as most xarray functionality is likely to fail silently if you do not. To rename the dimensions you will need to set the ``.dims`` attribute of each variable, ``e.g. var.dims=('x0', 'x1')``.\n",
      "  warnings.warn(\n"
     ]
    },
    {
     "name": "stdout",
     "output_type": "stream",
     "text": [
      "Dimension of data from single orbit around 2022070116/20220704_0545.nc is (1423360, 5)\n"
     ]
    },
    {
     "name": "stderr",
     "output_type": "stream",
     "text": [
      "C:\\Users\\Public\\Documents\\ESTsoft\\CreatorTemp\\ipykernel_27924\\2905133411.py:50: FutureWarning: 'T' is deprecated and will be removed in a future version, please use 'min' instead.\n",
      "  df2['Time'] = df2['Time'].dt.floor('T')  # T represents minute\n",
      "c:\\Users\\joonw\\anaconda3\\envs\\jl2815\\Lib\\site-packages\\xarray\\namedarray\\core.py:514: UserWarning: Duplicate dimension names present: dimensions {'nlayer2'} appear more than once in dims=('nlayer2', 'nlayer2', 'spatial', 'image'). We do not yet support duplicate dimension names, but we do allow initial construction of the object. We recommend you rename the dims immediately to become distinct, as most xarray functionality is likely to fail silently if you do not. To rename the dimensions you will need to set the ``.dims`` attribute of each variable, ``e.g. var.dims=('x0', 'x1')``.\n",
      "  warnings.warn(\n"
     ]
    },
    {
     "name": "stdout",
     "output_type": "stream",
     "text": [
      "Dimension of data from single orbit around 2022070116/20220704_0645.nc is (1423360, 5)\n"
     ]
    },
    {
     "name": "stderr",
     "output_type": "stream",
     "text": [
      "C:\\Users\\Public\\Documents\\ESTsoft\\CreatorTemp\\ipykernel_27924\\2905133411.py:50: FutureWarning: 'T' is deprecated and will be removed in a future version, please use 'min' instead.\n",
      "  df2['Time'] = df2['Time'].dt.floor('T')  # T represents minute\n",
      "c:\\Users\\joonw\\anaconda3\\envs\\jl2815\\Lib\\site-packages\\xarray\\namedarray\\core.py:514: UserWarning: Duplicate dimension names present: dimensions {'nlayer2'} appear more than once in dims=('nlayer2', 'nlayer2', 'spatial', 'image'). We do not yet support duplicate dimension names, but we do allow initial construction of the object. We recommend you rename the dims immediately to become distinct, as most xarray functionality is likely to fail silently if you do not. To rename the dimensions you will need to set the ``.dims`` attribute of each variable, ``e.g. var.dims=('x0', 'x1')``.\n",
      "  warnings.warn(\n"
     ]
    },
    {
     "name": "stdout",
     "output_type": "stream",
     "text": [
      "Dimension of data from single orbit around 2022070116/20220704_0745.nc is (1423360, 5)\n"
     ]
    },
    {
     "name": "stderr",
     "output_type": "stream",
     "text": [
      "C:\\Users\\Public\\Documents\\ESTsoft\\CreatorTemp\\ipykernel_27924\\2905133411.py:50: FutureWarning: 'T' is deprecated and will be removed in a future version, please use 'min' instead.\n",
      "  df2['Time'] = df2['Time'].dt.floor('T')  # T represents minute\n",
      "c:\\Users\\joonw\\anaconda3\\envs\\jl2815\\Lib\\site-packages\\xarray\\namedarray\\core.py:514: UserWarning: Duplicate dimension names present: dimensions {'nlayer2'} appear more than once in dims=('nlayer2', 'nlayer2', 'spatial', 'image'). We do not yet support duplicate dimension names, but we do allow initial construction of the object. We recommend you rename the dims immediately to become distinct, as most xarray functionality is likely to fail silently if you do not. To rename the dimensions you will need to set the ``.dims`` attribute of each variable, ``e.g. var.dims=('x0', 'x1')``.\n",
      "  warnings.warn(\n"
     ]
    },
    {
     "name": "stdout",
     "output_type": "stream",
     "text": [
      "Dimension of data from single orbit around 2022070116/20220705_0045.nc is (1423360, 5)\n"
     ]
    },
    {
     "name": "stderr",
     "output_type": "stream",
     "text": [
      "C:\\Users\\Public\\Documents\\ESTsoft\\CreatorTemp\\ipykernel_27924\\2905133411.py:50: FutureWarning: 'T' is deprecated and will be removed in a future version, please use 'min' instead.\n",
      "  df2['Time'] = df2['Time'].dt.floor('T')  # T represents minute\n",
      "c:\\Users\\joonw\\anaconda3\\envs\\jl2815\\Lib\\site-packages\\xarray\\namedarray\\core.py:514: UserWarning: Duplicate dimension names present: dimensions {'nlayer2'} appear more than once in dims=('nlayer2', 'nlayer2', 'spatial', 'image'). We do not yet support duplicate dimension names, but we do allow initial construction of the object. We recommend you rename the dims immediately to become distinct, as most xarray functionality is likely to fail silently if you do not. To rename the dimensions you will need to set the ``.dims`` attribute of each variable, ``e.g. var.dims=('x0', 'x1')``.\n",
      "  warnings.warn(\n"
     ]
    },
    {
     "name": "stdout",
     "output_type": "stream",
     "text": [
      "Dimension of data from single orbit around 2022070116/20220705_0145.nc is (1423360, 5)\n"
     ]
    },
    {
     "name": "stderr",
     "output_type": "stream",
     "text": [
      "C:\\Users\\Public\\Documents\\ESTsoft\\CreatorTemp\\ipykernel_27924\\2905133411.py:50: FutureWarning: 'T' is deprecated and will be removed in a future version, please use 'min' instead.\n",
      "  df2['Time'] = df2['Time'].dt.floor('T')  # T represents minute\n",
      "c:\\Users\\joonw\\anaconda3\\envs\\jl2815\\Lib\\site-packages\\xarray\\namedarray\\core.py:514: UserWarning: Duplicate dimension names present: dimensions {'nlayer2'} appear more than once in dims=('nlayer2', 'nlayer2', 'spatial', 'image'). We do not yet support duplicate dimension names, but we do allow initial construction of the object. We recommend you rename the dims immediately to become distinct, as most xarray functionality is likely to fail silently if you do not. To rename the dimensions you will need to set the ``.dims`` attribute of each variable, ``e.g. var.dims=('x0', 'x1')``.\n",
      "  warnings.warn(\n"
     ]
    },
    {
     "name": "stdout",
     "output_type": "stream",
     "text": [
      "Dimension of data from single orbit around 2022070116/20220705_0245.nc is (1423360, 5)\n"
     ]
    },
    {
     "name": "stderr",
     "output_type": "stream",
     "text": [
      "C:\\Users\\Public\\Documents\\ESTsoft\\CreatorTemp\\ipykernel_27924\\2905133411.py:50: FutureWarning: 'T' is deprecated and will be removed in a future version, please use 'min' instead.\n",
      "  df2['Time'] = df2['Time'].dt.floor('T')  # T represents minute\n",
      "c:\\Users\\joonw\\anaconda3\\envs\\jl2815\\Lib\\site-packages\\xarray\\namedarray\\core.py:514: UserWarning: Duplicate dimension names present: dimensions {'nlayer2'} appear more than once in dims=('nlayer2', 'nlayer2', 'spatial', 'image'). We do not yet support duplicate dimension names, but we do allow initial construction of the object. We recommend you rename the dims immediately to become distinct, as most xarray functionality is likely to fail silently if you do not. To rename the dimensions you will need to set the ``.dims`` attribute of each variable, ``e.g. var.dims=('x0', 'x1')``.\n",
      "  warnings.warn(\n"
     ]
    },
    {
     "name": "stdout",
     "output_type": "stream",
     "text": [
      "Dimension of data from single orbit around 2022070116/20220705_0345.nc is (1423360, 5)\n"
     ]
    },
    {
     "name": "stderr",
     "output_type": "stream",
     "text": [
      "C:\\Users\\Public\\Documents\\ESTsoft\\CreatorTemp\\ipykernel_27924\\2905133411.py:50: FutureWarning: 'T' is deprecated and will be removed in a future version, please use 'min' instead.\n",
      "  df2['Time'] = df2['Time'].dt.floor('T')  # T represents minute\n",
      "c:\\Users\\joonw\\anaconda3\\envs\\jl2815\\Lib\\site-packages\\xarray\\namedarray\\core.py:514: UserWarning: Duplicate dimension names present: dimensions {'nlayer2'} appear more than once in dims=('nlayer2', 'nlayer2', 'spatial', 'image'). We do not yet support duplicate dimension names, but we do allow initial construction of the object. We recommend you rename the dims immediately to become distinct, as most xarray functionality is likely to fail silently if you do not. To rename the dimensions you will need to set the ``.dims`` attribute of each variable, ``e.g. var.dims=('x0', 'x1')``.\n",
      "  warnings.warn(\n"
     ]
    },
    {
     "name": "stdout",
     "output_type": "stream",
     "text": [
      "Dimension of data from single orbit around 2022070116/20220705_0445.nc is (1423360, 5)\n"
     ]
    },
    {
     "name": "stderr",
     "output_type": "stream",
     "text": [
      "C:\\Users\\Public\\Documents\\ESTsoft\\CreatorTemp\\ipykernel_27924\\2905133411.py:50: FutureWarning: 'T' is deprecated and will be removed in a future version, please use 'min' instead.\n",
      "  df2['Time'] = df2['Time'].dt.floor('T')  # T represents minute\n",
      "c:\\Users\\joonw\\anaconda3\\envs\\jl2815\\Lib\\site-packages\\xarray\\namedarray\\core.py:514: UserWarning: Duplicate dimension names present: dimensions {'nlayer2'} appear more than once in dims=('nlayer2', 'nlayer2', 'spatial', 'image'). We do not yet support duplicate dimension names, but we do allow initial construction of the object. We recommend you rename the dims immediately to become distinct, as most xarray functionality is likely to fail silently if you do not. To rename the dimensions you will need to set the ``.dims`` attribute of each variable, ``e.g. var.dims=('x0', 'x1')``.\n",
      "  warnings.warn(\n"
     ]
    },
    {
     "name": "stdout",
     "output_type": "stream",
     "text": [
      "Dimension of data from single orbit around 2022070116/20220705_0545.nc is (1423360, 5)\n"
     ]
    },
    {
     "name": "stderr",
     "output_type": "stream",
     "text": [
      "C:\\Users\\Public\\Documents\\ESTsoft\\CreatorTemp\\ipykernel_27924\\2905133411.py:50: FutureWarning: 'T' is deprecated and will be removed in a future version, please use 'min' instead.\n",
      "  df2['Time'] = df2['Time'].dt.floor('T')  # T represents minute\n",
      "c:\\Users\\joonw\\anaconda3\\envs\\jl2815\\Lib\\site-packages\\xarray\\namedarray\\core.py:514: UserWarning: Duplicate dimension names present: dimensions {'nlayer2'} appear more than once in dims=('nlayer2', 'nlayer2', 'spatial', 'image'). We do not yet support duplicate dimension names, but we do allow initial construction of the object. We recommend you rename the dims immediately to become distinct, as most xarray functionality is likely to fail silently if you do not. To rename the dimensions you will need to set the ``.dims`` attribute of each variable, ``e.g. var.dims=('x0', 'x1')``.\n",
      "  warnings.warn(\n"
     ]
    },
    {
     "name": "stdout",
     "output_type": "stream",
     "text": [
      "Dimension of data from single orbit around 2022070116/20220705_0645.nc is (1423360, 5)\n"
     ]
    },
    {
     "name": "stderr",
     "output_type": "stream",
     "text": [
      "C:\\Users\\Public\\Documents\\ESTsoft\\CreatorTemp\\ipykernel_27924\\2905133411.py:50: FutureWarning: 'T' is deprecated and will be removed in a future version, please use 'min' instead.\n",
      "  df2['Time'] = df2['Time'].dt.floor('T')  # T represents minute\n",
      "c:\\Users\\joonw\\anaconda3\\envs\\jl2815\\Lib\\site-packages\\xarray\\namedarray\\core.py:514: UserWarning: Duplicate dimension names present: dimensions {'nlayer2'} appear more than once in dims=('nlayer2', 'nlayer2', 'spatial', 'image'). We do not yet support duplicate dimension names, but we do allow initial construction of the object. We recommend you rename the dims immediately to become distinct, as most xarray functionality is likely to fail silently if you do not. To rename the dimensions you will need to set the ``.dims`` attribute of each variable, ``e.g. var.dims=('x0', 'x1')``.\n",
      "  warnings.warn(\n"
     ]
    },
    {
     "name": "stdout",
     "output_type": "stream",
     "text": [
      "Dimension of data from single orbit around 2022070116/20220705_0745.nc is (1423360, 5)\n"
     ]
    },
    {
     "name": "stderr",
     "output_type": "stream",
     "text": [
      "C:\\Users\\Public\\Documents\\ESTsoft\\CreatorTemp\\ipykernel_27924\\2905133411.py:50: FutureWarning: 'T' is deprecated and will be removed in a future version, please use 'min' instead.\n",
      "  df2['Time'] = df2['Time'].dt.floor('T')  # T represents minute\n",
      "c:\\Users\\joonw\\anaconda3\\envs\\jl2815\\Lib\\site-packages\\xarray\\namedarray\\core.py:514: UserWarning: Duplicate dimension names present: dimensions {'nlayer2'} appear more than once in dims=('nlayer2', 'nlayer2', 'spatial', 'image'). We do not yet support duplicate dimension names, but we do allow initial construction of the object. We recommend you rename the dims immediately to become distinct, as most xarray functionality is likely to fail silently if you do not. To rename the dimensions you will need to set the ``.dims`` attribute of each variable, ``e.g. var.dims=('x0', 'x1')``.\n",
      "  warnings.warn(\n"
     ]
    },
    {
     "name": "stdout",
     "output_type": "stream",
     "text": [
      "Dimension of data from single orbit around 2022070116/20220706_0045.nc is (1423360, 5)\n"
     ]
    },
    {
     "name": "stderr",
     "output_type": "stream",
     "text": [
      "C:\\Users\\Public\\Documents\\ESTsoft\\CreatorTemp\\ipykernel_27924\\2905133411.py:50: FutureWarning: 'T' is deprecated and will be removed in a future version, please use 'min' instead.\n",
      "  df2['Time'] = df2['Time'].dt.floor('T')  # T represents minute\n",
      "c:\\Users\\joonw\\anaconda3\\envs\\jl2815\\Lib\\site-packages\\xarray\\namedarray\\core.py:514: UserWarning: Duplicate dimension names present: dimensions {'nlayer2'} appear more than once in dims=('nlayer2', 'nlayer2', 'spatial', 'image'). We do not yet support duplicate dimension names, but we do allow initial construction of the object. We recommend you rename the dims immediately to become distinct, as most xarray functionality is likely to fail silently if you do not. To rename the dimensions you will need to set the ``.dims`` attribute of each variable, ``e.g. var.dims=('x0', 'x1')``.\n",
      "  warnings.warn(\n"
     ]
    },
    {
     "name": "stdout",
     "output_type": "stream",
     "text": [
      "Dimension of data from single orbit around 2022070116/20220706_0145.nc is (1423360, 5)\n"
     ]
    },
    {
     "name": "stderr",
     "output_type": "stream",
     "text": [
      "C:\\Users\\Public\\Documents\\ESTsoft\\CreatorTemp\\ipykernel_27924\\2905133411.py:50: FutureWarning: 'T' is deprecated and will be removed in a future version, please use 'min' instead.\n",
      "  df2['Time'] = df2['Time'].dt.floor('T')  # T represents minute\n",
      "c:\\Users\\joonw\\anaconda3\\envs\\jl2815\\Lib\\site-packages\\xarray\\namedarray\\core.py:514: UserWarning: Duplicate dimension names present: dimensions {'nlayer2'} appear more than once in dims=('nlayer2', 'nlayer2', 'spatial', 'image'). We do not yet support duplicate dimension names, but we do allow initial construction of the object. We recommend you rename the dims immediately to become distinct, as most xarray functionality is likely to fail silently if you do not. To rename the dimensions you will need to set the ``.dims`` attribute of each variable, ``e.g. var.dims=('x0', 'x1')``.\n",
      "  warnings.warn(\n"
     ]
    },
    {
     "name": "stdout",
     "output_type": "stream",
     "text": [
      "Dimension of data from single orbit around 2022070116/20220706_0245.nc is (1423360, 5)\n"
     ]
    },
    {
     "name": "stderr",
     "output_type": "stream",
     "text": [
      "C:\\Users\\Public\\Documents\\ESTsoft\\CreatorTemp\\ipykernel_27924\\2905133411.py:50: FutureWarning: 'T' is deprecated and will be removed in a future version, please use 'min' instead.\n",
      "  df2['Time'] = df2['Time'].dt.floor('T')  # T represents minute\n",
      "c:\\Users\\joonw\\anaconda3\\envs\\jl2815\\Lib\\site-packages\\xarray\\namedarray\\core.py:514: UserWarning: Duplicate dimension names present: dimensions {'nlayer2'} appear more than once in dims=('nlayer2', 'nlayer2', 'spatial', 'image'). We do not yet support duplicate dimension names, but we do allow initial construction of the object. We recommend you rename the dims immediately to become distinct, as most xarray functionality is likely to fail silently if you do not. To rename the dimensions you will need to set the ``.dims`` attribute of each variable, ``e.g. var.dims=('x0', 'x1')``.\n",
      "  warnings.warn(\n"
     ]
    },
    {
     "name": "stdout",
     "output_type": "stream",
     "text": [
      "Dimension of data from single orbit around 2022070116/20220706_0345.nc is (1423360, 5)\n"
     ]
    },
    {
     "name": "stderr",
     "output_type": "stream",
     "text": [
      "C:\\Users\\Public\\Documents\\ESTsoft\\CreatorTemp\\ipykernel_27924\\2905133411.py:50: FutureWarning: 'T' is deprecated and will be removed in a future version, please use 'min' instead.\n",
      "  df2['Time'] = df2['Time'].dt.floor('T')  # T represents minute\n",
      "c:\\Users\\joonw\\anaconda3\\envs\\jl2815\\Lib\\site-packages\\xarray\\namedarray\\core.py:514: UserWarning: Duplicate dimension names present: dimensions {'nlayer2'} appear more than once in dims=('nlayer2', 'nlayer2', 'spatial', 'image'). We do not yet support duplicate dimension names, but we do allow initial construction of the object. We recommend you rename the dims immediately to become distinct, as most xarray functionality is likely to fail silently if you do not. To rename the dimensions you will need to set the ``.dims`` attribute of each variable, ``e.g. var.dims=('x0', 'x1')``.\n",
      "  warnings.warn(\n"
     ]
    },
    {
     "name": "stdout",
     "output_type": "stream",
     "text": [
      "Dimension of data from single orbit around 2022070116/20220706_0445.nc is (1423360, 5)\n"
     ]
    },
    {
     "name": "stderr",
     "output_type": "stream",
     "text": [
      "C:\\Users\\Public\\Documents\\ESTsoft\\CreatorTemp\\ipykernel_27924\\2905133411.py:50: FutureWarning: 'T' is deprecated and will be removed in a future version, please use 'min' instead.\n",
      "  df2['Time'] = df2['Time'].dt.floor('T')  # T represents minute\n",
      "c:\\Users\\joonw\\anaconda3\\envs\\jl2815\\Lib\\site-packages\\xarray\\namedarray\\core.py:514: UserWarning: Duplicate dimension names present: dimensions {'nlayer2'} appear more than once in dims=('nlayer2', 'nlayer2', 'spatial', 'image'). We do not yet support duplicate dimension names, but we do allow initial construction of the object. We recommend you rename the dims immediately to become distinct, as most xarray functionality is likely to fail silently if you do not. To rename the dimensions you will need to set the ``.dims`` attribute of each variable, ``e.g. var.dims=('x0', 'x1')``.\n",
      "  warnings.warn(\n"
     ]
    },
    {
     "name": "stdout",
     "output_type": "stream",
     "text": [
      "Dimension of data from single orbit around 2022070116/20220706_0545.nc is (1423360, 5)\n"
     ]
    },
    {
     "name": "stderr",
     "output_type": "stream",
     "text": [
      "C:\\Users\\Public\\Documents\\ESTsoft\\CreatorTemp\\ipykernel_27924\\2905133411.py:50: FutureWarning: 'T' is deprecated and will be removed in a future version, please use 'min' instead.\n",
      "  df2['Time'] = df2['Time'].dt.floor('T')  # T represents minute\n",
      "c:\\Users\\joonw\\anaconda3\\envs\\jl2815\\Lib\\site-packages\\xarray\\namedarray\\core.py:514: UserWarning: Duplicate dimension names present: dimensions {'nlayer2'} appear more than once in dims=('nlayer2', 'nlayer2', 'spatial', 'image'). We do not yet support duplicate dimension names, but we do allow initial construction of the object. We recommend you rename the dims immediately to become distinct, as most xarray functionality is likely to fail silently if you do not. To rename the dimensions you will need to set the ``.dims`` attribute of each variable, ``e.g. var.dims=('x0', 'x1')``.\n",
      "  warnings.warn(\n"
     ]
    },
    {
     "name": "stdout",
     "output_type": "stream",
     "text": [
      "Dimension of data from single orbit around 2022070116/20220706_0645.nc is (1423360, 5)\n"
     ]
    },
    {
     "name": "stderr",
     "output_type": "stream",
     "text": [
      "C:\\Users\\Public\\Documents\\ESTsoft\\CreatorTemp\\ipykernel_27924\\2905133411.py:50: FutureWarning: 'T' is deprecated and will be removed in a future version, please use 'min' instead.\n",
      "  df2['Time'] = df2['Time'].dt.floor('T')  # T represents minute\n",
      "c:\\Users\\joonw\\anaconda3\\envs\\jl2815\\Lib\\site-packages\\xarray\\namedarray\\core.py:514: UserWarning: Duplicate dimension names present: dimensions {'nlayer2'} appear more than once in dims=('nlayer2', 'nlayer2', 'spatial', 'image'). We do not yet support duplicate dimension names, but we do allow initial construction of the object. We recommend you rename the dims immediately to become distinct, as most xarray functionality is likely to fail silently if you do not. To rename the dimensions you will need to set the ``.dims`` attribute of each variable, ``e.g. var.dims=('x0', 'x1')``.\n",
      "  warnings.warn(\n"
     ]
    },
    {
     "name": "stdout",
     "output_type": "stream",
     "text": [
      "Dimension of data from single orbit around 2022070116/20220706_0745.nc is (1423360, 5)\n"
     ]
    },
    {
     "name": "stderr",
     "output_type": "stream",
     "text": [
      "C:\\Users\\Public\\Documents\\ESTsoft\\CreatorTemp\\ipykernel_27924\\2905133411.py:50: FutureWarning: 'T' is deprecated and will be removed in a future version, please use 'min' instead.\n",
      "  df2['Time'] = df2['Time'].dt.floor('T')  # T represents minute\n",
      "c:\\Users\\joonw\\anaconda3\\envs\\jl2815\\Lib\\site-packages\\xarray\\namedarray\\core.py:514: UserWarning: Duplicate dimension names present: dimensions {'nlayer2'} appear more than once in dims=('nlayer2', 'nlayer2', 'spatial', 'image'). We do not yet support duplicate dimension names, but we do allow initial construction of the object. We recommend you rename the dims immediately to become distinct, as most xarray functionality is likely to fail silently if you do not. To rename the dimensions you will need to set the ``.dims`` attribute of each variable, ``e.g. var.dims=('x0', 'x1')``.\n",
      "  warnings.warn(\n"
     ]
    },
    {
     "name": "stdout",
     "output_type": "stream",
     "text": [
      "Dimension of data from single orbit around 2022070116/20220707_0045.nc is (1423360, 5)\n"
     ]
    },
    {
     "name": "stderr",
     "output_type": "stream",
     "text": [
      "C:\\Users\\Public\\Documents\\ESTsoft\\CreatorTemp\\ipykernel_27924\\2905133411.py:50: FutureWarning: 'T' is deprecated and will be removed in a future version, please use 'min' instead.\n",
      "  df2['Time'] = df2['Time'].dt.floor('T')  # T represents minute\n",
      "c:\\Users\\joonw\\anaconda3\\envs\\jl2815\\Lib\\site-packages\\xarray\\namedarray\\core.py:514: UserWarning: Duplicate dimension names present: dimensions {'nlayer2'} appear more than once in dims=('nlayer2', 'nlayer2', 'spatial', 'image'). We do not yet support duplicate dimension names, but we do allow initial construction of the object. We recommend you rename the dims immediately to become distinct, as most xarray functionality is likely to fail silently if you do not. To rename the dimensions you will need to set the ``.dims`` attribute of each variable, ``e.g. var.dims=('x0', 'x1')``.\n",
      "  warnings.warn(\n"
     ]
    },
    {
     "name": "stdout",
     "output_type": "stream",
     "text": [
      "Dimension of data from single orbit around 2022070116/20220707_0145.nc is (1423360, 5)\n"
     ]
    },
    {
     "name": "stderr",
     "output_type": "stream",
     "text": [
      "C:\\Users\\Public\\Documents\\ESTsoft\\CreatorTemp\\ipykernel_27924\\2905133411.py:50: FutureWarning: 'T' is deprecated and will be removed in a future version, please use 'min' instead.\n",
      "  df2['Time'] = df2['Time'].dt.floor('T')  # T represents minute\n",
      "c:\\Users\\joonw\\anaconda3\\envs\\jl2815\\Lib\\site-packages\\xarray\\namedarray\\core.py:514: UserWarning: Duplicate dimension names present: dimensions {'nlayer2'} appear more than once in dims=('nlayer2', 'nlayer2', 'spatial', 'image'). We do not yet support duplicate dimension names, but we do allow initial construction of the object. We recommend you rename the dims immediately to become distinct, as most xarray functionality is likely to fail silently if you do not. To rename the dimensions you will need to set the ``.dims`` attribute of each variable, ``e.g. var.dims=('x0', 'x1')``.\n",
      "  warnings.warn(\n"
     ]
    },
    {
     "name": "stdout",
     "output_type": "stream",
     "text": [
      "Dimension of data from single orbit around 2022070116/20220707_0245.nc is (1423360, 5)\n"
     ]
    },
    {
     "name": "stderr",
     "output_type": "stream",
     "text": [
      "C:\\Users\\Public\\Documents\\ESTsoft\\CreatorTemp\\ipykernel_27924\\2905133411.py:50: FutureWarning: 'T' is deprecated and will be removed in a future version, please use 'min' instead.\n",
      "  df2['Time'] = df2['Time'].dt.floor('T')  # T represents minute\n",
      "c:\\Users\\joonw\\anaconda3\\envs\\jl2815\\Lib\\site-packages\\xarray\\namedarray\\core.py:514: UserWarning: Duplicate dimension names present: dimensions {'nlayer2'} appear more than once in dims=('nlayer2', 'nlayer2', 'spatial', 'image'). We do not yet support duplicate dimension names, but we do allow initial construction of the object. We recommend you rename the dims immediately to become distinct, as most xarray functionality is likely to fail silently if you do not. To rename the dimensions you will need to set the ``.dims`` attribute of each variable, ``e.g. var.dims=('x0', 'x1')``.\n",
      "  warnings.warn(\n"
     ]
    },
    {
     "name": "stdout",
     "output_type": "stream",
     "text": [
      "Dimension of data from single orbit around 2022070116/20220707_0345.nc is (1423360, 5)\n"
     ]
    },
    {
     "name": "stderr",
     "output_type": "stream",
     "text": [
      "C:\\Users\\Public\\Documents\\ESTsoft\\CreatorTemp\\ipykernel_27924\\2905133411.py:50: FutureWarning: 'T' is deprecated and will be removed in a future version, please use 'min' instead.\n",
      "  df2['Time'] = df2['Time'].dt.floor('T')  # T represents minute\n",
      "c:\\Users\\joonw\\anaconda3\\envs\\jl2815\\Lib\\site-packages\\xarray\\namedarray\\core.py:514: UserWarning: Duplicate dimension names present: dimensions {'nlayer2'} appear more than once in dims=('nlayer2', 'nlayer2', 'spatial', 'image'). We do not yet support duplicate dimension names, but we do allow initial construction of the object. We recommend you rename the dims immediately to become distinct, as most xarray functionality is likely to fail silently if you do not. To rename the dimensions you will need to set the ``.dims`` attribute of each variable, ``e.g. var.dims=('x0', 'x1')``.\n",
      "  warnings.warn(\n"
     ]
    },
    {
     "name": "stdout",
     "output_type": "stream",
     "text": [
      "Dimension of data from single orbit around 2022070116/20220707_0445.nc is (1423360, 5)\n"
     ]
    },
    {
     "name": "stderr",
     "output_type": "stream",
     "text": [
      "C:\\Users\\Public\\Documents\\ESTsoft\\CreatorTemp\\ipykernel_27924\\2905133411.py:50: FutureWarning: 'T' is deprecated and will be removed in a future version, please use 'min' instead.\n",
      "  df2['Time'] = df2['Time'].dt.floor('T')  # T represents minute\n",
      "c:\\Users\\joonw\\anaconda3\\envs\\jl2815\\Lib\\site-packages\\xarray\\namedarray\\core.py:514: UserWarning: Duplicate dimension names present: dimensions {'nlayer2'} appear more than once in dims=('nlayer2', 'nlayer2', 'spatial', 'image'). We do not yet support duplicate dimension names, but we do allow initial construction of the object. We recommend you rename the dims immediately to become distinct, as most xarray functionality is likely to fail silently if you do not. To rename the dimensions you will need to set the ``.dims`` attribute of each variable, ``e.g. var.dims=('x0', 'x1')``.\n",
      "  warnings.warn(\n"
     ]
    },
    {
     "name": "stdout",
     "output_type": "stream",
     "text": [
      "Dimension of data from single orbit around 2022070116/20220707_0545.nc is (1423360, 5)\n"
     ]
    },
    {
     "name": "stderr",
     "output_type": "stream",
     "text": [
      "C:\\Users\\Public\\Documents\\ESTsoft\\CreatorTemp\\ipykernel_27924\\2905133411.py:50: FutureWarning: 'T' is deprecated and will be removed in a future version, please use 'min' instead.\n",
      "  df2['Time'] = df2['Time'].dt.floor('T')  # T represents minute\n",
      "c:\\Users\\joonw\\anaconda3\\envs\\jl2815\\Lib\\site-packages\\xarray\\namedarray\\core.py:514: UserWarning: Duplicate dimension names present: dimensions {'nlayer2'} appear more than once in dims=('nlayer2', 'nlayer2', 'spatial', 'image'). We do not yet support duplicate dimension names, but we do allow initial construction of the object. We recommend you rename the dims immediately to become distinct, as most xarray functionality is likely to fail silently if you do not. To rename the dimensions you will need to set the ``.dims`` attribute of each variable, ``e.g. var.dims=('x0', 'x1')``.\n",
      "  warnings.warn(\n"
     ]
    },
    {
     "name": "stdout",
     "output_type": "stream",
     "text": [
      "Dimension of data from single orbit around 2022070116/20220707_0645.nc is (1423360, 5)\n"
     ]
    },
    {
     "name": "stderr",
     "output_type": "stream",
     "text": [
      "C:\\Users\\Public\\Documents\\ESTsoft\\CreatorTemp\\ipykernel_27924\\2905133411.py:50: FutureWarning: 'T' is deprecated and will be removed in a future version, please use 'min' instead.\n",
      "  df2['Time'] = df2['Time'].dt.floor('T')  # T represents minute\n",
      "c:\\Users\\joonw\\anaconda3\\envs\\jl2815\\Lib\\site-packages\\xarray\\namedarray\\core.py:514: UserWarning: Duplicate dimension names present: dimensions {'nlayer2'} appear more than once in dims=('nlayer2', 'nlayer2', 'spatial', 'image'). We do not yet support duplicate dimension names, but we do allow initial construction of the object. We recommend you rename the dims immediately to become distinct, as most xarray functionality is likely to fail silently if you do not. To rename the dimensions you will need to set the ``.dims`` attribute of each variable, ``e.g. var.dims=('x0', 'x1')``.\n",
      "  warnings.warn(\n"
     ]
    },
    {
     "name": "stdout",
     "output_type": "stream",
     "text": [
      "Dimension of data from single orbit around 2022070116/20220707_0745.nc is (1423360, 5)\n"
     ]
    },
    {
     "name": "stderr",
     "output_type": "stream",
     "text": [
      "C:\\Users\\Public\\Documents\\ESTsoft\\CreatorTemp\\ipykernel_27924\\2905133411.py:50: FutureWarning: 'T' is deprecated and will be removed in a future version, please use 'min' instead.\n",
      "  df2['Time'] = df2['Time'].dt.floor('T')  # T represents minute\n",
      "c:\\Users\\joonw\\anaconda3\\envs\\jl2815\\Lib\\site-packages\\xarray\\namedarray\\core.py:514: UserWarning: Duplicate dimension names present: dimensions {'nlayer2'} appear more than once in dims=('nlayer2', 'nlayer2', 'spatial', 'image'). We do not yet support duplicate dimension names, but we do allow initial construction of the object. We recommend you rename the dims immediately to become distinct, as most xarray functionality is likely to fail silently if you do not. To rename the dimensions you will need to set the ``.dims`` attribute of each variable, ``e.g. var.dims=('x0', 'x1')``.\n",
      "  warnings.warn(\n"
     ]
    },
    {
     "name": "stdout",
     "output_type": "stream",
     "text": [
      "Dimension of data from single orbit around 2022070116/20220708_0045.nc is (1423360, 5)\n"
     ]
    },
    {
     "name": "stderr",
     "output_type": "stream",
     "text": [
      "C:\\Users\\Public\\Documents\\ESTsoft\\CreatorTemp\\ipykernel_27924\\2905133411.py:50: FutureWarning: 'T' is deprecated and will be removed in a future version, please use 'min' instead.\n",
      "  df2['Time'] = df2['Time'].dt.floor('T')  # T represents minute\n",
      "c:\\Users\\joonw\\anaconda3\\envs\\jl2815\\Lib\\site-packages\\xarray\\namedarray\\core.py:514: UserWarning: Duplicate dimension names present: dimensions {'nlayer2'} appear more than once in dims=('nlayer2', 'nlayer2', 'spatial', 'image'). We do not yet support duplicate dimension names, but we do allow initial construction of the object. We recommend you rename the dims immediately to become distinct, as most xarray functionality is likely to fail silently if you do not. To rename the dimensions you will need to set the ``.dims`` attribute of each variable, ``e.g. var.dims=('x0', 'x1')``.\n",
      "  warnings.warn(\n"
     ]
    },
    {
     "name": "stdout",
     "output_type": "stream",
     "text": [
      "Dimension of data from single orbit around 2022070116/20220708_0145.nc is (1423360, 5)\n"
     ]
    },
    {
     "name": "stderr",
     "output_type": "stream",
     "text": [
      "C:\\Users\\Public\\Documents\\ESTsoft\\CreatorTemp\\ipykernel_27924\\2905133411.py:50: FutureWarning: 'T' is deprecated and will be removed in a future version, please use 'min' instead.\n",
      "  df2['Time'] = df2['Time'].dt.floor('T')  # T represents minute\n",
      "c:\\Users\\joonw\\anaconda3\\envs\\jl2815\\Lib\\site-packages\\xarray\\namedarray\\core.py:514: UserWarning: Duplicate dimension names present: dimensions {'nlayer2'} appear more than once in dims=('nlayer2', 'nlayer2', 'spatial', 'image'). We do not yet support duplicate dimension names, but we do allow initial construction of the object. We recommend you rename the dims immediately to become distinct, as most xarray functionality is likely to fail silently if you do not. To rename the dimensions you will need to set the ``.dims`` attribute of each variable, ``e.g. var.dims=('x0', 'x1')``.\n",
      "  warnings.warn(\n"
     ]
    },
    {
     "name": "stdout",
     "output_type": "stream",
     "text": [
      "Dimension of data from single orbit around 2022070116/20220708_0245.nc is (1423360, 5)\n"
     ]
    },
    {
     "name": "stderr",
     "output_type": "stream",
     "text": [
      "C:\\Users\\Public\\Documents\\ESTsoft\\CreatorTemp\\ipykernel_27924\\2905133411.py:50: FutureWarning: 'T' is deprecated and will be removed in a future version, please use 'min' instead.\n",
      "  df2['Time'] = df2['Time'].dt.floor('T')  # T represents minute\n",
      "c:\\Users\\joonw\\anaconda3\\envs\\jl2815\\Lib\\site-packages\\xarray\\namedarray\\core.py:514: UserWarning: Duplicate dimension names present: dimensions {'nlayer2'} appear more than once in dims=('nlayer2', 'nlayer2', 'spatial', 'image'). We do not yet support duplicate dimension names, but we do allow initial construction of the object. We recommend you rename the dims immediately to become distinct, as most xarray functionality is likely to fail silently if you do not. To rename the dimensions you will need to set the ``.dims`` attribute of each variable, ``e.g. var.dims=('x0', 'x1')``.\n",
      "  warnings.warn(\n"
     ]
    },
    {
     "name": "stdout",
     "output_type": "stream",
     "text": [
      "Dimension of data from single orbit around 2022070116/20220708_0345.nc is (1423360, 5)\n"
     ]
    },
    {
     "name": "stderr",
     "output_type": "stream",
     "text": [
      "C:\\Users\\Public\\Documents\\ESTsoft\\CreatorTemp\\ipykernel_27924\\2905133411.py:50: FutureWarning: 'T' is deprecated and will be removed in a future version, please use 'min' instead.\n",
      "  df2['Time'] = df2['Time'].dt.floor('T')  # T represents minute\n",
      "c:\\Users\\joonw\\anaconda3\\envs\\jl2815\\Lib\\site-packages\\xarray\\namedarray\\core.py:514: UserWarning: Duplicate dimension names present: dimensions {'nlayer2'} appear more than once in dims=('nlayer2', 'nlayer2', 'spatial', 'image'). We do not yet support duplicate dimension names, but we do allow initial construction of the object. We recommend you rename the dims immediately to become distinct, as most xarray functionality is likely to fail silently if you do not. To rename the dimensions you will need to set the ``.dims`` attribute of each variable, ``e.g. var.dims=('x0', 'x1')``.\n",
      "  warnings.warn(\n"
     ]
    },
    {
     "name": "stdout",
     "output_type": "stream",
     "text": [
      "Dimension of data from single orbit around 2022070116/20220708_0445.nc is (1423360, 5)\n"
     ]
    },
    {
     "name": "stderr",
     "output_type": "stream",
     "text": [
      "C:\\Users\\Public\\Documents\\ESTsoft\\CreatorTemp\\ipykernel_27924\\2905133411.py:50: FutureWarning: 'T' is deprecated and will be removed in a future version, please use 'min' instead.\n",
      "  df2['Time'] = df2['Time'].dt.floor('T')  # T represents minute\n",
      "c:\\Users\\joonw\\anaconda3\\envs\\jl2815\\Lib\\site-packages\\xarray\\namedarray\\core.py:514: UserWarning: Duplicate dimension names present: dimensions {'nlayer2'} appear more than once in dims=('nlayer2', 'nlayer2', 'spatial', 'image'). We do not yet support duplicate dimension names, but we do allow initial construction of the object. We recommend you rename the dims immediately to become distinct, as most xarray functionality is likely to fail silently if you do not. To rename the dimensions you will need to set the ``.dims`` attribute of each variable, ``e.g. var.dims=('x0', 'x1')``.\n",
      "  warnings.warn(\n"
     ]
    },
    {
     "name": "stdout",
     "output_type": "stream",
     "text": [
      "Dimension of data from single orbit around 2022070116/20220708_0545.nc is (1423360, 5)\n"
     ]
    },
    {
     "name": "stderr",
     "output_type": "stream",
     "text": [
      "C:\\Users\\Public\\Documents\\ESTsoft\\CreatorTemp\\ipykernel_27924\\2905133411.py:50: FutureWarning: 'T' is deprecated and will be removed in a future version, please use 'min' instead.\n",
      "  df2['Time'] = df2['Time'].dt.floor('T')  # T represents minute\n",
      "c:\\Users\\joonw\\anaconda3\\envs\\jl2815\\Lib\\site-packages\\xarray\\namedarray\\core.py:514: UserWarning: Duplicate dimension names present: dimensions {'nlayer2'} appear more than once in dims=('nlayer2', 'nlayer2', 'spatial', 'image'). We do not yet support duplicate dimension names, but we do allow initial construction of the object. We recommend you rename the dims immediately to become distinct, as most xarray functionality is likely to fail silently if you do not. To rename the dimensions you will need to set the ``.dims`` attribute of each variable, ``e.g. var.dims=('x0', 'x1')``.\n",
      "  warnings.warn(\n"
     ]
    },
    {
     "name": "stdout",
     "output_type": "stream",
     "text": [
      "Dimension of data from single orbit around 2022070116/20220708_0645.nc is (1423360, 5)\n"
     ]
    },
    {
     "name": "stderr",
     "output_type": "stream",
     "text": [
      "C:\\Users\\Public\\Documents\\ESTsoft\\CreatorTemp\\ipykernel_27924\\2905133411.py:50: FutureWarning: 'T' is deprecated and will be removed in a future version, please use 'min' instead.\n",
      "  df2['Time'] = df2['Time'].dt.floor('T')  # T represents minute\n",
      "c:\\Users\\joonw\\anaconda3\\envs\\jl2815\\Lib\\site-packages\\xarray\\namedarray\\core.py:514: UserWarning: Duplicate dimension names present: dimensions {'nlayer2'} appear more than once in dims=('nlayer2', 'nlayer2', 'spatial', 'image'). We do not yet support duplicate dimension names, but we do allow initial construction of the object. We recommend you rename the dims immediately to become distinct, as most xarray functionality is likely to fail silently if you do not. To rename the dimensions you will need to set the ``.dims`` attribute of each variable, ``e.g. var.dims=('x0', 'x1')``.\n",
      "  warnings.warn(\n"
     ]
    },
    {
     "name": "stdout",
     "output_type": "stream",
     "text": [
      "Dimension of data from single orbit around 2022070116/20220708_0745.nc is (1423360, 5)\n"
     ]
    },
    {
     "name": "stderr",
     "output_type": "stream",
     "text": [
      "C:\\Users\\Public\\Documents\\ESTsoft\\CreatorTemp\\ipykernel_27924\\2905133411.py:50: FutureWarning: 'T' is deprecated and will be removed in a future version, please use 'min' instead.\n",
      "  df2['Time'] = df2['Time'].dt.floor('T')  # T represents minute\n",
      "c:\\Users\\joonw\\anaconda3\\envs\\jl2815\\Lib\\site-packages\\xarray\\namedarray\\core.py:514: UserWarning: Duplicate dimension names present: dimensions {'nlayer2'} appear more than once in dims=('nlayer2', 'nlayer2', 'spatial', 'image'). We do not yet support duplicate dimension names, but we do allow initial construction of the object. We recommend you rename the dims immediately to become distinct, as most xarray functionality is likely to fail silently if you do not. To rename the dimensions you will need to set the ``.dims`` attribute of each variable, ``e.g. var.dims=('x0', 'x1')``.\n",
      "  warnings.warn(\n"
     ]
    },
    {
     "name": "stdout",
     "output_type": "stream",
     "text": [
      "Dimension of data from single orbit around 2022070116/20220709_0045.nc is (1423360, 5)\n"
     ]
    },
    {
     "name": "stderr",
     "output_type": "stream",
     "text": [
      "C:\\Users\\Public\\Documents\\ESTsoft\\CreatorTemp\\ipykernel_27924\\2905133411.py:50: FutureWarning: 'T' is deprecated and will be removed in a future version, please use 'min' instead.\n",
      "  df2['Time'] = df2['Time'].dt.floor('T')  # T represents minute\n",
      "c:\\Users\\joonw\\anaconda3\\envs\\jl2815\\Lib\\site-packages\\xarray\\namedarray\\core.py:514: UserWarning: Duplicate dimension names present: dimensions {'nlayer2'} appear more than once in dims=('nlayer2', 'nlayer2', 'spatial', 'image'). We do not yet support duplicate dimension names, but we do allow initial construction of the object. We recommend you rename the dims immediately to become distinct, as most xarray functionality is likely to fail silently if you do not. To rename the dimensions you will need to set the ``.dims`` attribute of each variable, ``e.g. var.dims=('x0', 'x1')``.\n",
      "  warnings.warn(\n"
     ]
    },
    {
     "name": "stdout",
     "output_type": "stream",
     "text": [
      "Dimension of data from single orbit around 2022070116/20220709_0145.nc is (1423360, 5)\n"
     ]
    },
    {
     "name": "stderr",
     "output_type": "stream",
     "text": [
      "C:\\Users\\Public\\Documents\\ESTsoft\\CreatorTemp\\ipykernel_27924\\2905133411.py:50: FutureWarning: 'T' is deprecated and will be removed in a future version, please use 'min' instead.\n",
      "  df2['Time'] = df2['Time'].dt.floor('T')  # T represents minute\n",
      "c:\\Users\\joonw\\anaconda3\\envs\\jl2815\\Lib\\site-packages\\xarray\\namedarray\\core.py:514: UserWarning: Duplicate dimension names present: dimensions {'nlayer2'} appear more than once in dims=('nlayer2', 'nlayer2', 'spatial', 'image'). We do not yet support duplicate dimension names, but we do allow initial construction of the object. We recommend you rename the dims immediately to become distinct, as most xarray functionality is likely to fail silently if you do not. To rename the dimensions you will need to set the ``.dims`` attribute of each variable, ``e.g. var.dims=('x0', 'x1')``.\n",
      "  warnings.warn(\n"
     ]
    },
    {
     "name": "stdout",
     "output_type": "stream",
     "text": [
      "Dimension of data from single orbit around 2022070116/20220709_0245.nc is (1423360, 5)\n"
     ]
    },
    {
     "name": "stderr",
     "output_type": "stream",
     "text": [
      "C:\\Users\\Public\\Documents\\ESTsoft\\CreatorTemp\\ipykernel_27924\\2905133411.py:50: FutureWarning: 'T' is deprecated and will be removed in a future version, please use 'min' instead.\n",
      "  df2['Time'] = df2['Time'].dt.floor('T')  # T represents minute\n",
      "c:\\Users\\joonw\\anaconda3\\envs\\jl2815\\Lib\\site-packages\\xarray\\namedarray\\core.py:514: UserWarning: Duplicate dimension names present: dimensions {'nlayer2'} appear more than once in dims=('nlayer2', 'nlayer2', 'spatial', 'image'). We do not yet support duplicate dimension names, but we do allow initial construction of the object. We recommend you rename the dims immediately to become distinct, as most xarray functionality is likely to fail silently if you do not. To rename the dimensions you will need to set the ``.dims`` attribute of each variable, ``e.g. var.dims=('x0', 'x1')``.\n",
      "  warnings.warn(\n"
     ]
    },
    {
     "name": "stdout",
     "output_type": "stream",
     "text": [
      "Dimension of data from single orbit around 2022070116/20220709_0345.nc is (1423360, 5)\n"
     ]
    },
    {
     "name": "stderr",
     "output_type": "stream",
     "text": [
      "C:\\Users\\Public\\Documents\\ESTsoft\\CreatorTemp\\ipykernel_27924\\2905133411.py:50: FutureWarning: 'T' is deprecated and will be removed in a future version, please use 'min' instead.\n",
      "  df2['Time'] = df2['Time'].dt.floor('T')  # T represents minute\n",
      "c:\\Users\\joonw\\anaconda3\\envs\\jl2815\\Lib\\site-packages\\xarray\\namedarray\\core.py:514: UserWarning: Duplicate dimension names present: dimensions {'nlayer2'} appear more than once in dims=('nlayer2', 'nlayer2', 'spatial', 'image'). We do not yet support duplicate dimension names, but we do allow initial construction of the object. We recommend you rename the dims immediately to become distinct, as most xarray functionality is likely to fail silently if you do not. To rename the dimensions you will need to set the ``.dims`` attribute of each variable, ``e.g. var.dims=('x0', 'x1')``.\n",
      "  warnings.warn(\n"
     ]
    },
    {
     "name": "stdout",
     "output_type": "stream",
     "text": [
      "Dimension of data from single orbit around 2022070116/20220709_0445.nc is (1423360, 5)\n"
     ]
    },
    {
     "name": "stderr",
     "output_type": "stream",
     "text": [
      "C:\\Users\\Public\\Documents\\ESTsoft\\CreatorTemp\\ipykernel_27924\\2905133411.py:50: FutureWarning: 'T' is deprecated and will be removed in a future version, please use 'min' instead.\n",
      "  df2['Time'] = df2['Time'].dt.floor('T')  # T represents minute\n",
      "c:\\Users\\joonw\\anaconda3\\envs\\jl2815\\Lib\\site-packages\\xarray\\namedarray\\core.py:514: UserWarning: Duplicate dimension names present: dimensions {'nlayer2'} appear more than once in dims=('nlayer2', 'nlayer2', 'spatial', 'image'). We do not yet support duplicate dimension names, but we do allow initial construction of the object. We recommend you rename the dims immediately to become distinct, as most xarray functionality is likely to fail silently if you do not. To rename the dimensions you will need to set the ``.dims`` attribute of each variable, ``e.g. var.dims=('x0', 'x1')``.\n",
      "  warnings.warn(\n"
     ]
    },
    {
     "name": "stdout",
     "output_type": "stream",
     "text": [
      "Dimension of data from single orbit around 2022070116/20220709_0545.nc is (1423360, 5)\n"
     ]
    },
    {
     "name": "stderr",
     "output_type": "stream",
     "text": [
      "C:\\Users\\Public\\Documents\\ESTsoft\\CreatorTemp\\ipykernel_27924\\2905133411.py:50: FutureWarning: 'T' is deprecated and will be removed in a future version, please use 'min' instead.\n",
      "  df2['Time'] = df2['Time'].dt.floor('T')  # T represents minute\n",
      "c:\\Users\\joonw\\anaconda3\\envs\\jl2815\\Lib\\site-packages\\xarray\\namedarray\\core.py:514: UserWarning: Duplicate dimension names present: dimensions {'nlayer2'} appear more than once in dims=('nlayer2', 'nlayer2', 'spatial', 'image'). We do not yet support duplicate dimension names, but we do allow initial construction of the object. We recommend you rename the dims immediately to become distinct, as most xarray functionality is likely to fail silently if you do not. To rename the dimensions you will need to set the ``.dims`` attribute of each variable, ``e.g. var.dims=('x0', 'x1')``.\n",
      "  warnings.warn(\n"
     ]
    },
    {
     "name": "stdout",
     "output_type": "stream",
     "text": [
      "Dimension of data from single orbit around 2022070116/20220709_0645.nc is (1423360, 5)\n"
     ]
    },
    {
     "name": "stderr",
     "output_type": "stream",
     "text": [
      "C:\\Users\\Public\\Documents\\ESTsoft\\CreatorTemp\\ipykernel_27924\\2905133411.py:50: FutureWarning: 'T' is deprecated and will be removed in a future version, please use 'min' instead.\n",
      "  df2['Time'] = df2['Time'].dt.floor('T')  # T represents minute\n",
      "c:\\Users\\joonw\\anaconda3\\envs\\jl2815\\Lib\\site-packages\\xarray\\namedarray\\core.py:514: UserWarning: Duplicate dimension names present: dimensions {'nlayer2'} appear more than once in dims=('nlayer2', 'nlayer2', 'spatial', 'image'). We do not yet support duplicate dimension names, but we do allow initial construction of the object. We recommend you rename the dims immediately to become distinct, as most xarray functionality is likely to fail silently if you do not. To rename the dimensions you will need to set the ``.dims`` attribute of each variable, ``e.g. var.dims=('x0', 'x1')``.\n",
      "  warnings.warn(\n"
     ]
    },
    {
     "name": "stdout",
     "output_type": "stream",
     "text": [
      "Dimension of data from single orbit around 2022070116/20220709_0745.nc is (1423360, 5)\n"
     ]
    },
    {
     "name": "stderr",
     "output_type": "stream",
     "text": [
      "C:\\Users\\Public\\Documents\\ESTsoft\\CreatorTemp\\ipykernel_27924\\2905133411.py:50: FutureWarning: 'T' is deprecated and will be removed in a future version, please use 'min' instead.\n",
      "  df2['Time'] = df2['Time'].dt.floor('T')  # T represents minute\n",
      "c:\\Users\\joonw\\anaconda3\\envs\\jl2815\\Lib\\site-packages\\xarray\\namedarray\\core.py:514: UserWarning: Duplicate dimension names present: dimensions {'nlayer2'} appear more than once in dims=('nlayer2', 'nlayer2', 'spatial', 'image'). We do not yet support duplicate dimension names, but we do allow initial construction of the object. We recommend you rename the dims immediately to become distinct, as most xarray functionality is likely to fail silently if you do not. To rename the dimensions you will need to set the ``.dims`` attribute of each variable, ``e.g. var.dims=('x0', 'x1')``.\n",
      "  warnings.warn(\n"
     ]
    },
    {
     "name": "stdout",
     "output_type": "stream",
     "text": [
      "Dimension of data from single orbit around 2022070116/20220710_0045.nc is (1423360, 5)\n"
     ]
    },
    {
     "name": "stderr",
     "output_type": "stream",
     "text": [
      "C:\\Users\\Public\\Documents\\ESTsoft\\CreatorTemp\\ipykernel_27924\\2905133411.py:50: FutureWarning: 'T' is deprecated and will be removed in a future version, please use 'min' instead.\n",
      "  df2['Time'] = df2['Time'].dt.floor('T')  # T represents minute\n",
      "c:\\Users\\joonw\\anaconda3\\envs\\jl2815\\Lib\\site-packages\\xarray\\namedarray\\core.py:514: UserWarning: Duplicate dimension names present: dimensions {'nlayer2'} appear more than once in dims=('nlayer2', 'nlayer2', 'spatial', 'image'). We do not yet support duplicate dimension names, but we do allow initial construction of the object. We recommend you rename the dims immediately to become distinct, as most xarray functionality is likely to fail silently if you do not. To rename the dimensions you will need to set the ``.dims`` attribute of each variable, ``e.g. var.dims=('x0', 'x1')``.\n",
      "  warnings.warn(\n"
     ]
    },
    {
     "name": "stdout",
     "output_type": "stream",
     "text": [
      "Dimension of data from single orbit around 2022070116/20220710_0145.nc is (1423360, 5)\n"
     ]
    },
    {
     "name": "stderr",
     "output_type": "stream",
     "text": [
      "C:\\Users\\Public\\Documents\\ESTsoft\\CreatorTemp\\ipykernel_27924\\2905133411.py:50: FutureWarning: 'T' is deprecated and will be removed in a future version, please use 'min' instead.\n",
      "  df2['Time'] = df2['Time'].dt.floor('T')  # T represents minute\n",
      "c:\\Users\\joonw\\anaconda3\\envs\\jl2815\\Lib\\site-packages\\xarray\\namedarray\\core.py:514: UserWarning: Duplicate dimension names present: dimensions {'nlayer2'} appear more than once in dims=('nlayer2', 'nlayer2', 'spatial', 'image'). We do not yet support duplicate dimension names, but we do allow initial construction of the object. We recommend you rename the dims immediately to become distinct, as most xarray functionality is likely to fail silently if you do not. To rename the dimensions you will need to set the ``.dims`` attribute of each variable, ``e.g. var.dims=('x0', 'x1')``.\n",
      "  warnings.warn(\n"
     ]
    },
    {
     "name": "stdout",
     "output_type": "stream",
     "text": [
      "Dimension of data from single orbit around 2022070116/20220710_0245.nc is (1423360, 5)\n"
     ]
    },
    {
     "name": "stderr",
     "output_type": "stream",
     "text": [
      "C:\\Users\\Public\\Documents\\ESTsoft\\CreatorTemp\\ipykernel_27924\\2905133411.py:50: FutureWarning: 'T' is deprecated and will be removed in a future version, please use 'min' instead.\n",
      "  df2['Time'] = df2['Time'].dt.floor('T')  # T represents minute\n",
      "c:\\Users\\joonw\\anaconda3\\envs\\jl2815\\Lib\\site-packages\\xarray\\namedarray\\core.py:514: UserWarning: Duplicate dimension names present: dimensions {'nlayer2'} appear more than once in dims=('nlayer2', 'nlayer2', 'spatial', 'image'). We do not yet support duplicate dimension names, but we do allow initial construction of the object. We recommend you rename the dims immediately to become distinct, as most xarray functionality is likely to fail silently if you do not. To rename the dimensions you will need to set the ``.dims`` attribute of each variable, ``e.g. var.dims=('x0', 'x1')``.\n",
      "  warnings.warn(\n"
     ]
    },
    {
     "name": "stdout",
     "output_type": "stream",
     "text": [
      "Dimension of data from single orbit around 2022070116/20220710_0345.nc is (1423360, 5)\n"
     ]
    },
    {
     "name": "stderr",
     "output_type": "stream",
     "text": [
      "C:\\Users\\Public\\Documents\\ESTsoft\\CreatorTemp\\ipykernel_27924\\2905133411.py:50: FutureWarning: 'T' is deprecated and will be removed in a future version, please use 'min' instead.\n",
      "  df2['Time'] = df2['Time'].dt.floor('T')  # T represents minute\n",
      "c:\\Users\\joonw\\anaconda3\\envs\\jl2815\\Lib\\site-packages\\xarray\\namedarray\\core.py:514: UserWarning: Duplicate dimension names present: dimensions {'nlayer2'} appear more than once in dims=('nlayer2', 'nlayer2', 'spatial', 'image'). We do not yet support duplicate dimension names, but we do allow initial construction of the object. We recommend you rename the dims immediately to become distinct, as most xarray functionality is likely to fail silently if you do not. To rename the dimensions you will need to set the ``.dims`` attribute of each variable, ``e.g. var.dims=('x0', 'x1')``.\n",
      "  warnings.warn(\n"
     ]
    },
    {
     "name": "stdout",
     "output_type": "stream",
     "text": [
      "Dimension of data from single orbit around 2022070116/20220710_0445.nc is (1423360, 5)\n"
     ]
    },
    {
     "name": "stderr",
     "output_type": "stream",
     "text": [
      "C:\\Users\\Public\\Documents\\ESTsoft\\CreatorTemp\\ipykernel_27924\\2905133411.py:50: FutureWarning: 'T' is deprecated and will be removed in a future version, please use 'min' instead.\n",
      "  df2['Time'] = df2['Time'].dt.floor('T')  # T represents minute\n",
      "c:\\Users\\joonw\\anaconda3\\envs\\jl2815\\Lib\\site-packages\\xarray\\namedarray\\core.py:514: UserWarning: Duplicate dimension names present: dimensions {'nlayer2'} appear more than once in dims=('nlayer2', 'nlayer2', 'spatial', 'image'). We do not yet support duplicate dimension names, but we do allow initial construction of the object. We recommend you rename the dims immediately to become distinct, as most xarray functionality is likely to fail silently if you do not. To rename the dimensions you will need to set the ``.dims`` attribute of each variable, ``e.g. var.dims=('x0', 'x1')``.\n",
      "  warnings.warn(\n"
     ]
    },
    {
     "name": "stdout",
     "output_type": "stream",
     "text": [
      "Dimension of data from single orbit around 2022070116/20220710_0545.nc is (1423360, 5)\n"
     ]
    },
    {
     "name": "stderr",
     "output_type": "stream",
     "text": [
      "C:\\Users\\Public\\Documents\\ESTsoft\\CreatorTemp\\ipykernel_27924\\2905133411.py:50: FutureWarning: 'T' is deprecated and will be removed in a future version, please use 'min' instead.\n",
      "  df2['Time'] = df2['Time'].dt.floor('T')  # T represents minute\n",
      "c:\\Users\\joonw\\anaconda3\\envs\\jl2815\\Lib\\site-packages\\xarray\\namedarray\\core.py:514: UserWarning: Duplicate dimension names present: dimensions {'nlayer2'} appear more than once in dims=('nlayer2', 'nlayer2', 'spatial', 'image'). We do not yet support duplicate dimension names, but we do allow initial construction of the object. We recommend you rename the dims immediately to become distinct, as most xarray functionality is likely to fail silently if you do not. To rename the dimensions you will need to set the ``.dims`` attribute of each variable, ``e.g. var.dims=('x0', 'x1')``.\n",
      "  warnings.warn(\n"
     ]
    },
    {
     "name": "stdout",
     "output_type": "stream",
     "text": [
      "Dimension of data from single orbit around 2022070116/20220710_0645.nc is (1423360, 5)\n"
     ]
    },
    {
     "name": "stderr",
     "output_type": "stream",
     "text": [
      "C:\\Users\\Public\\Documents\\ESTsoft\\CreatorTemp\\ipykernel_27924\\2905133411.py:50: FutureWarning: 'T' is deprecated and will be removed in a future version, please use 'min' instead.\n",
      "  df2['Time'] = df2['Time'].dt.floor('T')  # T represents minute\n",
      "c:\\Users\\joonw\\anaconda3\\envs\\jl2815\\Lib\\site-packages\\xarray\\namedarray\\core.py:514: UserWarning: Duplicate dimension names present: dimensions {'nlayer2'} appear more than once in dims=('nlayer2', 'nlayer2', 'spatial', 'image'). We do not yet support duplicate dimension names, but we do allow initial construction of the object. We recommend you rename the dims immediately to become distinct, as most xarray functionality is likely to fail silently if you do not. To rename the dimensions you will need to set the ``.dims`` attribute of each variable, ``e.g. var.dims=('x0', 'x1')``.\n",
      "  warnings.warn(\n"
     ]
    },
    {
     "name": "stdout",
     "output_type": "stream",
     "text": [
      "Dimension of data from single orbit around 2022070116/20220710_0745.nc is (1423360, 5)\n"
     ]
    },
    {
     "name": "stderr",
     "output_type": "stream",
     "text": [
      "C:\\Users\\Public\\Documents\\ESTsoft\\CreatorTemp\\ipykernel_27924\\2905133411.py:50: FutureWarning: 'T' is deprecated and will be removed in a future version, please use 'min' instead.\n",
      "  df2['Time'] = df2['Time'].dt.floor('T')  # T represents minute\n",
      "c:\\Users\\joonw\\anaconda3\\envs\\jl2815\\Lib\\site-packages\\xarray\\namedarray\\core.py:514: UserWarning: Duplicate dimension names present: dimensions {'nlayer2'} appear more than once in dims=('nlayer2', 'nlayer2', 'spatial', 'image'). We do not yet support duplicate dimension names, but we do allow initial construction of the object. We recommend you rename the dims immediately to become distinct, as most xarray functionality is likely to fail silently if you do not. To rename the dimensions you will need to set the ``.dims`` attribute of each variable, ``e.g. var.dims=('x0', 'x1')``.\n",
      "  warnings.warn(\n"
     ]
    },
    {
     "name": "stdout",
     "output_type": "stream",
     "text": [
      "Dimension of data from single orbit around 2022070116/20220711_0045.nc is (1423360, 5)\n"
     ]
    },
    {
     "name": "stderr",
     "output_type": "stream",
     "text": [
      "C:\\Users\\Public\\Documents\\ESTsoft\\CreatorTemp\\ipykernel_27924\\2905133411.py:50: FutureWarning: 'T' is deprecated and will be removed in a future version, please use 'min' instead.\n",
      "  df2['Time'] = df2['Time'].dt.floor('T')  # T represents minute\n",
      "c:\\Users\\joonw\\anaconda3\\envs\\jl2815\\Lib\\site-packages\\xarray\\namedarray\\core.py:514: UserWarning: Duplicate dimension names present: dimensions {'nlayer2'} appear more than once in dims=('nlayer2', 'nlayer2', 'spatial', 'image'). We do not yet support duplicate dimension names, but we do allow initial construction of the object. We recommend you rename the dims immediately to become distinct, as most xarray functionality is likely to fail silently if you do not. To rename the dimensions you will need to set the ``.dims`` attribute of each variable, ``e.g. var.dims=('x0', 'x1')``.\n",
      "  warnings.warn(\n"
     ]
    },
    {
     "name": "stdout",
     "output_type": "stream",
     "text": [
      "Dimension of data from single orbit around 2022070116/20220711_0145.nc is (1423360, 5)\n"
     ]
    },
    {
     "name": "stderr",
     "output_type": "stream",
     "text": [
      "C:\\Users\\Public\\Documents\\ESTsoft\\CreatorTemp\\ipykernel_27924\\2905133411.py:50: FutureWarning: 'T' is deprecated and will be removed in a future version, please use 'min' instead.\n",
      "  df2['Time'] = df2['Time'].dt.floor('T')  # T represents minute\n",
      "c:\\Users\\joonw\\anaconda3\\envs\\jl2815\\Lib\\site-packages\\xarray\\namedarray\\core.py:514: UserWarning: Duplicate dimension names present: dimensions {'nlayer2'} appear more than once in dims=('nlayer2', 'nlayer2', 'spatial', 'image'). We do not yet support duplicate dimension names, but we do allow initial construction of the object. We recommend you rename the dims immediately to become distinct, as most xarray functionality is likely to fail silently if you do not. To rename the dimensions you will need to set the ``.dims`` attribute of each variable, ``e.g. var.dims=('x0', 'x1')``.\n",
      "  warnings.warn(\n"
     ]
    },
    {
     "name": "stdout",
     "output_type": "stream",
     "text": [
      "Dimension of data from single orbit around 2022070116/20220711_0245.nc is (1423360, 5)\n"
     ]
    },
    {
     "name": "stderr",
     "output_type": "stream",
     "text": [
      "C:\\Users\\Public\\Documents\\ESTsoft\\CreatorTemp\\ipykernel_27924\\2905133411.py:50: FutureWarning: 'T' is deprecated and will be removed in a future version, please use 'min' instead.\n",
      "  df2['Time'] = df2['Time'].dt.floor('T')  # T represents minute\n",
      "c:\\Users\\joonw\\anaconda3\\envs\\jl2815\\Lib\\site-packages\\xarray\\namedarray\\core.py:514: UserWarning: Duplicate dimension names present: dimensions {'nlayer2'} appear more than once in dims=('nlayer2', 'nlayer2', 'spatial', 'image'). We do not yet support duplicate dimension names, but we do allow initial construction of the object. We recommend you rename the dims immediately to become distinct, as most xarray functionality is likely to fail silently if you do not. To rename the dimensions you will need to set the ``.dims`` attribute of each variable, ``e.g. var.dims=('x0', 'x1')``.\n",
      "  warnings.warn(\n"
     ]
    },
    {
     "name": "stdout",
     "output_type": "stream",
     "text": [
      "Dimension of data from single orbit around 2022070116/20220711_0345.nc is (1423360, 5)\n"
     ]
    },
    {
     "name": "stderr",
     "output_type": "stream",
     "text": [
      "C:\\Users\\Public\\Documents\\ESTsoft\\CreatorTemp\\ipykernel_27924\\2905133411.py:50: FutureWarning: 'T' is deprecated and will be removed in a future version, please use 'min' instead.\n",
      "  df2['Time'] = df2['Time'].dt.floor('T')  # T represents minute\n",
      "c:\\Users\\joonw\\anaconda3\\envs\\jl2815\\Lib\\site-packages\\xarray\\namedarray\\core.py:514: UserWarning: Duplicate dimension names present: dimensions {'nlayer2'} appear more than once in dims=('nlayer2', 'nlayer2', 'spatial', 'image'). We do not yet support duplicate dimension names, but we do allow initial construction of the object. We recommend you rename the dims immediately to become distinct, as most xarray functionality is likely to fail silently if you do not. To rename the dimensions you will need to set the ``.dims`` attribute of each variable, ``e.g. var.dims=('x0', 'x1')``.\n",
      "  warnings.warn(\n"
     ]
    },
    {
     "name": "stdout",
     "output_type": "stream",
     "text": [
      "Dimension of data from single orbit around 2022070116/20220711_0445.nc is (1423360, 5)\n"
     ]
    },
    {
     "name": "stderr",
     "output_type": "stream",
     "text": [
      "C:\\Users\\Public\\Documents\\ESTsoft\\CreatorTemp\\ipykernel_27924\\2905133411.py:50: FutureWarning: 'T' is deprecated and will be removed in a future version, please use 'min' instead.\n",
      "  df2['Time'] = df2['Time'].dt.floor('T')  # T represents minute\n",
      "c:\\Users\\joonw\\anaconda3\\envs\\jl2815\\Lib\\site-packages\\xarray\\namedarray\\core.py:514: UserWarning: Duplicate dimension names present: dimensions {'nlayer2'} appear more than once in dims=('nlayer2', 'nlayer2', 'spatial', 'image'). We do not yet support duplicate dimension names, but we do allow initial construction of the object. We recommend you rename the dims immediately to become distinct, as most xarray functionality is likely to fail silently if you do not. To rename the dimensions you will need to set the ``.dims`` attribute of each variable, ``e.g. var.dims=('x0', 'x1')``.\n",
      "  warnings.warn(\n"
     ]
    },
    {
     "name": "stdout",
     "output_type": "stream",
     "text": [
      "Dimension of data from single orbit around 2022070116/20220711_0545.nc is (1423360, 5)\n"
     ]
    },
    {
     "name": "stderr",
     "output_type": "stream",
     "text": [
      "C:\\Users\\Public\\Documents\\ESTsoft\\CreatorTemp\\ipykernel_27924\\2905133411.py:50: FutureWarning: 'T' is deprecated and will be removed in a future version, please use 'min' instead.\n",
      "  df2['Time'] = df2['Time'].dt.floor('T')  # T represents minute\n",
      "c:\\Users\\joonw\\anaconda3\\envs\\jl2815\\Lib\\site-packages\\xarray\\namedarray\\core.py:514: UserWarning: Duplicate dimension names present: dimensions {'nlayer2'} appear more than once in dims=('nlayer2', 'nlayer2', 'spatial', 'image'). We do not yet support duplicate dimension names, but we do allow initial construction of the object. We recommend you rename the dims immediately to become distinct, as most xarray functionality is likely to fail silently if you do not. To rename the dimensions you will need to set the ``.dims`` attribute of each variable, ``e.g. var.dims=('x0', 'x1')``.\n",
      "  warnings.warn(\n"
     ]
    },
    {
     "name": "stdout",
     "output_type": "stream",
     "text": [
      "Dimension of data from single orbit around 2022070116/20220711_0645.nc is (1423360, 5)\n"
     ]
    },
    {
     "name": "stderr",
     "output_type": "stream",
     "text": [
      "C:\\Users\\Public\\Documents\\ESTsoft\\CreatorTemp\\ipykernel_27924\\2905133411.py:50: FutureWarning: 'T' is deprecated and will be removed in a future version, please use 'min' instead.\n",
      "  df2['Time'] = df2['Time'].dt.floor('T')  # T represents minute\n",
      "c:\\Users\\joonw\\anaconda3\\envs\\jl2815\\Lib\\site-packages\\xarray\\namedarray\\core.py:514: UserWarning: Duplicate dimension names present: dimensions {'nlayer2'} appear more than once in dims=('nlayer2', 'nlayer2', 'spatial', 'image'). We do not yet support duplicate dimension names, but we do allow initial construction of the object. We recommend you rename the dims immediately to become distinct, as most xarray functionality is likely to fail silently if you do not. To rename the dimensions you will need to set the ``.dims`` attribute of each variable, ``e.g. var.dims=('x0', 'x1')``.\n",
      "  warnings.warn(\n"
     ]
    },
    {
     "name": "stdout",
     "output_type": "stream",
     "text": [
      "Dimension of data from single orbit around 2022070116/20220711_0745.nc is (1423360, 5)\n"
     ]
    },
    {
     "name": "stderr",
     "output_type": "stream",
     "text": [
      "C:\\Users\\Public\\Documents\\ESTsoft\\CreatorTemp\\ipykernel_27924\\2905133411.py:50: FutureWarning: 'T' is deprecated and will be removed in a future version, please use 'min' instead.\n",
      "  df2['Time'] = df2['Time'].dt.floor('T')  # T represents minute\n",
      "c:\\Users\\joonw\\anaconda3\\envs\\jl2815\\Lib\\site-packages\\xarray\\namedarray\\core.py:514: UserWarning: Duplicate dimension names present: dimensions {'nlayer2'} appear more than once in dims=('nlayer2', 'nlayer2', 'spatial', 'image'). We do not yet support duplicate dimension names, but we do allow initial construction of the object. We recommend you rename the dims immediately to become distinct, as most xarray functionality is likely to fail silently if you do not. To rename the dimensions you will need to set the ``.dims`` attribute of each variable, ``e.g. var.dims=('x0', 'x1')``.\n",
      "  warnings.warn(\n"
     ]
    },
    {
     "name": "stdout",
     "output_type": "stream",
     "text": [
      "Dimension of data from single orbit around 2022070116/20220712_0045.nc is (1423360, 5)\n"
     ]
    },
    {
     "name": "stderr",
     "output_type": "stream",
     "text": [
      "C:\\Users\\Public\\Documents\\ESTsoft\\CreatorTemp\\ipykernel_27924\\2905133411.py:50: FutureWarning: 'T' is deprecated and will be removed in a future version, please use 'min' instead.\n",
      "  df2['Time'] = df2['Time'].dt.floor('T')  # T represents minute\n",
      "c:\\Users\\joonw\\anaconda3\\envs\\jl2815\\Lib\\site-packages\\xarray\\namedarray\\core.py:514: UserWarning: Duplicate dimension names present: dimensions {'nlayer2'} appear more than once in dims=('nlayer2', 'nlayer2', 'spatial', 'image'). We do not yet support duplicate dimension names, but we do allow initial construction of the object. We recommend you rename the dims immediately to become distinct, as most xarray functionality is likely to fail silently if you do not. To rename the dimensions you will need to set the ``.dims`` attribute of each variable, ``e.g. var.dims=('x0', 'x1')``.\n",
      "  warnings.warn(\n"
     ]
    },
    {
     "name": "stdout",
     "output_type": "stream",
     "text": [
      "Dimension of data from single orbit around 2022070116/20220712_0145.nc is (1423360, 5)\n"
     ]
    },
    {
     "name": "stderr",
     "output_type": "stream",
     "text": [
      "C:\\Users\\Public\\Documents\\ESTsoft\\CreatorTemp\\ipykernel_27924\\2905133411.py:50: FutureWarning: 'T' is deprecated and will be removed in a future version, please use 'min' instead.\n",
      "  df2['Time'] = df2['Time'].dt.floor('T')  # T represents minute\n",
      "c:\\Users\\joonw\\anaconda3\\envs\\jl2815\\Lib\\site-packages\\xarray\\namedarray\\core.py:514: UserWarning: Duplicate dimension names present: dimensions {'nlayer2'} appear more than once in dims=('nlayer2', 'nlayer2', 'spatial', 'image'). We do not yet support duplicate dimension names, but we do allow initial construction of the object. We recommend you rename the dims immediately to become distinct, as most xarray functionality is likely to fail silently if you do not. To rename the dimensions you will need to set the ``.dims`` attribute of each variable, ``e.g. var.dims=('x0', 'x1')``.\n",
      "  warnings.warn(\n"
     ]
    },
    {
     "name": "stdout",
     "output_type": "stream",
     "text": [
      "Dimension of data from single orbit around 2022070116/20220712_0245.nc is (1423360, 5)\n"
     ]
    },
    {
     "name": "stderr",
     "output_type": "stream",
     "text": [
      "C:\\Users\\Public\\Documents\\ESTsoft\\CreatorTemp\\ipykernel_27924\\2905133411.py:50: FutureWarning: 'T' is deprecated and will be removed in a future version, please use 'min' instead.\n",
      "  df2['Time'] = df2['Time'].dt.floor('T')  # T represents minute\n",
      "c:\\Users\\joonw\\anaconda3\\envs\\jl2815\\Lib\\site-packages\\xarray\\namedarray\\core.py:514: UserWarning: Duplicate dimension names present: dimensions {'nlayer2'} appear more than once in dims=('nlayer2', 'nlayer2', 'spatial', 'image'). We do not yet support duplicate dimension names, but we do allow initial construction of the object. We recommend you rename the dims immediately to become distinct, as most xarray functionality is likely to fail silently if you do not. To rename the dimensions you will need to set the ``.dims`` attribute of each variable, ``e.g. var.dims=('x0', 'x1')``.\n",
      "  warnings.warn(\n"
     ]
    },
    {
     "name": "stdout",
     "output_type": "stream",
     "text": [
      "Dimension of data from single orbit around 2022070116/20220712_0345.nc is (1423360, 5)\n"
     ]
    },
    {
     "name": "stderr",
     "output_type": "stream",
     "text": [
      "C:\\Users\\Public\\Documents\\ESTsoft\\CreatorTemp\\ipykernel_27924\\2905133411.py:50: FutureWarning: 'T' is deprecated and will be removed in a future version, please use 'min' instead.\n",
      "  df2['Time'] = df2['Time'].dt.floor('T')  # T represents minute\n",
      "c:\\Users\\joonw\\anaconda3\\envs\\jl2815\\Lib\\site-packages\\xarray\\namedarray\\core.py:514: UserWarning: Duplicate dimension names present: dimensions {'nlayer2'} appear more than once in dims=('nlayer2', 'nlayer2', 'spatial', 'image'). We do not yet support duplicate dimension names, but we do allow initial construction of the object. We recommend you rename the dims immediately to become distinct, as most xarray functionality is likely to fail silently if you do not. To rename the dimensions you will need to set the ``.dims`` attribute of each variable, ``e.g. var.dims=('x0', 'x1')``.\n",
      "  warnings.warn(\n"
     ]
    },
    {
     "name": "stdout",
     "output_type": "stream",
     "text": [
      "Dimension of data from single orbit around 2022070116/20220712_0445.nc is (1423360, 5)\n"
     ]
    },
    {
     "name": "stderr",
     "output_type": "stream",
     "text": [
      "C:\\Users\\Public\\Documents\\ESTsoft\\CreatorTemp\\ipykernel_27924\\2905133411.py:50: FutureWarning: 'T' is deprecated and will be removed in a future version, please use 'min' instead.\n",
      "  df2['Time'] = df2['Time'].dt.floor('T')  # T represents minute\n",
      "c:\\Users\\joonw\\anaconda3\\envs\\jl2815\\Lib\\site-packages\\xarray\\namedarray\\core.py:514: UserWarning: Duplicate dimension names present: dimensions {'nlayer2'} appear more than once in dims=('nlayer2', 'nlayer2', 'spatial', 'image'). We do not yet support duplicate dimension names, but we do allow initial construction of the object. We recommend you rename the dims immediately to become distinct, as most xarray functionality is likely to fail silently if you do not. To rename the dimensions you will need to set the ``.dims`` attribute of each variable, ``e.g. var.dims=('x0', 'x1')``.\n",
      "  warnings.warn(\n"
     ]
    },
    {
     "name": "stdout",
     "output_type": "stream",
     "text": [
      "Dimension of data from single orbit around 2022070116/20220712_0545.nc is (1423360, 5)\n"
     ]
    },
    {
     "name": "stderr",
     "output_type": "stream",
     "text": [
      "C:\\Users\\Public\\Documents\\ESTsoft\\CreatorTemp\\ipykernel_27924\\2905133411.py:50: FutureWarning: 'T' is deprecated and will be removed in a future version, please use 'min' instead.\n",
      "  df2['Time'] = df2['Time'].dt.floor('T')  # T represents minute\n",
      "c:\\Users\\joonw\\anaconda3\\envs\\jl2815\\Lib\\site-packages\\xarray\\namedarray\\core.py:514: UserWarning: Duplicate dimension names present: dimensions {'nlayer2'} appear more than once in dims=('nlayer2', 'nlayer2', 'spatial', 'image'). We do not yet support duplicate dimension names, but we do allow initial construction of the object. We recommend you rename the dims immediately to become distinct, as most xarray functionality is likely to fail silently if you do not. To rename the dimensions you will need to set the ``.dims`` attribute of each variable, ``e.g. var.dims=('x0', 'x1')``.\n",
      "  warnings.warn(\n"
     ]
    },
    {
     "name": "stdout",
     "output_type": "stream",
     "text": [
      "Dimension of data from single orbit around 2022070116/20220712_0645.nc is (1423360, 5)\n"
     ]
    },
    {
     "name": "stderr",
     "output_type": "stream",
     "text": [
      "C:\\Users\\Public\\Documents\\ESTsoft\\CreatorTemp\\ipykernel_27924\\2905133411.py:50: FutureWarning: 'T' is deprecated and will be removed in a future version, please use 'min' instead.\n",
      "  df2['Time'] = df2['Time'].dt.floor('T')  # T represents minute\n",
      "c:\\Users\\joonw\\anaconda3\\envs\\jl2815\\Lib\\site-packages\\xarray\\namedarray\\core.py:514: UserWarning: Duplicate dimension names present: dimensions {'nlayer2'} appear more than once in dims=('nlayer2', 'nlayer2', 'spatial', 'image'). We do not yet support duplicate dimension names, but we do allow initial construction of the object. We recommend you rename the dims immediately to become distinct, as most xarray functionality is likely to fail silently if you do not. To rename the dimensions you will need to set the ``.dims`` attribute of each variable, ``e.g. var.dims=('x0', 'x1')``.\n",
      "  warnings.warn(\n"
     ]
    },
    {
     "name": "stdout",
     "output_type": "stream",
     "text": [
      "Dimension of data from single orbit around 2022070116/20220712_0745.nc is (1423360, 5)\n"
     ]
    },
    {
     "name": "stderr",
     "output_type": "stream",
     "text": [
      "C:\\Users\\Public\\Documents\\ESTsoft\\CreatorTemp\\ipykernel_27924\\2905133411.py:50: FutureWarning: 'T' is deprecated and will be removed in a future version, please use 'min' instead.\n",
      "  df2['Time'] = df2['Time'].dt.floor('T')  # T represents minute\n",
      "c:\\Users\\joonw\\anaconda3\\envs\\jl2815\\Lib\\site-packages\\xarray\\namedarray\\core.py:514: UserWarning: Duplicate dimension names present: dimensions {'nlayer2'} appear more than once in dims=('nlayer2', 'nlayer2', 'spatial', 'image'). We do not yet support duplicate dimension names, but we do allow initial construction of the object. We recommend you rename the dims immediately to become distinct, as most xarray functionality is likely to fail silently if you do not. To rename the dimensions you will need to set the ``.dims`` attribute of each variable, ``e.g. var.dims=('x0', 'x1')``.\n",
      "  warnings.warn(\n"
     ]
    },
    {
     "name": "stdout",
     "output_type": "stream",
     "text": [
      "Dimension of data from single orbit around 2022070116/20220713_0045.nc is (1423360, 5)\n"
     ]
    },
    {
     "name": "stderr",
     "output_type": "stream",
     "text": [
      "C:\\Users\\Public\\Documents\\ESTsoft\\CreatorTemp\\ipykernel_27924\\2905133411.py:50: FutureWarning: 'T' is deprecated and will be removed in a future version, please use 'min' instead.\n",
      "  df2['Time'] = df2['Time'].dt.floor('T')  # T represents minute\n",
      "c:\\Users\\joonw\\anaconda3\\envs\\jl2815\\Lib\\site-packages\\xarray\\namedarray\\core.py:514: UserWarning: Duplicate dimension names present: dimensions {'nlayer2'} appear more than once in dims=('nlayer2', 'nlayer2', 'spatial', 'image'). We do not yet support duplicate dimension names, but we do allow initial construction of the object. We recommend you rename the dims immediately to become distinct, as most xarray functionality is likely to fail silently if you do not. To rename the dimensions you will need to set the ``.dims`` attribute of each variable, ``e.g. var.dims=('x0', 'x1')``.\n",
      "  warnings.warn(\n"
     ]
    },
    {
     "name": "stdout",
     "output_type": "stream",
     "text": [
      "Dimension of data from single orbit around 2022070116/20220713_0145.nc is (1423360, 5)\n"
     ]
    },
    {
     "name": "stderr",
     "output_type": "stream",
     "text": [
      "C:\\Users\\Public\\Documents\\ESTsoft\\CreatorTemp\\ipykernel_27924\\2905133411.py:50: FutureWarning: 'T' is deprecated and will be removed in a future version, please use 'min' instead.\n",
      "  df2['Time'] = df2['Time'].dt.floor('T')  # T represents minute\n",
      "c:\\Users\\joonw\\anaconda3\\envs\\jl2815\\Lib\\site-packages\\xarray\\namedarray\\core.py:514: UserWarning: Duplicate dimension names present: dimensions {'nlayer2'} appear more than once in dims=('nlayer2', 'nlayer2', 'spatial', 'image'). We do not yet support duplicate dimension names, but we do allow initial construction of the object. We recommend you rename the dims immediately to become distinct, as most xarray functionality is likely to fail silently if you do not. To rename the dimensions you will need to set the ``.dims`` attribute of each variable, ``e.g. var.dims=('x0', 'x1')``.\n",
      "  warnings.warn(\n"
     ]
    },
    {
     "name": "stdout",
     "output_type": "stream",
     "text": [
      "Dimension of data from single orbit around 2022070116/20220713_0245.nc is (1423360, 5)\n"
     ]
    },
    {
     "name": "stderr",
     "output_type": "stream",
     "text": [
      "C:\\Users\\Public\\Documents\\ESTsoft\\CreatorTemp\\ipykernel_27924\\2905133411.py:50: FutureWarning: 'T' is deprecated and will be removed in a future version, please use 'min' instead.\n",
      "  df2['Time'] = df2['Time'].dt.floor('T')  # T represents minute\n",
      "c:\\Users\\joonw\\anaconda3\\envs\\jl2815\\Lib\\site-packages\\xarray\\namedarray\\core.py:514: UserWarning: Duplicate dimension names present: dimensions {'nlayer2'} appear more than once in dims=('nlayer2', 'nlayer2', 'spatial', 'image'). We do not yet support duplicate dimension names, but we do allow initial construction of the object. We recommend you rename the dims immediately to become distinct, as most xarray functionality is likely to fail silently if you do not. To rename the dimensions you will need to set the ``.dims`` attribute of each variable, ``e.g. var.dims=('x0', 'x1')``.\n",
      "  warnings.warn(\n"
     ]
    },
    {
     "name": "stdout",
     "output_type": "stream",
     "text": [
      "Dimension of data from single orbit around 2022070116/20220713_0345.nc is (1423360, 5)\n"
     ]
    },
    {
     "name": "stderr",
     "output_type": "stream",
     "text": [
      "C:\\Users\\Public\\Documents\\ESTsoft\\CreatorTemp\\ipykernel_27924\\2905133411.py:50: FutureWarning: 'T' is deprecated and will be removed in a future version, please use 'min' instead.\n",
      "  df2['Time'] = df2['Time'].dt.floor('T')  # T represents minute\n",
      "c:\\Users\\joonw\\anaconda3\\envs\\jl2815\\Lib\\site-packages\\xarray\\namedarray\\core.py:514: UserWarning: Duplicate dimension names present: dimensions {'nlayer2'} appear more than once in dims=('nlayer2', 'nlayer2', 'spatial', 'image'). We do not yet support duplicate dimension names, but we do allow initial construction of the object. We recommend you rename the dims immediately to become distinct, as most xarray functionality is likely to fail silently if you do not. To rename the dimensions you will need to set the ``.dims`` attribute of each variable, ``e.g. var.dims=('x0', 'x1')``.\n",
      "  warnings.warn(\n"
     ]
    },
    {
     "name": "stdout",
     "output_type": "stream",
     "text": [
      "Dimension of data from single orbit around 2022070116/20220713_0445.nc is (1423360, 5)\n"
     ]
    },
    {
     "name": "stderr",
     "output_type": "stream",
     "text": [
      "C:\\Users\\Public\\Documents\\ESTsoft\\CreatorTemp\\ipykernel_27924\\2905133411.py:50: FutureWarning: 'T' is deprecated and will be removed in a future version, please use 'min' instead.\n",
      "  df2['Time'] = df2['Time'].dt.floor('T')  # T represents minute\n",
      "c:\\Users\\joonw\\anaconda3\\envs\\jl2815\\Lib\\site-packages\\xarray\\namedarray\\core.py:514: UserWarning: Duplicate dimension names present: dimensions {'nlayer2'} appear more than once in dims=('nlayer2', 'nlayer2', 'spatial', 'image'). We do not yet support duplicate dimension names, but we do allow initial construction of the object. We recommend you rename the dims immediately to become distinct, as most xarray functionality is likely to fail silently if you do not. To rename the dimensions you will need to set the ``.dims`` attribute of each variable, ``e.g. var.dims=('x0', 'x1')``.\n",
      "  warnings.warn(\n"
     ]
    },
    {
     "name": "stdout",
     "output_type": "stream",
     "text": [
      "Dimension of data from single orbit around 2022070116/20220713_0545.nc is (1423360, 5)\n"
     ]
    },
    {
     "name": "stderr",
     "output_type": "stream",
     "text": [
      "C:\\Users\\Public\\Documents\\ESTsoft\\CreatorTemp\\ipykernel_27924\\2905133411.py:50: FutureWarning: 'T' is deprecated and will be removed in a future version, please use 'min' instead.\n",
      "  df2['Time'] = df2['Time'].dt.floor('T')  # T represents minute\n",
      "c:\\Users\\joonw\\anaconda3\\envs\\jl2815\\Lib\\site-packages\\xarray\\namedarray\\core.py:514: UserWarning: Duplicate dimension names present: dimensions {'nlayer2'} appear more than once in dims=('nlayer2', 'nlayer2', 'spatial', 'image'). We do not yet support duplicate dimension names, but we do allow initial construction of the object. We recommend you rename the dims immediately to become distinct, as most xarray functionality is likely to fail silently if you do not. To rename the dimensions you will need to set the ``.dims`` attribute of each variable, ``e.g. var.dims=('x0', 'x1')``.\n",
      "  warnings.warn(\n"
     ]
    },
    {
     "name": "stdout",
     "output_type": "stream",
     "text": [
      "Dimension of data from single orbit around 2022070116/20220713_0645.nc is (1423360, 5)\n"
     ]
    },
    {
     "name": "stderr",
     "output_type": "stream",
     "text": [
      "C:\\Users\\Public\\Documents\\ESTsoft\\CreatorTemp\\ipykernel_27924\\2905133411.py:50: FutureWarning: 'T' is deprecated and will be removed in a future version, please use 'min' instead.\n",
      "  df2['Time'] = df2['Time'].dt.floor('T')  # T represents minute\n",
      "c:\\Users\\joonw\\anaconda3\\envs\\jl2815\\Lib\\site-packages\\xarray\\namedarray\\core.py:514: UserWarning: Duplicate dimension names present: dimensions {'nlayer2'} appear more than once in dims=('nlayer2', 'nlayer2', 'spatial', 'image'). We do not yet support duplicate dimension names, but we do allow initial construction of the object. We recommend you rename the dims immediately to become distinct, as most xarray functionality is likely to fail silently if you do not. To rename the dimensions you will need to set the ``.dims`` attribute of each variable, ``e.g. var.dims=('x0', 'x1')``.\n",
      "  warnings.warn(\n"
     ]
    },
    {
     "name": "stdout",
     "output_type": "stream",
     "text": [
      "Dimension of data from single orbit around 2022070116/20220713_0745.nc is (1423360, 5)\n"
     ]
    },
    {
     "name": "stderr",
     "output_type": "stream",
     "text": [
      "C:\\Users\\Public\\Documents\\ESTsoft\\CreatorTemp\\ipykernel_27924\\2905133411.py:50: FutureWarning: 'T' is deprecated and will be removed in a future version, please use 'min' instead.\n",
      "  df2['Time'] = df2['Time'].dt.floor('T')  # T represents minute\n",
      "c:\\Users\\joonw\\anaconda3\\envs\\jl2815\\Lib\\site-packages\\xarray\\namedarray\\core.py:514: UserWarning: Duplicate dimension names present: dimensions {'nlayer2'} appear more than once in dims=('nlayer2', 'nlayer2', 'spatial', 'image'). We do not yet support duplicate dimension names, but we do allow initial construction of the object. We recommend you rename the dims immediately to become distinct, as most xarray functionality is likely to fail silently if you do not. To rename the dimensions you will need to set the ``.dims`` attribute of each variable, ``e.g. var.dims=('x0', 'x1')``.\n",
      "  warnings.warn(\n"
     ]
    },
    {
     "name": "stdout",
     "output_type": "stream",
     "text": [
      "Dimension of data from single orbit around 2022070116/20220714_0045.nc is (1423360, 5)\n"
     ]
    },
    {
     "name": "stderr",
     "output_type": "stream",
     "text": [
      "C:\\Users\\Public\\Documents\\ESTsoft\\CreatorTemp\\ipykernel_27924\\2905133411.py:50: FutureWarning: 'T' is deprecated and will be removed in a future version, please use 'min' instead.\n",
      "  df2['Time'] = df2['Time'].dt.floor('T')  # T represents minute\n",
      "c:\\Users\\joonw\\anaconda3\\envs\\jl2815\\Lib\\site-packages\\xarray\\namedarray\\core.py:514: UserWarning: Duplicate dimension names present: dimensions {'nlayer2'} appear more than once in dims=('nlayer2', 'nlayer2', 'spatial', 'image'). We do not yet support duplicate dimension names, but we do allow initial construction of the object. We recommend you rename the dims immediately to become distinct, as most xarray functionality is likely to fail silently if you do not. To rename the dimensions you will need to set the ``.dims`` attribute of each variable, ``e.g. var.dims=('x0', 'x1')``.\n",
      "  warnings.warn(\n"
     ]
    },
    {
     "name": "stdout",
     "output_type": "stream",
     "text": [
      "Dimension of data from single orbit around 2022070116/20220714_0145.nc is (1423360, 5)\n"
     ]
    },
    {
     "name": "stderr",
     "output_type": "stream",
     "text": [
      "C:\\Users\\Public\\Documents\\ESTsoft\\CreatorTemp\\ipykernel_27924\\2905133411.py:50: FutureWarning: 'T' is deprecated and will be removed in a future version, please use 'min' instead.\n",
      "  df2['Time'] = df2['Time'].dt.floor('T')  # T represents minute\n",
      "c:\\Users\\joonw\\anaconda3\\envs\\jl2815\\Lib\\site-packages\\xarray\\namedarray\\core.py:514: UserWarning: Duplicate dimension names present: dimensions {'nlayer2'} appear more than once in dims=('nlayer2', 'nlayer2', 'spatial', 'image'). We do not yet support duplicate dimension names, but we do allow initial construction of the object. We recommend you rename the dims immediately to become distinct, as most xarray functionality is likely to fail silently if you do not. To rename the dimensions you will need to set the ``.dims`` attribute of each variable, ``e.g. var.dims=('x0', 'x1')``.\n",
      "  warnings.warn(\n"
     ]
    },
    {
     "name": "stdout",
     "output_type": "stream",
     "text": [
      "Dimension of data from single orbit around 2022070116/20220714_0245.nc is (1423360, 5)\n"
     ]
    },
    {
     "name": "stderr",
     "output_type": "stream",
     "text": [
      "C:\\Users\\Public\\Documents\\ESTsoft\\CreatorTemp\\ipykernel_27924\\2905133411.py:50: FutureWarning: 'T' is deprecated and will be removed in a future version, please use 'min' instead.\n",
      "  df2['Time'] = df2['Time'].dt.floor('T')  # T represents minute\n",
      "c:\\Users\\joonw\\anaconda3\\envs\\jl2815\\Lib\\site-packages\\xarray\\namedarray\\core.py:514: UserWarning: Duplicate dimension names present: dimensions {'nlayer2'} appear more than once in dims=('nlayer2', 'nlayer2', 'spatial', 'image'). We do not yet support duplicate dimension names, but we do allow initial construction of the object. We recommend you rename the dims immediately to become distinct, as most xarray functionality is likely to fail silently if you do not. To rename the dimensions you will need to set the ``.dims`` attribute of each variable, ``e.g. var.dims=('x0', 'x1')``.\n",
      "  warnings.warn(\n"
     ]
    },
    {
     "name": "stdout",
     "output_type": "stream",
     "text": [
      "Dimension of data from single orbit around 2022070116/20220714_0345.nc is (1423360, 5)\n"
     ]
    },
    {
     "name": "stderr",
     "output_type": "stream",
     "text": [
      "C:\\Users\\Public\\Documents\\ESTsoft\\CreatorTemp\\ipykernel_27924\\2905133411.py:50: FutureWarning: 'T' is deprecated and will be removed in a future version, please use 'min' instead.\n",
      "  df2['Time'] = df2['Time'].dt.floor('T')  # T represents minute\n",
      "c:\\Users\\joonw\\anaconda3\\envs\\jl2815\\Lib\\site-packages\\xarray\\namedarray\\core.py:514: UserWarning: Duplicate dimension names present: dimensions {'nlayer2'} appear more than once in dims=('nlayer2', 'nlayer2', 'spatial', 'image'). We do not yet support duplicate dimension names, but we do allow initial construction of the object. We recommend you rename the dims immediately to become distinct, as most xarray functionality is likely to fail silently if you do not. To rename the dimensions you will need to set the ``.dims`` attribute of each variable, ``e.g. var.dims=('x0', 'x1')``.\n",
      "  warnings.warn(\n"
     ]
    },
    {
     "name": "stdout",
     "output_type": "stream",
     "text": [
      "Dimension of data from single orbit around 2022070116/20220714_0445.nc is (1423360, 5)\n"
     ]
    },
    {
     "name": "stderr",
     "output_type": "stream",
     "text": [
      "C:\\Users\\Public\\Documents\\ESTsoft\\CreatorTemp\\ipykernel_27924\\2905133411.py:50: FutureWarning: 'T' is deprecated and will be removed in a future version, please use 'min' instead.\n",
      "  df2['Time'] = df2['Time'].dt.floor('T')  # T represents minute\n",
      "c:\\Users\\joonw\\anaconda3\\envs\\jl2815\\Lib\\site-packages\\xarray\\namedarray\\core.py:514: UserWarning: Duplicate dimension names present: dimensions {'nlayer2'} appear more than once in dims=('nlayer2', 'nlayer2', 'spatial', 'image'). We do not yet support duplicate dimension names, but we do allow initial construction of the object. We recommend you rename the dims immediately to become distinct, as most xarray functionality is likely to fail silently if you do not. To rename the dimensions you will need to set the ``.dims`` attribute of each variable, ``e.g. var.dims=('x0', 'x1')``.\n",
      "  warnings.warn(\n"
     ]
    },
    {
     "name": "stdout",
     "output_type": "stream",
     "text": [
      "Dimension of data from single orbit around 2022070116/20220714_0545.nc is (1280000, 5)\n"
     ]
    },
    {
     "name": "stderr",
     "output_type": "stream",
     "text": [
      "C:\\Users\\Public\\Documents\\ESTsoft\\CreatorTemp\\ipykernel_27924\\2905133411.py:50: FutureWarning: 'T' is deprecated and will be removed in a future version, please use 'min' instead.\n",
      "  df2['Time'] = df2['Time'].dt.floor('T')  # T represents minute\n",
      "c:\\Users\\joonw\\anaconda3\\envs\\jl2815\\Lib\\site-packages\\xarray\\namedarray\\core.py:514: UserWarning: Duplicate dimension names present: dimensions {'nlayer2'} appear more than once in dims=('nlayer2', 'nlayer2', 'spatial', 'image'). We do not yet support duplicate dimension names, but we do allow initial construction of the object. We recommend you rename the dims immediately to become distinct, as most xarray functionality is likely to fail silently if you do not. To rename the dimensions you will need to set the ``.dims`` attribute of each variable, ``e.g. var.dims=('x0', 'x1')``.\n",
      "  warnings.warn(\n"
     ]
    },
    {
     "name": "stdout",
     "output_type": "stream",
     "text": [
      "Dimension of data from single orbit around 2022070116/20220714_0645.nc is (1423360, 5)\n"
     ]
    },
    {
     "name": "stderr",
     "output_type": "stream",
     "text": [
      "C:\\Users\\Public\\Documents\\ESTsoft\\CreatorTemp\\ipykernel_27924\\2905133411.py:50: FutureWarning: 'T' is deprecated and will be removed in a future version, please use 'min' instead.\n",
      "  df2['Time'] = df2['Time'].dt.floor('T')  # T represents minute\n",
      "c:\\Users\\joonw\\anaconda3\\envs\\jl2815\\Lib\\site-packages\\xarray\\namedarray\\core.py:514: UserWarning: Duplicate dimension names present: dimensions {'nlayer2'} appear more than once in dims=('nlayer2', 'nlayer2', 'spatial', 'image'). We do not yet support duplicate dimension names, but we do allow initial construction of the object. We recommend you rename the dims immediately to become distinct, as most xarray functionality is likely to fail silently if you do not. To rename the dimensions you will need to set the ``.dims`` attribute of each variable, ``e.g. var.dims=('x0', 'x1')``.\n",
      "  warnings.warn(\n"
     ]
    },
    {
     "name": "stdout",
     "output_type": "stream",
     "text": [
      "Dimension of data from single orbit around 2022070116/20220714_0745.nc is (1423360, 5)\n"
     ]
    },
    {
     "name": "stderr",
     "output_type": "stream",
     "text": [
      "C:\\Users\\Public\\Documents\\ESTsoft\\CreatorTemp\\ipykernel_27924\\2905133411.py:50: FutureWarning: 'T' is deprecated and will be removed in a future version, please use 'min' instead.\n",
      "  df2['Time'] = df2['Time'].dt.floor('T')  # T represents minute\n",
      "c:\\Users\\joonw\\anaconda3\\envs\\jl2815\\Lib\\site-packages\\xarray\\namedarray\\core.py:514: UserWarning: Duplicate dimension names present: dimensions {'nlayer2'} appear more than once in dims=('nlayer2', 'nlayer2', 'spatial', 'image'). We do not yet support duplicate dimension names, but we do allow initial construction of the object. We recommend you rename the dims immediately to become distinct, as most xarray functionality is likely to fail silently if you do not. To rename the dimensions you will need to set the ``.dims`` attribute of each variable, ``e.g. var.dims=('x0', 'x1')``.\n",
      "  warnings.warn(\n"
     ]
    },
    {
     "name": "stdout",
     "output_type": "stream",
     "text": [
      "Dimension of data from single orbit around 2022070116/20220715_0045.nc is (1423360, 5)\n"
     ]
    },
    {
     "name": "stderr",
     "output_type": "stream",
     "text": [
      "C:\\Users\\Public\\Documents\\ESTsoft\\CreatorTemp\\ipykernel_27924\\2905133411.py:50: FutureWarning: 'T' is deprecated and will be removed in a future version, please use 'min' instead.\n",
      "  df2['Time'] = df2['Time'].dt.floor('T')  # T represents minute\n",
      "c:\\Users\\joonw\\anaconda3\\envs\\jl2815\\Lib\\site-packages\\xarray\\namedarray\\core.py:514: UserWarning: Duplicate dimension names present: dimensions {'nlayer2'} appear more than once in dims=('nlayer2', 'nlayer2', 'spatial', 'image'). We do not yet support duplicate dimension names, but we do allow initial construction of the object. We recommend you rename the dims immediately to become distinct, as most xarray functionality is likely to fail silently if you do not. To rename the dimensions you will need to set the ``.dims`` attribute of each variable, ``e.g. var.dims=('x0', 'x1')``.\n",
      "  warnings.warn(\n"
     ]
    },
    {
     "name": "stdout",
     "output_type": "stream",
     "text": [
      "Dimension of data from single orbit around 2022070116/20220715_0145.nc is (1423360, 5)\n"
     ]
    },
    {
     "name": "stderr",
     "output_type": "stream",
     "text": [
      "C:\\Users\\Public\\Documents\\ESTsoft\\CreatorTemp\\ipykernel_27924\\2905133411.py:50: FutureWarning: 'T' is deprecated and will be removed in a future version, please use 'min' instead.\n",
      "  df2['Time'] = df2['Time'].dt.floor('T')  # T represents minute\n",
      "c:\\Users\\joonw\\anaconda3\\envs\\jl2815\\Lib\\site-packages\\xarray\\namedarray\\core.py:514: UserWarning: Duplicate dimension names present: dimensions {'nlayer2'} appear more than once in dims=('nlayer2', 'nlayer2', 'spatial', 'image'). We do not yet support duplicate dimension names, but we do allow initial construction of the object. We recommend you rename the dims immediately to become distinct, as most xarray functionality is likely to fail silently if you do not. To rename the dimensions you will need to set the ``.dims`` attribute of each variable, ``e.g. var.dims=('x0', 'x1')``.\n",
      "  warnings.warn(\n"
     ]
    },
    {
     "name": "stdout",
     "output_type": "stream",
     "text": [
      "Dimension of data from single orbit around 2022070116/20220715_0245.nc is (1423360, 5)\n"
     ]
    },
    {
     "name": "stderr",
     "output_type": "stream",
     "text": [
      "C:\\Users\\Public\\Documents\\ESTsoft\\CreatorTemp\\ipykernel_27924\\2905133411.py:50: FutureWarning: 'T' is deprecated and will be removed in a future version, please use 'min' instead.\n",
      "  df2['Time'] = df2['Time'].dt.floor('T')  # T represents minute\n",
      "c:\\Users\\joonw\\anaconda3\\envs\\jl2815\\Lib\\site-packages\\xarray\\namedarray\\core.py:514: UserWarning: Duplicate dimension names present: dimensions {'nlayer2'} appear more than once in dims=('nlayer2', 'nlayer2', 'spatial', 'image'). We do not yet support duplicate dimension names, but we do allow initial construction of the object. We recommend you rename the dims immediately to become distinct, as most xarray functionality is likely to fail silently if you do not. To rename the dimensions you will need to set the ``.dims`` attribute of each variable, ``e.g. var.dims=('x0', 'x1')``.\n",
      "  warnings.warn(\n"
     ]
    },
    {
     "name": "stdout",
     "output_type": "stream",
     "text": [
      "Dimension of data from single orbit around 2022070116/20220715_0345.nc is (1423360, 5)\n"
     ]
    },
    {
     "name": "stderr",
     "output_type": "stream",
     "text": [
      "C:\\Users\\Public\\Documents\\ESTsoft\\CreatorTemp\\ipykernel_27924\\2905133411.py:50: FutureWarning: 'T' is deprecated and will be removed in a future version, please use 'min' instead.\n",
      "  df2['Time'] = df2['Time'].dt.floor('T')  # T represents minute\n",
      "c:\\Users\\joonw\\anaconda3\\envs\\jl2815\\Lib\\site-packages\\xarray\\namedarray\\core.py:514: UserWarning: Duplicate dimension names present: dimensions {'nlayer2'} appear more than once in dims=('nlayer2', 'nlayer2', 'spatial', 'image'). We do not yet support duplicate dimension names, but we do allow initial construction of the object. We recommend you rename the dims immediately to become distinct, as most xarray functionality is likely to fail silently if you do not. To rename the dimensions you will need to set the ``.dims`` attribute of each variable, ``e.g. var.dims=('x0', 'x1')``.\n",
      "  warnings.warn(\n"
     ]
    },
    {
     "name": "stdout",
     "output_type": "stream",
     "text": [
      "Dimension of data from single orbit around 2022070116/20220715_0445.nc is (1423360, 5)\n"
     ]
    },
    {
     "name": "stderr",
     "output_type": "stream",
     "text": [
      "C:\\Users\\Public\\Documents\\ESTsoft\\CreatorTemp\\ipykernel_27924\\2905133411.py:50: FutureWarning: 'T' is deprecated and will be removed in a future version, please use 'min' instead.\n",
      "  df2['Time'] = df2['Time'].dt.floor('T')  # T represents minute\n",
      "c:\\Users\\joonw\\anaconda3\\envs\\jl2815\\Lib\\site-packages\\xarray\\namedarray\\core.py:514: UserWarning: Duplicate dimension names present: dimensions {'nlayer2'} appear more than once in dims=('nlayer2', 'nlayer2', 'spatial', 'image'). We do not yet support duplicate dimension names, but we do allow initial construction of the object. We recommend you rename the dims immediately to become distinct, as most xarray functionality is likely to fail silently if you do not. To rename the dimensions you will need to set the ``.dims`` attribute of each variable, ``e.g. var.dims=('x0', 'x1')``.\n",
      "  warnings.warn(\n"
     ]
    },
    {
     "name": "stdout",
     "output_type": "stream",
     "text": [
      "Dimension of data from single orbit around 2022070116/20220715_0545.nc is (1423360, 5)\n"
     ]
    },
    {
     "name": "stderr",
     "output_type": "stream",
     "text": [
      "C:\\Users\\Public\\Documents\\ESTsoft\\CreatorTemp\\ipykernel_27924\\2905133411.py:50: FutureWarning: 'T' is deprecated and will be removed in a future version, please use 'min' instead.\n",
      "  df2['Time'] = df2['Time'].dt.floor('T')  # T represents minute\n",
      "c:\\Users\\joonw\\anaconda3\\envs\\jl2815\\Lib\\site-packages\\xarray\\namedarray\\core.py:514: UserWarning: Duplicate dimension names present: dimensions {'nlayer2'} appear more than once in dims=('nlayer2', 'nlayer2', 'spatial', 'image'). We do not yet support duplicate dimension names, but we do allow initial construction of the object. We recommend you rename the dims immediately to become distinct, as most xarray functionality is likely to fail silently if you do not. To rename the dimensions you will need to set the ``.dims`` attribute of each variable, ``e.g. var.dims=('x0', 'x1')``.\n",
      "  warnings.warn(\n"
     ]
    },
    {
     "name": "stdout",
     "output_type": "stream",
     "text": [
      "Dimension of data from single orbit around 2022070116/20220715_0645.nc is (1423360, 5)\n"
     ]
    },
    {
     "name": "stderr",
     "output_type": "stream",
     "text": [
      "C:\\Users\\Public\\Documents\\ESTsoft\\CreatorTemp\\ipykernel_27924\\2905133411.py:50: FutureWarning: 'T' is deprecated and will be removed in a future version, please use 'min' instead.\n",
      "  df2['Time'] = df2['Time'].dt.floor('T')  # T represents minute\n",
      "c:\\Users\\joonw\\anaconda3\\envs\\jl2815\\Lib\\site-packages\\xarray\\namedarray\\core.py:514: UserWarning: Duplicate dimension names present: dimensions {'nlayer2'} appear more than once in dims=('nlayer2', 'nlayer2', 'spatial', 'image'). We do not yet support duplicate dimension names, but we do allow initial construction of the object. We recommend you rename the dims immediately to become distinct, as most xarray functionality is likely to fail silently if you do not. To rename the dimensions you will need to set the ``.dims`` attribute of each variable, ``e.g. var.dims=('x0', 'x1')``.\n",
      "  warnings.warn(\n"
     ]
    },
    {
     "name": "stdout",
     "output_type": "stream",
     "text": [
      "Dimension of data from single orbit around 2022070116/20220715_0745.nc is (1423360, 5)\n"
     ]
    },
    {
     "name": "stderr",
     "output_type": "stream",
     "text": [
      "C:\\Users\\Public\\Documents\\ESTsoft\\CreatorTemp\\ipykernel_27924\\2905133411.py:50: FutureWarning: 'T' is deprecated and will be removed in a future version, please use 'min' instead.\n",
      "  df2['Time'] = df2['Time'].dt.floor('T')  # T represents minute\n"
     ]
    }
   ],
   "source": [
    "data = pd.DataFrame()\n",
    "for i in range(len(filenames_2022)):\n",
    "    my_loader= gems_loader_2022(filenames_2022[i])\n",
    "    cur_data = my_loader.result()\n",
    "    \n",
    "    if  data.empty:\n",
    "        data = cur_data\n",
    "    else:\n",
    "        data = pd.concat([data, cur_data], ignore_index=True)\n",
    "    \n",
    "\n",
    "data2022070115 = data\n"
   ]
  },
  {
   "cell_type": "markdown",
   "metadata": {},
   "source": [
    "# MERGE 2023\n",
    "\n",
    "I need separate loader because 'time' variable is date type in 2023."
   ]
  },
  {
   "cell_type": "code",
   "execution_count": 107,
   "metadata": {},
   "outputs": [],
   "source": [
    "class gems_loader_2023:          \n",
    "    def __init__(self, file_path = '240307/20240306_2345.nc'):\n",
    "        self.file_path = file_path                                    \n",
    "  \n",
    "    def extract_data(self,file_path):\n",
    "        location = xr.open_dataset(file_path, group='Geolocation Fields')\n",
    "        Z = xr.open_dataset(file_path, group='Data Fields')\n",
    "        \n",
    "        location_variables = ['Latitude', 'Longitude', 'Time']\n",
    "        tmp1 = location[location_variables]\n",
    "\n",
    "        # Convert xarray.Dataset to pandas DataFrame\n",
    "        location_df = tmp1.to_dataframe().reset_index()\n",
    "        location_df = location_df[location_variables]\n",
    "\n",
    "        Z_variables = ['ColumnAmountO3','FinalAlgorithmFlags']\n",
    "        tmp2 = Z[Z_variables]\n",
    "\n",
    "        Z_df = tmp2.to_dataframe().reset_index()\n",
    "        Z_df = Z_df[Z_variables]\n",
    "\n",
    "        mydata = pd.concat([location_df, Z_df], axis=1)\n",
    "        mydata = mydata[ location_variables + Z_variables ]\n",
    "        \n",
    "        # Close the NetCDF file\n",
    "        location.close()\n",
    "        Z.close()\n",
    "        return mydata\n",
    "    \n",
    "    def dropna(self):\n",
    "        mydata = self.extract_data(self.file_path)\n",
    "        mydata = mydata.dropna(subset=['Latitude', 'Longitude','Time','ColumnAmountO3','FinalAlgorithmFlags'])\n",
    "        \n",
    "        return mydata\n",
    "\n",
    "    def result(self):\n",
    "        # self.mydata =  self.extract_data(self.file_path)\n",
    "\n",
    "        df = self.dropna()\n",
    "  \n",
    "        df2 = df[ (df['Latitude']<= 10) & (df['Latitude']>= 5) & (df['Longitude']>=125) & (df['Longitude']<=130) ]\n",
    "        \n",
    "        df2 = df2[df2.iloc[:,3]<1000]    # Cut off missing values\n",
    "\n",
    "        df2['Time'] = np.mean(df2.iloc[:,2])\n",
    "\n",
    "        # Convert 'Time' column to datetime type\n",
    "        # print(df2['Time'])\n",
    "\n",
    "        df2['Time'] = pd.to_datetime(df2['Time'], unit='h')\n",
    "        df2['Time'] = df2['Time'].dt.floor('T')  # T represents minute\n",
    "        \n",
    "        return df2\n",
    "    "
   ]
  },
  {
   "cell_type": "markdown",
   "metadata": {},
   "source": [
    "# Merge 2023 data "
   ]
  },
  {
   "cell_type": "code",
   "execution_count": 13,
   "metadata": {},
   "outputs": [
    {
     "name": "stderr",
     "output_type": "stream",
     "text": [
      "c:\\Users\\joonw\\anaconda3\\envs\\jl2815\\Lib\\site-packages\\xarray\\namedarray\\core.py:514: UserWarning: Duplicate dimension names present: dimensions {'nlayer2'} appear more than once in dims=('nlayer2', 'nlayer2', 'spatial', 'image'). We do not yet support duplicate dimension names, but we do allow initial construction of the object. We recommend you rename the dims immediately to become distinct, as most xarray functionality is likely to fail silently if you do not. To rename the dimensions you will need to set the ``.dims`` attribute of each variable, ``e.g. var.dims=('x0', 'x1')``.\n",
      "  warnings.warn(\n",
      "C:\\Users\\Public\\Documents\\ESTsoft\\CreatorTemp\\ipykernel_27924\\1132174140.py:51: FutureWarning: 'T' is deprecated and will be removed in a future version, please use 'min' instead.\n",
      "  df2['Time'] = df2['Time'].dt.floor('T')  # T represents minute\n",
      "c:\\Users\\joonw\\anaconda3\\envs\\jl2815\\Lib\\site-packages\\xarray\\namedarray\\core.py:514: UserWarning: Duplicate dimension names present: dimensions {'nlayer2'} appear more than once in dims=('nlayer2', 'nlayer2', 'spatial', 'image'). We do not yet support duplicate dimension names, but we do allow initial construction of the object. We recommend you rename the dims immediately to become distinct, as most xarray functionality is likely to fail silently if you do not. To rename the dimensions you will need to set the ``.dims`` attribute of each variable, ``e.g. var.dims=('x0', 'x1')``.\n",
      "  warnings.warn(\n",
      "C:\\Users\\Public\\Documents\\ESTsoft\\CreatorTemp\\ipykernel_27924\\1132174140.py:51: FutureWarning: 'T' is deprecated and will be removed in a future version, please use 'min' instead.\n",
      "  df2['Time'] = df2['Time'].dt.floor('T')  # T represents minute\n",
      "c:\\Users\\joonw\\anaconda3\\envs\\jl2815\\Lib\\site-packages\\xarray\\namedarray\\core.py:514: UserWarning: Duplicate dimension names present: dimensions {'nlayer2'} appear more than once in dims=('nlayer2', 'nlayer2', 'spatial', 'image'). We do not yet support duplicate dimension names, but we do allow initial construction of the object. We recommend you rename the dims immediately to become distinct, as most xarray functionality is likely to fail silently if you do not. To rename the dimensions you will need to set the ``.dims`` attribute of each variable, ``e.g. var.dims=('x0', 'x1')``.\n",
      "  warnings.warn(\n",
      "C:\\Users\\Public\\Documents\\ESTsoft\\CreatorTemp\\ipykernel_27924\\1132174140.py:51: FutureWarning: 'T' is deprecated and will be removed in a future version, please use 'min' instead.\n",
      "  df2['Time'] = df2['Time'].dt.floor('T')  # T represents minute\n",
      "c:\\Users\\joonw\\anaconda3\\envs\\jl2815\\Lib\\site-packages\\xarray\\namedarray\\core.py:514: UserWarning: Duplicate dimension names present: dimensions {'nlayer2'} appear more than once in dims=('nlayer2', 'nlayer2', 'spatial', 'image'). We do not yet support duplicate dimension names, but we do allow initial construction of the object. We recommend you rename the dims immediately to become distinct, as most xarray functionality is likely to fail silently if you do not. To rename the dimensions you will need to set the ``.dims`` attribute of each variable, ``e.g. var.dims=('x0', 'x1')``.\n",
      "  warnings.warn(\n",
      "C:\\Users\\Public\\Documents\\ESTsoft\\CreatorTemp\\ipykernel_27924\\1132174140.py:51: FutureWarning: 'T' is deprecated and will be removed in a future version, please use 'min' instead.\n",
      "  df2['Time'] = df2['Time'].dt.floor('T')  # T represents minute\n",
      "c:\\Users\\joonw\\anaconda3\\envs\\jl2815\\Lib\\site-packages\\xarray\\namedarray\\core.py:514: UserWarning: Duplicate dimension names present: dimensions {'nlayer2'} appear more than once in dims=('nlayer2', 'nlayer2', 'spatial', 'image'). We do not yet support duplicate dimension names, but we do allow initial construction of the object. We recommend you rename the dims immediately to become distinct, as most xarray functionality is likely to fail silently if you do not. To rename the dimensions you will need to set the ``.dims`` attribute of each variable, ``e.g. var.dims=('x0', 'x1')``.\n",
      "  warnings.warn(\n",
      "C:\\Users\\Public\\Documents\\ESTsoft\\CreatorTemp\\ipykernel_27924\\1132174140.py:51: FutureWarning: 'T' is deprecated and will be removed in a future version, please use 'min' instead.\n",
      "  df2['Time'] = df2['Time'].dt.floor('T')  # T represents minute\n",
      "c:\\Users\\joonw\\anaconda3\\envs\\jl2815\\Lib\\site-packages\\xarray\\namedarray\\core.py:514: UserWarning: Duplicate dimension names present: dimensions {'nlayer2'} appear more than once in dims=('nlayer2', 'nlayer2', 'spatial', 'image'). We do not yet support duplicate dimension names, but we do allow initial construction of the object. We recommend you rename the dims immediately to become distinct, as most xarray functionality is likely to fail silently if you do not. To rename the dimensions you will need to set the ``.dims`` attribute of each variable, ``e.g. var.dims=('x0', 'x1')``.\n",
      "  warnings.warn(\n",
      "C:\\Users\\Public\\Documents\\ESTsoft\\CreatorTemp\\ipykernel_27924\\1132174140.py:51: FutureWarning: 'T' is deprecated and will be removed in a future version, please use 'min' instead.\n",
      "  df2['Time'] = df2['Time'].dt.floor('T')  # T represents minute\n",
      "c:\\Users\\joonw\\anaconda3\\envs\\jl2815\\Lib\\site-packages\\xarray\\namedarray\\core.py:514: UserWarning: Duplicate dimension names present: dimensions {'nlayer2'} appear more than once in dims=('nlayer2', 'nlayer2', 'spatial', 'image'). We do not yet support duplicate dimension names, but we do allow initial construction of the object. We recommend you rename the dims immediately to become distinct, as most xarray functionality is likely to fail silently if you do not. To rename the dimensions you will need to set the ``.dims`` attribute of each variable, ``e.g. var.dims=('x0', 'x1')``.\n",
      "  warnings.warn(\n",
      "C:\\Users\\Public\\Documents\\ESTsoft\\CreatorTemp\\ipykernel_27924\\1132174140.py:51: FutureWarning: 'T' is deprecated and will be removed in a future version, please use 'min' instead.\n",
      "  df2['Time'] = df2['Time'].dt.floor('T')  # T represents minute\n",
      "c:\\Users\\joonw\\anaconda3\\envs\\jl2815\\Lib\\site-packages\\xarray\\namedarray\\core.py:514: UserWarning: Duplicate dimension names present: dimensions {'nlayer2'} appear more than once in dims=('nlayer2', 'nlayer2', 'spatial', 'image'). We do not yet support duplicate dimension names, but we do allow initial construction of the object. We recommend you rename the dims immediately to become distinct, as most xarray functionality is likely to fail silently if you do not. To rename the dimensions you will need to set the ``.dims`` attribute of each variable, ``e.g. var.dims=('x0', 'x1')``.\n",
      "  warnings.warn(\n",
      "C:\\Users\\Public\\Documents\\ESTsoft\\CreatorTemp\\ipykernel_27924\\1132174140.py:51: FutureWarning: 'T' is deprecated and will be removed in a future version, please use 'min' instead.\n",
      "  df2['Time'] = df2['Time'].dt.floor('T')  # T represents minute\n",
      "c:\\Users\\joonw\\anaconda3\\envs\\jl2815\\Lib\\site-packages\\xarray\\namedarray\\core.py:514: UserWarning: Duplicate dimension names present: dimensions {'nlayer2'} appear more than once in dims=('nlayer2', 'nlayer2', 'spatial', 'image'). We do not yet support duplicate dimension names, but we do allow initial construction of the object. We recommend you rename the dims immediately to become distinct, as most xarray functionality is likely to fail silently if you do not. To rename the dimensions you will need to set the ``.dims`` attribute of each variable, ``e.g. var.dims=('x0', 'x1')``.\n",
      "  warnings.warn(\n",
      "C:\\Users\\Public\\Documents\\ESTsoft\\CreatorTemp\\ipykernel_27924\\1132174140.py:51: FutureWarning: 'T' is deprecated and will be removed in a future version, please use 'min' instead.\n",
      "  df2['Time'] = df2['Time'].dt.floor('T')  # T represents minute\n",
      "c:\\Users\\joonw\\anaconda3\\envs\\jl2815\\Lib\\site-packages\\xarray\\namedarray\\core.py:514: UserWarning: Duplicate dimension names present: dimensions {'nlayer2'} appear more than once in dims=('nlayer2', 'nlayer2', 'spatial', 'image'). We do not yet support duplicate dimension names, but we do allow initial construction of the object. We recommend you rename the dims immediately to become distinct, as most xarray functionality is likely to fail silently if you do not. To rename the dimensions you will need to set the ``.dims`` attribute of each variable, ``e.g. var.dims=('x0', 'x1')``.\n",
      "  warnings.warn(\n",
      "C:\\Users\\Public\\Documents\\ESTsoft\\CreatorTemp\\ipykernel_27924\\1132174140.py:51: FutureWarning: 'T' is deprecated and will be removed in a future version, please use 'min' instead.\n",
      "  df2['Time'] = df2['Time'].dt.floor('T')  # T represents minute\n",
      "c:\\Users\\joonw\\anaconda3\\envs\\jl2815\\Lib\\site-packages\\xarray\\namedarray\\core.py:514: UserWarning: Duplicate dimension names present: dimensions {'nlayer2'} appear more than once in dims=('nlayer2', 'nlayer2', 'spatial', 'image'). We do not yet support duplicate dimension names, but we do allow initial construction of the object. We recommend you rename the dims immediately to become distinct, as most xarray functionality is likely to fail silently if you do not. To rename the dimensions you will need to set the ``.dims`` attribute of each variable, ``e.g. var.dims=('x0', 'x1')``.\n",
      "  warnings.warn(\n",
      "C:\\Users\\Public\\Documents\\ESTsoft\\CreatorTemp\\ipykernel_27924\\1132174140.py:51: FutureWarning: 'T' is deprecated and will be removed in a future version, please use 'min' instead.\n",
      "  df2['Time'] = df2['Time'].dt.floor('T')  # T represents minute\n",
      "c:\\Users\\joonw\\anaconda3\\envs\\jl2815\\Lib\\site-packages\\xarray\\namedarray\\core.py:514: UserWarning: Duplicate dimension names present: dimensions {'nlayer2'} appear more than once in dims=('nlayer2', 'nlayer2', 'spatial', 'image'). We do not yet support duplicate dimension names, but we do allow initial construction of the object. We recommend you rename the dims immediately to become distinct, as most xarray functionality is likely to fail silently if you do not. To rename the dimensions you will need to set the ``.dims`` attribute of each variable, ``e.g. var.dims=('x0', 'x1')``.\n",
      "  warnings.warn(\n",
      "C:\\Users\\Public\\Documents\\ESTsoft\\CreatorTemp\\ipykernel_27924\\1132174140.py:51: FutureWarning: 'T' is deprecated and will be removed in a future version, please use 'min' instead.\n",
      "  df2['Time'] = df2['Time'].dt.floor('T')  # T represents minute\n",
      "c:\\Users\\joonw\\anaconda3\\envs\\jl2815\\Lib\\site-packages\\xarray\\namedarray\\core.py:514: UserWarning: Duplicate dimension names present: dimensions {'nlayer2'} appear more than once in dims=('nlayer2', 'nlayer2', 'spatial', 'image'). We do not yet support duplicate dimension names, but we do allow initial construction of the object. We recommend you rename the dims immediately to become distinct, as most xarray functionality is likely to fail silently if you do not. To rename the dimensions you will need to set the ``.dims`` attribute of each variable, ``e.g. var.dims=('x0', 'x1')``.\n",
      "  warnings.warn(\n",
      "C:\\Users\\Public\\Documents\\ESTsoft\\CreatorTemp\\ipykernel_27924\\1132174140.py:51: FutureWarning: 'T' is deprecated and will be removed in a future version, please use 'min' instead.\n",
      "  df2['Time'] = df2['Time'].dt.floor('T')  # T represents minute\n",
      "c:\\Users\\joonw\\anaconda3\\envs\\jl2815\\Lib\\site-packages\\xarray\\namedarray\\core.py:514: UserWarning: Duplicate dimension names present: dimensions {'nlayer2'} appear more than once in dims=('nlayer2', 'nlayer2', 'spatial', 'image'). We do not yet support duplicate dimension names, but we do allow initial construction of the object. We recommend you rename the dims immediately to become distinct, as most xarray functionality is likely to fail silently if you do not. To rename the dimensions you will need to set the ``.dims`` attribute of each variable, ``e.g. var.dims=('x0', 'x1')``.\n",
      "  warnings.warn(\n",
      "C:\\Users\\Public\\Documents\\ESTsoft\\CreatorTemp\\ipykernel_27924\\1132174140.py:51: FutureWarning: 'T' is deprecated and will be removed in a future version, please use 'min' instead.\n",
      "  df2['Time'] = df2['Time'].dt.floor('T')  # T represents minute\n",
      "c:\\Users\\joonw\\anaconda3\\envs\\jl2815\\Lib\\site-packages\\xarray\\namedarray\\core.py:514: UserWarning: Duplicate dimension names present: dimensions {'nlayer2'} appear more than once in dims=('nlayer2', 'nlayer2', 'spatial', 'image'). We do not yet support duplicate dimension names, but we do allow initial construction of the object. We recommend you rename the dims immediately to become distinct, as most xarray functionality is likely to fail silently if you do not. To rename the dimensions you will need to set the ``.dims`` attribute of each variable, ``e.g. var.dims=('x0', 'x1')``.\n",
      "  warnings.warn(\n",
      "C:\\Users\\Public\\Documents\\ESTsoft\\CreatorTemp\\ipykernel_27924\\1132174140.py:51: FutureWarning: 'T' is deprecated and will be removed in a future version, please use 'min' instead.\n",
      "  df2['Time'] = df2['Time'].dt.floor('T')  # T represents minute\n",
      "c:\\Users\\joonw\\anaconda3\\envs\\jl2815\\Lib\\site-packages\\xarray\\namedarray\\core.py:514: UserWarning: Duplicate dimension names present: dimensions {'nlayer2'} appear more than once in dims=('nlayer2', 'nlayer2', 'spatial', 'image'). We do not yet support duplicate dimension names, but we do allow initial construction of the object. We recommend you rename the dims immediately to become distinct, as most xarray functionality is likely to fail silently if you do not. To rename the dimensions you will need to set the ``.dims`` attribute of each variable, ``e.g. var.dims=('x0', 'x1')``.\n",
      "  warnings.warn(\n",
      "C:\\Users\\Public\\Documents\\ESTsoft\\CreatorTemp\\ipykernel_27924\\1132174140.py:51: FutureWarning: 'T' is deprecated and will be removed in a future version, please use 'min' instead.\n",
      "  df2['Time'] = df2['Time'].dt.floor('T')  # T represents minute\n",
      "c:\\Users\\joonw\\anaconda3\\envs\\jl2815\\Lib\\site-packages\\xarray\\namedarray\\core.py:514: UserWarning: Duplicate dimension names present: dimensions {'nlayer2'} appear more than once in dims=('nlayer2', 'nlayer2', 'spatial', 'image'). We do not yet support duplicate dimension names, but we do allow initial construction of the object. We recommend you rename the dims immediately to become distinct, as most xarray functionality is likely to fail silently if you do not. To rename the dimensions you will need to set the ``.dims`` attribute of each variable, ``e.g. var.dims=('x0', 'x1')``.\n",
      "  warnings.warn(\n",
      "C:\\Users\\Public\\Documents\\ESTsoft\\CreatorTemp\\ipykernel_27924\\1132174140.py:51: FutureWarning: 'T' is deprecated and will be removed in a future version, please use 'min' instead.\n",
      "  df2['Time'] = df2['Time'].dt.floor('T')  # T represents minute\n",
      "c:\\Users\\joonw\\anaconda3\\envs\\jl2815\\Lib\\site-packages\\xarray\\namedarray\\core.py:514: UserWarning: Duplicate dimension names present: dimensions {'nlayer2'} appear more than once in dims=('nlayer2', 'nlayer2', 'spatial', 'image'). We do not yet support duplicate dimension names, but we do allow initial construction of the object. We recommend you rename the dims immediately to become distinct, as most xarray functionality is likely to fail silently if you do not. To rename the dimensions you will need to set the ``.dims`` attribute of each variable, ``e.g. var.dims=('x0', 'x1')``.\n",
      "  warnings.warn(\n",
      "C:\\Users\\Public\\Documents\\ESTsoft\\CreatorTemp\\ipykernel_27924\\1132174140.py:51: FutureWarning: 'T' is deprecated and will be removed in a future version, please use 'min' instead.\n",
      "  df2['Time'] = df2['Time'].dt.floor('T')  # T represents minute\n",
      "c:\\Users\\joonw\\anaconda3\\envs\\jl2815\\Lib\\site-packages\\xarray\\namedarray\\core.py:514: UserWarning: Duplicate dimension names present: dimensions {'nlayer2'} appear more than once in dims=('nlayer2', 'nlayer2', 'spatial', 'image'). We do not yet support duplicate dimension names, but we do allow initial construction of the object. We recommend you rename the dims immediately to become distinct, as most xarray functionality is likely to fail silently if you do not. To rename the dimensions you will need to set the ``.dims`` attribute of each variable, ``e.g. var.dims=('x0', 'x1')``.\n",
      "  warnings.warn(\n",
      "C:\\Users\\Public\\Documents\\ESTsoft\\CreatorTemp\\ipykernel_27924\\1132174140.py:51: FutureWarning: 'T' is deprecated and will be removed in a future version, please use 'min' instead.\n",
      "  df2['Time'] = df2['Time'].dt.floor('T')  # T represents minute\n",
      "c:\\Users\\joonw\\anaconda3\\envs\\jl2815\\Lib\\site-packages\\xarray\\namedarray\\core.py:514: UserWarning: Duplicate dimension names present: dimensions {'nlayer2'} appear more than once in dims=('nlayer2', 'nlayer2', 'spatial', 'image'). We do not yet support duplicate dimension names, but we do allow initial construction of the object. We recommend you rename the dims immediately to become distinct, as most xarray functionality is likely to fail silently if you do not. To rename the dimensions you will need to set the ``.dims`` attribute of each variable, ``e.g. var.dims=('x0', 'x1')``.\n",
      "  warnings.warn(\n",
      "C:\\Users\\Public\\Documents\\ESTsoft\\CreatorTemp\\ipykernel_27924\\1132174140.py:51: FutureWarning: 'T' is deprecated and will be removed in a future version, please use 'min' instead.\n",
      "  df2['Time'] = df2['Time'].dt.floor('T')  # T represents minute\n",
      "c:\\Users\\joonw\\anaconda3\\envs\\jl2815\\Lib\\site-packages\\xarray\\namedarray\\core.py:514: UserWarning: Duplicate dimension names present: dimensions {'nlayer2'} appear more than once in dims=('nlayer2', 'nlayer2', 'spatial', 'image'). We do not yet support duplicate dimension names, but we do allow initial construction of the object. We recommend you rename the dims immediately to become distinct, as most xarray functionality is likely to fail silently if you do not. To rename the dimensions you will need to set the ``.dims`` attribute of each variable, ``e.g. var.dims=('x0', 'x1')``.\n",
      "  warnings.warn(\n",
      "C:\\Users\\Public\\Documents\\ESTsoft\\CreatorTemp\\ipykernel_27924\\1132174140.py:51: FutureWarning: 'T' is deprecated and will be removed in a future version, please use 'min' instead.\n",
      "  df2['Time'] = df2['Time'].dt.floor('T')  # T represents minute\n",
      "c:\\Users\\joonw\\anaconda3\\envs\\jl2815\\Lib\\site-packages\\xarray\\namedarray\\core.py:514: UserWarning: Duplicate dimension names present: dimensions {'nlayer2'} appear more than once in dims=('nlayer2', 'nlayer2', 'spatial', 'image'). We do not yet support duplicate dimension names, but we do allow initial construction of the object. We recommend you rename the dims immediately to become distinct, as most xarray functionality is likely to fail silently if you do not. To rename the dimensions you will need to set the ``.dims`` attribute of each variable, ``e.g. var.dims=('x0', 'x1')``.\n",
      "  warnings.warn(\n",
      "C:\\Users\\Public\\Documents\\ESTsoft\\CreatorTemp\\ipykernel_27924\\1132174140.py:51: FutureWarning: 'T' is deprecated and will be removed in a future version, please use 'min' instead.\n",
      "  df2['Time'] = df2['Time'].dt.floor('T')  # T represents minute\n",
      "c:\\Users\\joonw\\anaconda3\\envs\\jl2815\\Lib\\site-packages\\xarray\\namedarray\\core.py:514: UserWarning: Duplicate dimension names present: dimensions {'nlayer2'} appear more than once in dims=('nlayer2', 'nlayer2', 'spatial', 'image'). We do not yet support duplicate dimension names, but we do allow initial construction of the object. We recommend you rename the dims immediately to become distinct, as most xarray functionality is likely to fail silently if you do not. To rename the dimensions you will need to set the ``.dims`` attribute of each variable, ``e.g. var.dims=('x0', 'x1')``.\n",
      "  warnings.warn(\n",
      "C:\\Users\\Public\\Documents\\ESTsoft\\CreatorTemp\\ipykernel_27924\\1132174140.py:51: FutureWarning: 'T' is deprecated and will be removed in a future version, please use 'min' instead.\n",
      "  df2['Time'] = df2['Time'].dt.floor('T')  # T represents minute\n",
      "c:\\Users\\joonw\\anaconda3\\envs\\jl2815\\Lib\\site-packages\\xarray\\namedarray\\core.py:514: UserWarning: Duplicate dimension names present: dimensions {'nlayer2'} appear more than once in dims=('nlayer2', 'nlayer2', 'spatial', 'image'). We do not yet support duplicate dimension names, but we do allow initial construction of the object. We recommend you rename the dims immediately to become distinct, as most xarray functionality is likely to fail silently if you do not. To rename the dimensions you will need to set the ``.dims`` attribute of each variable, ``e.g. var.dims=('x0', 'x1')``.\n",
      "  warnings.warn(\n",
      "C:\\Users\\Public\\Documents\\ESTsoft\\CreatorTemp\\ipykernel_27924\\1132174140.py:51: FutureWarning: 'T' is deprecated and will be removed in a future version, please use 'min' instead.\n",
      "  df2['Time'] = df2['Time'].dt.floor('T')  # T represents minute\n",
      "c:\\Users\\joonw\\anaconda3\\envs\\jl2815\\Lib\\site-packages\\xarray\\namedarray\\core.py:514: UserWarning: Duplicate dimension names present: dimensions {'nlayer2'} appear more than once in dims=('nlayer2', 'nlayer2', 'spatial', 'image'). We do not yet support duplicate dimension names, but we do allow initial construction of the object. We recommend you rename the dims immediately to become distinct, as most xarray functionality is likely to fail silently if you do not. To rename the dimensions you will need to set the ``.dims`` attribute of each variable, ``e.g. var.dims=('x0', 'x1')``.\n",
      "  warnings.warn(\n",
      "C:\\Users\\Public\\Documents\\ESTsoft\\CreatorTemp\\ipykernel_27924\\1132174140.py:51: FutureWarning: 'T' is deprecated and will be removed in a future version, please use 'min' instead.\n",
      "  df2['Time'] = df2['Time'].dt.floor('T')  # T represents minute\n",
      "c:\\Users\\joonw\\anaconda3\\envs\\jl2815\\Lib\\site-packages\\xarray\\namedarray\\core.py:514: UserWarning: Duplicate dimension names present: dimensions {'nlayer2'} appear more than once in dims=('nlayer2', 'nlayer2', 'spatial', 'image'). We do not yet support duplicate dimension names, but we do allow initial construction of the object. We recommend you rename the dims immediately to become distinct, as most xarray functionality is likely to fail silently if you do not. To rename the dimensions you will need to set the ``.dims`` attribute of each variable, ``e.g. var.dims=('x0', 'x1')``.\n",
      "  warnings.warn(\n",
      "C:\\Users\\Public\\Documents\\ESTsoft\\CreatorTemp\\ipykernel_27924\\1132174140.py:51: FutureWarning: 'T' is deprecated and will be removed in a future version, please use 'min' instead.\n",
      "  df2['Time'] = df2['Time'].dt.floor('T')  # T represents minute\n",
      "c:\\Users\\joonw\\anaconda3\\envs\\jl2815\\Lib\\site-packages\\xarray\\namedarray\\core.py:514: UserWarning: Duplicate dimension names present: dimensions {'nlayer2'} appear more than once in dims=('nlayer2', 'nlayer2', 'spatial', 'image'). We do not yet support duplicate dimension names, but we do allow initial construction of the object. We recommend you rename the dims immediately to become distinct, as most xarray functionality is likely to fail silently if you do not. To rename the dimensions you will need to set the ``.dims`` attribute of each variable, ``e.g. var.dims=('x0', 'x1')``.\n",
      "  warnings.warn(\n",
      "C:\\Users\\Public\\Documents\\ESTsoft\\CreatorTemp\\ipykernel_27924\\1132174140.py:51: FutureWarning: 'T' is deprecated and will be removed in a future version, please use 'min' instead.\n",
      "  df2['Time'] = df2['Time'].dt.floor('T')  # T represents minute\n",
      "c:\\Users\\joonw\\anaconda3\\envs\\jl2815\\Lib\\site-packages\\xarray\\namedarray\\core.py:514: UserWarning: Duplicate dimension names present: dimensions {'nlayer2'} appear more than once in dims=('nlayer2', 'nlayer2', 'spatial', 'image'). We do not yet support duplicate dimension names, but we do allow initial construction of the object. We recommend you rename the dims immediately to become distinct, as most xarray functionality is likely to fail silently if you do not. To rename the dimensions you will need to set the ``.dims`` attribute of each variable, ``e.g. var.dims=('x0', 'x1')``.\n",
      "  warnings.warn(\n",
      "C:\\Users\\Public\\Documents\\ESTsoft\\CreatorTemp\\ipykernel_27924\\1132174140.py:51: FutureWarning: 'T' is deprecated and will be removed in a future version, please use 'min' instead.\n",
      "  df2['Time'] = df2['Time'].dt.floor('T')  # T represents minute\n",
      "c:\\Users\\joonw\\anaconda3\\envs\\jl2815\\Lib\\site-packages\\xarray\\namedarray\\core.py:514: UserWarning: Duplicate dimension names present: dimensions {'nlayer2'} appear more than once in dims=('nlayer2', 'nlayer2', 'spatial', 'image'). We do not yet support duplicate dimension names, but we do allow initial construction of the object. We recommend you rename the dims immediately to become distinct, as most xarray functionality is likely to fail silently if you do not. To rename the dimensions you will need to set the ``.dims`` attribute of each variable, ``e.g. var.dims=('x0', 'x1')``.\n",
      "  warnings.warn(\n",
      "C:\\Users\\Public\\Documents\\ESTsoft\\CreatorTemp\\ipykernel_27924\\1132174140.py:51: FutureWarning: 'T' is deprecated and will be removed in a future version, please use 'min' instead.\n",
      "  df2['Time'] = df2['Time'].dt.floor('T')  # T represents minute\n",
      "c:\\Users\\joonw\\anaconda3\\envs\\jl2815\\Lib\\site-packages\\xarray\\namedarray\\core.py:514: UserWarning: Duplicate dimension names present: dimensions {'nlayer2'} appear more than once in dims=('nlayer2', 'nlayer2', 'spatial', 'image'). We do not yet support duplicate dimension names, but we do allow initial construction of the object. We recommend you rename the dims immediately to become distinct, as most xarray functionality is likely to fail silently if you do not. To rename the dimensions you will need to set the ``.dims`` attribute of each variable, ``e.g. var.dims=('x0', 'x1')``.\n",
      "  warnings.warn(\n",
      "C:\\Users\\Public\\Documents\\ESTsoft\\CreatorTemp\\ipykernel_27924\\1132174140.py:51: FutureWarning: 'T' is deprecated and will be removed in a future version, please use 'min' instead.\n",
      "  df2['Time'] = df2['Time'].dt.floor('T')  # T represents minute\n",
      "c:\\Users\\joonw\\anaconda3\\envs\\jl2815\\Lib\\site-packages\\xarray\\namedarray\\core.py:514: UserWarning: Duplicate dimension names present: dimensions {'nlayer2'} appear more than once in dims=('nlayer2', 'nlayer2', 'spatial', 'image'). We do not yet support duplicate dimension names, but we do allow initial construction of the object. We recommend you rename the dims immediately to become distinct, as most xarray functionality is likely to fail silently if you do not. To rename the dimensions you will need to set the ``.dims`` attribute of each variable, ``e.g. var.dims=('x0', 'x1')``.\n",
      "  warnings.warn(\n",
      "C:\\Users\\Public\\Documents\\ESTsoft\\CreatorTemp\\ipykernel_27924\\1132174140.py:51: FutureWarning: 'T' is deprecated and will be removed in a future version, please use 'min' instead.\n",
      "  df2['Time'] = df2['Time'].dt.floor('T')  # T represents minute\n",
      "c:\\Users\\joonw\\anaconda3\\envs\\jl2815\\Lib\\site-packages\\xarray\\namedarray\\core.py:514: UserWarning: Duplicate dimension names present: dimensions {'nlayer2'} appear more than once in dims=('nlayer2', 'nlayer2', 'spatial', 'image'). We do not yet support duplicate dimension names, but we do allow initial construction of the object. We recommend you rename the dims immediately to become distinct, as most xarray functionality is likely to fail silently if you do not. To rename the dimensions you will need to set the ``.dims`` attribute of each variable, ``e.g. var.dims=('x0', 'x1')``.\n",
      "  warnings.warn(\n",
      "C:\\Users\\Public\\Documents\\ESTsoft\\CreatorTemp\\ipykernel_27924\\1132174140.py:51: FutureWarning: 'T' is deprecated and will be removed in a future version, please use 'min' instead.\n",
      "  df2['Time'] = df2['Time'].dt.floor('T')  # T represents minute\n",
      "c:\\Users\\joonw\\anaconda3\\envs\\jl2815\\Lib\\site-packages\\xarray\\namedarray\\core.py:514: UserWarning: Duplicate dimension names present: dimensions {'nlayer2'} appear more than once in dims=('nlayer2', 'nlayer2', 'spatial', 'image'). We do not yet support duplicate dimension names, but we do allow initial construction of the object. We recommend you rename the dims immediately to become distinct, as most xarray functionality is likely to fail silently if you do not. To rename the dimensions you will need to set the ``.dims`` attribute of each variable, ``e.g. var.dims=('x0', 'x1')``.\n",
      "  warnings.warn(\n",
      "C:\\Users\\Public\\Documents\\ESTsoft\\CreatorTemp\\ipykernel_27924\\1132174140.py:51: FutureWarning: 'T' is deprecated and will be removed in a future version, please use 'min' instead.\n",
      "  df2['Time'] = df2['Time'].dt.floor('T')  # T represents minute\n",
      "c:\\Users\\joonw\\anaconda3\\envs\\jl2815\\Lib\\site-packages\\xarray\\namedarray\\core.py:514: UserWarning: Duplicate dimension names present: dimensions {'nlayer2'} appear more than once in dims=('nlayer2', 'nlayer2', 'spatial', 'image'). We do not yet support duplicate dimension names, but we do allow initial construction of the object. We recommend you rename the dims immediately to become distinct, as most xarray functionality is likely to fail silently if you do not. To rename the dimensions you will need to set the ``.dims`` attribute of each variable, ``e.g. var.dims=('x0', 'x1')``.\n",
      "  warnings.warn(\n",
      "C:\\Users\\Public\\Documents\\ESTsoft\\CreatorTemp\\ipykernel_27924\\1132174140.py:51: FutureWarning: 'T' is deprecated and will be removed in a future version, please use 'min' instead.\n",
      "  df2['Time'] = df2['Time'].dt.floor('T')  # T represents minute\n",
      "c:\\Users\\joonw\\anaconda3\\envs\\jl2815\\Lib\\site-packages\\xarray\\namedarray\\core.py:514: UserWarning: Duplicate dimension names present: dimensions {'nlayer2'} appear more than once in dims=('nlayer2', 'nlayer2', 'spatial', 'image'). We do not yet support duplicate dimension names, but we do allow initial construction of the object. We recommend you rename the dims immediately to become distinct, as most xarray functionality is likely to fail silently if you do not. To rename the dimensions you will need to set the ``.dims`` attribute of each variable, ``e.g. var.dims=('x0', 'x1')``.\n",
      "  warnings.warn(\n",
      "C:\\Users\\Public\\Documents\\ESTsoft\\CreatorTemp\\ipykernel_27924\\1132174140.py:51: FutureWarning: 'T' is deprecated and will be removed in a future version, please use 'min' instead.\n",
      "  df2['Time'] = df2['Time'].dt.floor('T')  # T represents minute\n",
      "c:\\Users\\joonw\\anaconda3\\envs\\jl2815\\Lib\\site-packages\\xarray\\namedarray\\core.py:514: UserWarning: Duplicate dimension names present: dimensions {'nlayer2'} appear more than once in dims=('nlayer2', 'nlayer2', 'spatial', 'image'). We do not yet support duplicate dimension names, but we do allow initial construction of the object. We recommend you rename the dims immediately to become distinct, as most xarray functionality is likely to fail silently if you do not. To rename the dimensions you will need to set the ``.dims`` attribute of each variable, ``e.g. var.dims=('x0', 'x1')``.\n",
      "  warnings.warn(\n",
      "C:\\Users\\Public\\Documents\\ESTsoft\\CreatorTemp\\ipykernel_27924\\1132174140.py:51: FutureWarning: 'T' is deprecated and will be removed in a future version, please use 'min' instead.\n",
      "  df2['Time'] = df2['Time'].dt.floor('T')  # T represents minute\n",
      "c:\\Users\\joonw\\anaconda3\\envs\\jl2815\\Lib\\site-packages\\xarray\\namedarray\\core.py:514: UserWarning: Duplicate dimension names present: dimensions {'nlayer2'} appear more than once in dims=('nlayer2', 'nlayer2', 'spatial', 'image'). We do not yet support duplicate dimension names, but we do allow initial construction of the object. We recommend you rename the dims immediately to become distinct, as most xarray functionality is likely to fail silently if you do not. To rename the dimensions you will need to set the ``.dims`` attribute of each variable, ``e.g. var.dims=('x0', 'x1')``.\n",
      "  warnings.warn(\n",
      "C:\\Users\\Public\\Documents\\ESTsoft\\CreatorTemp\\ipykernel_27924\\1132174140.py:51: FutureWarning: 'T' is deprecated and will be removed in a future version, please use 'min' instead.\n",
      "  df2['Time'] = df2['Time'].dt.floor('T')  # T represents minute\n",
      "c:\\Users\\joonw\\anaconda3\\envs\\jl2815\\Lib\\site-packages\\xarray\\namedarray\\core.py:514: UserWarning: Duplicate dimension names present: dimensions {'nlayer2'} appear more than once in dims=('nlayer2', 'nlayer2', 'spatial', 'image'). We do not yet support duplicate dimension names, but we do allow initial construction of the object. We recommend you rename the dims immediately to become distinct, as most xarray functionality is likely to fail silently if you do not. To rename the dimensions you will need to set the ``.dims`` attribute of each variable, ``e.g. var.dims=('x0', 'x1')``.\n",
      "  warnings.warn(\n",
      "C:\\Users\\Public\\Documents\\ESTsoft\\CreatorTemp\\ipykernel_27924\\1132174140.py:51: FutureWarning: 'T' is deprecated and will be removed in a future version, please use 'min' instead.\n",
      "  df2['Time'] = df2['Time'].dt.floor('T')  # T represents minute\n",
      "c:\\Users\\joonw\\anaconda3\\envs\\jl2815\\Lib\\site-packages\\xarray\\namedarray\\core.py:514: UserWarning: Duplicate dimension names present: dimensions {'nlayer2'} appear more than once in dims=('nlayer2', 'nlayer2', 'spatial', 'image'). We do not yet support duplicate dimension names, but we do allow initial construction of the object. We recommend you rename the dims immediately to become distinct, as most xarray functionality is likely to fail silently if you do not. To rename the dimensions you will need to set the ``.dims`` attribute of each variable, ``e.g. var.dims=('x0', 'x1')``.\n",
      "  warnings.warn(\n",
      "C:\\Users\\Public\\Documents\\ESTsoft\\CreatorTemp\\ipykernel_27924\\1132174140.py:51: FutureWarning: 'T' is deprecated and will be removed in a future version, please use 'min' instead.\n",
      "  df2['Time'] = df2['Time'].dt.floor('T')  # T represents minute\n",
      "c:\\Users\\joonw\\anaconda3\\envs\\jl2815\\Lib\\site-packages\\xarray\\namedarray\\core.py:514: UserWarning: Duplicate dimension names present: dimensions {'nlayer2'} appear more than once in dims=('nlayer2', 'nlayer2', 'spatial', 'image'). We do not yet support duplicate dimension names, but we do allow initial construction of the object. We recommend you rename the dims immediately to become distinct, as most xarray functionality is likely to fail silently if you do not. To rename the dimensions you will need to set the ``.dims`` attribute of each variable, ``e.g. var.dims=('x0', 'x1')``.\n",
      "  warnings.warn(\n",
      "C:\\Users\\Public\\Documents\\ESTsoft\\CreatorTemp\\ipykernel_27924\\1132174140.py:51: FutureWarning: 'T' is deprecated and will be removed in a future version, please use 'min' instead.\n",
      "  df2['Time'] = df2['Time'].dt.floor('T')  # T represents minute\n",
      "c:\\Users\\joonw\\anaconda3\\envs\\jl2815\\Lib\\site-packages\\xarray\\namedarray\\core.py:514: UserWarning: Duplicate dimension names present: dimensions {'nlayer2'} appear more than once in dims=('nlayer2', 'nlayer2', 'spatial', 'image'). We do not yet support duplicate dimension names, but we do allow initial construction of the object. We recommend you rename the dims immediately to become distinct, as most xarray functionality is likely to fail silently if you do not. To rename the dimensions you will need to set the ``.dims`` attribute of each variable, ``e.g. var.dims=('x0', 'x1')``.\n",
      "  warnings.warn(\n",
      "C:\\Users\\Public\\Documents\\ESTsoft\\CreatorTemp\\ipykernel_27924\\1132174140.py:51: FutureWarning: 'T' is deprecated and will be removed in a future version, please use 'min' instead.\n",
      "  df2['Time'] = df2['Time'].dt.floor('T')  # T represents minute\n",
      "c:\\Users\\joonw\\anaconda3\\envs\\jl2815\\Lib\\site-packages\\xarray\\namedarray\\core.py:514: UserWarning: Duplicate dimension names present: dimensions {'nlayer2'} appear more than once in dims=('nlayer2', 'nlayer2', 'spatial', 'image'). We do not yet support duplicate dimension names, but we do allow initial construction of the object. We recommend you rename the dims immediately to become distinct, as most xarray functionality is likely to fail silently if you do not. To rename the dimensions you will need to set the ``.dims`` attribute of each variable, ``e.g. var.dims=('x0', 'x1')``.\n",
      "  warnings.warn(\n",
      "C:\\Users\\Public\\Documents\\ESTsoft\\CreatorTemp\\ipykernel_27924\\1132174140.py:51: FutureWarning: 'T' is deprecated and will be removed in a future version, please use 'min' instead.\n",
      "  df2['Time'] = df2['Time'].dt.floor('T')  # T represents minute\n",
      "c:\\Users\\joonw\\anaconda3\\envs\\jl2815\\Lib\\site-packages\\xarray\\namedarray\\core.py:514: UserWarning: Duplicate dimension names present: dimensions {'nlayer2'} appear more than once in dims=('nlayer2', 'nlayer2', 'spatial', 'image'). We do not yet support duplicate dimension names, but we do allow initial construction of the object. We recommend you rename the dims immediately to become distinct, as most xarray functionality is likely to fail silently if you do not. To rename the dimensions you will need to set the ``.dims`` attribute of each variable, ``e.g. var.dims=('x0', 'x1')``.\n",
      "  warnings.warn(\n",
      "C:\\Users\\Public\\Documents\\ESTsoft\\CreatorTemp\\ipykernel_27924\\1132174140.py:51: FutureWarning: 'T' is deprecated and will be removed in a future version, please use 'min' instead.\n",
      "  df2['Time'] = df2['Time'].dt.floor('T')  # T represents minute\n",
      "c:\\Users\\joonw\\anaconda3\\envs\\jl2815\\Lib\\site-packages\\xarray\\namedarray\\core.py:514: UserWarning: Duplicate dimension names present: dimensions {'nlayer2'} appear more than once in dims=('nlayer2', 'nlayer2', 'spatial', 'image'). We do not yet support duplicate dimension names, but we do allow initial construction of the object. We recommend you rename the dims immediately to become distinct, as most xarray functionality is likely to fail silently if you do not. To rename the dimensions you will need to set the ``.dims`` attribute of each variable, ``e.g. var.dims=('x0', 'x1')``.\n",
      "  warnings.warn(\n",
      "C:\\Users\\Public\\Documents\\ESTsoft\\CreatorTemp\\ipykernel_27924\\1132174140.py:51: FutureWarning: 'T' is deprecated and will be removed in a future version, please use 'min' instead.\n",
      "  df2['Time'] = df2['Time'].dt.floor('T')  # T represents minute\n",
      "c:\\Users\\joonw\\anaconda3\\envs\\jl2815\\Lib\\site-packages\\xarray\\namedarray\\core.py:514: UserWarning: Duplicate dimension names present: dimensions {'nlayer2'} appear more than once in dims=('nlayer2', 'nlayer2', 'spatial', 'image'). We do not yet support duplicate dimension names, but we do allow initial construction of the object. We recommend you rename the dims immediately to become distinct, as most xarray functionality is likely to fail silently if you do not. To rename the dimensions you will need to set the ``.dims`` attribute of each variable, ``e.g. var.dims=('x0', 'x1')``.\n",
      "  warnings.warn(\n",
      "C:\\Users\\Public\\Documents\\ESTsoft\\CreatorTemp\\ipykernel_27924\\1132174140.py:51: FutureWarning: 'T' is deprecated and will be removed in a future version, please use 'min' instead.\n",
      "  df2['Time'] = df2['Time'].dt.floor('T')  # T represents minute\n",
      "c:\\Users\\joonw\\anaconda3\\envs\\jl2815\\Lib\\site-packages\\xarray\\namedarray\\core.py:514: UserWarning: Duplicate dimension names present: dimensions {'nlayer2'} appear more than once in dims=('nlayer2', 'nlayer2', 'spatial', 'image'). We do not yet support duplicate dimension names, but we do allow initial construction of the object. We recommend you rename the dims immediately to become distinct, as most xarray functionality is likely to fail silently if you do not. To rename the dimensions you will need to set the ``.dims`` attribute of each variable, ``e.g. var.dims=('x0', 'x1')``.\n",
      "  warnings.warn(\n",
      "C:\\Users\\Public\\Documents\\ESTsoft\\CreatorTemp\\ipykernel_27924\\1132174140.py:51: FutureWarning: 'T' is deprecated and will be removed in a future version, please use 'min' instead.\n",
      "  df2['Time'] = df2['Time'].dt.floor('T')  # T represents minute\n",
      "c:\\Users\\joonw\\anaconda3\\envs\\jl2815\\Lib\\site-packages\\xarray\\namedarray\\core.py:514: UserWarning: Duplicate dimension names present: dimensions {'nlayer2'} appear more than once in dims=('nlayer2', 'nlayer2', 'spatial', 'image'). We do not yet support duplicate dimension names, but we do allow initial construction of the object. We recommend you rename the dims immediately to become distinct, as most xarray functionality is likely to fail silently if you do not. To rename the dimensions you will need to set the ``.dims`` attribute of each variable, ``e.g. var.dims=('x0', 'x1')``.\n",
      "  warnings.warn(\n",
      "C:\\Users\\Public\\Documents\\ESTsoft\\CreatorTemp\\ipykernel_27924\\1132174140.py:51: FutureWarning: 'T' is deprecated and will be removed in a future version, please use 'min' instead.\n",
      "  df2['Time'] = df2['Time'].dt.floor('T')  # T represents minute\n",
      "c:\\Users\\joonw\\anaconda3\\envs\\jl2815\\Lib\\site-packages\\xarray\\namedarray\\core.py:514: UserWarning: Duplicate dimension names present: dimensions {'nlayer2'} appear more than once in dims=('nlayer2', 'nlayer2', 'spatial', 'image'). We do not yet support duplicate dimension names, but we do allow initial construction of the object. We recommend you rename the dims immediately to become distinct, as most xarray functionality is likely to fail silently if you do not. To rename the dimensions you will need to set the ``.dims`` attribute of each variable, ``e.g. var.dims=('x0', 'x1')``.\n",
      "  warnings.warn(\n",
      "C:\\Users\\Public\\Documents\\ESTsoft\\CreatorTemp\\ipykernel_27924\\1132174140.py:51: FutureWarning: 'T' is deprecated and will be removed in a future version, please use 'min' instead.\n",
      "  df2['Time'] = df2['Time'].dt.floor('T')  # T represents minute\n",
      "c:\\Users\\joonw\\anaconda3\\envs\\jl2815\\Lib\\site-packages\\xarray\\namedarray\\core.py:514: UserWarning: Duplicate dimension names present: dimensions {'nlayer2'} appear more than once in dims=('nlayer2', 'nlayer2', 'spatial', 'image'). We do not yet support duplicate dimension names, but we do allow initial construction of the object. We recommend you rename the dims immediately to become distinct, as most xarray functionality is likely to fail silently if you do not. To rename the dimensions you will need to set the ``.dims`` attribute of each variable, ``e.g. var.dims=('x0', 'x1')``.\n",
      "  warnings.warn(\n",
      "C:\\Users\\Public\\Documents\\ESTsoft\\CreatorTemp\\ipykernel_27924\\1132174140.py:51: FutureWarning: 'T' is deprecated and will be removed in a future version, please use 'min' instead.\n",
      "  df2['Time'] = df2['Time'].dt.floor('T')  # T represents minute\n",
      "c:\\Users\\joonw\\anaconda3\\envs\\jl2815\\Lib\\site-packages\\xarray\\namedarray\\core.py:514: UserWarning: Duplicate dimension names present: dimensions {'nlayer2'} appear more than once in dims=('nlayer2', 'nlayer2', 'spatial', 'image'). We do not yet support duplicate dimension names, but we do allow initial construction of the object. We recommend you rename the dims immediately to become distinct, as most xarray functionality is likely to fail silently if you do not. To rename the dimensions you will need to set the ``.dims`` attribute of each variable, ``e.g. var.dims=('x0', 'x1')``.\n",
      "  warnings.warn(\n",
      "C:\\Users\\Public\\Documents\\ESTsoft\\CreatorTemp\\ipykernel_27924\\1132174140.py:51: FutureWarning: 'T' is deprecated and will be removed in a future version, please use 'min' instead.\n",
      "  df2['Time'] = df2['Time'].dt.floor('T')  # T represents minute\n",
      "c:\\Users\\joonw\\anaconda3\\envs\\jl2815\\Lib\\site-packages\\xarray\\namedarray\\core.py:514: UserWarning: Duplicate dimension names present: dimensions {'nlayer2'} appear more than once in dims=('nlayer2', 'nlayer2', 'spatial', 'image'). We do not yet support duplicate dimension names, but we do allow initial construction of the object. We recommend you rename the dims immediately to become distinct, as most xarray functionality is likely to fail silently if you do not. To rename the dimensions you will need to set the ``.dims`` attribute of each variable, ``e.g. var.dims=('x0', 'x1')``.\n",
      "  warnings.warn(\n",
      "C:\\Users\\Public\\Documents\\ESTsoft\\CreatorTemp\\ipykernel_27924\\1132174140.py:51: FutureWarning: 'T' is deprecated and will be removed in a future version, please use 'min' instead.\n",
      "  df2['Time'] = df2['Time'].dt.floor('T')  # T represents minute\n",
      "c:\\Users\\joonw\\anaconda3\\envs\\jl2815\\Lib\\site-packages\\xarray\\namedarray\\core.py:514: UserWarning: Duplicate dimension names present: dimensions {'nlayer2'} appear more than once in dims=('nlayer2', 'nlayer2', 'spatial', 'image'). We do not yet support duplicate dimension names, but we do allow initial construction of the object. We recommend you rename the dims immediately to become distinct, as most xarray functionality is likely to fail silently if you do not. To rename the dimensions you will need to set the ``.dims`` attribute of each variable, ``e.g. var.dims=('x0', 'x1')``.\n",
      "  warnings.warn(\n",
      "C:\\Users\\Public\\Documents\\ESTsoft\\CreatorTemp\\ipykernel_27924\\1132174140.py:51: FutureWarning: 'T' is deprecated and will be removed in a future version, please use 'min' instead.\n",
      "  df2['Time'] = df2['Time'].dt.floor('T')  # T represents minute\n",
      "c:\\Users\\joonw\\anaconda3\\envs\\jl2815\\Lib\\site-packages\\xarray\\namedarray\\core.py:514: UserWarning: Duplicate dimension names present: dimensions {'nlayer2'} appear more than once in dims=('nlayer2', 'nlayer2', 'spatial', 'image'). We do not yet support duplicate dimension names, but we do allow initial construction of the object. We recommend you rename the dims immediately to become distinct, as most xarray functionality is likely to fail silently if you do not. To rename the dimensions you will need to set the ``.dims`` attribute of each variable, ``e.g. var.dims=('x0', 'x1')``.\n",
      "  warnings.warn(\n",
      "C:\\Users\\Public\\Documents\\ESTsoft\\CreatorTemp\\ipykernel_27924\\1132174140.py:51: FutureWarning: 'T' is deprecated and will be removed in a future version, please use 'min' instead.\n",
      "  df2['Time'] = df2['Time'].dt.floor('T')  # T represents minute\n",
      "c:\\Users\\joonw\\anaconda3\\envs\\jl2815\\Lib\\site-packages\\xarray\\namedarray\\core.py:514: UserWarning: Duplicate dimension names present: dimensions {'nlayer2'} appear more than once in dims=('nlayer2', 'nlayer2', 'spatial', 'image'). We do not yet support duplicate dimension names, but we do allow initial construction of the object. We recommend you rename the dims immediately to become distinct, as most xarray functionality is likely to fail silently if you do not. To rename the dimensions you will need to set the ``.dims`` attribute of each variable, ``e.g. var.dims=('x0', 'x1')``.\n",
      "  warnings.warn(\n",
      "C:\\Users\\Public\\Documents\\ESTsoft\\CreatorTemp\\ipykernel_27924\\1132174140.py:51: FutureWarning: 'T' is deprecated and will be removed in a future version, please use 'min' instead.\n",
      "  df2['Time'] = df2['Time'].dt.floor('T')  # T represents minute\n",
      "c:\\Users\\joonw\\anaconda3\\envs\\jl2815\\Lib\\site-packages\\xarray\\namedarray\\core.py:514: UserWarning: Duplicate dimension names present: dimensions {'nlayer2'} appear more than once in dims=('nlayer2', 'nlayer2', 'spatial', 'image'). We do not yet support duplicate dimension names, but we do allow initial construction of the object. We recommend you rename the dims immediately to become distinct, as most xarray functionality is likely to fail silently if you do not. To rename the dimensions you will need to set the ``.dims`` attribute of each variable, ``e.g. var.dims=('x0', 'x1')``.\n",
      "  warnings.warn(\n",
      "C:\\Users\\Public\\Documents\\ESTsoft\\CreatorTemp\\ipykernel_27924\\1132174140.py:51: FutureWarning: 'T' is deprecated and will be removed in a future version, please use 'min' instead.\n",
      "  df2['Time'] = df2['Time'].dt.floor('T')  # T represents minute\n",
      "c:\\Users\\joonw\\anaconda3\\envs\\jl2815\\Lib\\site-packages\\xarray\\namedarray\\core.py:514: UserWarning: Duplicate dimension names present: dimensions {'nlayer2'} appear more than once in dims=('nlayer2', 'nlayer2', 'spatial', 'image'). We do not yet support duplicate dimension names, but we do allow initial construction of the object. We recommend you rename the dims immediately to become distinct, as most xarray functionality is likely to fail silently if you do not. To rename the dimensions you will need to set the ``.dims`` attribute of each variable, ``e.g. var.dims=('x0', 'x1')``.\n",
      "  warnings.warn(\n",
      "C:\\Users\\Public\\Documents\\ESTsoft\\CreatorTemp\\ipykernel_27924\\1132174140.py:51: FutureWarning: 'T' is deprecated and will be removed in a future version, please use 'min' instead.\n",
      "  df2['Time'] = df2['Time'].dt.floor('T')  # T represents minute\n",
      "c:\\Users\\joonw\\anaconda3\\envs\\jl2815\\Lib\\site-packages\\xarray\\namedarray\\core.py:514: UserWarning: Duplicate dimension names present: dimensions {'nlayer2'} appear more than once in dims=('nlayer2', 'nlayer2', 'spatial', 'image'). We do not yet support duplicate dimension names, but we do allow initial construction of the object. We recommend you rename the dims immediately to become distinct, as most xarray functionality is likely to fail silently if you do not. To rename the dimensions you will need to set the ``.dims`` attribute of each variable, ``e.g. var.dims=('x0', 'x1')``.\n",
      "  warnings.warn(\n",
      "C:\\Users\\Public\\Documents\\ESTsoft\\CreatorTemp\\ipykernel_27924\\1132174140.py:51: FutureWarning: 'T' is deprecated and will be removed in a future version, please use 'min' instead.\n",
      "  df2['Time'] = df2['Time'].dt.floor('T')  # T represents minute\n",
      "c:\\Users\\joonw\\anaconda3\\envs\\jl2815\\Lib\\site-packages\\xarray\\namedarray\\core.py:514: UserWarning: Duplicate dimension names present: dimensions {'nlayer2'} appear more than once in dims=('nlayer2', 'nlayer2', 'spatial', 'image'). We do not yet support duplicate dimension names, but we do allow initial construction of the object. We recommend you rename the dims immediately to become distinct, as most xarray functionality is likely to fail silently if you do not. To rename the dimensions you will need to set the ``.dims`` attribute of each variable, ``e.g. var.dims=('x0', 'x1')``.\n",
      "  warnings.warn(\n",
      "C:\\Users\\Public\\Documents\\ESTsoft\\CreatorTemp\\ipykernel_27924\\1132174140.py:51: FutureWarning: 'T' is deprecated and will be removed in a future version, please use 'min' instead.\n",
      "  df2['Time'] = df2['Time'].dt.floor('T')  # T represents minute\n",
      "c:\\Users\\joonw\\anaconda3\\envs\\jl2815\\Lib\\site-packages\\xarray\\namedarray\\core.py:514: UserWarning: Duplicate dimension names present: dimensions {'nlayer2'} appear more than once in dims=('nlayer2', 'nlayer2', 'spatial', 'image'). We do not yet support duplicate dimension names, but we do allow initial construction of the object. We recommend you rename the dims immediately to become distinct, as most xarray functionality is likely to fail silently if you do not. To rename the dimensions you will need to set the ``.dims`` attribute of each variable, ``e.g. var.dims=('x0', 'x1')``.\n",
      "  warnings.warn(\n",
      "C:\\Users\\Public\\Documents\\ESTsoft\\CreatorTemp\\ipykernel_27924\\1132174140.py:51: FutureWarning: 'T' is deprecated and will be removed in a future version, please use 'min' instead.\n",
      "  df2['Time'] = df2['Time'].dt.floor('T')  # T represents minute\n",
      "c:\\Users\\joonw\\anaconda3\\envs\\jl2815\\Lib\\site-packages\\xarray\\namedarray\\core.py:514: UserWarning: Duplicate dimension names present: dimensions {'nlayer2'} appear more than once in dims=('nlayer2', 'nlayer2', 'spatial', 'image'). We do not yet support duplicate dimension names, but we do allow initial construction of the object. We recommend you rename the dims immediately to become distinct, as most xarray functionality is likely to fail silently if you do not. To rename the dimensions you will need to set the ``.dims`` attribute of each variable, ``e.g. var.dims=('x0', 'x1')``.\n",
      "  warnings.warn(\n",
      "C:\\Users\\Public\\Documents\\ESTsoft\\CreatorTemp\\ipykernel_27924\\1132174140.py:51: FutureWarning: 'T' is deprecated and will be removed in a future version, please use 'min' instead.\n",
      "  df2['Time'] = df2['Time'].dt.floor('T')  # T represents minute\n",
      "c:\\Users\\joonw\\anaconda3\\envs\\jl2815\\Lib\\site-packages\\xarray\\namedarray\\core.py:514: UserWarning: Duplicate dimension names present: dimensions {'nlayer2'} appear more than once in dims=('nlayer2', 'nlayer2', 'spatial', 'image'). We do not yet support duplicate dimension names, but we do allow initial construction of the object. We recommend you rename the dims immediately to become distinct, as most xarray functionality is likely to fail silently if you do not. To rename the dimensions you will need to set the ``.dims`` attribute of each variable, ``e.g. var.dims=('x0', 'x1')``.\n",
      "  warnings.warn(\n",
      "C:\\Users\\Public\\Documents\\ESTsoft\\CreatorTemp\\ipykernel_27924\\1132174140.py:51: FutureWarning: 'T' is deprecated and will be removed in a future version, please use 'min' instead.\n",
      "  df2['Time'] = df2['Time'].dt.floor('T')  # T represents minute\n",
      "c:\\Users\\joonw\\anaconda3\\envs\\jl2815\\Lib\\site-packages\\xarray\\namedarray\\core.py:514: UserWarning: Duplicate dimension names present: dimensions {'nlayer2'} appear more than once in dims=('nlayer2', 'nlayer2', 'spatial', 'image'). We do not yet support duplicate dimension names, but we do allow initial construction of the object. We recommend you rename the dims immediately to become distinct, as most xarray functionality is likely to fail silently if you do not. To rename the dimensions you will need to set the ``.dims`` attribute of each variable, ``e.g. var.dims=('x0', 'x1')``.\n",
      "  warnings.warn(\n",
      "C:\\Users\\Public\\Documents\\ESTsoft\\CreatorTemp\\ipykernel_27924\\1132174140.py:51: FutureWarning: 'T' is deprecated and will be removed in a future version, please use 'min' instead.\n",
      "  df2['Time'] = df2['Time'].dt.floor('T')  # T represents minute\n",
      "c:\\Users\\joonw\\anaconda3\\envs\\jl2815\\Lib\\site-packages\\xarray\\namedarray\\core.py:514: UserWarning: Duplicate dimension names present: dimensions {'nlayer2'} appear more than once in dims=('nlayer2', 'nlayer2', 'spatial', 'image'). We do not yet support duplicate dimension names, but we do allow initial construction of the object. We recommend you rename the dims immediately to become distinct, as most xarray functionality is likely to fail silently if you do not. To rename the dimensions you will need to set the ``.dims`` attribute of each variable, ``e.g. var.dims=('x0', 'x1')``.\n",
      "  warnings.warn(\n",
      "C:\\Users\\Public\\Documents\\ESTsoft\\CreatorTemp\\ipykernel_27924\\1132174140.py:51: FutureWarning: 'T' is deprecated and will be removed in a future version, please use 'min' instead.\n",
      "  df2['Time'] = df2['Time'].dt.floor('T')  # T represents minute\n",
      "c:\\Users\\joonw\\anaconda3\\envs\\jl2815\\Lib\\site-packages\\xarray\\namedarray\\core.py:514: UserWarning: Duplicate dimension names present: dimensions {'nlayer2'} appear more than once in dims=('nlayer2', 'nlayer2', 'spatial', 'image'). We do not yet support duplicate dimension names, but we do allow initial construction of the object. We recommend you rename the dims immediately to become distinct, as most xarray functionality is likely to fail silently if you do not. To rename the dimensions you will need to set the ``.dims`` attribute of each variable, ``e.g. var.dims=('x0', 'x1')``.\n",
      "  warnings.warn(\n",
      "C:\\Users\\Public\\Documents\\ESTsoft\\CreatorTemp\\ipykernel_27924\\1132174140.py:51: FutureWarning: 'T' is deprecated and will be removed in a future version, please use 'min' instead.\n",
      "  df2['Time'] = df2['Time'].dt.floor('T')  # T represents minute\n",
      "c:\\Users\\joonw\\anaconda3\\envs\\jl2815\\Lib\\site-packages\\xarray\\namedarray\\core.py:514: UserWarning: Duplicate dimension names present: dimensions {'nlayer2'} appear more than once in dims=('nlayer2', 'nlayer2', 'spatial', 'image'). We do not yet support duplicate dimension names, but we do allow initial construction of the object. We recommend you rename the dims immediately to become distinct, as most xarray functionality is likely to fail silently if you do not. To rename the dimensions you will need to set the ``.dims`` attribute of each variable, ``e.g. var.dims=('x0', 'x1')``.\n",
      "  warnings.warn(\n",
      "C:\\Users\\Public\\Documents\\ESTsoft\\CreatorTemp\\ipykernel_27924\\1132174140.py:51: FutureWarning: 'T' is deprecated and will be removed in a future version, please use 'min' instead.\n",
      "  df2['Time'] = df2['Time'].dt.floor('T')  # T represents minute\n",
      "c:\\Users\\joonw\\anaconda3\\envs\\jl2815\\Lib\\site-packages\\xarray\\namedarray\\core.py:514: UserWarning: Duplicate dimension names present: dimensions {'nlayer2'} appear more than once in dims=('nlayer2', 'nlayer2', 'spatial', 'image'). We do not yet support duplicate dimension names, but we do allow initial construction of the object. We recommend you rename the dims immediately to become distinct, as most xarray functionality is likely to fail silently if you do not. To rename the dimensions you will need to set the ``.dims`` attribute of each variable, ``e.g. var.dims=('x0', 'x1')``.\n",
      "  warnings.warn(\n",
      "C:\\Users\\Public\\Documents\\ESTsoft\\CreatorTemp\\ipykernel_27924\\1132174140.py:51: FutureWarning: 'T' is deprecated and will be removed in a future version, please use 'min' instead.\n",
      "  df2['Time'] = df2['Time'].dt.floor('T')  # T represents minute\n",
      "c:\\Users\\joonw\\anaconda3\\envs\\jl2815\\Lib\\site-packages\\xarray\\namedarray\\core.py:514: UserWarning: Duplicate dimension names present: dimensions {'nlayer2'} appear more than once in dims=('nlayer2', 'nlayer2', 'spatial', 'image'). We do not yet support duplicate dimension names, but we do allow initial construction of the object. We recommend you rename the dims immediately to become distinct, as most xarray functionality is likely to fail silently if you do not. To rename the dimensions you will need to set the ``.dims`` attribute of each variable, ``e.g. var.dims=('x0', 'x1')``.\n",
      "  warnings.warn(\n",
      "C:\\Users\\Public\\Documents\\ESTsoft\\CreatorTemp\\ipykernel_27924\\1132174140.py:51: FutureWarning: 'T' is deprecated and will be removed in a future version, please use 'min' instead.\n",
      "  df2['Time'] = df2['Time'].dt.floor('T')  # T represents minute\n",
      "c:\\Users\\joonw\\anaconda3\\envs\\jl2815\\Lib\\site-packages\\xarray\\namedarray\\core.py:514: UserWarning: Duplicate dimension names present: dimensions {'nlayer2'} appear more than once in dims=('nlayer2', 'nlayer2', 'spatial', 'image'). We do not yet support duplicate dimension names, but we do allow initial construction of the object. We recommend you rename the dims immediately to become distinct, as most xarray functionality is likely to fail silently if you do not. To rename the dimensions you will need to set the ``.dims`` attribute of each variable, ``e.g. var.dims=('x0', 'x1')``.\n",
      "  warnings.warn(\n",
      "C:\\Users\\Public\\Documents\\ESTsoft\\CreatorTemp\\ipykernel_27924\\1132174140.py:51: FutureWarning: 'T' is deprecated and will be removed in a future version, please use 'min' instead.\n",
      "  df2['Time'] = df2['Time'].dt.floor('T')  # T represents minute\n",
      "c:\\Users\\joonw\\anaconda3\\envs\\jl2815\\Lib\\site-packages\\xarray\\namedarray\\core.py:514: UserWarning: Duplicate dimension names present: dimensions {'nlayer2'} appear more than once in dims=('nlayer2', 'nlayer2', 'spatial', 'image'). We do not yet support duplicate dimension names, but we do allow initial construction of the object. We recommend you rename the dims immediately to become distinct, as most xarray functionality is likely to fail silently if you do not. To rename the dimensions you will need to set the ``.dims`` attribute of each variable, ``e.g. var.dims=('x0', 'x1')``.\n",
      "  warnings.warn(\n",
      "C:\\Users\\Public\\Documents\\ESTsoft\\CreatorTemp\\ipykernel_27924\\1132174140.py:51: FutureWarning: 'T' is deprecated and will be removed in a future version, please use 'min' instead.\n",
      "  df2['Time'] = df2['Time'].dt.floor('T')  # T represents minute\n",
      "c:\\Users\\joonw\\anaconda3\\envs\\jl2815\\Lib\\site-packages\\xarray\\namedarray\\core.py:514: UserWarning: Duplicate dimension names present: dimensions {'nlayer2'} appear more than once in dims=('nlayer2', 'nlayer2', 'spatial', 'image'). We do not yet support duplicate dimension names, but we do allow initial construction of the object. We recommend you rename the dims immediately to become distinct, as most xarray functionality is likely to fail silently if you do not. To rename the dimensions you will need to set the ``.dims`` attribute of each variable, ``e.g. var.dims=('x0', 'x1')``.\n",
      "  warnings.warn(\n",
      "C:\\Users\\Public\\Documents\\ESTsoft\\CreatorTemp\\ipykernel_27924\\1132174140.py:51: FutureWarning: 'T' is deprecated and will be removed in a future version, please use 'min' instead.\n",
      "  df2['Time'] = df2['Time'].dt.floor('T')  # T represents minute\n",
      "c:\\Users\\joonw\\anaconda3\\envs\\jl2815\\Lib\\site-packages\\xarray\\namedarray\\core.py:514: UserWarning: Duplicate dimension names present: dimensions {'nlayer2'} appear more than once in dims=('nlayer2', 'nlayer2', 'spatial', 'image'). We do not yet support duplicate dimension names, but we do allow initial construction of the object. We recommend you rename the dims immediately to become distinct, as most xarray functionality is likely to fail silently if you do not. To rename the dimensions you will need to set the ``.dims`` attribute of each variable, ``e.g. var.dims=('x0', 'x1')``.\n",
      "  warnings.warn(\n",
      "C:\\Users\\Public\\Documents\\ESTsoft\\CreatorTemp\\ipykernel_27924\\1132174140.py:51: FutureWarning: 'T' is deprecated and will be removed in a future version, please use 'min' instead.\n",
      "  df2['Time'] = df2['Time'].dt.floor('T')  # T represents minute\n",
      "c:\\Users\\joonw\\anaconda3\\envs\\jl2815\\Lib\\site-packages\\xarray\\namedarray\\core.py:514: UserWarning: Duplicate dimension names present: dimensions {'nlayer2'} appear more than once in dims=('nlayer2', 'nlayer2', 'spatial', 'image'). We do not yet support duplicate dimension names, but we do allow initial construction of the object. We recommend you rename the dims immediately to become distinct, as most xarray functionality is likely to fail silently if you do not. To rename the dimensions you will need to set the ``.dims`` attribute of each variable, ``e.g. var.dims=('x0', 'x1')``.\n",
      "  warnings.warn(\n",
      "C:\\Users\\Public\\Documents\\ESTsoft\\CreatorTemp\\ipykernel_27924\\1132174140.py:51: FutureWarning: 'T' is deprecated and will be removed in a future version, please use 'min' instead.\n",
      "  df2['Time'] = df2['Time'].dt.floor('T')  # T represents minute\n",
      "c:\\Users\\joonw\\anaconda3\\envs\\jl2815\\Lib\\site-packages\\xarray\\namedarray\\core.py:514: UserWarning: Duplicate dimension names present: dimensions {'nlayer2'} appear more than once in dims=('nlayer2', 'nlayer2', 'spatial', 'image'). We do not yet support duplicate dimension names, but we do allow initial construction of the object. We recommend you rename the dims immediately to become distinct, as most xarray functionality is likely to fail silently if you do not. To rename the dimensions you will need to set the ``.dims`` attribute of each variable, ``e.g. var.dims=('x0', 'x1')``.\n",
      "  warnings.warn(\n",
      "C:\\Users\\Public\\Documents\\ESTsoft\\CreatorTemp\\ipykernel_27924\\1132174140.py:51: FutureWarning: 'T' is deprecated and will be removed in a future version, please use 'min' instead.\n",
      "  df2['Time'] = df2['Time'].dt.floor('T')  # T represents minute\n",
      "c:\\Users\\joonw\\anaconda3\\envs\\jl2815\\Lib\\site-packages\\xarray\\namedarray\\core.py:514: UserWarning: Duplicate dimension names present: dimensions {'nlayer2'} appear more than once in dims=('nlayer2', 'nlayer2', 'spatial', 'image'). We do not yet support duplicate dimension names, but we do allow initial construction of the object. We recommend you rename the dims immediately to become distinct, as most xarray functionality is likely to fail silently if you do not. To rename the dimensions you will need to set the ``.dims`` attribute of each variable, ``e.g. var.dims=('x0', 'x1')``.\n",
      "  warnings.warn(\n",
      "C:\\Users\\Public\\Documents\\ESTsoft\\CreatorTemp\\ipykernel_27924\\1132174140.py:51: FutureWarning: 'T' is deprecated and will be removed in a future version, please use 'min' instead.\n",
      "  df2['Time'] = df2['Time'].dt.floor('T')  # T represents minute\n",
      "c:\\Users\\joonw\\anaconda3\\envs\\jl2815\\Lib\\site-packages\\xarray\\namedarray\\core.py:514: UserWarning: Duplicate dimension names present: dimensions {'nlayer2'} appear more than once in dims=('nlayer2', 'nlayer2', 'spatial', 'image'). We do not yet support duplicate dimension names, but we do allow initial construction of the object. We recommend you rename the dims immediately to become distinct, as most xarray functionality is likely to fail silently if you do not. To rename the dimensions you will need to set the ``.dims`` attribute of each variable, ``e.g. var.dims=('x0', 'x1')``.\n",
      "  warnings.warn(\n",
      "C:\\Users\\Public\\Documents\\ESTsoft\\CreatorTemp\\ipykernel_27924\\1132174140.py:51: FutureWarning: 'T' is deprecated and will be removed in a future version, please use 'min' instead.\n",
      "  df2['Time'] = df2['Time'].dt.floor('T')  # T represents minute\n",
      "c:\\Users\\joonw\\anaconda3\\envs\\jl2815\\Lib\\site-packages\\xarray\\namedarray\\core.py:514: UserWarning: Duplicate dimension names present: dimensions {'nlayer2'} appear more than once in dims=('nlayer2', 'nlayer2', 'spatial', 'image'). We do not yet support duplicate dimension names, but we do allow initial construction of the object. We recommend you rename the dims immediately to become distinct, as most xarray functionality is likely to fail silently if you do not. To rename the dimensions you will need to set the ``.dims`` attribute of each variable, ``e.g. var.dims=('x0', 'x1')``.\n",
      "  warnings.warn(\n",
      "C:\\Users\\Public\\Documents\\ESTsoft\\CreatorTemp\\ipykernel_27924\\1132174140.py:51: FutureWarning: 'T' is deprecated and will be removed in a future version, please use 'min' instead.\n",
      "  df2['Time'] = df2['Time'].dt.floor('T')  # T represents minute\n",
      "c:\\Users\\joonw\\anaconda3\\envs\\jl2815\\Lib\\site-packages\\xarray\\namedarray\\core.py:514: UserWarning: Duplicate dimension names present: dimensions {'nlayer2'} appear more than once in dims=('nlayer2', 'nlayer2', 'spatial', 'image'). We do not yet support duplicate dimension names, but we do allow initial construction of the object. We recommend you rename the dims immediately to become distinct, as most xarray functionality is likely to fail silently if you do not. To rename the dimensions you will need to set the ``.dims`` attribute of each variable, ``e.g. var.dims=('x0', 'x1')``.\n",
      "  warnings.warn(\n",
      "C:\\Users\\Public\\Documents\\ESTsoft\\CreatorTemp\\ipykernel_27924\\1132174140.py:51: FutureWarning: 'T' is deprecated and will be removed in a future version, please use 'min' instead.\n",
      "  df2['Time'] = df2['Time'].dt.floor('T')  # T represents minute\n",
      "c:\\Users\\joonw\\anaconda3\\envs\\jl2815\\Lib\\site-packages\\xarray\\namedarray\\core.py:514: UserWarning: Duplicate dimension names present: dimensions {'nlayer2'} appear more than once in dims=('nlayer2', 'nlayer2', 'spatial', 'image'). We do not yet support duplicate dimension names, but we do allow initial construction of the object. We recommend you rename the dims immediately to become distinct, as most xarray functionality is likely to fail silently if you do not. To rename the dimensions you will need to set the ``.dims`` attribute of each variable, ``e.g. var.dims=('x0', 'x1')``.\n",
      "  warnings.warn(\n",
      "C:\\Users\\Public\\Documents\\ESTsoft\\CreatorTemp\\ipykernel_27924\\1132174140.py:51: FutureWarning: 'T' is deprecated and will be removed in a future version, please use 'min' instead.\n",
      "  df2['Time'] = df2['Time'].dt.floor('T')  # T represents minute\n",
      "c:\\Users\\joonw\\anaconda3\\envs\\jl2815\\Lib\\site-packages\\xarray\\namedarray\\core.py:514: UserWarning: Duplicate dimension names present: dimensions {'nlayer2'} appear more than once in dims=('nlayer2', 'nlayer2', 'spatial', 'image'). We do not yet support duplicate dimension names, but we do allow initial construction of the object. We recommend you rename the dims immediately to become distinct, as most xarray functionality is likely to fail silently if you do not. To rename the dimensions you will need to set the ``.dims`` attribute of each variable, ``e.g. var.dims=('x0', 'x1')``.\n",
      "  warnings.warn(\n",
      "C:\\Users\\Public\\Documents\\ESTsoft\\CreatorTemp\\ipykernel_27924\\1132174140.py:51: FutureWarning: 'T' is deprecated and will be removed in a future version, please use 'min' instead.\n",
      "  df2['Time'] = df2['Time'].dt.floor('T')  # T represents minute\n",
      "c:\\Users\\joonw\\anaconda3\\envs\\jl2815\\Lib\\site-packages\\xarray\\namedarray\\core.py:514: UserWarning: Duplicate dimension names present: dimensions {'nlayer2'} appear more than once in dims=('nlayer2', 'nlayer2', 'spatial', 'image'). We do not yet support duplicate dimension names, but we do allow initial construction of the object. We recommend you rename the dims immediately to become distinct, as most xarray functionality is likely to fail silently if you do not. To rename the dimensions you will need to set the ``.dims`` attribute of each variable, ``e.g. var.dims=('x0', 'x1')``.\n",
      "  warnings.warn(\n",
      "C:\\Users\\Public\\Documents\\ESTsoft\\CreatorTemp\\ipykernel_27924\\1132174140.py:51: FutureWarning: 'T' is deprecated and will be removed in a future version, please use 'min' instead.\n",
      "  df2['Time'] = df2['Time'].dt.floor('T')  # T represents minute\n",
      "c:\\Users\\joonw\\anaconda3\\envs\\jl2815\\Lib\\site-packages\\xarray\\namedarray\\core.py:514: UserWarning: Duplicate dimension names present: dimensions {'nlayer2'} appear more than once in dims=('nlayer2', 'nlayer2', 'spatial', 'image'). We do not yet support duplicate dimension names, but we do allow initial construction of the object. We recommend you rename the dims immediately to become distinct, as most xarray functionality is likely to fail silently if you do not. To rename the dimensions you will need to set the ``.dims`` attribute of each variable, ``e.g. var.dims=('x0', 'x1')``.\n",
      "  warnings.warn(\n",
      "C:\\Users\\Public\\Documents\\ESTsoft\\CreatorTemp\\ipykernel_27924\\1132174140.py:51: FutureWarning: 'T' is deprecated and will be removed in a future version, please use 'min' instead.\n",
      "  df2['Time'] = df2['Time'].dt.floor('T')  # T represents minute\n",
      "c:\\Users\\joonw\\anaconda3\\envs\\jl2815\\Lib\\site-packages\\xarray\\namedarray\\core.py:514: UserWarning: Duplicate dimension names present: dimensions {'nlayer2'} appear more than once in dims=('nlayer2', 'nlayer2', 'spatial', 'image'). We do not yet support duplicate dimension names, but we do allow initial construction of the object. We recommend you rename the dims immediately to become distinct, as most xarray functionality is likely to fail silently if you do not. To rename the dimensions you will need to set the ``.dims`` attribute of each variable, ``e.g. var.dims=('x0', 'x1')``.\n",
      "  warnings.warn(\n",
      "C:\\Users\\Public\\Documents\\ESTsoft\\CreatorTemp\\ipykernel_27924\\1132174140.py:51: FutureWarning: 'T' is deprecated and will be removed in a future version, please use 'min' instead.\n",
      "  df2['Time'] = df2['Time'].dt.floor('T')  # T represents minute\n",
      "c:\\Users\\joonw\\anaconda3\\envs\\jl2815\\Lib\\site-packages\\xarray\\namedarray\\core.py:514: UserWarning: Duplicate dimension names present: dimensions {'nlayer2'} appear more than once in dims=('nlayer2', 'nlayer2', 'spatial', 'image'). We do not yet support duplicate dimension names, but we do allow initial construction of the object. We recommend you rename the dims immediately to become distinct, as most xarray functionality is likely to fail silently if you do not. To rename the dimensions you will need to set the ``.dims`` attribute of each variable, ``e.g. var.dims=('x0', 'x1')``.\n",
      "  warnings.warn(\n",
      "C:\\Users\\Public\\Documents\\ESTsoft\\CreatorTemp\\ipykernel_27924\\1132174140.py:51: FutureWarning: 'T' is deprecated and will be removed in a future version, please use 'min' instead.\n",
      "  df2['Time'] = df2['Time'].dt.floor('T')  # T represents minute\n",
      "c:\\Users\\joonw\\anaconda3\\envs\\jl2815\\Lib\\site-packages\\xarray\\namedarray\\core.py:514: UserWarning: Duplicate dimension names present: dimensions {'nlayer2'} appear more than once in dims=('nlayer2', 'nlayer2', 'spatial', 'image'). We do not yet support duplicate dimension names, but we do allow initial construction of the object. We recommend you rename the dims immediately to become distinct, as most xarray functionality is likely to fail silently if you do not. To rename the dimensions you will need to set the ``.dims`` attribute of each variable, ``e.g. var.dims=('x0', 'x1')``.\n",
      "  warnings.warn(\n",
      "C:\\Users\\Public\\Documents\\ESTsoft\\CreatorTemp\\ipykernel_27924\\1132174140.py:51: FutureWarning: 'T' is deprecated and will be removed in a future version, please use 'min' instead.\n",
      "  df2['Time'] = df2['Time'].dt.floor('T')  # T represents minute\n",
      "c:\\Users\\joonw\\anaconda3\\envs\\jl2815\\Lib\\site-packages\\xarray\\namedarray\\core.py:514: UserWarning: Duplicate dimension names present: dimensions {'nlayer2'} appear more than once in dims=('nlayer2', 'nlayer2', 'spatial', 'image'). We do not yet support duplicate dimension names, but we do allow initial construction of the object. We recommend you rename the dims immediately to become distinct, as most xarray functionality is likely to fail silently if you do not. To rename the dimensions you will need to set the ``.dims`` attribute of each variable, ``e.g. var.dims=('x0', 'x1')``.\n",
      "  warnings.warn(\n",
      "C:\\Users\\Public\\Documents\\ESTsoft\\CreatorTemp\\ipykernel_27924\\1132174140.py:51: FutureWarning: 'T' is deprecated and will be removed in a future version, please use 'min' instead.\n",
      "  df2['Time'] = df2['Time'].dt.floor('T')  # T represents minute\n",
      "c:\\Users\\joonw\\anaconda3\\envs\\jl2815\\Lib\\site-packages\\xarray\\namedarray\\core.py:514: UserWarning: Duplicate dimension names present: dimensions {'nlayer2'} appear more than once in dims=('nlayer2', 'nlayer2', 'spatial', 'image'). We do not yet support duplicate dimension names, but we do allow initial construction of the object. We recommend you rename the dims immediately to become distinct, as most xarray functionality is likely to fail silently if you do not. To rename the dimensions you will need to set the ``.dims`` attribute of each variable, ``e.g. var.dims=('x0', 'x1')``.\n",
      "  warnings.warn(\n",
      "C:\\Users\\Public\\Documents\\ESTsoft\\CreatorTemp\\ipykernel_27924\\1132174140.py:51: FutureWarning: 'T' is deprecated and will be removed in a future version, please use 'min' instead.\n",
      "  df2['Time'] = df2['Time'].dt.floor('T')  # T represents minute\n",
      "c:\\Users\\joonw\\anaconda3\\envs\\jl2815\\Lib\\site-packages\\xarray\\namedarray\\core.py:514: UserWarning: Duplicate dimension names present: dimensions {'nlayer2'} appear more than once in dims=('nlayer2', 'nlayer2', 'spatial', 'image'). We do not yet support duplicate dimension names, but we do allow initial construction of the object. We recommend you rename the dims immediately to become distinct, as most xarray functionality is likely to fail silently if you do not. To rename the dimensions you will need to set the ``.dims`` attribute of each variable, ``e.g. var.dims=('x0', 'x1')``.\n",
      "  warnings.warn(\n",
      "C:\\Users\\Public\\Documents\\ESTsoft\\CreatorTemp\\ipykernel_27924\\1132174140.py:51: FutureWarning: 'T' is deprecated and will be removed in a future version, please use 'min' instead.\n",
      "  df2['Time'] = df2['Time'].dt.floor('T')  # T represents minute\n",
      "c:\\Users\\joonw\\anaconda3\\envs\\jl2815\\Lib\\site-packages\\xarray\\namedarray\\core.py:514: UserWarning: Duplicate dimension names present: dimensions {'nlayer2'} appear more than once in dims=('nlayer2', 'nlayer2', 'spatial', 'image'). We do not yet support duplicate dimension names, but we do allow initial construction of the object. We recommend you rename the dims immediately to become distinct, as most xarray functionality is likely to fail silently if you do not. To rename the dimensions you will need to set the ``.dims`` attribute of each variable, ``e.g. var.dims=('x0', 'x1')``.\n",
      "  warnings.warn(\n",
      "C:\\Users\\Public\\Documents\\ESTsoft\\CreatorTemp\\ipykernel_27924\\1132174140.py:51: FutureWarning: 'T' is deprecated and will be removed in a future version, please use 'min' instead.\n",
      "  df2['Time'] = df2['Time'].dt.floor('T')  # T represents minute\n",
      "c:\\Users\\joonw\\anaconda3\\envs\\jl2815\\Lib\\site-packages\\xarray\\namedarray\\core.py:514: UserWarning: Duplicate dimension names present: dimensions {'nlayer2'} appear more than once in dims=('nlayer2', 'nlayer2', 'spatial', 'image'). We do not yet support duplicate dimension names, but we do allow initial construction of the object. We recommend you rename the dims immediately to become distinct, as most xarray functionality is likely to fail silently if you do not. To rename the dimensions you will need to set the ``.dims`` attribute of each variable, ``e.g. var.dims=('x0', 'x1')``.\n",
      "  warnings.warn(\n",
      "C:\\Users\\Public\\Documents\\ESTsoft\\CreatorTemp\\ipykernel_27924\\1132174140.py:51: FutureWarning: 'T' is deprecated and will be removed in a future version, please use 'min' instead.\n",
      "  df2['Time'] = df2['Time'].dt.floor('T')  # T represents minute\n",
      "c:\\Users\\joonw\\anaconda3\\envs\\jl2815\\Lib\\site-packages\\xarray\\namedarray\\core.py:514: UserWarning: Duplicate dimension names present: dimensions {'nlayer2'} appear more than once in dims=('nlayer2', 'nlayer2', 'spatial', 'image'). We do not yet support duplicate dimension names, but we do allow initial construction of the object. We recommend you rename the dims immediately to become distinct, as most xarray functionality is likely to fail silently if you do not. To rename the dimensions you will need to set the ``.dims`` attribute of each variable, ``e.g. var.dims=('x0', 'x1')``.\n",
      "  warnings.warn(\n",
      "C:\\Users\\Public\\Documents\\ESTsoft\\CreatorTemp\\ipykernel_27924\\1132174140.py:51: FutureWarning: 'T' is deprecated and will be removed in a future version, please use 'min' instead.\n",
      "  df2['Time'] = df2['Time'].dt.floor('T')  # T represents minute\n",
      "c:\\Users\\joonw\\anaconda3\\envs\\jl2815\\Lib\\site-packages\\xarray\\namedarray\\core.py:514: UserWarning: Duplicate dimension names present: dimensions {'nlayer2'} appear more than once in dims=('nlayer2', 'nlayer2', 'spatial', 'image'). We do not yet support duplicate dimension names, but we do allow initial construction of the object. We recommend you rename the dims immediately to become distinct, as most xarray functionality is likely to fail silently if you do not. To rename the dimensions you will need to set the ``.dims`` attribute of each variable, ``e.g. var.dims=('x0', 'x1')``.\n",
      "  warnings.warn(\n",
      "C:\\Users\\Public\\Documents\\ESTsoft\\CreatorTemp\\ipykernel_27924\\1132174140.py:51: FutureWarning: 'T' is deprecated and will be removed in a future version, please use 'min' instead.\n",
      "  df2['Time'] = df2['Time'].dt.floor('T')  # T represents minute\n",
      "c:\\Users\\joonw\\anaconda3\\envs\\jl2815\\Lib\\site-packages\\xarray\\namedarray\\core.py:514: UserWarning: Duplicate dimension names present: dimensions {'nlayer2'} appear more than once in dims=('nlayer2', 'nlayer2', 'spatial', 'image'). We do not yet support duplicate dimension names, but we do allow initial construction of the object. We recommend you rename the dims immediately to become distinct, as most xarray functionality is likely to fail silently if you do not. To rename the dimensions you will need to set the ``.dims`` attribute of each variable, ``e.g. var.dims=('x0', 'x1')``.\n",
      "  warnings.warn(\n",
      "C:\\Users\\Public\\Documents\\ESTsoft\\CreatorTemp\\ipykernel_27924\\1132174140.py:51: FutureWarning: 'T' is deprecated and will be removed in a future version, please use 'min' instead.\n",
      "  df2['Time'] = df2['Time'].dt.floor('T')  # T represents minute\n",
      "c:\\Users\\joonw\\anaconda3\\envs\\jl2815\\Lib\\site-packages\\xarray\\namedarray\\core.py:514: UserWarning: Duplicate dimension names present: dimensions {'nlayer2'} appear more than once in dims=('nlayer2', 'nlayer2', 'spatial', 'image'). We do not yet support duplicate dimension names, but we do allow initial construction of the object. We recommend you rename the dims immediately to become distinct, as most xarray functionality is likely to fail silently if you do not. To rename the dimensions you will need to set the ``.dims`` attribute of each variable, ``e.g. var.dims=('x0', 'x1')``.\n",
      "  warnings.warn(\n",
      "C:\\Users\\Public\\Documents\\ESTsoft\\CreatorTemp\\ipykernel_27924\\1132174140.py:51: FutureWarning: 'T' is deprecated and will be removed in a future version, please use 'min' instead.\n",
      "  df2['Time'] = df2['Time'].dt.floor('T')  # T represents minute\n",
      "c:\\Users\\joonw\\anaconda3\\envs\\jl2815\\Lib\\site-packages\\xarray\\namedarray\\core.py:514: UserWarning: Duplicate dimension names present: dimensions {'nlayer2'} appear more than once in dims=('nlayer2', 'nlayer2', 'spatial', 'image'). We do not yet support duplicate dimension names, but we do allow initial construction of the object. We recommend you rename the dims immediately to become distinct, as most xarray functionality is likely to fail silently if you do not. To rename the dimensions you will need to set the ``.dims`` attribute of each variable, ``e.g. var.dims=('x0', 'x1')``.\n",
      "  warnings.warn(\n",
      "C:\\Users\\Public\\Documents\\ESTsoft\\CreatorTemp\\ipykernel_27924\\1132174140.py:51: FutureWarning: 'T' is deprecated and will be removed in a future version, please use 'min' instead.\n",
      "  df2['Time'] = df2['Time'].dt.floor('T')  # T represents minute\n",
      "c:\\Users\\joonw\\anaconda3\\envs\\jl2815\\Lib\\site-packages\\xarray\\namedarray\\core.py:514: UserWarning: Duplicate dimension names present: dimensions {'nlayer2'} appear more than once in dims=('nlayer2', 'nlayer2', 'spatial', 'image'). We do not yet support duplicate dimension names, but we do allow initial construction of the object. We recommend you rename the dims immediately to become distinct, as most xarray functionality is likely to fail silently if you do not. To rename the dimensions you will need to set the ``.dims`` attribute of each variable, ``e.g. var.dims=('x0', 'x1')``.\n",
      "  warnings.warn(\n",
      "C:\\Users\\Public\\Documents\\ESTsoft\\CreatorTemp\\ipykernel_27924\\1132174140.py:51: FutureWarning: 'T' is deprecated and will be removed in a future version, please use 'min' instead.\n",
      "  df2['Time'] = df2['Time'].dt.floor('T')  # T represents minute\n",
      "c:\\Users\\joonw\\anaconda3\\envs\\jl2815\\Lib\\site-packages\\xarray\\namedarray\\core.py:514: UserWarning: Duplicate dimension names present: dimensions {'nlayer2'} appear more than once in dims=('nlayer2', 'nlayer2', 'spatial', 'image'). We do not yet support duplicate dimension names, but we do allow initial construction of the object. We recommend you rename the dims immediately to become distinct, as most xarray functionality is likely to fail silently if you do not. To rename the dimensions you will need to set the ``.dims`` attribute of each variable, ``e.g. var.dims=('x0', 'x1')``.\n",
      "  warnings.warn(\n",
      "C:\\Users\\Public\\Documents\\ESTsoft\\CreatorTemp\\ipykernel_27924\\1132174140.py:51: FutureWarning: 'T' is deprecated and will be removed in a future version, please use 'min' instead.\n",
      "  df2['Time'] = df2['Time'].dt.floor('T')  # T represents minute\n",
      "c:\\Users\\joonw\\anaconda3\\envs\\jl2815\\Lib\\site-packages\\xarray\\namedarray\\core.py:514: UserWarning: Duplicate dimension names present: dimensions {'nlayer2'} appear more than once in dims=('nlayer2', 'nlayer2', 'spatial', 'image'). We do not yet support duplicate dimension names, but we do allow initial construction of the object. We recommend you rename the dims immediately to become distinct, as most xarray functionality is likely to fail silently if you do not. To rename the dimensions you will need to set the ``.dims`` attribute of each variable, ``e.g. var.dims=('x0', 'x1')``.\n",
      "  warnings.warn(\n",
      "C:\\Users\\Public\\Documents\\ESTsoft\\CreatorTemp\\ipykernel_27924\\1132174140.py:51: FutureWarning: 'T' is deprecated and will be removed in a future version, please use 'min' instead.\n",
      "  df2['Time'] = df2['Time'].dt.floor('T')  # T represents minute\n",
      "c:\\Users\\joonw\\anaconda3\\envs\\jl2815\\Lib\\site-packages\\xarray\\namedarray\\core.py:514: UserWarning: Duplicate dimension names present: dimensions {'nlayer2'} appear more than once in dims=('nlayer2', 'nlayer2', 'spatial', 'image'). We do not yet support duplicate dimension names, but we do allow initial construction of the object. We recommend you rename the dims immediately to become distinct, as most xarray functionality is likely to fail silently if you do not. To rename the dimensions you will need to set the ``.dims`` attribute of each variable, ``e.g. var.dims=('x0', 'x1')``.\n",
      "  warnings.warn(\n",
      "C:\\Users\\Public\\Documents\\ESTsoft\\CreatorTemp\\ipykernel_27924\\1132174140.py:51: FutureWarning: 'T' is deprecated and will be removed in a future version, please use 'min' instead.\n",
      "  df2['Time'] = df2['Time'].dt.floor('T')  # T represents minute\n",
      "c:\\Users\\joonw\\anaconda3\\envs\\jl2815\\Lib\\site-packages\\xarray\\namedarray\\core.py:514: UserWarning: Duplicate dimension names present: dimensions {'nlayer2'} appear more than once in dims=('nlayer2', 'nlayer2', 'spatial', 'image'). We do not yet support duplicate dimension names, but we do allow initial construction of the object. We recommend you rename the dims immediately to become distinct, as most xarray functionality is likely to fail silently if you do not. To rename the dimensions you will need to set the ``.dims`` attribute of each variable, ``e.g. var.dims=('x0', 'x1')``.\n",
      "  warnings.warn(\n",
      "C:\\Users\\Public\\Documents\\ESTsoft\\CreatorTemp\\ipykernel_27924\\1132174140.py:51: FutureWarning: 'T' is deprecated and will be removed in a future version, please use 'min' instead.\n",
      "  df2['Time'] = df2['Time'].dt.floor('T')  # T represents minute\n",
      "c:\\Users\\joonw\\anaconda3\\envs\\jl2815\\Lib\\site-packages\\xarray\\namedarray\\core.py:514: UserWarning: Duplicate dimension names present: dimensions {'nlayer2'} appear more than once in dims=('nlayer2', 'nlayer2', 'spatial', 'image'). We do not yet support duplicate dimension names, but we do allow initial construction of the object. We recommend you rename the dims immediately to become distinct, as most xarray functionality is likely to fail silently if you do not. To rename the dimensions you will need to set the ``.dims`` attribute of each variable, ``e.g. var.dims=('x0', 'x1')``.\n",
      "  warnings.warn(\n",
      "C:\\Users\\Public\\Documents\\ESTsoft\\CreatorTemp\\ipykernel_27924\\1132174140.py:51: FutureWarning: 'T' is deprecated and will be removed in a future version, please use 'min' instead.\n",
      "  df2['Time'] = df2['Time'].dt.floor('T')  # T represents minute\n",
      "c:\\Users\\joonw\\anaconda3\\envs\\jl2815\\Lib\\site-packages\\xarray\\namedarray\\core.py:514: UserWarning: Duplicate dimension names present: dimensions {'nlayer2'} appear more than once in dims=('nlayer2', 'nlayer2', 'spatial', 'image'). We do not yet support duplicate dimension names, but we do allow initial construction of the object. We recommend you rename the dims immediately to become distinct, as most xarray functionality is likely to fail silently if you do not. To rename the dimensions you will need to set the ``.dims`` attribute of each variable, ``e.g. var.dims=('x0', 'x1')``.\n",
      "  warnings.warn(\n",
      "C:\\Users\\Public\\Documents\\ESTsoft\\CreatorTemp\\ipykernel_27924\\1132174140.py:51: FutureWarning: 'T' is deprecated and will be removed in a future version, please use 'min' instead.\n",
      "  df2['Time'] = df2['Time'].dt.floor('T')  # T represents minute\n",
      "c:\\Users\\joonw\\anaconda3\\envs\\jl2815\\Lib\\site-packages\\xarray\\namedarray\\core.py:514: UserWarning: Duplicate dimension names present: dimensions {'nlayer2'} appear more than once in dims=('nlayer2', 'nlayer2', 'spatial', 'image'). We do not yet support duplicate dimension names, but we do allow initial construction of the object. We recommend you rename the dims immediately to become distinct, as most xarray functionality is likely to fail silently if you do not. To rename the dimensions you will need to set the ``.dims`` attribute of each variable, ``e.g. var.dims=('x0', 'x1')``.\n",
      "  warnings.warn(\n",
      "C:\\Users\\Public\\Documents\\ESTsoft\\CreatorTemp\\ipykernel_27924\\1132174140.py:51: FutureWarning: 'T' is deprecated and will be removed in a future version, please use 'min' instead.\n",
      "  df2['Time'] = df2['Time'].dt.floor('T')  # T represents minute\n",
      "c:\\Users\\joonw\\anaconda3\\envs\\jl2815\\Lib\\site-packages\\xarray\\namedarray\\core.py:514: UserWarning: Duplicate dimension names present: dimensions {'nlayer2'} appear more than once in dims=('nlayer2', 'nlayer2', 'spatial', 'image'). We do not yet support duplicate dimension names, but we do allow initial construction of the object. We recommend you rename the dims immediately to become distinct, as most xarray functionality is likely to fail silently if you do not. To rename the dimensions you will need to set the ``.dims`` attribute of each variable, ``e.g. var.dims=('x0', 'x1')``.\n",
      "  warnings.warn(\n",
      "C:\\Users\\Public\\Documents\\ESTsoft\\CreatorTemp\\ipykernel_27924\\1132174140.py:51: FutureWarning: 'T' is deprecated and will be removed in a future version, please use 'min' instead.\n",
      "  df2['Time'] = df2['Time'].dt.floor('T')  # T represents minute\n",
      "c:\\Users\\joonw\\anaconda3\\envs\\jl2815\\Lib\\site-packages\\xarray\\namedarray\\core.py:514: UserWarning: Duplicate dimension names present: dimensions {'nlayer2'} appear more than once in dims=('nlayer2', 'nlayer2', 'spatial', 'image'). We do not yet support duplicate dimension names, but we do allow initial construction of the object. We recommend you rename the dims immediately to become distinct, as most xarray functionality is likely to fail silently if you do not. To rename the dimensions you will need to set the ``.dims`` attribute of each variable, ``e.g. var.dims=('x0', 'x1')``.\n",
      "  warnings.warn(\n",
      "C:\\Users\\Public\\Documents\\ESTsoft\\CreatorTemp\\ipykernel_27924\\1132174140.py:51: FutureWarning: 'T' is deprecated and will be removed in a future version, please use 'min' instead.\n",
      "  df2['Time'] = df2['Time'].dt.floor('T')  # T represents minute\n",
      "c:\\Users\\joonw\\anaconda3\\envs\\jl2815\\Lib\\site-packages\\xarray\\namedarray\\core.py:514: UserWarning: Duplicate dimension names present: dimensions {'nlayer2'} appear more than once in dims=('nlayer2', 'nlayer2', 'spatial', 'image'). We do not yet support duplicate dimension names, but we do allow initial construction of the object. We recommend you rename the dims immediately to become distinct, as most xarray functionality is likely to fail silently if you do not. To rename the dimensions you will need to set the ``.dims`` attribute of each variable, ``e.g. var.dims=('x0', 'x1')``.\n",
      "  warnings.warn(\n",
      "C:\\Users\\Public\\Documents\\ESTsoft\\CreatorTemp\\ipykernel_27924\\1132174140.py:51: FutureWarning: 'T' is deprecated and will be removed in a future version, please use 'min' instead.\n",
      "  df2['Time'] = df2['Time'].dt.floor('T')  # T represents minute\n",
      "c:\\Users\\joonw\\anaconda3\\envs\\jl2815\\Lib\\site-packages\\xarray\\namedarray\\core.py:514: UserWarning: Duplicate dimension names present: dimensions {'nlayer2'} appear more than once in dims=('nlayer2', 'nlayer2', 'spatial', 'image'). We do not yet support duplicate dimension names, but we do allow initial construction of the object. We recommend you rename the dims immediately to become distinct, as most xarray functionality is likely to fail silently if you do not. To rename the dimensions you will need to set the ``.dims`` attribute of each variable, ``e.g. var.dims=('x0', 'x1')``.\n",
      "  warnings.warn(\n",
      "C:\\Users\\Public\\Documents\\ESTsoft\\CreatorTemp\\ipykernel_27924\\1132174140.py:51: FutureWarning: 'T' is deprecated and will be removed in a future version, please use 'min' instead.\n",
      "  df2['Time'] = df2['Time'].dt.floor('T')  # T represents minute\n",
      "c:\\Users\\joonw\\anaconda3\\envs\\jl2815\\Lib\\site-packages\\xarray\\namedarray\\core.py:514: UserWarning: Duplicate dimension names present: dimensions {'nlayer2'} appear more than once in dims=('nlayer2', 'nlayer2', 'spatial', 'image'). We do not yet support duplicate dimension names, but we do allow initial construction of the object. We recommend you rename the dims immediately to become distinct, as most xarray functionality is likely to fail silently if you do not. To rename the dimensions you will need to set the ``.dims`` attribute of each variable, ``e.g. var.dims=('x0', 'x1')``.\n",
      "  warnings.warn(\n",
      "C:\\Users\\Public\\Documents\\ESTsoft\\CreatorTemp\\ipykernel_27924\\1132174140.py:51: FutureWarning: 'T' is deprecated and will be removed in a future version, please use 'min' instead.\n",
      "  df2['Time'] = df2['Time'].dt.floor('T')  # T represents minute\n",
      "c:\\Users\\joonw\\anaconda3\\envs\\jl2815\\Lib\\site-packages\\xarray\\namedarray\\core.py:514: UserWarning: Duplicate dimension names present: dimensions {'nlayer2'} appear more than once in dims=('nlayer2', 'nlayer2', 'spatial', 'image'). We do not yet support duplicate dimension names, but we do allow initial construction of the object. We recommend you rename the dims immediately to become distinct, as most xarray functionality is likely to fail silently if you do not. To rename the dimensions you will need to set the ``.dims`` attribute of each variable, ``e.g. var.dims=('x0', 'x1')``.\n",
      "  warnings.warn(\n",
      "C:\\Users\\Public\\Documents\\ESTsoft\\CreatorTemp\\ipykernel_27924\\1132174140.py:51: FutureWarning: 'T' is deprecated and will be removed in a future version, please use 'min' instead.\n",
      "  df2['Time'] = df2['Time'].dt.floor('T')  # T represents minute\n",
      "c:\\Users\\joonw\\anaconda3\\envs\\jl2815\\Lib\\site-packages\\xarray\\namedarray\\core.py:514: UserWarning: Duplicate dimension names present: dimensions {'nlayer2'} appear more than once in dims=('nlayer2', 'nlayer2', 'spatial', 'image'). We do not yet support duplicate dimension names, but we do allow initial construction of the object. We recommend you rename the dims immediately to become distinct, as most xarray functionality is likely to fail silently if you do not. To rename the dimensions you will need to set the ``.dims`` attribute of each variable, ``e.g. var.dims=('x0', 'x1')``.\n",
      "  warnings.warn(\n",
      "C:\\Users\\Public\\Documents\\ESTsoft\\CreatorTemp\\ipykernel_27924\\1132174140.py:51: FutureWarning: 'T' is deprecated and will be removed in a future version, please use 'min' instead.\n",
      "  df2['Time'] = df2['Time'].dt.floor('T')  # T represents minute\n",
      "c:\\Users\\joonw\\anaconda3\\envs\\jl2815\\Lib\\site-packages\\xarray\\namedarray\\core.py:514: UserWarning: Duplicate dimension names present: dimensions {'nlayer2'} appear more than once in dims=('nlayer2', 'nlayer2', 'spatial', 'image'). We do not yet support duplicate dimension names, but we do allow initial construction of the object. We recommend you rename the dims immediately to become distinct, as most xarray functionality is likely to fail silently if you do not. To rename the dimensions you will need to set the ``.dims`` attribute of each variable, ``e.g. var.dims=('x0', 'x1')``.\n",
      "  warnings.warn(\n",
      "C:\\Users\\Public\\Documents\\ESTsoft\\CreatorTemp\\ipykernel_27924\\1132174140.py:51: FutureWarning: 'T' is deprecated and will be removed in a future version, please use 'min' instead.\n",
      "  df2['Time'] = df2['Time'].dt.floor('T')  # T represents minute\n",
      "c:\\Users\\joonw\\anaconda3\\envs\\jl2815\\Lib\\site-packages\\xarray\\namedarray\\core.py:514: UserWarning: Duplicate dimension names present: dimensions {'nlayer2'} appear more than once in dims=('nlayer2', 'nlayer2', 'spatial', 'image'). We do not yet support duplicate dimension names, but we do allow initial construction of the object. We recommend you rename the dims immediately to become distinct, as most xarray functionality is likely to fail silently if you do not. To rename the dimensions you will need to set the ``.dims`` attribute of each variable, ``e.g. var.dims=('x0', 'x1')``.\n",
      "  warnings.warn(\n",
      "C:\\Users\\Public\\Documents\\ESTsoft\\CreatorTemp\\ipykernel_27924\\1132174140.py:51: FutureWarning: 'T' is deprecated and will be removed in a future version, please use 'min' instead.\n",
      "  df2['Time'] = df2['Time'].dt.floor('T')  # T represents minute\n",
      "c:\\Users\\joonw\\anaconda3\\envs\\jl2815\\Lib\\site-packages\\xarray\\namedarray\\core.py:514: UserWarning: Duplicate dimension names present: dimensions {'nlayer2'} appear more than once in dims=('nlayer2', 'nlayer2', 'spatial', 'image'). We do not yet support duplicate dimension names, but we do allow initial construction of the object. We recommend you rename the dims immediately to become distinct, as most xarray functionality is likely to fail silently if you do not. To rename the dimensions you will need to set the ``.dims`` attribute of each variable, ``e.g. var.dims=('x0', 'x1')``.\n",
      "  warnings.warn(\n",
      "C:\\Users\\Public\\Documents\\ESTsoft\\CreatorTemp\\ipykernel_27924\\1132174140.py:51: FutureWarning: 'T' is deprecated and will be removed in a future version, please use 'min' instead.\n",
      "  df2['Time'] = df2['Time'].dt.floor('T')  # T represents minute\n",
      "c:\\Users\\joonw\\anaconda3\\envs\\jl2815\\Lib\\site-packages\\xarray\\namedarray\\core.py:514: UserWarning: Duplicate dimension names present: dimensions {'nlayer2'} appear more than once in dims=('nlayer2', 'nlayer2', 'spatial', 'image'). We do not yet support duplicate dimension names, but we do allow initial construction of the object. We recommend you rename the dims immediately to become distinct, as most xarray functionality is likely to fail silently if you do not. To rename the dimensions you will need to set the ``.dims`` attribute of each variable, ``e.g. var.dims=('x0', 'x1')``.\n",
      "  warnings.warn(\n",
      "C:\\Users\\Public\\Documents\\ESTsoft\\CreatorTemp\\ipykernel_27924\\1132174140.py:51: FutureWarning: 'T' is deprecated and will be removed in a future version, please use 'min' instead.\n",
      "  df2['Time'] = df2['Time'].dt.floor('T')  # T represents minute\n",
      "c:\\Users\\joonw\\anaconda3\\envs\\jl2815\\Lib\\site-packages\\xarray\\namedarray\\core.py:514: UserWarning: Duplicate dimension names present: dimensions {'nlayer2'} appear more than once in dims=('nlayer2', 'nlayer2', 'spatial', 'image'). We do not yet support duplicate dimension names, but we do allow initial construction of the object. We recommend you rename the dims immediately to become distinct, as most xarray functionality is likely to fail silently if you do not. To rename the dimensions you will need to set the ``.dims`` attribute of each variable, ``e.g. var.dims=('x0', 'x1')``.\n",
      "  warnings.warn(\n",
      "C:\\Users\\Public\\Documents\\ESTsoft\\CreatorTemp\\ipykernel_27924\\1132174140.py:51: FutureWarning: 'T' is deprecated and will be removed in a future version, please use 'min' instead.\n",
      "  df2['Time'] = df2['Time'].dt.floor('T')  # T represents minute\n",
      "c:\\Users\\joonw\\anaconda3\\envs\\jl2815\\Lib\\site-packages\\xarray\\namedarray\\core.py:514: UserWarning: Duplicate dimension names present: dimensions {'nlayer2'} appear more than once in dims=('nlayer2', 'nlayer2', 'spatial', 'image'). We do not yet support duplicate dimension names, but we do allow initial construction of the object. We recommend you rename the dims immediately to become distinct, as most xarray functionality is likely to fail silently if you do not. To rename the dimensions you will need to set the ``.dims`` attribute of each variable, ``e.g. var.dims=('x0', 'x1')``.\n",
      "  warnings.warn(\n",
      "C:\\Users\\Public\\Documents\\ESTsoft\\CreatorTemp\\ipykernel_27924\\1132174140.py:51: FutureWarning: 'T' is deprecated and will be removed in a future version, please use 'min' instead.\n",
      "  df2['Time'] = df2['Time'].dt.floor('T')  # T represents minute\n",
      "c:\\Users\\joonw\\anaconda3\\envs\\jl2815\\Lib\\site-packages\\xarray\\namedarray\\core.py:514: UserWarning: Duplicate dimension names present: dimensions {'nlayer2'} appear more than once in dims=('nlayer2', 'nlayer2', 'spatial', 'image'). We do not yet support duplicate dimension names, but we do allow initial construction of the object. We recommend you rename the dims immediately to become distinct, as most xarray functionality is likely to fail silently if you do not. To rename the dimensions you will need to set the ``.dims`` attribute of each variable, ``e.g. var.dims=('x0', 'x1')``.\n",
      "  warnings.warn(\n",
      "C:\\Users\\Public\\Documents\\ESTsoft\\CreatorTemp\\ipykernel_27924\\1132174140.py:51: FutureWarning: 'T' is deprecated and will be removed in a future version, please use 'min' instead.\n",
      "  df2['Time'] = df2['Time'].dt.floor('T')  # T represents minute\n",
      "c:\\Users\\joonw\\anaconda3\\envs\\jl2815\\Lib\\site-packages\\xarray\\namedarray\\core.py:514: UserWarning: Duplicate dimension names present: dimensions {'nlayer2'} appear more than once in dims=('nlayer2', 'nlayer2', 'spatial', 'image'). We do not yet support duplicate dimension names, but we do allow initial construction of the object. We recommend you rename the dims immediately to become distinct, as most xarray functionality is likely to fail silently if you do not. To rename the dimensions you will need to set the ``.dims`` attribute of each variable, ``e.g. var.dims=('x0', 'x1')``.\n",
      "  warnings.warn(\n",
      "C:\\Users\\Public\\Documents\\ESTsoft\\CreatorTemp\\ipykernel_27924\\1132174140.py:51: FutureWarning: 'T' is deprecated and will be removed in a future version, please use 'min' instead.\n",
      "  df2['Time'] = df2['Time'].dt.floor('T')  # T represents minute\n",
      "c:\\Users\\joonw\\anaconda3\\envs\\jl2815\\Lib\\site-packages\\xarray\\namedarray\\core.py:514: UserWarning: Duplicate dimension names present: dimensions {'nlayer2'} appear more than once in dims=('nlayer2', 'nlayer2', 'spatial', 'image'). We do not yet support duplicate dimension names, but we do allow initial construction of the object. We recommend you rename the dims immediately to become distinct, as most xarray functionality is likely to fail silently if you do not. To rename the dimensions you will need to set the ``.dims`` attribute of each variable, ``e.g. var.dims=('x0', 'x1')``.\n",
      "  warnings.warn(\n",
      "C:\\Users\\Public\\Documents\\ESTsoft\\CreatorTemp\\ipykernel_27924\\1132174140.py:51: FutureWarning: 'T' is deprecated and will be removed in a future version, please use 'min' instead.\n",
      "  df2['Time'] = df2['Time'].dt.floor('T')  # T represents minute\n",
      "c:\\Users\\joonw\\anaconda3\\envs\\jl2815\\Lib\\site-packages\\xarray\\namedarray\\core.py:514: UserWarning: Duplicate dimension names present: dimensions {'nlayer2'} appear more than once in dims=('nlayer2', 'nlayer2', 'spatial', 'image'). We do not yet support duplicate dimension names, but we do allow initial construction of the object. We recommend you rename the dims immediately to become distinct, as most xarray functionality is likely to fail silently if you do not. To rename the dimensions you will need to set the ``.dims`` attribute of each variable, ``e.g. var.dims=('x0', 'x1')``.\n",
      "  warnings.warn(\n",
      "C:\\Users\\Public\\Documents\\ESTsoft\\CreatorTemp\\ipykernel_27924\\1132174140.py:51: FutureWarning: 'T' is deprecated and will be removed in a future version, please use 'min' instead.\n",
      "  df2['Time'] = df2['Time'].dt.floor('T')  # T represents minute\n",
      "c:\\Users\\joonw\\anaconda3\\envs\\jl2815\\Lib\\site-packages\\xarray\\namedarray\\core.py:514: UserWarning: Duplicate dimension names present: dimensions {'nlayer2'} appear more than once in dims=('nlayer2', 'nlayer2', 'spatial', 'image'). We do not yet support duplicate dimension names, but we do allow initial construction of the object. We recommend you rename the dims immediately to become distinct, as most xarray functionality is likely to fail silently if you do not. To rename the dimensions you will need to set the ``.dims`` attribute of each variable, ``e.g. var.dims=('x0', 'x1')``.\n",
      "  warnings.warn(\n",
      "C:\\Users\\Public\\Documents\\ESTsoft\\CreatorTemp\\ipykernel_27924\\1132174140.py:51: FutureWarning: 'T' is deprecated and will be removed in a future version, please use 'min' instead.\n",
      "  df2['Time'] = df2['Time'].dt.floor('T')  # T represents minute\n"
     ]
    }
   ],
   "source": [
    "data = pd.DataFrame()\n",
    "for i in range(len(filenames_2023)):\n",
    "    my_loader= gems_loader_2023(filenames_2023[i])\n",
    "    cur_data = my_loader.result()\n",
    "    \n",
    "    if  data.empty:\n",
    "        data = cur_data\n",
    "    else:\n",
    "        data = pd.concat([data, cur_data], ignore_index=True)\n",
    "data2023070115 = data\n"
   ]
  },
  {
   "cell_type": "markdown",
   "metadata": {},
   "source": [
    "# Merge 2024 data"
   ]
  },
  {
   "cell_type": "code",
   "execution_count": 19,
   "metadata": {},
   "outputs": [
    {
     "name": "stderr",
     "output_type": "stream",
     "text": [
      "c:\\Users\\joonw\\anaconda3\\envs\\jl2815\\Lib\\site-packages\\xarray\\namedarray\\core.py:514: UserWarning: Duplicate dimension names present: dimensions {'nlayer2'} appear more than once in dims=('nlayer2', 'nlayer2', 'spatial', 'image'). We do not yet support duplicate dimension names, but we do allow initial construction of the object. We recommend you rename the dims immediately to become distinct, as most xarray functionality is likely to fail silently if you do not. To rename the dimensions you will need to set the ``.dims`` attribute of each variable, ``e.g. var.dims=('x0', 'x1')``.\n",
      "  warnings.warn(\n",
      "C:\\Users\\Public\\Documents\\ESTsoft\\CreatorTemp\\ipykernel_27924\\1132174140.py:51: FutureWarning: 'T' is deprecated and will be removed in a future version, please use 'min' instead.\n",
      "  df2['Time'] = df2['Time'].dt.floor('T')  # T represents minute\n",
      "c:\\Users\\joonw\\anaconda3\\envs\\jl2815\\Lib\\site-packages\\xarray\\namedarray\\core.py:514: UserWarning: Duplicate dimension names present: dimensions {'nlayer2'} appear more than once in dims=('nlayer2', 'nlayer2', 'spatial', 'image'). We do not yet support duplicate dimension names, but we do allow initial construction of the object. We recommend you rename the dims immediately to become distinct, as most xarray functionality is likely to fail silently if you do not. To rename the dimensions you will need to set the ``.dims`` attribute of each variable, ``e.g. var.dims=('x0', 'x1')``.\n",
      "  warnings.warn(\n",
      "C:\\Users\\Public\\Documents\\ESTsoft\\CreatorTemp\\ipykernel_27924\\1132174140.py:51: FutureWarning: 'T' is deprecated and will be removed in a future version, please use 'min' instead.\n",
      "  df2['Time'] = df2['Time'].dt.floor('T')  # T represents minute\n",
      "c:\\Users\\joonw\\anaconda3\\envs\\jl2815\\Lib\\site-packages\\xarray\\namedarray\\core.py:514: UserWarning: Duplicate dimension names present: dimensions {'nlayer2'} appear more than once in dims=('nlayer2', 'nlayer2', 'spatial', 'image'). We do not yet support duplicate dimension names, but we do allow initial construction of the object. We recommend you rename the dims immediately to become distinct, as most xarray functionality is likely to fail silently if you do not. To rename the dimensions you will need to set the ``.dims`` attribute of each variable, ``e.g. var.dims=('x0', 'x1')``.\n",
      "  warnings.warn(\n",
      "C:\\Users\\Public\\Documents\\ESTsoft\\CreatorTemp\\ipykernel_27924\\1132174140.py:51: FutureWarning: 'T' is deprecated and will be removed in a future version, please use 'min' instead.\n",
      "  df2['Time'] = df2['Time'].dt.floor('T')  # T represents minute\n",
      "c:\\Users\\joonw\\anaconda3\\envs\\jl2815\\Lib\\site-packages\\xarray\\namedarray\\core.py:514: UserWarning: Duplicate dimension names present: dimensions {'nlayer2'} appear more than once in dims=('nlayer2', 'nlayer2', 'spatial', 'image'). We do not yet support duplicate dimension names, but we do allow initial construction of the object. We recommend you rename the dims immediately to become distinct, as most xarray functionality is likely to fail silently if you do not. To rename the dimensions you will need to set the ``.dims`` attribute of each variable, ``e.g. var.dims=('x0', 'x1')``.\n",
      "  warnings.warn(\n",
      "C:\\Users\\Public\\Documents\\ESTsoft\\CreatorTemp\\ipykernel_27924\\1132174140.py:51: FutureWarning: 'T' is deprecated and will be removed in a future version, please use 'min' instead.\n",
      "  df2['Time'] = df2['Time'].dt.floor('T')  # T represents minute\n",
      "c:\\Users\\joonw\\anaconda3\\envs\\jl2815\\Lib\\site-packages\\xarray\\namedarray\\core.py:514: UserWarning: Duplicate dimension names present: dimensions {'nlayer2'} appear more than once in dims=('nlayer2', 'nlayer2', 'spatial', 'image'). We do not yet support duplicate dimension names, but we do allow initial construction of the object. We recommend you rename the dims immediately to become distinct, as most xarray functionality is likely to fail silently if you do not. To rename the dimensions you will need to set the ``.dims`` attribute of each variable, ``e.g. var.dims=('x0', 'x1')``.\n",
      "  warnings.warn(\n",
      "C:\\Users\\Public\\Documents\\ESTsoft\\CreatorTemp\\ipykernel_27924\\1132174140.py:51: FutureWarning: 'T' is deprecated and will be removed in a future version, please use 'min' instead.\n",
      "  df2['Time'] = df2['Time'].dt.floor('T')  # T represents minute\n",
      "c:\\Users\\joonw\\anaconda3\\envs\\jl2815\\Lib\\site-packages\\xarray\\namedarray\\core.py:514: UserWarning: Duplicate dimension names present: dimensions {'nlayer2'} appear more than once in dims=('nlayer2', 'nlayer2', 'spatial', 'image'). We do not yet support duplicate dimension names, but we do allow initial construction of the object. We recommend you rename the dims immediately to become distinct, as most xarray functionality is likely to fail silently if you do not. To rename the dimensions you will need to set the ``.dims`` attribute of each variable, ``e.g. var.dims=('x0', 'x1')``.\n",
      "  warnings.warn(\n",
      "C:\\Users\\Public\\Documents\\ESTsoft\\CreatorTemp\\ipykernel_27924\\1132174140.py:51: FutureWarning: 'T' is deprecated and will be removed in a future version, please use 'min' instead.\n",
      "  df2['Time'] = df2['Time'].dt.floor('T')  # T represents minute\n",
      "c:\\Users\\joonw\\anaconda3\\envs\\jl2815\\Lib\\site-packages\\xarray\\namedarray\\core.py:514: UserWarning: Duplicate dimension names present: dimensions {'nlayer2'} appear more than once in dims=('nlayer2', 'nlayer2', 'spatial', 'image'). We do not yet support duplicate dimension names, but we do allow initial construction of the object. We recommend you rename the dims immediately to become distinct, as most xarray functionality is likely to fail silently if you do not. To rename the dimensions you will need to set the ``.dims`` attribute of each variable, ``e.g. var.dims=('x0', 'x1')``.\n",
      "  warnings.warn(\n",
      "C:\\Users\\Public\\Documents\\ESTsoft\\CreatorTemp\\ipykernel_27924\\1132174140.py:51: FutureWarning: 'T' is deprecated and will be removed in a future version, please use 'min' instead.\n",
      "  df2['Time'] = df2['Time'].dt.floor('T')  # T represents minute\n",
      "c:\\Users\\joonw\\anaconda3\\envs\\jl2815\\Lib\\site-packages\\xarray\\namedarray\\core.py:514: UserWarning: Duplicate dimension names present: dimensions {'nlayer2'} appear more than once in dims=('nlayer2', 'nlayer2', 'spatial', 'image'). We do not yet support duplicate dimension names, but we do allow initial construction of the object. We recommend you rename the dims immediately to become distinct, as most xarray functionality is likely to fail silently if you do not. To rename the dimensions you will need to set the ``.dims`` attribute of each variable, ``e.g. var.dims=('x0', 'x1')``.\n",
      "  warnings.warn(\n",
      "C:\\Users\\Public\\Documents\\ESTsoft\\CreatorTemp\\ipykernel_27924\\1132174140.py:51: FutureWarning: 'T' is deprecated and will be removed in a future version, please use 'min' instead.\n",
      "  df2['Time'] = df2['Time'].dt.floor('T')  # T represents minute\n",
      "c:\\Users\\joonw\\anaconda3\\envs\\jl2815\\Lib\\site-packages\\xarray\\namedarray\\core.py:514: UserWarning: Duplicate dimension names present: dimensions {'nlayer2'} appear more than once in dims=('nlayer2', 'nlayer2', 'spatial', 'image'). We do not yet support duplicate dimension names, but we do allow initial construction of the object. We recommend you rename the dims immediately to become distinct, as most xarray functionality is likely to fail silently if you do not. To rename the dimensions you will need to set the ``.dims`` attribute of each variable, ``e.g. var.dims=('x0', 'x1')``.\n",
      "  warnings.warn(\n",
      "C:\\Users\\Public\\Documents\\ESTsoft\\CreatorTemp\\ipykernel_27924\\1132174140.py:51: FutureWarning: 'T' is deprecated and will be removed in a future version, please use 'min' instead.\n",
      "  df2['Time'] = df2['Time'].dt.floor('T')  # T represents minute\n",
      "c:\\Users\\joonw\\anaconda3\\envs\\jl2815\\Lib\\site-packages\\xarray\\namedarray\\core.py:514: UserWarning: Duplicate dimension names present: dimensions {'nlayer2'} appear more than once in dims=('nlayer2', 'nlayer2', 'spatial', 'image'). We do not yet support duplicate dimension names, but we do allow initial construction of the object. We recommend you rename the dims immediately to become distinct, as most xarray functionality is likely to fail silently if you do not. To rename the dimensions you will need to set the ``.dims`` attribute of each variable, ``e.g. var.dims=('x0', 'x1')``.\n",
      "  warnings.warn(\n",
      "C:\\Users\\Public\\Documents\\ESTsoft\\CreatorTemp\\ipykernel_27924\\1132174140.py:51: FutureWarning: 'T' is deprecated and will be removed in a future version, please use 'min' instead.\n",
      "  df2['Time'] = df2['Time'].dt.floor('T')  # T represents minute\n",
      "c:\\Users\\joonw\\anaconda3\\envs\\jl2815\\Lib\\site-packages\\xarray\\namedarray\\core.py:514: UserWarning: Duplicate dimension names present: dimensions {'nlayer2'} appear more than once in dims=('nlayer2', 'nlayer2', 'spatial', 'image'). We do not yet support duplicate dimension names, but we do allow initial construction of the object. We recommend you rename the dims immediately to become distinct, as most xarray functionality is likely to fail silently if you do not. To rename the dimensions you will need to set the ``.dims`` attribute of each variable, ``e.g. var.dims=('x0', 'x1')``.\n",
      "  warnings.warn(\n",
      "C:\\Users\\Public\\Documents\\ESTsoft\\CreatorTemp\\ipykernel_27924\\1132174140.py:51: FutureWarning: 'T' is deprecated and will be removed in a future version, please use 'min' instead.\n",
      "  df2['Time'] = df2['Time'].dt.floor('T')  # T represents minute\n",
      "c:\\Users\\joonw\\anaconda3\\envs\\jl2815\\Lib\\site-packages\\xarray\\namedarray\\core.py:514: UserWarning: Duplicate dimension names present: dimensions {'nlayer2'} appear more than once in dims=('nlayer2', 'nlayer2', 'spatial', 'image'). We do not yet support duplicate dimension names, but we do allow initial construction of the object. We recommend you rename the dims immediately to become distinct, as most xarray functionality is likely to fail silently if you do not. To rename the dimensions you will need to set the ``.dims`` attribute of each variable, ``e.g. var.dims=('x0', 'x1')``.\n",
      "  warnings.warn(\n",
      "C:\\Users\\Public\\Documents\\ESTsoft\\CreatorTemp\\ipykernel_27924\\1132174140.py:51: FutureWarning: 'T' is deprecated and will be removed in a future version, please use 'min' instead.\n",
      "  df2['Time'] = df2['Time'].dt.floor('T')  # T represents minute\n",
      "c:\\Users\\joonw\\anaconda3\\envs\\jl2815\\Lib\\site-packages\\xarray\\namedarray\\core.py:514: UserWarning: Duplicate dimension names present: dimensions {'nlayer2'} appear more than once in dims=('nlayer2', 'nlayer2', 'spatial', 'image'). We do not yet support duplicate dimension names, but we do allow initial construction of the object. We recommend you rename the dims immediately to become distinct, as most xarray functionality is likely to fail silently if you do not. To rename the dimensions you will need to set the ``.dims`` attribute of each variable, ``e.g. var.dims=('x0', 'x1')``.\n",
      "  warnings.warn(\n",
      "C:\\Users\\Public\\Documents\\ESTsoft\\CreatorTemp\\ipykernel_27924\\1132174140.py:51: FutureWarning: 'T' is deprecated and will be removed in a future version, please use 'min' instead.\n",
      "  df2['Time'] = df2['Time'].dt.floor('T')  # T represents minute\n",
      "c:\\Users\\joonw\\anaconda3\\envs\\jl2815\\Lib\\site-packages\\xarray\\namedarray\\core.py:514: UserWarning: Duplicate dimension names present: dimensions {'nlayer2'} appear more than once in dims=('nlayer2', 'nlayer2', 'spatial', 'image'). We do not yet support duplicate dimension names, but we do allow initial construction of the object. We recommend you rename the dims immediately to become distinct, as most xarray functionality is likely to fail silently if you do not. To rename the dimensions you will need to set the ``.dims`` attribute of each variable, ``e.g. var.dims=('x0', 'x1')``.\n",
      "  warnings.warn(\n",
      "C:\\Users\\Public\\Documents\\ESTsoft\\CreatorTemp\\ipykernel_27924\\1132174140.py:51: FutureWarning: 'T' is deprecated and will be removed in a future version, please use 'min' instead.\n",
      "  df2['Time'] = df2['Time'].dt.floor('T')  # T represents minute\n",
      "c:\\Users\\joonw\\anaconda3\\envs\\jl2815\\Lib\\site-packages\\xarray\\namedarray\\core.py:514: UserWarning: Duplicate dimension names present: dimensions {'nlayer2'} appear more than once in dims=('nlayer2', 'nlayer2', 'spatial', 'image'). We do not yet support duplicate dimension names, but we do allow initial construction of the object. We recommend you rename the dims immediately to become distinct, as most xarray functionality is likely to fail silently if you do not. To rename the dimensions you will need to set the ``.dims`` attribute of each variable, ``e.g. var.dims=('x0', 'x1')``.\n",
      "  warnings.warn(\n",
      "C:\\Users\\Public\\Documents\\ESTsoft\\CreatorTemp\\ipykernel_27924\\1132174140.py:51: FutureWarning: 'T' is deprecated and will be removed in a future version, please use 'min' instead.\n",
      "  df2['Time'] = df2['Time'].dt.floor('T')  # T represents minute\n",
      "c:\\Users\\joonw\\anaconda3\\envs\\jl2815\\Lib\\site-packages\\xarray\\namedarray\\core.py:514: UserWarning: Duplicate dimension names present: dimensions {'nlayer2'} appear more than once in dims=('nlayer2', 'nlayer2', 'spatial', 'image'). We do not yet support duplicate dimension names, but we do allow initial construction of the object. We recommend you rename the dims immediately to become distinct, as most xarray functionality is likely to fail silently if you do not. To rename the dimensions you will need to set the ``.dims`` attribute of each variable, ``e.g. var.dims=('x0', 'x1')``.\n",
      "  warnings.warn(\n",
      "C:\\Users\\Public\\Documents\\ESTsoft\\CreatorTemp\\ipykernel_27924\\1132174140.py:51: FutureWarning: 'T' is deprecated and will be removed in a future version, please use 'min' instead.\n",
      "  df2['Time'] = df2['Time'].dt.floor('T')  # T represents minute\n",
      "c:\\Users\\joonw\\anaconda3\\envs\\jl2815\\Lib\\site-packages\\xarray\\namedarray\\core.py:514: UserWarning: Duplicate dimension names present: dimensions {'nlayer2'} appear more than once in dims=('nlayer2', 'nlayer2', 'spatial', 'image'). We do not yet support duplicate dimension names, but we do allow initial construction of the object. We recommend you rename the dims immediately to become distinct, as most xarray functionality is likely to fail silently if you do not. To rename the dimensions you will need to set the ``.dims`` attribute of each variable, ``e.g. var.dims=('x0', 'x1')``.\n",
      "  warnings.warn(\n",
      "C:\\Users\\Public\\Documents\\ESTsoft\\CreatorTemp\\ipykernel_27924\\1132174140.py:51: FutureWarning: 'T' is deprecated and will be removed in a future version, please use 'min' instead.\n",
      "  df2['Time'] = df2['Time'].dt.floor('T')  # T represents minute\n",
      "c:\\Users\\joonw\\anaconda3\\envs\\jl2815\\Lib\\site-packages\\xarray\\namedarray\\core.py:514: UserWarning: Duplicate dimension names present: dimensions {'nlayer2'} appear more than once in dims=('nlayer2', 'nlayer2', 'spatial', 'image'). We do not yet support duplicate dimension names, but we do allow initial construction of the object. We recommend you rename the dims immediately to become distinct, as most xarray functionality is likely to fail silently if you do not. To rename the dimensions you will need to set the ``.dims`` attribute of each variable, ``e.g. var.dims=('x0', 'x1')``.\n",
      "  warnings.warn(\n",
      "C:\\Users\\Public\\Documents\\ESTsoft\\CreatorTemp\\ipykernel_27924\\1132174140.py:51: FutureWarning: 'T' is deprecated and will be removed in a future version, please use 'min' instead.\n",
      "  df2['Time'] = df2['Time'].dt.floor('T')  # T represents minute\n",
      "c:\\Users\\joonw\\anaconda3\\envs\\jl2815\\Lib\\site-packages\\xarray\\namedarray\\core.py:514: UserWarning: Duplicate dimension names present: dimensions {'nlayer2'} appear more than once in dims=('nlayer2', 'nlayer2', 'spatial', 'image'). We do not yet support duplicate dimension names, but we do allow initial construction of the object. We recommend you rename the dims immediately to become distinct, as most xarray functionality is likely to fail silently if you do not. To rename the dimensions you will need to set the ``.dims`` attribute of each variable, ``e.g. var.dims=('x0', 'x1')``.\n",
      "  warnings.warn(\n",
      "C:\\Users\\Public\\Documents\\ESTsoft\\CreatorTemp\\ipykernel_27924\\1132174140.py:51: FutureWarning: 'T' is deprecated and will be removed in a future version, please use 'min' instead.\n",
      "  df2['Time'] = df2['Time'].dt.floor('T')  # T represents minute\n",
      "c:\\Users\\joonw\\anaconda3\\envs\\jl2815\\Lib\\site-packages\\xarray\\namedarray\\core.py:514: UserWarning: Duplicate dimension names present: dimensions {'nlayer2'} appear more than once in dims=('nlayer2', 'nlayer2', 'spatial', 'image'). We do not yet support duplicate dimension names, but we do allow initial construction of the object. We recommend you rename the dims immediately to become distinct, as most xarray functionality is likely to fail silently if you do not. To rename the dimensions you will need to set the ``.dims`` attribute of each variable, ``e.g. var.dims=('x0', 'x1')``.\n",
      "  warnings.warn(\n",
      "C:\\Users\\Public\\Documents\\ESTsoft\\CreatorTemp\\ipykernel_27924\\1132174140.py:51: FutureWarning: 'T' is deprecated and will be removed in a future version, please use 'min' instead.\n",
      "  df2['Time'] = df2['Time'].dt.floor('T')  # T represents minute\n",
      "c:\\Users\\joonw\\anaconda3\\envs\\jl2815\\Lib\\site-packages\\xarray\\namedarray\\core.py:514: UserWarning: Duplicate dimension names present: dimensions {'nlayer2'} appear more than once in dims=('nlayer2', 'nlayer2', 'spatial', 'image'). We do not yet support duplicate dimension names, but we do allow initial construction of the object. We recommend you rename the dims immediately to become distinct, as most xarray functionality is likely to fail silently if you do not. To rename the dimensions you will need to set the ``.dims`` attribute of each variable, ``e.g. var.dims=('x0', 'x1')``.\n",
      "  warnings.warn(\n",
      "C:\\Users\\Public\\Documents\\ESTsoft\\CreatorTemp\\ipykernel_27924\\1132174140.py:51: FutureWarning: 'T' is deprecated and will be removed in a future version, please use 'min' instead.\n",
      "  df2['Time'] = df2['Time'].dt.floor('T')  # T represents minute\n",
      "c:\\Users\\joonw\\anaconda3\\envs\\jl2815\\Lib\\site-packages\\xarray\\namedarray\\core.py:514: UserWarning: Duplicate dimension names present: dimensions {'nlayer2'} appear more than once in dims=('nlayer2', 'nlayer2', 'spatial', 'image'). We do not yet support duplicate dimension names, but we do allow initial construction of the object. We recommend you rename the dims immediately to become distinct, as most xarray functionality is likely to fail silently if you do not. To rename the dimensions you will need to set the ``.dims`` attribute of each variable, ``e.g. var.dims=('x0', 'x1')``.\n",
      "  warnings.warn(\n",
      "C:\\Users\\Public\\Documents\\ESTsoft\\CreatorTemp\\ipykernel_27924\\1132174140.py:51: FutureWarning: 'T' is deprecated and will be removed in a future version, please use 'min' instead.\n",
      "  df2['Time'] = df2['Time'].dt.floor('T')  # T represents minute\n",
      "c:\\Users\\joonw\\anaconda3\\envs\\jl2815\\Lib\\site-packages\\xarray\\namedarray\\core.py:514: UserWarning: Duplicate dimension names present: dimensions {'nlayer2'} appear more than once in dims=('nlayer2', 'nlayer2', 'spatial', 'image'). We do not yet support duplicate dimension names, but we do allow initial construction of the object. We recommend you rename the dims immediately to become distinct, as most xarray functionality is likely to fail silently if you do not. To rename the dimensions you will need to set the ``.dims`` attribute of each variable, ``e.g. var.dims=('x0', 'x1')``.\n",
      "  warnings.warn(\n",
      "C:\\Users\\Public\\Documents\\ESTsoft\\CreatorTemp\\ipykernel_27924\\1132174140.py:51: FutureWarning: 'T' is deprecated and will be removed in a future version, please use 'min' instead.\n",
      "  df2['Time'] = df2['Time'].dt.floor('T')  # T represents minute\n",
      "c:\\Users\\joonw\\anaconda3\\envs\\jl2815\\Lib\\site-packages\\xarray\\namedarray\\core.py:514: UserWarning: Duplicate dimension names present: dimensions {'nlayer2'} appear more than once in dims=('nlayer2', 'nlayer2', 'spatial', 'image'). We do not yet support duplicate dimension names, but we do allow initial construction of the object. We recommend you rename the dims immediately to become distinct, as most xarray functionality is likely to fail silently if you do not. To rename the dimensions you will need to set the ``.dims`` attribute of each variable, ``e.g. var.dims=('x0', 'x1')``.\n",
      "  warnings.warn(\n",
      "C:\\Users\\Public\\Documents\\ESTsoft\\CreatorTemp\\ipykernel_27924\\1132174140.py:51: FutureWarning: 'T' is deprecated and will be removed in a future version, please use 'min' instead.\n",
      "  df2['Time'] = df2['Time'].dt.floor('T')  # T represents minute\n",
      "c:\\Users\\joonw\\anaconda3\\envs\\jl2815\\Lib\\site-packages\\xarray\\namedarray\\core.py:514: UserWarning: Duplicate dimension names present: dimensions {'nlayer2'} appear more than once in dims=('nlayer2', 'nlayer2', 'spatial', 'image'). We do not yet support duplicate dimension names, but we do allow initial construction of the object. We recommend you rename the dims immediately to become distinct, as most xarray functionality is likely to fail silently if you do not. To rename the dimensions you will need to set the ``.dims`` attribute of each variable, ``e.g. var.dims=('x0', 'x1')``.\n",
      "  warnings.warn(\n",
      "C:\\Users\\Public\\Documents\\ESTsoft\\CreatorTemp\\ipykernel_27924\\1132174140.py:51: FutureWarning: 'T' is deprecated and will be removed in a future version, please use 'min' instead.\n",
      "  df2['Time'] = df2['Time'].dt.floor('T')  # T represents minute\n",
      "c:\\Users\\joonw\\anaconda3\\envs\\jl2815\\Lib\\site-packages\\xarray\\namedarray\\core.py:514: UserWarning: Duplicate dimension names present: dimensions {'nlayer2'} appear more than once in dims=('nlayer2', 'nlayer2', 'spatial', 'image'). We do not yet support duplicate dimension names, but we do allow initial construction of the object. We recommend you rename the dims immediately to become distinct, as most xarray functionality is likely to fail silently if you do not. To rename the dimensions you will need to set the ``.dims`` attribute of each variable, ``e.g. var.dims=('x0', 'x1')``.\n",
      "  warnings.warn(\n",
      "C:\\Users\\Public\\Documents\\ESTsoft\\CreatorTemp\\ipykernel_27924\\1132174140.py:51: FutureWarning: 'T' is deprecated and will be removed in a future version, please use 'min' instead.\n",
      "  df2['Time'] = df2['Time'].dt.floor('T')  # T represents minute\n",
      "c:\\Users\\joonw\\anaconda3\\envs\\jl2815\\Lib\\site-packages\\xarray\\namedarray\\core.py:514: UserWarning: Duplicate dimension names present: dimensions {'nlayer2'} appear more than once in dims=('nlayer2', 'nlayer2', 'spatial', 'image'). We do not yet support duplicate dimension names, but we do allow initial construction of the object. We recommend you rename the dims immediately to become distinct, as most xarray functionality is likely to fail silently if you do not. To rename the dimensions you will need to set the ``.dims`` attribute of each variable, ``e.g. var.dims=('x0', 'x1')``.\n",
      "  warnings.warn(\n",
      "C:\\Users\\Public\\Documents\\ESTsoft\\CreatorTemp\\ipykernel_27924\\1132174140.py:51: FutureWarning: 'T' is deprecated and will be removed in a future version, please use 'min' instead.\n",
      "  df2['Time'] = df2['Time'].dt.floor('T')  # T represents minute\n",
      "c:\\Users\\joonw\\anaconda3\\envs\\jl2815\\Lib\\site-packages\\xarray\\namedarray\\core.py:514: UserWarning: Duplicate dimension names present: dimensions {'nlayer2'} appear more than once in dims=('nlayer2', 'nlayer2', 'spatial', 'image'). We do not yet support duplicate dimension names, but we do allow initial construction of the object. We recommend you rename the dims immediately to become distinct, as most xarray functionality is likely to fail silently if you do not. To rename the dimensions you will need to set the ``.dims`` attribute of each variable, ``e.g. var.dims=('x0', 'x1')``.\n",
      "  warnings.warn(\n",
      "C:\\Users\\Public\\Documents\\ESTsoft\\CreatorTemp\\ipykernel_27924\\1132174140.py:51: FutureWarning: 'T' is deprecated and will be removed in a future version, please use 'min' instead.\n",
      "  df2['Time'] = df2['Time'].dt.floor('T')  # T represents minute\n",
      "c:\\Users\\joonw\\anaconda3\\envs\\jl2815\\Lib\\site-packages\\xarray\\namedarray\\core.py:514: UserWarning: Duplicate dimension names present: dimensions {'nlayer2'} appear more than once in dims=('nlayer2', 'nlayer2', 'spatial', 'image'). We do not yet support duplicate dimension names, but we do allow initial construction of the object. We recommend you rename the dims immediately to become distinct, as most xarray functionality is likely to fail silently if you do not. To rename the dimensions you will need to set the ``.dims`` attribute of each variable, ``e.g. var.dims=('x0', 'x1')``.\n",
      "  warnings.warn(\n",
      "C:\\Users\\Public\\Documents\\ESTsoft\\CreatorTemp\\ipykernel_27924\\1132174140.py:51: FutureWarning: 'T' is deprecated and will be removed in a future version, please use 'min' instead.\n",
      "  df2['Time'] = df2['Time'].dt.floor('T')  # T represents minute\n",
      "c:\\Users\\joonw\\anaconda3\\envs\\jl2815\\Lib\\site-packages\\xarray\\namedarray\\core.py:514: UserWarning: Duplicate dimension names present: dimensions {'nlayer2'} appear more than once in dims=('nlayer2', 'nlayer2', 'spatial', 'image'). We do not yet support duplicate dimension names, but we do allow initial construction of the object. We recommend you rename the dims immediately to become distinct, as most xarray functionality is likely to fail silently if you do not. To rename the dimensions you will need to set the ``.dims`` attribute of each variable, ``e.g. var.dims=('x0', 'x1')``.\n",
      "  warnings.warn(\n",
      "C:\\Users\\Public\\Documents\\ESTsoft\\CreatorTemp\\ipykernel_27924\\1132174140.py:51: FutureWarning: 'T' is deprecated and will be removed in a future version, please use 'min' instead.\n",
      "  df2['Time'] = df2['Time'].dt.floor('T')  # T represents minute\n",
      "c:\\Users\\joonw\\anaconda3\\envs\\jl2815\\Lib\\site-packages\\xarray\\namedarray\\core.py:514: UserWarning: Duplicate dimension names present: dimensions {'nlayer2'} appear more than once in dims=('nlayer2', 'nlayer2', 'spatial', 'image'). We do not yet support duplicate dimension names, but we do allow initial construction of the object. We recommend you rename the dims immediately to become distinct, as most xarray functionality is likely to fail silently if you do not. To rename the dimensions you will need to set the ``.dims`` attribute of each variable, ``e.g. var.dims=('x0', 'x1')``.\n",
      "  warnings.warn(\n",
      "C:\\Users\\Public\\Documents\\ESTsoft\\CreatorTemp\\ipykernel_27924\\1132174140.py:51: FutureWarning: 'T' is deprecated and will be removed in a future version, please use 'min' instead.\n",
      "  df2['Time'] = df2['Time'].dt.floor('T')  # T represents minute\n",
      "c:\\Users\\joonw\\anaconda3\\envs\\jl2815\\Lib\\site-packages\\xarray\\namedarray\\core.py:514: UserWarning: Duplicate dimension names present: dimensions {'nlayer2'} appear more than once in dims=('nlayer2', 'nlayer2', 'spatial', 'image'). We do not yet support duplicate dimension names, but we do allow initial construction of the object. We recommend you rename the dims immediately to become distinct, as most xarray functionality is likely to fail silently if you do not. To rename the dimensions you will need to set the ``.dims`` attribute of each variable, ``e.g. var.dims=('x0', 'x1')``.\n",
      "  warnings.warn(\n",
      "C:\\Users\\Public\\Documents\\ESTsoft\\CreatorTemp\\ipykernel_27924\\1132174140.py:51: FutureWarning: 'T' is deprecated and will be removed in a future version, please use 'min' instead.\n",
      "  df2['Time'] = df2['Time'].dt.floor('T')  # T represents minute\n",
      "c:\\Users\\joonw\\anaconda3\\envs\\jl2815\\Lib\\site-packages\\xarray\\namedarray\\core.py:514: UserWarning: Duplicate dimension names present: dimensions {'nlayer2'} appear more than once in dims=('nlayer2', 'nlayer2', 'spatial', 'image'). We do not yet support duplicate dimension names, but we do allow initial construction of the object. We recommend you rename the dims immediately to become distinct, as most xarray functionality is likely to fail silently if you do not. To rename the dimensions you will need to set the ``.dims`` attribute of each variable, ``e.g. var.dims=('x0', 'x1')``.\n",
      "  warnings.warn(\n",
      "C:\\Users\\Public\\Documents\\ESTsoft\\CreatorTemp\\ipykernel_27924\\1132174140.py:51: FutureWarning: 'T' is deprecated and will be removed in a future version, please use 'min' instead.\n",
      "  df2['Time'] = df2['Time'].dt.floor('T')  # T represents minute\n",
      "c:\\Users\\joonw\\anaconda3\\envs\\jl2815\\Lib\\site-packages\\xarray\\namedarray\\core.py:514: UserWarning: Duplicate dimension names present: dimensions {'nlayer2'} appear more than once in dims=('nlayer2', 'nlayer2', 'spatial', 'image'). We do not yet support duplicate dimension names, but we do allow initial construction of the object. We recommend you rename the dims immediately to become distinct, as most xarray functionality is likely to fail silently if you do not. To rename the dimensions you will need to set the ``.dims`` attribute of each variable, ``e.g. var.dims=('x0', 'x1')``.\n",
      "  warnings.warn(\n",
      "C:\\Users\\Public\\Documents\\ESTsoft\\CreatorTemp\\ipykernel_27924\\1132174140.py:51: FutureWarning: 'T' is deprecated and will be removed in a future version, please use 'min' instead.\n",
      "  df2['Time'] = df2['Time'].dt.floor('T')  # T represents minute\n",
      "c:\\Users\\joonw\\anaconda3\\envs\\jl2815\\Lib\\site-packages\\xarray\\namedarray\\core.py:514: UserWarning: Duplicate dimension names present: dimensions {'nlayer2'} appear more than once in dims=('nlayer2', 'nlayer2', 'spatial', 'image'). We do not yet support duplicate dimension names, but we do allow initial construction of the object. We recommend you rename the dims immediately to become distinct, as most xarray functionality is likely to fail silently if you do not. To rename the dimensions you will need to set the ``.dims`` attribute of each variable, ``e.g. var.dims=('x0', 'x1')``.\n",
      "  warnings.warn(\n",
      "C:\\Users\\Public\\Documents\\ESTsoft\\CreatorTemp\\ipykernel_27924\\1132174140.py:51: FutureWarning: 'T' is deprecated and will be removed in a future version, please use 'min' instead.\n",
      "  df2['Time'] = df2['Time'].dt.floor('T')  # T represents minute\n",
      "c:\\Users\\joonw\\anaconda3\\envs\\jl2815\\Lib\\site-packages\\xarray\\namedarray\\core.py:514: UserWarning: Duplicate dimension names present: dimensions {'nlayer2'} appear more than once in dims=('nlayer2', 'nlayer2', 'spatial', 'image'). We do not yet support duplicate dimension names, but we do allow initial construction of the object. We recommend you rename the dims immediately to become distinct, as most xarray functionality is likely to fail silently if you do not. To rename the dimensions you will need to set the ``.dims`` attribute of each variable, ``e.g. var.dims=('x0', 'x1')``.\n",
      "  warnings.warn(\n",
      "C:\\Users\\Public\\Documents\\ESTsoft\\CreatorTemp\\ipykernel_27924\\1132174140.py:51: FutureWarning: 'T' is deprecated and will be removed in a future version, please use 'min' instead.\n",
      "  df2['Time'] = df2['Time'].dt.floor('T')  # T represents minute\n",
      "c:\\Users\\joonw\\anaconda3\\envs\\jl2815\\Lib\\site-packages\\xarray\\namedarray\\core.py:514: UserWarning: Duplicate dimension names present: dimensions {'nlayer2'} appear more than once in dims=('nlayer2', 'nlayer2', 'spatial', 'image'). We do not yet support duplicate dimension names, but we do allow initial construction of the object. We recommend you rename the dims immediately to become distinct, as most xarray functionality is likely to fail silently if you do not. To rename the dimensions you will need to set the ``.dims`` attribute of each variable, ``e.g. var.dims=('x0', 'x1')``.\n",
      "  warnings.warn(\n",
      "C:\\Users\\Public\\Documents\\ESTsoft\\CreatorTemp\\ipykernel_27924\\1132174140.py:51: FutureWarning: 'T' is deprecated and will be removed in a future version, please use 'min' instead.\n",
      "  df2['Time'] = df2['Time'].dt.floor('T')  # T represents minute\n",
      "c:\\Users\\joonw\\anaconda3\\envs\\jl2815\\Lib\\site-packages\\xarray\\namedarray\\core.py:514: UserWarning: Duplicate dimension names present: dimensions {'nlayer2'} appear more than once in dims=('nlayer2', 'nlayer2', 'spatial', 'image'). We do not yet support duplicate dimension names, but we do allow initial construction of the object. We recommend you rename the dims immediately to become distinct, as most xarray functionality is likely to fail silently if you do not. To rename the dimensions you will need to set the ``.dims`` attribute of each variable, ``e.g. var.dims=('x0', 'x1')``.\n",
      "  warnings.warn(\n",
      "C:\\Users\\Public\\Documents\\ESTsoft\\CreatorTemp\\ipykernel_27924\\1132174140.py:51: FutureWarning: 'T' is deprecated and will be removed in a future version, please use 'min' instead.\n",
      "  df2['Time'] = df2['Time'].dt.floor('T')  # T represents minute\n",
      "c:\\Users\\joonw\\anaconda3\\envs\\jl2815\\Lib\\site-packages\\xarray\\namedarray\\core.py:514: UserWarning: Duplicate dimension names present: dimensions {'nlayer2'} appear more than once in dims=('nlayer2', 'nlayer2', 'spatial', 'image'). We do not yet support duplicate dimension names, but we do allow initial construction of the object. We recommend you rename the dims immediately to become distinct, as most xarray functionality is likely to fail silently if you do not. To rename the dimensions you will need to set the ``.dims`` attribute of each variable, ``e.g. var.dims=('x0', 'x1')``.\n",
      "  warnings.warn(\n",
      "C:\\Users\\Public\\Documents\\ESTsoft\\CreatorTemp\\ipykernel_27924\\1132174140.py:51: FutureWarning: 'T' is deprecated and will be removed in a future version, please use 'min' instead.\n",
      "  df2['Time'] = df2['Time'].dt.floor('T')  # T represents minute\n",
      "c:\\Users\\joonw\\anaconda3\\envs\\jl2815\\Lib\\site-packages\\xarray\\namedarray\\core.py:514: UserWarning: Duplicate dimension names present: dimensions {'nlayer2'} appear more than once in dims=('nlayer2', 'nlayer2', 'spatial', 'image'). We do not yet support duplicate dimension names, but we do allow initial construction of the object. We recommend you rename the dims immediately to become distinct, as most xarray functionality is likely to fail silently if you do not. To rename the dimensions you will need to set the ``.dims`` attribute of each variable, ``e.g. var.dims=('x0', 'x1')``.\n",
      "  warnings.warn(\n",
      "C:\\Users\\Public\\Documents\\ESTsoft\\CreatorTemp\\ipykernel_27924\\1132174140.py:51: FutureWarning: 'T' is deprecated and will be removed in a future version, please use 'min' instead.\n",
      "  df2['Time'] = df2['Time'].dt.floor('T')  # T represents minute\n",
      "c:\\Users\\joonw\\anaconda3\\envs\\jl2815\\Lib\\site-packages\\xarray\\namedarray\\core.py:514: UserWarning: Duplicate dimension names present: dimensions {'nlayer2'} appear more than once in dims=('nlayer2', 'nlayer2', 'spatial', 'image'). We do not yet support duplicate dimension names, but we do allow initial construction of the object. We recommend you rename the dims immediately to become distinct, as most xarray functionality is likely to fail silently if you do not. To rename the dimensions you will need to set the ``.dims`` attribute of each variable, ``e.g. var.dims=('x0', 'x1')``.\n",
      "  warnings.warn(\n",
      "C:\\Users\\Public\\Documents\\ESTsoft\\CreatorTemp\\ipykernel_27924\\1132174140.py:51: FutureWarning: 'T' is deprecated and will be removed in a future version, please use 'min' instead.\n",
      "  df2['Time'] = df2['Time'].dt.floor('T')  # T represents minute\n",
      "c:\\Users\\joonw\\anaconda3\\envs\\jl2815\\Lib\\site-packages\\xarray\\namedarray\\core.py:514: UserWarning: Duplicate dimension names present: dimensions {'nlayer2'} appear more than once in dims=('nlayer2', 'nlayer2', 'spatial', 'image'). We do not yet support duplicate dimension names, but we do allow initial construction of the object. We recommend you rename the dims immediately to become distinct, as most xarray functionality is likely to fail silently if you do not. To rename the dimensions you will need to set the ``.dims`` attribute of each variable, ``e.g. var.dims=('x0', 'x1')``.\n",
      "  warnings.warn(\n",
      "C:\\Users\\Public\\Documents\\ESTsoft\\CreatorTemp\\ipykernel_27924\\1132174140.py:51: FutureWarning: 'T' is deprecated and will be removed in a future version, please use 'min' instead.\n",
      "  df2['Time'] = df2['Time'].dt.floor('T')  # T represents minute\n",
      "c:\\Users\\joonw\\anaconda3\\envs\\jl2815\\Lib\\site-packages\\xarray\\namedarray\\core.py:514: UserWarning: Duplicate dimension names present: dimensions {'nlayer2'} appear more than once in dims=('nlayer2', 'nlayer2', 'spatial', 'image'). We do not yet support duplicate dimension names, but we do allow initial construction of the object. We recommend you rename the dims immediately to become distinct, as most xarray functionality is likely to fail silently if you do not. To rename the dimensions you will need to set the ``.dims`` attribute of each variable, ``e.g. var.dims=('x0', 'x1')``.\n",
      "  warnings.warn(\n",
      "C:\\Users\\Public\\Documents\\ESTsoft\\CreatorTemp\\ipykernel_27924\\1132174140.py:51: FutureWarning: 'T' is deprecated and will be removed in a future version, please use 'min' instead.\n",
      "  df2['Time'] = df2['Time'].dt.floor('T')  # T represents minute\n",
      "c:\\Users\\joonw\\anaconda3\\envs\\jl2815\\Lib\\site-packages\\xarray\\namedarray\\core.py:514: UserWarning: Duplicate dimension names present: dimensions {'nlayer2'} appear more than once in dims=('nlayer2', 'nlayer2', 'spatial', 'image'). We do not yet support duplicate dimension names, but we do allow initial construction of the object. We recommend you rename the dims immediately to become distinct, as most xarray functionality is likely to fail silently if you do not. To rename the dimensions you will need to set the ``.dims`` attribute of each variable, ``e.g. var.dims=('x0', 'x1')``.\n",
      "  warnings.warn(\n",
      "C:\\Users\\Public\\Documents\\ESTsoft\\CreatorTemp\\ipykernel_27924\\1132174140.py:51: FutureWarning: 'T' is deprecated and will be removed in a future version, please use 'min' instead.\n",
      "  df2['Time'] = df2['Time'].dt.floor('T')  # T represents minute\n",
      "c:\\Users\\joonw\\anaconda3\\envs\\jl2815\\Lib\\site-packages\\xarray\\namedarray\\core.py:514: UserWarning: Duplicate dimension names present: dimensions {'nlayer2'} appear more than once in dims=('nlayer2', 'nlayer2', 'spatial', 'image'). We do not yet support duplicate dimension names, but we do allow initial construction of the object. We recommend you rename the dims immediately to become distinct, as most xarray functionality is likely to fail silently if you do not. To rename the dimensions you will need to set the ``.dims`` attribute of each variable, ``e.g. var.dims=('x0', 'x1')``.\n",
      "  warnings.warn(\n",
      "C:\\Users\\Public\\Documents\\ESTsoft\\CreatorTemp\\ipykernel_27924\\1132174140.py:51: FutureWarning: 'T' is deprecated and will be removed in a future version, please use 'min' instead.\n",
      "  df2['Time'] = df2['Time'].dt.floor('T')  # T represents minute\n",
      "c:\\Users\\joonw\\anaconda3\\envs\\jl2815\\Lib\\site-packages\\xarray\\namedarray\\core.py:514: UserWarning: Duplicate dimension names present: dimensions {'nlayer2'} appear more than once in dims=('nlayer2', 'nlayer2', 'spatial', 'image'). We do not yet support duplicate dimension names, but we do allow initial construction of the object. We recommend you rename the dims immediately to become distinct, as most xarray functionality is likely to fail silently if you do not. To rename the dimensions you will need to set the ``.dims`` attribute of each variable, ``e.g. var.dims=('x0', 'x1')``.\n",
      "  warnings.warn(\n",
      "C:\\Users\\Public\\Documents\\ESTsoft\\CreatorTemp\\ipykernel_27924\\1132174140.py:51: FutureWarning: 'T' is deprecated and will be removed in a future version, please use 'min' instead.\n",
      "  df2['Time'] = df2['Time'].dt.floor('T')  # T represents minute\n",
      "c:\\Users\\joonw\\anaconda3\\envs\\jl2815\\Lib\\site-packages\\xarray\\namedarray\\core.py:514: UserWarning: Duplicate dimension names present: dimensions {'nlayer2'} appear more than once in dims=('nlayer2', 'nlayer2', 'spatial', 'image'). We do not yet support duplicate dimension names, but we do allow initial construction of the object. We recommend you rename the dims immediately to become distinct, as most xarray functionality is likely to fail silently if you do not. To rename the dimensions you will need to set the ``.dims`` attribute of each variable, ``e.g. var.dims=('x0', 'x1')``.\n",
      "  warnings.warn(\n",
      "C:\\Users\\Public\\Documents\\ESTsoft\\CreatorTemp\\ipykernel_27924\\1132174140.py:51: FutureWarning: 'T' is deprecated and will be removed in a future version, please use 'min' instead.\n",
      "  df2['Time'] = df2['Time'].dt.floor('T')  # T represents minute\n",
      "c:\\Users\\joonw\\anaconda3\\envs\\jl2815\\Lib\\site-packages\\xarray\\namedarray\\core.py:514: UserWarning: Duplicate dimension names present: dimensions {'nlayer2'} appear more than once in dims=('nlayer2', 'nlayer2', 'spatial', 'image'). We do not yet support duplicate dimension names, but we do allow initial construction of the object. We recommend you rename the dims immediately to become distinct, as most xarray functionality is likely to fail silently if you do not. To rename the dimensions you will need to set the ``.dims`` attribute of each variable, ``e.g. var.dims=('x0', 'x1')``.\n",
      "  warnings.warn(\n",
      "C:\\Users\\Public\\Documents\\ESTsoft\\CreatorTemp\\ipykernel_27924\\1132174140.py:51: FutureWarning: 'T' is deprecated and will be removed in a future version, please use 'min' instead.\n",
      "  df2['Time'] = df2['Time'].dt.floor('T')  # T represents minute\n",
      "c:\\Users\\joonw\\anaconda3\\envs\\jl2815\\Lib\\site-packages\\xarray\\namedarray\\core.py:514: UserWarning: Duplicate dimension names present: dimensions {'nlayer2'} appear more than once in dims=('nlayer2', 'nlayer2', 'spatial', 'image'). We do not yet support duplicate dimension names, but we do allow initial construction of the object. We recommend you rename the dims immediately to become distinct, as most xarray functionality is likely to fail silently if you do not. To rename the dimensions you will need to set the ``.dims`` attribute of each variable, ``e.g. var.dims=('x0', 'x1')``.\n",
      "  warnings.warn(\n",
      "C:\\Users\\Public\\Documents\\ESTsoft\\CreatorTemp\\ipykernel_27924\\1132174140.py:51: FutureWarning: 'T' is deprecated and will be removed in a future version, please use 'min' instead.\n",
      "  df2['Time'] = df2['Time'].dt.floor('T')  # T represents minute\n",
      "c:\\Users\\joonw\\anaconda3\\envs\\jl2815\\Lib\\site-packages\\xarray\\namedarray\\core.py:514: UserWarning: Duplicate dimension names present: dimensions {'nlayer2'} appear more than once in dims=('nlayer2', 'nlayer2', 'spatial', 'image'). We do not yet support duplicate dimension names, but we do allow initial construction of the object. We recommend you rename the dims immediately to become distinct, as most xarray functionality is likely to fail silently if you do not. To rename the dimensions you will need to set the ``.dims`` attribute of each variable, ``e.g. var.dims=('x0', 'x1')``.\n",
      "  warnings.warn(\n",
      "C:\\Users\\Public\\Documents\\ESTsoft\\CreatorTemp\\ipykernel_27924\\1132174140.py:51: FutureWarning: 'T' is deprecated and will be removed in a future version, please use 'min' instead.\n",
      "  df2['Time'] = df2['Time'].dt.floor('T')  # T represents minute\n",
      "c:\\Users\\joonw\\anaconda3\\envs\\jl2815\\Lib\\site-packages\\xarray\\namedarray\\core.py:514: UserWarning: Duplicate dimension names present: dimensions {'nlayer2'} appear more than once in dims=('nlayer2', 'nlayer2', 'spatial', 'image'). We do not yet support duplicate dimension names, but we do allow initial construction of the object. We recommend you rename the dims immediately to become distinct, as most xarray functionality is likely to fail silently if you do not. To rename the dimensions you will need to set the ``.dims`` attribute of each variable, ``e.g. var.dims=('x0', 'x1')``.\n",
      "  warnings.warn(\n",
      "C:\\Users\\Public\\Documents\\ESTsoft\\CreatorTemp\\ipykernel_27924\\1132174140.py:51: FutureWarning: 'T' is deprecated and will be removed in a future version, please use 'min' instead.\n",
      "  df2['Time'] = df2['Time'].dt.floor('T')  # T represents minute\n",
      "c:\\Users\\joonw\\anaconda3\\envs\\jl2815\\Lib\\site-packages\\xarray\\namedarray\\core.py:514: UserWarning: Duplicate dimension names present: dimensions {'nlayer2'} appear more than once in dims=('nlayer2', 'nlayer2', 'spatial', 'image'). We do not yet support duplicate dimension names, but we do allow initial construction of the object. We recommend you rename the dims immediately to become distinct, as most xarray functionality is likely to fail silently if you do not. To rename the dimensions you will need to set the ``.dims`` attribute of each variable, ``e.g. var.dims=('x0', 'x1')``.\n",
      "  warnings.warn(\n",
      "C:\\Users\\Public\\Documents\\ESTsoft\\CreatorTemp\\ipykernel_27924\\1132174140.py:51: FutureWarning: 'T' is deprecated and will be removed in a future version, please use 'min' instead.\n",
      "  df2['Time'] = df2['Time'].dt.floor('T')  # T represents minute\n",
      "c:\\Users\\joonw\\anaconda3\\envs\\jl2815\\Lib\\site-packages\\xarray\\namedarray\\core.py:514: UserWarning: Duplicate dimension names present: dimensions {'nlayer2'} appear more than once in dims=('nlayer2', 'nlayer2', 'spatial', 'image'). We do not yet support duplicate dimension names, but we do allow initial construction of the object. We recommend you rename the dims immediately to become distinct, as most xarray functionality is likely to fail silently if you do not. To rename the dimensions you will need to set the ``.dims`` attribute of each variable, ``e.g. var.dims=('x0', 'x1')``.\n",
      "  warnings.warn(\n",
      "C:\\Users\\Public\\Documents\\ESTsoft\\CreatorTemp\\ipykernel_27924\\1132174140.py:51: FutureWarning: 'T' is deprecated and will be removed in a future version, please use 'min' instead.\n",
      "  df2['Time'] = df2['Time'].dt.floor('T')  # T represents minute\n",
      "c:\\Users\\joonw\\anaconda3\\envs\\jl2815\\Lib\\site-packages\\xarray\\namedarray\\core.py:514: UserWarning: Duplicate dimension names present: dimensions {'nlayer2'} appear more than once in dims=('nlayer2', 'nlayer2', 'spatial', 'image'). We do not yet support duplicate dimension names, but we do allow initial construction of the object. We recommend you rename the dims immediately to become distinct, as most xarray functionality is likely to fail silently if you do not. To rename the dimensions you will need to set the ``.dims`` attribute of each variable, ``e.g. var.dims=('x0', 'x1')``.\n",
      "  warnings.warn(\n",
      "C:\\Users\\Public\\Documents\\ESTsoft\\CreatorTemp\\ipykernel_27924\\1132174140.py:51: FutureWarning: 'T' is deprecated and will be removed in a future version, please use 'min' instead.\n",
      "  df2['Time'] = df2['Time'].dt.floor('T')  # T represents minute\n",
      "c:\\Users\\joonw\\anaconda3\\envs\\jl2815\\Lib\\site-packages\\xarray\\namedarray\\core.py:514: UserWarning: Duplicate dimension names present: dimensions {'nlayer2'} appear more than once in dims=('nlayer2', 'nlayer2', 'spatial', 'image'). We do not yet support duplicate dimension names, but we do allow initial construction of the object. We recommend you rename the dims immediately to become distinct, as most xarray functionality is likely to fail silently if you do not. To rename the dimensions you will need to set the ``.dims`` attribute of each variable, ``e.g. var.dims=('x0', 'x1')``.\n",
      "  warnings.warn(\n",
      "C:\\Users\\Public\\Documents\\ESTsoft\\CreatorTemp\\ipykernel_27924\\1132174140.py:51: FutureWarning: 'T' is deprecated and will be removed in a future version, please use 'min' instead.\n",
      "  df2['Time'] = df2['Time'].dt.floor('T')  # T represents minute\n",
      "c:\\Users\\joonw\\anaconda3\\envs\\jl2815\\Lib\\site-packages\\xarray\\namedarray\\core.py:514: UserWarning: Duplicate dimension names present: dimensions {'nlayer2'} appear more than once in dims=('nlayer2', 'nlayer2', 'spatial', 'image'). We do not yet support duplicate dimension names, but we do allow initial construction of the object. We recommend you rename the dims immediately to become distinct, as most xarray functionality is likely to fail silently if you do not. To rename the dimensions you will need to set the ``.dims`` attribute of each variable, ``e.g. var.dims=('x0', 'x1')``.\n",
      "  warnings.warn(\n",
      "C:\\Users\\Public\\Documents\\ESTsoft\\CreatorTemp\\ipykernel_27924\\1132174140.py:51: FutureWarning: 'T' is deprecated and will be removed in a future version, please use 'min' instead.\n",
      "  df2['Time'] = df2['Time'].dt.floor('T')  # T represents minute\n",
      "c:\\Users\\joonw\\anaconda3\\envs\\jl2815\\Lib\\site-packages\\xarray\\namedarray\\core.py:514: UserWarning: Duplicate dimension names present: dimensions {'nlayer2'} appear more than once in dims=('nlayer2', 'nlayer2', 'spatial', 'image'). We do not yet support duplicate dimension names, but we do allow initial construction of the object. We recommend you rename the dims immediately to become distinct, as most xarray functionality is likely to fail silently if you do not. To rename the dimensions you will need to set the ``.dims`` attribute of each variable, ``e.g. var.dims=('x0', 'x1')``.\n",
      "  warnings.warn(\n",
      "C:\\Users\\Public\\Documents\\ESTsoft\\CreatorTemp\\ipykernel_27924\\1132174140.py:51: FutureWarning: 'T' is deprecated and will be removed in a future version, please use 'min' instead.\n",
      "  df2['Time'] = df2['Time'].dt.floor('T')  # T represents minute\n",
      "c:\\Users\\joonw\\anaconda3\\envs\\jl2815\\Lib\\site-packages\\xarray\\namedarray\\core.py:514: UserWarning: Duplicate dimension names present: dimensions {'nlayer2'} appear more than once in dims=('nlayer2', 'nlayer2', 'spatial', 'image'). We do not yet support duplicate dimension names, but we do allow initial construction of the object. We recommend you rename the dims immediately to become distinct, as most xarray functionality is likely to fail silently if you do not. To rename the dimensions you will need to set the ``.dims`` attribute of each variable, ``e.g. var.dims=('x0', 'x1')``.\n",
      "  warnings.warn(\n",
      "C:\\Users\\Public\\Documents\\ESTsoft\\CreatorTemp\\ipykernel_27924\\1132174140.py:51: FutureWarning: 'T' is deprecated and will be removed in a future version, please use 'min' instead.\n",
      "  df2['Time'] = df2['Time'].dt.floor('T')  # T represents minute\n",
      "c:\\Users\\joonw\\anaconda3\\envs\\jl2815\\Lib\\site-packages\\xarray\\namedarray\\core.py:514: UserWarning: Duplicate dimension names present: dimensions {'nlayer2'} appear more than once in dims=('nlayer2', 'nlayer2', 'spatial', 'image'). We do not yet support duplicate dimension names, but we do allow initial construction of the object. We recommend you rename the dims immediately to become distinct, as most xarray functionality is likely to fail silently if you do not. To rename the dimensions you will need to set the ``.dims`` attribute of each variable, ``e.g. var.dims=('x0', 'x1')``.\n",
      "  warnings.warn(\n",
      "C:\\Users\\Public\\Documents\\ESTsoft\\CreatorTemp\\ipykernel_27924\\1132174140.py:51: FutureWarning: 'T' is deprecated and will be removed in a future version, please use 'min' instead.\n",
      "  df2['Time'] = df2['Time'].dt.floor('T')  # T represents minute\n",
      "c:\\Users\\joonw\\anaconda3\\envs\\jl2815\\Lib\\site-packages\\xarray\\namedarray\\core.py:514: UserWarning: Duplicate dimension names present: dimensions {'nlayer2'} appear more than once in dims=('nlayer2', 'nlayer2', 'spatial', 'image'). We do not yet support duplicate dimension names, but we do allow initial construction of the object. We recommend you rename the dims immediately to become distinct, as most xarray functionality is likely to fail silently if you do not. To rename the dimensions you will need to set the ``.dims`` attribute of each variable, ``e.g. var.dims=('x0', 'x1')``.\n",
      "  warnings.warn(\n",
      "C:\\Users\\Public\\Documents\\ESTsoft\\CreatorTemp\\ipykernel_27924\\1132174140.py:51: FutureWarning: 'T' is deprecated and will be removed in a future version, please use 'min' instead.\n",
      "  df2['Time'] = df2['Time'].dt.floor('T')  # T represents minute\n",
      "c:\\Users\\joonw\\anaconda3\\envs\\jl2815\\Lib\\site-packages\\xarray\\namedarray\\core.py:514: UserWarning: Duplicate dimension names present: dimensions {'nlayer2'} appear more than once in dims=('nlayer2', 'nlayer2', 'spatial', 'image'). We do not yet support duplicate dimension names, but we do allow initial construction of the object. We recommend you rename the dims immediately to become distinct, as most xarray functionality is likely to fail silently if you do not. To rename the dimensions you will need to set the ``.dims`` attribute of each variable, ``e.g. var.dims=('x0', 'x1')``.\n",
      "  warnings.warn(\n",
      "C:\\Users\\Public\\Documents\\ESTsoft\\CreatorTemp\\ipykernel_27924\\1132174140.py:51: FutureWarning: 'T' is deprecated and will be removed in a future version, please use 'min' instead.\n",
      "  df2['Time'] = df2['Time'].dt.floor('T')  # T represents minute\n",
      "c:\\Users\\joonw\\anaconda3\\envs\\jl2815\\Lib\\site-packages\\xarray\\namedarray\\core.py:514: UserWarning: Duplicate dimension names present: dimensions {'nlayer2'} appear more than once in dims=('nlayer2', 'nlayer2', 'spatial', 'image'). We do not yet support duplicate dimension names, but we do allow initial construction of the object. We recommend you rename the dims immediately to become distinct, as most xarray functionality is likely to fail silently if you do not. To rename the dimensions you will need to set the ``.dims`` attribute of each variable, ``e.g. var.dims=('x0', 'x1')``.\n",
      "  warnings.warn(\n",
      "C:\\Users\\Public\\Documents\\ESTsoft\\CreatorTemp\\ipykernel_27924\\1132174140.py:51: FutureWarning: 'T' is deprecated and will be removed in a future version, please use 'min' instead.\n",
      "  df2['Time'] = df2['Time'].dt.floor('T')  # T represents minute\n",
      "c:\\Users\\joonw\\anaconda3\\envs\\jl2815\\Lib\\site-packages\\xarray\\namedarray\\core.py:514: UserWarning: Duplicate dimension names present: dimensions {'nlayer2'} appear more than once in dims=('nlayer2', 'nlayer2', 'spatial', 'image'). We do not yet support duplicate dimension names, but we do allow initial construction of the object. We recommend you rename the dims immediately to become distinct, as most xarray functionality is likely to fail silently if you do not. To rename the dimensions you will need to set the ``.dims`` attribute of each variable, ``e.g. var.dims=('x0', 'x1')``.\n",
      "  warnings.warn(\n",
      "C:\\Users\\Public\\Documents\\ESTsoft\\CreatorTemp\\ipykernel_27924\\1132174140.py:51: FutureWarning: 'T' is deprecated and will be removed in a future version, please use 'min' instead.\n",
      "  df2['Time'] = df2['Time'].dt.floor('T')  # T represents minute\n",
      "c:\\Users\\joonw\\anaconda3\\envs\\jl2815\\Lib\\site-packages\\xarray\\namedarray\\core.py:514: UserWarning: Duplicate dimension names present: dimensions {'nlayer2'} appear more than once in dims=('nlayer2', 'nlayer2', 'spatial', 'image'). We do not yet support duplicate dimension names, but we do allow initial construction of the object. We recommend you rename the dims immediately to become distinct, as most xarray functionality is likely to fail silently if you do not. To rename the dimensions you will need to set the ``.dims`` attribute of each variable, ``e.g. var.dims=('x0', 'x1')``.\n",
      "  warnings.warn(\n",
      "C:\\Users\\Public\\Documents\\ESTsoft\\CreatorTemp\\ipykernel_27924\\1132174140.py:51: FutureWarning: 'T' is deprecated and will be removed in a future version, please use 'min' instead.\n",
      "  df2['Time'] = df2['Time'].dt.floor('T')  # T represents minute\n",
      "c:\\Users\\joonw\\anaconda3\\envs\\jl2815\\Lib\\site-packages\\xarray\\namedarray\\core.py:514: UserWarning: Duplicate dimension names present: dimensions {'nlayer2'} appear more than once in dims=('nlayer2', 'nlayer2', 'spatial', 'image'). We do not yet support duplicate dimension names, but we do allow initial construction of the object. We recommend you rename the dims immediately to become distinct, as most xarray functionality is likely to fail silently if you do not. To rename the dimensions you will need to set the ``.dims`` attribute of each variable, ``e.g. var.dims=('x0', 'x1')``.\n",
      "  warnings.warn(\n",
      "C:\\Users\\Public\\Documents\\ESTsoft\\CreatorTemp\\ipykernel_27924\\1132174140.py:51: FutureWarning: 'T' is deprecated and will be removed in a future version, please use 'min' instead.\n",
      "  df2['Time'] = df2['Time'].dt.floor('T')  # T represents minute\n",
      "c:\\Users\\joonw\\anaconda3\\envs\\jl2815\\Lib\\site-packages\\xarray\\namedarray\\core.py:514: UserWarning: Duplicate dimension names present: dimensions {'nlayer2'} appear more than once in dims=('nlayer2', 'nlayer2', 'spatial', 'image'). We do not yet support duplicate dimension names, but we do allow initial construction of the object. We recommend you rename the dims immediately to become distinct, as most xarray functionality is likely to fail silently if you do not. To rename the dimensions you will need to set the ``.dims`` attribute of each variable, ``e.g. var.dims=('x0', 'x1')``.\n",
      "  warnings.warn(\n",
      "C:\\Users\\Public\\Documents\\ESTsoft\\CreatorTemp\\ipykernel_27924\\1132174140.py:51: FutureWarning: 'T' is deprecated and will be removed in a future version, please use 'min' instead.\n",
      "  df2['Time'] = df2['Time'].dt.floor('T')  # T represents minute\n",
      "c:\\Users\\joonw\\anaconda3\\envs\\jl2815\\Lib\\site-packages\\xarray\\namedarray\\core.py:514: UserWarning: Duplicate dimension names present: dimensions {'nlayer2'} appear more than once in dims=('nlayer2', 'nlayer2', 'spatial', 'image'). We do not yet support duplicate dimension names, but we do allow initial construction of the object. We recommend you rename the dims immediately to become distinct, as most xarray functionality is likely to fail silently if you do not. To rename the dimensions you will need to set the ``.dims`` attribute of each variable, ``e.g. var.dims=('x0', 'x1')``.\n",
      "  warnings.warn(\n",
      "C:\\Users\\Public\\Documents\\ESTsoft\\CreatorTemp\\ipykernel_27924\\1132174140.py:51: FutureWarning: 'T' is deprecated and will be removed in a future version, please use 'min' instead.\n",
      "  df2['Time'] = df2['Time'].dt.floor('T')  # T represents minute\n",
      "c:\\Users\\joonw\\anaconda3\\envs\\jl2815\\Lib\\site-packages\\xarray\\namedarray\\core.py:514: UserWarning: Duplicate dimension names present: dimensions {'nlayer2'} appear more than once in dims=('nlayer2', 'nlayer2', 'spatial', 'image'). We do not yet support duplicate dimension names, but we do allow initial construction of the object. We recommend you rename the dims immediately to become distinct, as most xarray functionality is likely to fail silently if you do not. To rename the dimensions you will need to set the ``.dims`` attribute of each variable, ``e.g. var.dims=('x0', 'x1')``.\n",
      "  warnings.warn(\n",
      "C:\\Users\\Public\\Documents\\ESTsoft\\CreatorTemp\\ipykernel_27924\\1132174140.py:51: FutureWarning: 'T' is deprecated and will be removed in a future version, please use 'min' instead.\n",
      "  df2['Time'] = df2['Time'].dt.floor('T')  # T represents minute\n",
      "c:\\Users\\joonw\\anaconda3\\envs\\jl2815\\Lib\\site-packages\\xarray\\namedarray\\core.py:514: UserWarning: Duplicate dimension names present: dimensions {'nlayer2'} appear more than once in dims=('nlayer2', 'nlayer2', 'spatial', 'image'). We do not yet support duplicate dimension names, but we do allow initial construction of the object. We recommend you rename the dims immediately to become distinct, as most xarray functionality is likely to fail silently if you do not. To rename the dimensions you will need to set the ``.dims`` attribute of each variable, ``e.g. var.dims=('x0', 'x1')``.\n",
      "  warnings.warn(\n",
      "C:\\Users\\Public\\Documents\\ESTsoft\\CreatorTemp\\ipykernel_27924\\1132174140.py:51: FutureWarning: 'T' is deprecated and will be removed in a future version, please use 'min' instead.\n",
      "  df2['Time'] = df2['Time'].dt.floor('T')  # T represents minute\n",
      "c:\\Users\\joonw\\anaconda3\\envs\\jl2815\\Lib\\site-packages\\xarray\\namedarray\\core.py:514: UserWarning: Duplicate dimension names present: dimensions {'nlayer2'} appear more than once in dims=('nlayer2', 'nlayer2', 'spatial', 'image'). We do not yet support duplicate dimension names, but we do allow initial construction of the object. We recommend you rename the dims immediately to become distinct, as most xarray functionality is likely to fail silently if you do not. To rename the dimensions you will need to set the ``.dims`` attribute of each variable, ``e.g. var.dims=('x0', 'x1')``.\n",
      "  warnings.warn(\n",
      "C:\\Users\\Public\\Documents\\ESTsoft\\CreatorTemp\\ipykernel_27924\\1132174140.py:51: FutureWarning: 'T' is deprecated and will be removed in a future version, please use 'min' instead.\n",
      "  df2['Time'] = df2['Time'].dt.floor('T')  # T represents minute\n",
      "c:\\Users\\joonw\\anaconda3\\envs\\jl2815\\Lib\\site-packages\\xarray\\namedarray\\core.py:514: UserWarning: Duplicate dimension names present: dimensions {'nlayer2'} appear more than once in dims=('nlayer2', 'nlayer2', 'spatial', 'image'). We do not yet support duplicate dimension names, but we do allow initial construction of the object. We recommend you rename the dims immediately to become distinct, as most xarray functionality is likely to fail silently if you do not. To rename the dimensions you will need to set the ``.dims`` attribute of each variable, ``e.g. var.dims=('x0', 'x1')``.\n",
      "  warnings.warn(\n",
      "C:\\Users\\Public\\Documents\\ESTsoft\\CreatorTemp\\ipykernel_27924\\1132174140.py:51: FutureWarning: 'T' is deprecated and will be removed in a future version, please use 'min' instead.\n",
      "  df2['Time'] = df2['Time'].dt.floor('T')  # T represents minute\n",
      "c:\\Users\\joonw\\anaconda3\\envs\\jl2815\\Lib\\site-packages\\xarray\\namedarray\\core.py:514: UserWarning: Duplicate dimension names present: dimensions {'nlayer2'} appear more than once in dims=('nlayer2', 'nlayer2', 'spatial', 'image'). We do not yet support duplicate dimension names, but we do allow initial construction of the object. We recommend you rename the dims immediately to become distinct, as most xarray functionality is likely to fail silently if you do not. To rename the dimensions you will need to set the ``.dims`` attribute of each variable, ``e.g. var.dims=('x0', 'x1')``.\n",
      "  warnings.warn(\n",
      "C:\\Users\\Public\\Documents\\ESTsoft\\CreatorTemp\\ipykernel_27924\\1132174140.py:51: FutureWarning: 'T' is deprecated and will be removed in a future version, please use 'min' instead.\n",
      "  df2['Time'] = df2['Time'].dt.floor('T')  # T represents minute\n",
      "c:\\Users\\joonw\\anaconda3\\envs\\jl2815\\Lib\\site-packages\\xarray\\namedarray\\core.py:514: UserWarning: Duplicate dimension names present: dimensions {'nlayer2'} appear more than once in dims=('nlayer2', 'nlayer2', 'spatial', 'image'). We do not yet support duplicate dimension names, but we do allow initial construction of the object. We recommend you rename the dims immediately to become distinct, as most xarray functionality is likely to fail silently if you do not. To rename the dimensions you will need to set the ``.dims`` attribute of each variable, ``e.g. var.dims=('x0', 'x1')``.\n",
      "  warnings.warn(\n",
      "C:\\Users\\Public\\Documents\\ESTsoft\\CreatorTemp\\ipykernel_27924\\1132174140.py:51: FutureWarning: 'T' is deprecated and will be removed in a future version, please use 'min' instead.\n",
      "  df2['Time'] = df2['Time'].dt.floor('T')  # T represents minute\n",
      "c:\\Users\\joonw\\anaconda3\\envs\\jl2815\\Lib\\site-packages\\xarray\\namedarray\\core.py:514: UserWarning: Duplicate dimension names present: dimensions {'nlayer2'} appear more than once in dims=('nlayer2', 'nlayer2', 'spatial', 'image'). We do not yet support duplicate dimension names, but we do allow initial construction of the object. We recommend you rename the dims immediately to become distinct, as most xarray functionality is likely to fail silently if you do not. To rename the dimensions you will need to set the ``.dims`` attribute of each variable, ``e.g. var.dims=('x0', 'x1')``.\n",
      "  warnings.warn(\n",
      "C:\\Users\\Public\\Documents\\ESTsoft\\CreatorTemp\\ipykernel_27924\\1132174140.py:51: FutureWarning: 'T' is deprecated and will be removed in a future version, please use 'min' instead.\n",
      "  df2['Time'] = df2['Time'].dt.floor('T')  # T represents minute\n",
      "c:\\Users\\joonw\\anaconda3\\envs\\jl2815\\Lib\\site-packages\\xarray\\namedarray\\core.py:514: UserWarning: Duplicate dimension names present: dimensions {'nlayer2'} appear more than once in dims=('nlayer2', 'nlayer2', 'spatial', 'image'). We do not yet support duplicate dimension names, but we do allow initial construction of the object. We recommend you rename the dims immediately to become distinct, as most xarray functionality is likely to fail silently if you do not. To rename the dimensions you will need to set the ``.dims`` attribute of each variable, ``e.g. var.dims=('x0', 'x1')``.\n",
      "  warnings.warn(\n",
      "C:\\Users\\Public\\Documents\\ESTsoft\\CreatorTemp\\ipykernel_27924\\1132174140.py:51: FutureWarning: 'T' is deprecated and will be removed in a future version, please use 'min' instead.\n",
      "  df2['Time'] = df2['Time'].dt.floor('T')  # T represents minute\n",
      "c:\\Users\\joonw\\anaconda3\\envs\\jl2815\\Lib\\site-packages\\xarray\\namedarray\\core.py:514: UserWarning: Duplicate dimension names present: dimensions {'nlayer2'} appear more than once in dims=('nlayer2', 'nlayer2', 'spatial', 'image'). We do not yet support duplicate dimension names, but we do allow initial construction of the object. We recommend you rename the dims immediately to become distinct, as most xarray functionality is likely to fail silently if you do not. To rename the dimensions you will need to set the ``.dims`` attribute of each variable, ``e.g. var.dims=('x0', 'x1')``.\n",
      "  warnings.warn(\n",
      "C:\\Users\\Public\\Documents\\ESTsoft\\CreatorTemp\\ipykernel_27924\\1132174140.py:51: FutureWarning: 'T' is deprecated and will be removed in a future version, please use 'min' instead.\n",
      "  df2['Time'] = df2['Time'].dt.floor('T')  # T represents minute\n",
      "c:\\Users\\joonw\\anaconda3\\envs\\jl2815\\Lib\\site-packages\\xarray\\namedarray\\core.py:514: UserWarning: Duplicate dimension names present: dimensions {'nlayer2'} appear more than once in dims=('nlayer2', 'nlayer2', 'spatial', 'image'). We do not yet support duplicate dimension names, but we do allow initial construction of the object. We recommend you rename the dims immediately to become distinct, as most xarray functionality is likely to fail silently if you do not. To rename the dimensions you will need to set the ``.dims`` attribute of each variable, ``e.g. var.dims=('x0', 'x1')``.\n",
      "  warnings.warn(\n",
      "C:\\Users\\Public\\Documents\\ESTsoft\\CreatorTemp\\ipykernel_27924\\1132174140.py:51: FutureWarning: 'T' is deprecated and will be removed in a future version, please use 'min' instead.\n",
      "  df2['Time'] = df2['Time'].dt.floor('T')  # T represents minute\n",
      "c:\\Users\\joonw\\anaconda3\\envs\\jl2815\\Lib\\site-packages\\xarray\\namedarray\\core.py:514: UserWarning: Duplicate dimension names present: dimensions {'nlayer2'} appear more than once in dims=('nlayer2', 'nlayer2', 'spatial', 'image'). We do not yet support duplicate dimension names, but we do allow initial construction of the object. We recommend you rename the dims immediately to become distinct, as most xarray functionality is likely to fail silently if you do not. To rename the dimensions you will need to set the ``.dims`` attribute of each variable, ``e.g. var.dims=('x0', 'x1')``.\n",
      "  warnings.warn(\n",
      "C:\\Users\\Public\\Documents\\ESTsoft\\CreatorTemp\\ipykernel_27924\\1132174140.py:51: FutureWarning: 'T' is deprecated and will be removed in a future version, please use 'min' instead.\n",
      "  df2['Time'] = df2['Time'].dt.floor('T')  # T represents minute\n",
      "c:\\Users\\joonw\\anaconda3\\envs\\jl2815\\Lib\\site-packages\\xarray\\namedarray\\core.py:514: UserWarning: Duplicate dimension names present: dimensions {'nlayer2'} appear more than once in dims=('nlayer2', 'nlayer2', 'spatial', 'image'). We do not yet support duplicate dimension names, but we do allow initial construction of the object. We recommend you rename the dims immediately to become distinct, as most xarray functionality is likely to fail silently if you do not. To rename the dimensions you will need to set the ``.dims`` attribute of each variable, ``e.g. var.dims=('x0', 'x1')``.\n",
      "  warnings.warn(\n",
      "C:\\Users\\Public\\Documents\\ESTsoft\\CreatorTemp\\ipykernel_27924\\1132174140.py:51: FutureWarning: 'T' is deprecated and will be removed in a future version, please use 'min' instead.\n",
      "  df2['Time'] = df2['Time'].dt.floor('T')  # T represents minute\n",
      "c:\\Users\\joonw\\anaconda3\\envs\\jl2815\\Lib\\site-packages\\xarray\\namedarray\\core.py:514: UserWarning: Duplicate dimension names present: dimensions {'nlayer2'} appear more than once in dims=('nlayer2', 'nlayer2', 'spatial', 'image'). We do not yet support duplicate dimension names, but we do allow initial construction of the object. We recommend you rename the dims immediately to become distinct, as most xarray functionality is likely to fail silently if you do not. To rename the dimensions you will need to set the ``.dims`` attribute of each variable, ``e.g. var.dims=('x0', 'x1')``.\n",
      "  warnings.warn(\n",
      "C:\\Users\\Public\\Documents\\ESTsoft\\CreatorTemp\\ipykernel_27924\\1132174140.py:51: FutureWarning: 'T' is deprecated and will be removed in a future version, please use 'min' instead.\n",
      "  df2['Time'] = df2['Time'].dt.floor('T')  # T represents minute\n",
      "c:\\Users\\joonw\\anaconda3\\envs\\jl2815\\Lib\\site-packages\\xarray\\namedarray\\core.py:514: UserWarning: Duplicate dimension names present: dimensions {'nlayer2'} appear more than once in dims=('nlayer2', 'nlayer2', 'spatial', 'image'). We do not yet support duplicate dimension names, but we do allow initial construction of the object. We recommend you rename the dims immediately to become distinct, as most xarray functionality is likely to fail silently if you do not. To rename the dimensions you will need to set the ``.dims`` attribute of each variable, ``e.g. var.dims=('x0', 'x1')``.\n",
      "  warnings.warn(\n",
      "C:\\Users\\Public\\Documents\\ESTsoft\\CreatorTemp\\ipykernel_27924\\1132174140.py:51: FutureWarning: 'T' is deprecated and will be removed in a future version, please use 'min' instead.\n",
      "  df2['Time'] = df2['Time'].dt.floor('T')  # T represents minute\n",
      "c:\\Users\\joonw\\anaconda3\\envs\\jl2815\\Lib\\site-packages\\xarray\\namedarray\\core.py:514: UserWarning: Duplicate dimension names present: dimensions {'nlayer2'} appear more than once in dims=('nlayer2', 'nlayer2', 'spatial', 'image'). We do not yet support duplicate dimension names, but we do allow initial construction of the object. We recommend you rename the dims immediately to become distinct, as most xarray functionality is likely to fail silently if you do not. To rename the dimensions you will need to set the ``.dims`` attribute of each variable, ``e.g. var.dims=('x0', 'x1')``.\n",
      "  warnings.warn(\n",
      "C:\\Users\\Public\\Documents\\ESTsoft\\CreatorTemp\\ipykernel_27924\\1132174140.py:51: FutureWarning: 'T' is deprecated and will be removed in a future version, please use 'min' instead.\n",
      "  df2['Time'] = df2['Time'].dt.floor('T')  # T represents minute\n",
      "c:\\Users\\joonw\\anaconda3\\envs\\jl2815\\Lib\\site-packages\\xarray\\namedarray\\core.py:514: UserWarning: Duplicate dimension names present: dimensions {'nlayer2'} appear more than once in dims=('nlayer2', 'nlayer2', 'spatial', 'image'). We do not yet support duplicate dimension names, but we do allow initial construction of the object. We recommend you rename the dims immediately to become distinct, as most xarray functionality is likely to fail silently if you do not. To rename the dimensions you will need to set the ``.dims`` attribute of each variable, ``e.g. var.dims=('x0', 'x1')``.\n",
      "  warnings.warn(\n",
      "C:\\Users\\Public\\Documents\\ESTsoft\\CreatorTemp\\ipykernel_27924\\1132174140.py:51: FutureWarning: 'T' is deprecated and will be removed in a future version, please use 'min' instead.\n",
      "  df2['Time'] = df2['Time'].dt.floor('T')  # T represents minute\n",
      "c:\\Users\\joonw\\anaconda3\\envs\\jl2815\\Lib\\site-packages\\xarray\\namedarray\\core.py:514: UserWarning: Duplicate dimension names present: dimensions {'nlayer2'} appear more than once in dims=('nlayer2', 'nlayer2', 'spatial', 'image'). We do not yet support duplicate dimension names, but we do allow initial construction of the object. We recommend you rename the dims immediately to become distinct, as most xarray functionality is likely to fail silently if you do not. To rename the dimensions you will need to set the ``.dims`` attribute of each variable, ``e.g. var.dims=('x0', 'x1')``.\n",
      "  warnings.warn(\n",
      "C:\\Users\\Public\\Documents\\ESTsoft\\CreatorTemp\\ipykernel_27924\\1132174140.py:51: FutureWarning: 'T' is deprecated and will be removed in a future version, please use 'min' instead.\n",
      "  df2['Time'] = df2['Time'].dt.floor('T')  # T represents minute\n",
      "c:\\Users\\joonw\\anaconda3\\envs\\jl2815\\Lib\\site-packages\\xarray\\namedarray\\core.py:514: UserWarning: Duplicate dimension names present: dimensions {'nlayer2'} appear more than once in dims=('nlayer2', 'nlayer2', 'spatial', 'image'). We do not yet support duplicate dimension names, but we do allow initial construction of the object. We recommend you rename the dims immediately to become distinct, as most xarray functionality is likely to fail silently if you do not. To rename the dimensions you will need to set the ``.dims`` attribute of each variable, ``e.g. var.dims=('x0', 'x1')``.\n",
      "  warnings.warn(\n",
      "C:\\Users\\Public\\Documents\\ESTsoft\\CreatorTemp\\ipykernel_27924\\1132174140.py:51: FutureWarning: 'T' is deprecated and will be removed in a future version, please use 'min' instead.\n",
      "  df2['Time'] = df2['Time'].dt.floor('T')  # T represents minute\n",
      "c:\\Users\\joonw\\anaconda3\\envs\\jl2815\\Lib\\site-packages\\xarray\\namedarray\\core.py:514: UserWarning: Duplicate dimension names present: dimensions {'nlayer2'} appear more than once in dims=('nlayer2', 'nlayer2', 'spatial', 'image'). We do not yet support duplicate dimension names, but we do allow initial construction of the object. We recommend you rename the dims immediately to become distinct, as most xarray functionality is likely to fail silently if you do not. To rename the dimensions you will need to set the ``.dims`` attribute of each variable, ``e.g. var.dims=('x0', 'x1')``.\n",
      "  warnings.warn(\n",
      "C:\\Users\\Public\\Documents\\ESTsoft\\CreatorTemp\\ipykernel_27924\\1132174140.py:51: FutureWarning: 'T' is deprecated and will be removed in a future version, please use 'min' instead.\n",
      "  df2['Time'] = df2['Time'].dt.floor('T')  # T represents minute\n",
      "c:\\Users\\joonw\\anaconda3\\envs\\jl2815\\Lib\\site-packages\\xarray\\namedarray\\core.py:514: UserWarning: Duplicate dimension names present: dimensions {'nlayer2'} appear more than once in dims=('nlayer2', 'nlayer2', 'spatial', 'image'). We do not yet support duplicate dimension names, but we do allow initial construction of the object. We recommend you rename the dims immediately to become distinct, as most xarray functionality is likely to fail silently if you do not. To rename the dimensions you will need to set the ``.dims`` attribute of each variable, ``e.g. var.dims=('x0', 'x1')``.\n",
      "  warnings.warn(\n",
      "C:\\Users\\Public\\Documents\\ESTsoft\\CreatorTemp\\ipykernel_27924\\1132174140.py:51: FutureWarning: 'T' is deprecated and will be removed in a future version, please use 'min' instead.\n",
      "  df2['Time'] = df2['Time'].dt.floor('T')  # T represents minute\n",
      "c:\\Users\\joonw\\anaconda3\\envs\\jl2815\\Lib\\site-packages\\xarray\\namedarray\\core.py:514: UserWarning: Duplicate dimension names present: dimensions {'nlayer2'} appear more than once in dims=('nlayer2', 'nlayer2', 'spatial', 'image'). We do not yet support duplicate dimension names, but we do allow initial construction of the object. We recommend you rename the dims immediately to become distinct, as most xarray functionality is likely to fail silently if you do not. To rename the dimensions you will need to set the ``.dims`` attribute of each variable, ``e.g. var.dims=('x0', 'x1')``.\n",
      "  warnings.warn(\n",
      "C:\\Users\\Public\\Documents\\ESTsoft\\CreatorTemp\\ipykernel_27924\\1132174140.py:51: FutureWarning: 'T' is deprecated and will be removed in a future version, please use 'min' instead.\n",
      "  df2['Time'] = df2['Time'].dt.floor('T')  # T represents minute\n",
      "c:\\Users\\joonw\\anaconda3\\envs\\jl2815\\Lib\\site-packages\\xarray\\namedarray\\core.py:514: UserWarning: Duplicate dimension names present: dimensions {'nlayer2'} appear more than once in dims=('nlayer2', 'nlayer2', 'spatial', 'image'). We do not yet support duplicate dimension names, but we do allow initial construction of the object. We recommend you rename the dims immediately to become distinct, as most xarray functionality is likely to fail silently if you do not. To rename the dimensions you will need to set the ``.dims`` attribute of each variable, ``e.g. var.dims=('x0', 'x1')``.\n",
      "  warnings.warn(\n",
      "C:\\Users\\Public\\Documents\\ESTsoft\\CreatorTemp\\ipykernel_27924\\1132174140.py:51: FutureWarning: 'T' is deprecated and will be removed in a future version, please use 'min' instead.\n",
      "  df2['Time'] = df2['Time'].dt.floor('T')  # T represents minute\n",
      "c:\\Users\\joonw\\anaconda3\\envs\\jl2815\\Lib\\site-packages\\xarray\\namedarray\\core.py:514: UserWarning: Duplicate dimension names present: dimensions {'nlayer2'} appear more than once in dims=('nlayer2', 'nlayer2', 'spatial', 'image'). We do not yet support duplicate dimension names, but we do allow initial construction of the object. We recommend you rename the dims immediately to become distinct, as most xarray functionality is likely to fail silently if you do not. To rename the dimensions you will need to set the ``.dims`` attribute of each variable, ``e.g. var.dims=('x0', 'x1')``.\n",
      "  warnings.warn(\n",
      "C:\\Users\\Public\\Documents\\ESTsoft\\CreatorTemp\\ipykernel_27924\\1132174140.py:51: FutureWarning: 'T' is deprecated and will be removed in a future version, please use 'min' instead.\n",
      "  df2['Time'] = df2['Time'].dt.floor('T')  # T represents minute\n",
      "c:\\Users\\joonw\\anaconda3\\envs\\jl2815\\Lib\\site-packages\\xarray\\namedarray\\core.py:514: UserWarning: Duplicate dimension names present: dimensions {'nlayer2'} appear more than once in dims=('nlayer2', 'nlayer2', 'spatial', 'image'). We do not yet support duplicate dimension names, but we do allow initial construction of the object. We recommend you rename the dims immediately to become distinct, as most xarray functionality is likely to fail silently if you do not. To rename the dimensions you will need to set the ``.dims`` attribute of each variable, ``e.g. var.dims=('x0', 'x1')``.\n",
      "  warnings.warn(\n",
      "C:\\Users\\Public\\Documents\\ESTsoft\\CreatorTemp\\ipykernel_27924\\1132174140.py:51: FutureWarning: 'T' is deprecated and will be removed in a future version, please use 'min' instead.\n",
      "  df2['Time'] = df2['Time'].dt.floor('T')  # T represents minute\n",
      "c:\\Users\\joonw\\anaconda3\\envs\\jl2815\\Lib\\site-packages\\xarray\\namedarray\\core.py:514: UserWarning: Duplicate dimension names present: dimensions {'nlayer2'} appear more than once in dims=('nlayer2', 'nlayer2', 'spatial', 'image'). We do not yet support duplicate dimension names, but we do allow initial construction of the object. We recommend you rename the dims immediately to become distinct, as most xarray functionality is likely to fail silently if you do not. To rename the dimensions you will need to set the ``.dims`` attribute of each variable, ``e.g. var.dims=('x0', 'x1')``.\n",
      "  warnings.warn(\n",
      "C:\\Users\\Public\\Documents\\ESTsoft\\CreatorTemp\\ipykernel_27924\\1132174140.py:51: FutureWarning: 'T' is deprecated and will be removed in a future version, please use 'min' instead.\n",
      "  df2['Time'] = df2['Time'].dt.floor('T')  # T represents minute\n",
      "c:\\Users\\joonw\\anaconda3\\envs\\jl2815\\Lib\\site-packages\\xarray\\namedarray\\core.py:514: UserWarning: Duplicate dimension names present: dimensions {'nlayer2'} appear more than once in dims=('nlayer2', 'nlayer2', 'spatial', 'image'). We do not yet support duplicate dimension names, but we do allow initial construction of the object. We recommend you rename the dims immediately to become distinct, as most xarray functionality is likely to fail silently if you do not. To rename the dimensions you will need to set the ``.dims`` attribute of each variable, ``e.g. var.dims=('x0', 'x1')``.\n",
      "  warnings.warn(\n",
      "C:\\Users\\Public\\Documents\\ESTsoft\\CreatorTemp\\ipykernel_27924\\1132174140.py:51: FutureWarning: 'T' is deprecated and will be removed in a future version, please use 'min' instead.\n",
      "  df2['Time'] = df2['Time'].dt.floor('T')  # T represents minute\n",
      "c:\\Users\\joonw\\anaconda3\\envs\\jl2815\\Lib\\site-packages\\xarray\\namedarray\\core.py:514: UserWarning: Duplicate dimension names present: dimensions {'nlayer2'} appear more than once in dims=('nlayer2', 'nlayer2', 'spatial', 'image'). We do not yet support duplicate dimension names, but we do allow initial construction of the object. We recommend you rename the dims immediately to become distinct, as most xarray functionality is likely to fail silently if you do not. To rename the dimensions you will need to set the ``.dims`` attribute of each variable, ``e.g. var.dims=('x0', 'x1')``.\n",
      "  warnings.warn(\n",
      "C:\\Users\\Public\\Documents\\ESTsoft\\CreatorTemp\\ipykernel_27924\\1132174140.py:51: FutureWarning: 'T' is deprecated and will be removed in a future version, please use 'min' instead.\n",
      "  df2['Time'] = df2['Time'].dt.floor('T')  # T represents minute\n",
      "c:\\Users\\joonw\\anaconda3\\envs\\jl2815\\Lib\\site-packages\\xarray\\namedarray\\core.py:514: UserWarning: Duplicate dimension names present: dimensions {'nlayer2'} appear more than once in dims=('nlayer2', 'nlayer2', 'spatial', 'image'). We do not yet support duplicate dimension names, but we do allow initial construction of the object. We recommend you rename the dims immediately to become distinct, as most xarray functionality is likely to fail silently if you do not. To rename the dimensions you will need to set the ``.dims`` attribute of each variable, ``e.g. var.dims=('x0', 'x1')``.\n",
      "  warnings.warn(\n",
      "C:\\Users\\Public\\Documents\\ESTsoft\\CreatorTemp\\ipykernel_27924\\1132174140.py:51: FutureWarning: 'T' is deprecated and will be removed in a future version, please use 'min' instead.\n",
      "  df2['Time'] = df2['Time'].dt.floor('T')  # T represents minute\n",
      "c:\\Users\\joonw\\anaconda3\\envs\\jl2815\\Lib\\site-packages\\xarray\\namedarray\\core.py:514: UserWarning: Duplicate dimension names present: dimensions {'nlayer2'} appear more than once in dims=('nlayer2', 'nlayer2', 'spatial', 'image'). We do not yet support duplicate dimension names, but we do allow initial construction of the object. We recommend you rename the dims immediately to become distinct, as most xarray functionality is likely to fail silently if you do not. To rename the dimensions you will need to set the ``.dims`` attribute of each variable, ``e.g. var.dims=('x0', 'x1')``.\n",
      "  warnings.warn(\n",
      "C:\\Users\\Public\\Documents\\ESTsoft\\CreatorTemp\\ipykernel_27924\\1132174140.py:51: FutureWarning: 'T' is deprecated and will be removed in a future version, please use 'min' instead.\n",
      "  df2['Time'] = df2['Time'].dt.floor('T')  # T represents minute\n"
     ]
    }
   ],
   "source": [
    "data = pd.DataFrame()\n",
    "for i in range(len(filenames_2024)):\n",
    "    my_loader= gems_loader_2023(filenames_2024[i])\n",
    "    cur_data = my_loader.result()\n",
    "    \n",
    "    if  data.empty:\n",
    "        data = cur_data\n",
    "    else:\n",
    "        data = pd.concat([data, cur_data], ignore_index=True)\n",
    "data2024070112 = data"
   ]
  },
  {
   "cell_type": "markdown",
   "metadata": {},
   "source": [
    "# Merge 2022, 2023, and 2024 data"
   ]
  },
  {
   "cell_type": "code",
   "execution_count": 20,
   "metadata": {},
   "outputs": [
    {
     "data": {
      "text/html": [
       "<div>\n",
       "<style scoped>\n",
       "    .dataframe tbody tr th:only-of-type {\n",
       "        vertical-align: middle;\n",
       "    }\n",
       "\n",
       "    .dataframe tbody tr th {\n",
       "        vertical-align: top;\n",
       "    }\n",
       "\n",
       "    .dataframe thead th {\n",
       "        text-align: right;\n",
       "    }\n",
       "</style>\n",
       "<table border=\"1\" class=\"dataframe\">\n",
       "  <thead>\n",
       "    <tr style=\"text-align: right;\">\n",
       "      <th></th>\n",
       "      <th>Latitude</th>\n",
       "      <th>Longitude</th>\n",
       "      <th>Time</th>\n",
       "      <th>ColumnAmountO3</th>\n",
       "      <th>FinalAlgorithmFlags</th>\n",
       "      <th>Hours_elapsed</th>\n",
       "    </tr>\n",
       "  </thead>\n",
       "  <tbody>\n",
       "    <tr>\n",
       "      <th>0</th>\n",
       "      <td>9.990139</td>\n",
       "      <td>129.960587</td>\n",
       "      <td>2022-07-01 00:52:00</td>\n",
       "      <td>259.680634</td>\n",
       "      <td>3.0</td>\n",
       "      <td>460176.866667</td>\n",
       "    </tr>\n",
       "    <tr>\n",
       "      <th>1</th>\n",
       "      <td>9.990149</td>\n",
       "      <td>129.897293</td>\n",
       "      <td>2022-07-01 00:52:00</td>\n",
       "      <td>259.316742</td>\n",
       "      <td>3.0</td>\n",
       "      <td>460176.866667</td>\n",
       "    </tr>\n",
       "    <tr>\n",
       "      <th>2</th>\n",
       "      <td>9.990168</td>\n",
       "      <td>129.834076</td>\n",
       "      <td>2022-07-01 00:52:00</td>\n",
       "      <td>259.900146</td>\n",
       "      <td>3.0</td>\n",
       "      <td>460176.866667</td>\n",
       "    </tr>\n",
       "    <tr>\n",
       "      <th>3</th>\n",
       "      <td>9.990234</td>\n",
       "      <td>129.770798</td>\n",
       "      <td>2022-07-01 00:52:00</td>\n",
       "      <td>259.457855</td>\n",
       "      <td>3.0</td>\n",
       "      <td>460176.866667</td>\n",
       "    </tr>\n",
       "    <tr>\n",
       "      <th>4</th>\n",
       "      <td>9.990213</td>\n",
       "      <td>129.707611</td>\n",
       "      <td>2022-07-01 00:52:00</td>\n",
       "      <td>258.672577</td>\n",
       "      <td>3.0</td>\n",
       "      <td>460176.866667</td>\n",
       "    </tr>\n",
       "    <tr>\n",
       "      <th>...</th>\n",
       "      <td>...</td>\n",
       "      <td>...</td>\n",
       "      <td>...</td>\n",
       "      <td>...</td>\n",
       "      <td>...</td>\n",
       "      <td>...</td>\n",
       "    </tr>\n",
       "    <tr>\n",
       "      <th>6065253</th>\n",
       "      <td>5.019251</td>\n",
       "      <td>125.288757</td>\n",
       "      <td>2024-07-12 07:47:00</td>\n",
       "      <td>268.250549</td>\n",
       "      <td>128.0</td>\n",
       "      <td>477991.783333</td>\n",
       "    </tr>\n",
       "    <tr>\n",
       "      <th>6065254</th>\n",
       "      <td>5.019522</td>\n",
       "      <td>125.226509</td>\n",
       "      <td>2024-07-12 07:47:00</td>\n",
       "      <td>267.652496</td>\n",
       "      <td>0.0</td>\n",
       "      <td>477991.783333</td>\n",
       "    </tr>\n",
       "    <tr>\n",
       "      <th>6065255</th>\n",
       "      <td>5.019815</td>\n",
       "      <td>125.164055</td>\n",
       "      <td>2024-07-12 07:47:00</td>\n",
       "      <td>269.644623</td>\n",
       "      <td>0.0</td>\n",
       "      <td>477991.783333</td>\n",
       "    </tr>\n",
       "    <tr>\n",
       "      <th>6065256</th>\n",
       "      <td>5.019929</td>\n",
       "      <td>125.101486</td>\n",
       "      <td>2024-07-12 07:47:00</td>\n",
       "      <td>268.215210</td>\n",
       "      <td>0.0</td>\n",
       "      <td>477991.783333</td>\n",
       "    </tr>\n",
       "    <tr>\n",
       "      <th>6065257</th>\n",
       "      <td>5.020203</td>\n",
       "      <td>125.038948</td>\n",
       "      <td>2024-07-12 07:47:00</td>\n",
       "      <td>270.461060</td>\n",
       "      <td>0.0</td>\n",
       "      <td>477991.783333</td>\n",
       "    </tr>\n",
       "  </tbody>\n",
       "</table>\n",
       "<p>6065258 rows × 6 columns</p>\n",
       "</div>"
      ],
      "text/plain": [
       "         Latitude   Longitude                Time  ColumnAmountO3  \\\n",
       "0        9.990139  129.960587 2022-07-01 00:52:00      259.680634   \n",
       "1        9.990149  129.897293 2022-07-01 00:52:00      259.316742   \n",
       "2        9.990168  129.834076 2022-07-01 00:52:00      259.900146   \n",
       "3        9.990234  129.770798 2022-07-01 00:52:00      259.457855   \n",
       "4        9.990213  129.707611 2022-07-01 00:52:00      258.672577   \n",
       "...           ...         ...                 ...             ...   \n",
       "6065253  5.019251  125.288757 2024-07-12 07:47:00      268.250549   \n",
       "6065254  5.019522  125.226509 2024-07-12 07:47:00      267.652496   \n",
       "6065255  5.019815  125.164055 2024-07-12 07:47:00      269.644623   \n",
       "6065256  5.019929  125.101486 2024-07-12 07:47:00      268.215210   \n",
       "6065257  5.020203  125.038948 2024-07-12 07:47:00      270.461060   \n",
       "\n",
       "         FinalAlgorithmFlags  Hours_elapsed  \n",
       "0                        3.0  460176.866667  \n",
       "1                        3.0  460176.866667  \n",
       "2                        3.0  460176.866667  \n",
       "3                        3.0  460176.866667  \n",
       "4                        3.0  460176.866667  \n",
       "...                      ...            ...  \n",
       "6065253                128.0  477991.783333  \n",
       "6065254                  0.0  477991.783333  \n",
       "6065255                  0.0  477991.783333  \n",
       "6065256                  0.0  477991.783333  \n",
       "6065257                  0.0  477991.783333  \n",
       "\n",
       "[6065258 rows x 6 columns]"
      ]
     },
     "execution_count": 20,
     "metadata": {},
     "output_type": "execute_result"
    }
   ],
   "source": [
    "\n",
    "data = pd.concat([data2022070115, data2023070115], ignore_index=True)\n",
    "data  = pd.DataFrame(data)\n",
    "data.shape\n",
    "data = pd.concat( [data, data2024070112], ignore_index=True )\n",
    "\n",
    "data['Hours_elapsed'] = data['Time'].astype('int64') // 10**9/3600\n",
    "data"
   ]
  },
  {
   "cell_type": "markdown",
   "metadata": {},
   "source": [
    "# Save data in csv file."
   ]
  },
  {
   "cell_type": "code",
   "execution_count": 22,
   "metadata": {},
   "outputs": [],
   "source": [
    "csv_file_path = os.path.join(r\"C:\\\\Users\\\\joonw\\\\Downloads\\\\TCO_analysis\\\\data_engineering\", 'data_222324_07_0115.csv')\n",
    "# Save the DataFrame to a CSV file in the specified directory\n",
    "data.to_csv(csv_file_path, index=False)"
   ]
  },
  {
   "cell_type": "markdown",
   "metadata": {},
   "source": [
    "# Read csv file in Python"
   ]
  },
  {
   "cell_type": "code",
   "execution_count": 23,
   "metadata": {},
   "outputs": [
    {
     "name": "stderr",
     "output_type": "stream",
     "text": [
      "<>:2: SyntaxWarning: invalid escape sequence '\\D'\n",
      "<>:2: SyntaxWarning: invalid escape sequence '\\D'\n",
      "C:\\Users\\Public\\Documents\\ESTsoft\\CreatorTemp\\ipykernel_27924\\1543882115.py:2: SyntaxWarning: invalid escape sequence '\\D'\n",
      "  df = pd.read_csv('C:\\\\Users\\\\joonw\\Downloads\\\\TCO_analysis\\\\data_engineering\\\\data_222324_07_0115.csv')\n"
     ]
    },
    {
     "data": {
      "text/html": [
       "<div>\n",
       "<style scoped>\n",
       "    .dataframe tbody tr th:only-of-type {\n",
       "        vertical-align: middle;\n",
       "    }\n",
       "\n",
       "    .dataframe tbody tr th {\n",
       "        vertical-align: top;\n",
       "    }\n",
       "\n",
       "    .dataframe thead th {\n",
       "        text-align: right;\n",
       "    }\n",
       "</style>\n",
       "<table border=\"1\" class=\"dataframe\">\n",
       "  <thead>\n",
       "    <tr style=\"text-align: right;\">\n",
       "      <th></th>\n",
       "      <th>Latitude</th>\n",
       "      <th>Longitude</th>\n",
       "      <th>Time</th>\n",
       "      <th>ColumnAmountO3</th>\n",
       "      <th>FinalAlgorithmFlags</th>\n",
       "      <th>Hours_elapsed</th>\n",
       "    </tr>\n",
       "  </thead>\n",
       "  <tbody>\n",
       "    <tr>\n",
       "      <th>0</th>\n",
       "      <td>9.990139</td>\n",
       "      <td>129.96059</td>\n",
       "      <td>2022-07-01 00:52:00</td>\n",
       "      <td>259.68063</td>\n",
       "      <td>3.0</td>\n",
       "      <td>460176.866667</td>\n",
       "    </tr>\n",
       "    <tr>\n",
       "      <th>1</th>\n",
       "      <td>9.990149</td>\n",
       "      <td>129.89730</td>\n",
       "      <td>2022-07-01 00:52:00</td>\n",
       "      <td>259.31674</td>\n",
       "      <td>3.0</td>\n",
       "      <td>460176.866667</td>\n",
       "    </tr>\n",
       "    <tr>\n",
       "      <th>2</th>\n",
       "      <td>9.990168</td>\n",
       "      <td>129.83408</td>\n",
       "      <td>2022-07-01 00:52:00</td>\n",
       "      <td>259.90015</td>\n",
       "      <td>3.0</td>\n",
       "      <td>460176.866667</td>\n",
       "    </tr>\n",
       "    <tr>\n",
       "      <th>3</th>\n",
       "      <td>9.990234</td>\n",
       "      <td>129.77080</td>\n",
       "      <td>2022-07-01 00:52:00</td>\n",
       "      <td>259.45786</td>\n",
       "      <td>3.0</td>\n",
       "      <td>460176.866667</td>\n",
       "    </tr>\n",
       "    <tr>\n",
       "      <th>4</th>\n",
       "      <td>9.990213</td>\n",
       "      <td>129.70761</td>\n",
       "      <td>2022-07-01 00:52:00</td>\n",
       "      <td>258.67258</td>\n",
       "      <td>3.0</td>\n",
       "      <td>460176.866667</td>\n",
       "    </tr>\n",
       "  </tbody>\n",
       "</table>\n",
       "</div>"
      ],
      "text/plain": [
       "   Latitude  Longitude                 Time  ColumnAmountO3  \\\n",
       "0  9.990139  129.96059  2022-07-01 00:52:00       259.68063   \n",
       "1  9.990149  129.89730  2022-07-01 00:52:00       259.31674   \n",
       "2  9.990168  129.83408  2022-07-01 00:52:00       259.90015   \n",
       "3  9.990234  129.77080  2022-07-01 00:52:00       259.45786   \n",
       "4  9.990213  129.70761  2022-07-01 00:52:00       258.67258   \n",
       "\n",
       "   FinalAlgorithmFlags  Hours_elapsed  \n",
       "0                  3.0  460176.866667  \n",
       "1                  3.0  460176.866667  \n",
       "2                  3.0  460176.866667  \n",
       "3                  3.0  460176.866667  \n",
       "4                  3.0  460176.866667  "
      ]
     },
     "execution_count": 23,
     "metadata": {},
     "output_type": "execute_result"
    }
   ],
   "source": [
    "# Read the CSV file into a pandas DataFrame\n",
    "df = pd.read_csv('C:\\\\Users\\\\joonw\\\\Downloads\\\\TCO_analysis\\\\data_engineering\\\\data_222324_07_0115.csv')\n",
    "\n",
    "df.head()"
   ]
  },
  {
   "cell_type": "markdown",
   "metadata": {},
   "source": [
    "# Control data quality"
   ]
  },
  {
   "cell_type": "code",
   "execution_count": 27,
   "metadata": {},
   "outputs": [
    {
     "name": "stdout",
     "output_type": "stream",
     "text": [
      "FinalAlgorithmFlags\n",
      "2.0       2326228\n",
      "0.0       2014134\n",
      "2177.0     559159\n",
      "3.0        458775\n",
      "2179.0     340026\n",
      "130.0      157305\n",
      "128.0       86959\n",
      "2193.0      63972\n",
      "145.0       58246\n",
      "2225.0        167\n",
      "2195.0        159\n",
      "1154.0         84\n",
      "177.0          17\n",
      "2209.0         14\n",
      "1026.0          7\n",
      "161.0           5\n",
      "163.0           1\n",
      "Name: count, dtype: int64\n",
      "FinalAlgorithmFlags\n",
      "2.0      2326228\n",
      "0.0      2014134\n",
      "3.0       458775\n",
      "130.0     157305\n",
      "128.0      86959\n",
      "Name: count, dtype: int64\n",
      "FinalAlgorithmFlags\n",
      "2.0      2326228\n",
      "0.0      2014134\n",
      "130.0     157305\n",
      "128.0      86959\n",
      "Name: count, dtype: int64\n"
     ]
    }
   ],
   "source": [
    "data = df\n",
    "\n",
    "frequency_table = data['FinalAlgorithmFlags'].value_counts()\n",
    "print(frequency_table)\n",
    "\n",
    "# 0's are best but consider 2^1 + 2^2 + 2^7\n",
    "\n",
    "# OVER 2^1+2^2+2^7 = 134 is out.\n",
    "data = data[data['FinalAlgorithmFlags']<=134]\n",
    "\n",
    "frequency_table2 = data['FinalAlgorithmFlags'].value_counts()\n",
    "print(frequency_table2)\n",
    "\n",
    "gqdata = data[data['FinalAlgorithmFlags']!=3]\n",
    "frequency_table3= gqdata['FinalAlgorithmFlags'].value_counts()\n",
    "print(frequency_table3)"
   ]
  },
  {
   "cell_type": "code",
   "execution_count": 28,
   "metadata": {},
   "outputs": [],
   "source": [
    "csv_file_path = os.path.join(r\"C:\\\\Users\\\\joonw\\Downloads\\\\TCO_analysis\\\\data_engineering\", 'gq_data_222324_07_0115.csv')\n",
    "# Save the DataFrame to a CSV file in the specified directory\n",
    "gqdata.to_csv(csv_file_path, index=False)\n"
   ]
  },
  {
   "cell_type": "markdown",
   "metadata": {},
   "source": []
  }
 ],
 "metadata": {
  "kernelspec": {
   "display_name": "msds534",
   "language": "python",
   "name": "python3"
  },
  "language_info": {
   "codemirror_mode": {
    "name": "ipython",
    "version": 3
   },
   "file_extension": ".py",
   "mimetype": "text/x-python",
   "name": "python",
   "nbconvert_exporter": "python",
   "pygments_lexer": "ipython3",
   "version": "3.12.2"
  }
 },
 "nbformat": 4,
 "nbformat_minor": 2
}
