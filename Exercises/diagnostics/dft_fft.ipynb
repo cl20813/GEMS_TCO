{
 "cells": [
  {
   "cell_type": "code",
   "execution_count": null,
   "id": "6e03ee9e",
   "metadata": {},
   "outputs": [],
   "source": [
    "# Special functions and optimizations\n",
    "from scipy.special import gamma, kv  # Bessel function and gamma function\n",
    "from scipy.stats import multivariate_normal  # Simulation\n",
    "from scipy.optimize import minimize\n",
    "from scipy.spatial.distance import cdist  # For space and time distance\n",
    "from scipy.spatial import distance  # Find closest spatial point\n",
    "from scipy.optimize import differential_evolution\n",
    "\n",
    "import matplotlib.pyplot as plt\n",
    "import seaborn as sns\n",
    "import torch\n",
    "# Type hints\n",
    "from typing import Callable, Union, Tuple\n",
    "\n",
    "import os\n",
    "import sys\n",
    "mac_gems_tco_path = \"/Users/joonwonlee/Documents/GEMS_TCO-1/src\"\n",
    "sys.path.append(mac_gems_tco_path)\n",
    "\n",
    "# Custom imports\n",
    "from GEMS_TCO import data_preprocess\n",
    "from GEMS_TCO import kernels \n",
    "from GEMS_TCO import evaluate\n",
    "from GEMS_TCO import load_data\n",
    "from GEMS_TCO import configuration as config\n",
    "\n",
    "import pickle\n",
    "import numpy as np\n",
    "\n",
    "import matplotlib.pyplot as plt\n",
    "import numpy as np\n",
    "from scipy.spatial.distance import pdist, squareform\n",
    "import pandas as pd\n",
    "\n",
    "import matplotlib.transforms as transforms\n",
    "\n",
    "from pathlib import Path\n",
    "import json\n",
    "from json import JSONEncoder"
   ]
  },
  {
   "cell_type": "code",
   "execution_count": 1,
   "id": "31538850",
   "metadata": {},
   "outputs": [
    {
     "data": {
      "text/plain": [
       "1"
      ]
     },
     "execution_count": 1,
     "metadata": {},
     "output_type": "execute_result"
    }
   ],
   "source": [
    "a = [[]]\n",
    "len(a)"
   ]
  },
  {
   "cell_type": "code",
   "execution_count": 1,
   "id": "d975cb47",
   "metadata": {},
   "outputs": [
    {
     "data": {
      "text/plain": [
       "8580"
      ]
     },
     "execution_count": 1,
     "metadata": {},
     "output_type": "execute_result"
    }
   ],
   "source": [
    "130*66"
   ]
  },
  {
   "cell_type": "code",
   "execution_count": null,
   "id": "7c285dcc",
   "metadata": {},
   "outputs": [],
   "source": [
    "import numpy as np\n",
    "\n",
    "# Create example 2D data (e.g., shape 130 x 66)\n",
    "f = np.random.rand(130, 66)\n",
    "\n",
    "# Initialize output\n",
    "laplace_f = np.zeros_like(f)\n",
    "\n",
    "# Apply Laplacian (ignoring edges for now)\n",
    "laplace_f[1:-1, 1:-1] = (\n",
    "    f[2:, 1:-1] + f[:-2, 1:-1] +  # i+1 and i-1\n",
    "    f[1:-1, 2:] + f[1:-1, :-2] -  # j+1 and j-1\n",
    "    4 * f[1:-1, 1:-1]\n",
    ")\n",
    "\n",
    "# Crop to 128 x 64 if needed\n",
    "laplace_cropped = laplace_f[1:-1, 1:-1]  # shape = (128, 64)\n"
   ]
  }
 ],
 "metadata": {
  "kernelspec": {
   "display_name": "faiss_env",
   "language": "python",
   "name": "python3"
  },
  "language_info": {
   "codemirror_mode": {
    "name": "ipython",
    "version": 3
   },
   "file_extension": ".py",
   "mimetype": "text/x-python",
   "name": "python",
   "nbconvert_exporter": "python",
   "pygments_lexer": "ipython3",
   "version": "3.12.3"
  }
 },
 "nbformat": 4,
 "nbformat_minor": 5
}
