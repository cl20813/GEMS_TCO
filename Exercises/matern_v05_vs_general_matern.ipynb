{
 "cells": [
  {
   "cell_type": "code",
   "execution_count": null,
   "metadata": {},
   "outputs": [
    {
     "name": "stdout",
     "output_type": "stream",
     "text": [
      "     longitude   latitude        time\n",
      "0   129.655923  46.689523   90.778477\n",
      "1    79.655502 -54.845567   95.241837\n",
      "2    87.920711  -6.189835  159.012248\n",
      "3     2.110736 -21.670644  170.155919\n",
      "4    51.426323 -88.417881  129.341152\n",
      "..         ...        ...         ...\n",
      "95  171.167670  17.048809   96.141250\n",
      "96  165.080400  58.210482   97.909248\n",
      "97   38.734410  31.658843  174.550206\n",
      "98 -117.341740  80.667345  162.044650\n",
      "99 -125.756178 -16.674399  174.826960\n",
      "\n",
      "[100 rows x 3 columns]\n"
     ]
    }
   ],
   "source": [
    "# Special functions and optimizations\n",
    "from typing import Callable, Union, Tuple\n",
    "from scipy.spatial.distance import cdist  # For space and time distance\n",
    "from scipy.special import gamma, kv  # Bessel function and gamma function\n",
    "\n",
    "import pandas as pd\n",
    "import numpy as np\n",
    "\n",
    "# Create a DataFrame with 3 columns: longitude, latitude, and time\n",
    "data = {\n",
    "    'longitude': np.random.uniform(-180, 180, 100),\n",
    "    'latitude': np.random.uniform(-90, 90, 100),\n",
    "    'time': np.random.uniform(90, 180, 100)\n",
    "}\n",
    "\n",
    "df = pd.DataFrame(data)\n",
    "print(df)\n",
    "\n",
    "df = df.to_numpy()"
   ]
  },
  {
   "cell_type": "code",
   "execution_count": 5,
   "metadata": {},
   "outputs": [
    {
     "name": "stdout",
     "output_type": "stream",
     "text": [
      "[[2.01000000e+01 2.73571365e-17 1.58788157e-22 ... 4.08318086e-28\n",
      "  1.68558752e-45 3.35225064e-51]\n",
      " [2.73571365e-17 2.01000000e+01 5.70996767e-14 ... 8.11106007e-22\n",
      "  9.45831430e-41 7.46972992e-41]\n",
      " [1.58788157e-22 5.70996767e-14 2.01000000e+01 ... 7.10172119e-10\n",
      "  8.84759249e-34 9.73448239e-34]\n",
      " ...\n",
      " [4.08318086e-28 8.11106007e-22 7.10172119e-10 ... 2.01000000e+01\n",
      "  4.27888597e-24 8.91042205e-26]\n",
      " [1.68558752e-45 9.45831430e-41 8.84759249e-34 ... 4.27888597e-24\n",
      "  2.01000000e+01 9.42205841e-16]\n",
      " [3.35225064e-51 7.46972992e-41 9.73448239e-34 ... 8.91042205e-26\n",
      "  9.42205841e-16 2.01000000e+01]]\n"
     ]
    }
   ],
   "source": [
    "smooth = 0.5\n",
    "params = [20,8,8,0.5,0.5,0.1]\n",
    "\n",
    "range_lon, range_lat = params[1], params[2]\n",
    "sqrt_range_mat = np.diag([ 1/range_lon**0.5, 1/range_lat**0.5])\n",
    "sqrt_range_mat = sqrt_range_mat\n",
    "\n",
    "\n",
    "# Custom distance function for cdist\n",
    "def custom_distance(u, v):\n",
    "    d = np.dot(sqrt_range_mat, u[:2] - v[:2] ) # Distance between x1,x2 (2D)\n",
    "    spatial_diff = np.linalg.norm(d)  # Distance between x1,x2 (2D)\n",
    "    temporal_diff = np.abs(u[2] - v[2])           # Distance between y1 and y2\n",
    "    return np.sqrt(spatial_diff**2 + temporal_diff**2)\n",
    "\n",
    "\n",
    "def matern_cov_yx_test(params: Tuple[float,float,float,float,float,float], y: np.ndarray, x: np.ndarray) -> np.ndarray:\n",
    "\n",
    "    sigmasq, range_lat, range_lon, advec, beta, nugget  = params\n",
    "    # Validate inputs\n",
    "    if y is None or x is None:\n",
    "        raise ValueError(\"Both y and x_df must be provided.\")\n",
    "    # Extract values\n",
    "    x1 = x[:, 0]\n",
    "    y1 = x[:, 1]\n",
    "    t1 = x[:, 2]\n",
    "\n",
    "    x2 = y[:, 0]\n",
    "    y2 = y[:, 1]\n",
    "    t2 = y[:, 2] # hour\n",
    "\n",
    "    spat_coord1 = np.stack((x1- advec*t1, y1 - advec*t1), axis=-1)\n",
    "    spat_coord2 = np.stack((x2- advec*t2, y2 - advec*t2), axis=-1)\n",
    "\n",
    "    coords1 = np.hstack ((spat_coord1, (beta * t1).reshape(-1,1) ))\n",
    "    coords2 = np.hstack ((spat_coord2, (beta * t2).reshape(-1,1) ))\n",
    "\n",
    "\n",
    "\n",
    "    distance = cdist(coords1,coords2, metric = custom_distance)\n",
    "\n",
    "    # Initialize the covariance matrix with zeros\n",
    "    out = distance\n",
    "    \n",
    "    # Compute the covariance for non-zero distances\n",
    "\n",
    "    # Compute the covariance for non-zero distances\n",
    "    non_zero_indices = distance != 0\n",
    "    if np.any(non_zero_indices):\n",
    "        out[non_zero_indices] = (sigmasq * (2**(1-smooth)) / gamma(smooth) *\n",
    "                                (distance[non_zero_indices])**smooth *\n",
    "                                kv(smooth, distance[non_zero_indices]))\n",
    "    out[~non_zero_indices] = sigmasq\n",
    "\n",
    "    # Add a small jitter term to the diagonal for numerical stability\n",
    "    out += np.eye(out.shape[0]) * nugget\n",
    "    return out\n",
    "\n",
    "\n",
    "b=matern_cov_yx_test(params,df,df)\n",
    "\n",
    "def matern2(params: Tuple[float,float,float,float,float,float], y: np.ndarray, x: np.ndarray) -> np.ndarray:\n",
    "\n",
    "    sigmasq, range_lat, range_lon, advec, beta, nugget  = params\n",
    "    # Validate inputs\n",
    "    if y is None or x is None:\n",
    "        raise ValueError(\"Both y and x_df must be provided.\")\n",
    "    # Extract values\n",
    "    x1 = x[:, 0]\n",
    "    y1 = x[:, 1]\n",
    "    t1 = x[:, 2]\n",
    "\n",
    "    x2 = y[:, 0]\n",
    "    y2 = y[:, 1]\n",
    "    t2 = y[:, 2] # hour\n",
    "\n",
    "    spat_coord1 = np.stack((x1- advec*t1, y1 - advec*t1), axis=-1)\n",
    "    spat_coord2 = np.stack((x2- advec*t2, y2 - advec*t2), axis=-1)\n",
    "\n",
    "    coords1 = np.hstack ((spat_coord1, (beta * t1).reshape(-1,1) ))\n",
    "    coords2 = np.hstack ((spat_coord2, (beta * t2).reshape(-1,1) ))\n",
    "\n",
    "\n",
    "    distance = cdist(coords1,coords2, metric = custom_distance)\n",
    "\n",
    "    # Initialize the covariance matrix with zeros\n",
    "    out = distance\n",
    "    \n",
    "    # Compute the covariance for non-zero distances\n",
    "\n",
    "    # Compute the covariance for non-zero distances\n",
    "    non_zero_indices = distance != 0\n",
    "    if np.any(non_zero_indices):\n",
    "        out[non_zero_indices] = sigmasq* np.exp(-distance[non_zero_indices])\n",
    "    out[~non_zero_indices] = sigmasq\n",
    "    \n",
    "\n",
    "    # Add a small jitter term to the diagonal for numerical stability\n",
    "    out += np.eye(out.shape[0]) * nugget\n",
    "    return out\n",
    "a = matern2(params,df,df)\n",
    "\n",
    "print(b)"
   ]
  },
  {
   "cell_type": "code",
   "execution_count": 6,
   "metadata": {},
   "outputs": [
    {
     "data": {
      "text/plain": [
       "np.float64(-5.496524335262268e-15)"
      ]
     },
     "execution_count": 6,
     "metadata": {},
     "output_type": "execute_result"
    }
   ],
   "source": [
    "np.sum(a-b)"
   ]
  },
  {
   "cell_type": "code",
   "execution_count": 7,
   "metadata": {},
   "outputs": [
    {
     "name": "stdout",
     "output_type": "stream",
     "text": [
      "0.18315638888734181\n",
      "0.1831563888873418\n"
     ]
    }
   ],
   "source": [
    "import math\n",
    "\n",
    "def matern_cov(d,v):\n",
    "    abs_d = np.abs(d)\n",
    "    if abs_d ==0:\n",
    "        return 1\n",
    "    else:\n",
    "        sigmasq = 2\n",
    "        range = 1\n",
    "        out = sigmasq * (2**(1-v))/math.gamma(v) * (abs_d/range)**(v)*kv(v, abs_d/range)        \n",
    "        return out  \n",
    "    \n",
    "print(matern_cov(4,1.5))\n",
    "d = 4\n",
    "abs_d = np.abs(d)\n",
    "sigmasq = 2\n",
    "range_ = 1\n",
    "out = sigmasq * (1+ abs_d/range_)* np.exp(-abs_d/range_)\n",
    "print(out)\n",
    "\n"
   ]
  }
 ],
 "metadata": {
  "kernelspec": {
   "display_name": "jl2815",
   "language": "python",
   "name": "python3"
  },
  "language_info": {
   "codemirror_mode": {
    "name": "ipython",
    "version": 3
   },
   "file_extension": ".py",
   "mimetype": "text/x-python",
   "name": "python",
   "nbconvert_exporter": "python",
   "pygments_lexer": "ipython3",
   "version": "3.12.2"
  }
 },
 "nbformat": 4,
 "nbformat_minor": 2
}
