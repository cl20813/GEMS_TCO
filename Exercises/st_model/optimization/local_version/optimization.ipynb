{
 "cells": [
  {
   "cell_type": "code",
   "execution_count": 1,
   "id": "b255b7ff",
   "metadata": {},
   "outputs": [],
   "source": [
    "import sys\n",
    "import os\n",
    "# gems_tco_path = \"/Users/joonwonlee/Documents/GEMS_TCO-1/src\"\n",
    "# sys.path.append(gems_tco_path)\n",
    "\n",
    "# Data manipulation and analysis\n",
    "import pandas as pd\n",
    "import numpy as np\n",
    "import pickle \n",
    "\n",
    "import GEMS_TCO\n",
    "from GEMS_TCO import kernels \n",
    "from GEMS_TCO import orderings as _orderings\n",
    "from GEMS_TCO import load_data_local_computer\n",
    "\n",
    "import torch\n",
    "from collections import defaultdict\n",
    "\n",
    "import torch.optim as optim\n",
    "from torch.optim.lr_scheduler import StepLR\n",
    "import copy                    # clone tensor\n"
   ]
  },
  {
   "cell_type": "markdown",
   "id": "b43bf005",
   "metadata": {},
   "source": [
    "# Optimization"
   ]
  },
  {
   "cell_type": "markdown",
   "id": "01ea5e2c",
   "metadata": {},
   "source": [
    "/opt/anaconda3/envs/faiss_env/bin/python /Users/joonwonlee/Documents/GEMS_TCO-1/Exercises/st_model/optimization/local_version/vecc_alg_opt.py --space \"10,10\" --epochs 2500 --nheads 50 "
   ]
  },
  {
   "cell_type": "markdown",
   "id": "3cd61156",
   "metadata": {},
   "source": [
    "# Vecchia experiments"
   ]
  },
  {
   "cell_type": "code",
   "execution_count": null,
   "id": "0edee288",
   "metadata": {},
   "outputs": [],
   "source": [
    "/opt/anaconda3/envs/faiss_env/bin/python /Users/joonwonlee/Documents/GEMS_TCO-1/Exercises/vecc_beat2.py\n",
    "\n",
    "/opt/anaconda3/envs/faiss_env/bin/python /Users/joonwonlee/Documents/GEMS_TCO-1/Exercises/vecc_beat3.py"
   ]
  },
  {
   "cell_type": "code",
   "execution_count": 64,
   "id": "c410e66b",
   "metadata": {},
   "outputs": [
    {
     "name": "stdout",
     "output_type": "stream",
     "text": [
      "{\"day\": \"2025-04-19\", \"cov_name\": 20, \"lr\": \"0.1x0.1\", \"stepsize\": 0.01, \"lat_lon_resolution\": \"Algorithm1\", \"params\": {\"param1\": 10}, \"time\": 25, \"epoch\": 100}\n"
     ]
    },
    {
     "data": {
      "text/plain": [
       "['{\"day\": \"2025-04-19\", \"cov_name\": 20, \"lr\": \"0.1x0.1\", \"stepsize\": 0.01, \"lat_lon_resolution\": \"Algorithm1\", \"params\": {\"param1\": 10}, \"time\": 25, \"epoch\": 100}',\n",
       " '{\"day\": \"2025-04-19\", \"cov_name\": 20, \"lr\": \"0.1x0.1\", \"stepsize\": 0.01, \"lat_lon_resolution\": \"Algorithm1\", \"params\": {\"param1\": 10}, \"time\": 25, \"epoch\": 100}']"
      ]
     },
     "execution_count": 64,
     "metadata": {},
     "output_type": "execute_result"
    }
   ],
   "source": [
    "from pathlib import Path\n",
    "import json\n",
    "from json import JSONEncoder\n",
    "\n",
    "class alg_optimization:\n",
    "    def __init__(self,  day, lat_lon_resolution, lr, stepsize, cov_name, params, time, epoch):\n",
    "        self.day = day\n",
    "        self.cov_name = cov_name\n",
    "        self.lr = lr\n",
    "        self.stepsize = stepsize\n",
    "        self.lat_lon_resolution = lat_lon_resolution\n",
    "        self.params = params\n",
    "        self.time = time\n",
    "        self.epoch = epoch\n",
    "    def toJSON(self):\n",
    "        return json.dumps(self, cls=alg_opt_Encoder, sort_keys=False)\n",
    "\n",
    "class alg_opt_Encoder(JSONEncoder):\n",
    "    def default(self, o):\n",
    "        if isinstance(o, alg_optimization):\n",
    "            return o.__dict__\n",
    "        return super().default(o)  # delegates the serialization process to the standard JSONEncoder\n",
    "\n",
    "# Example instance\n",
    "alg_opt = alg_optimization( \"2025-04-19\", \"Algorithm1\",\"0.1x0.1\", 0.01, 20, {\"param1\": 10}, 25, 100)\n",
    "print(alg_opt.toJSON())\n",
    "data = []\n",
    "data.append( alg_opt.toJSON() )\n",
    "data.append( alg_opt.toJSON() )\n",
    "\n",
    "# Filepath to save and load the JSON data\n",
    "input_path = Path(\"/Users/joonwonlee/Documents/GEMS_TCO-1/Exercises/st_model/optimization/local_version/\")\n",
    "input_filepath = input_path / \"vecc_alg_opt.json\"\n",
    "data\n"
   ]
  },
  {
   "cell_type": "code",
   "execution_count": 60,
   "id": "356ab7cb",
   "metadata": {},
   "outputs": [
    {
     "name": "stdout",
     "output_type": "stream",
     "text": [
      "[{'day': -2, 'timestamp': 300, 'product': 'AMETHYSTS', 'bid_price_1': 9994, 'bid_volume_1': 15, 'bid_price_2': None, 'bid_volume_2': None, 'bid_price_3': None, 'bid_volume_3': None, 'ask_price_1': 10006, 'ask_volume_1': 15, 'ask_price_2': None, 'ask_volume_2': None, 'ask_price_3': None, 'ask_volume_3': None, 'mid_price': 10000.0, 'profit_and_loss': 0.0}, '{\\n    \"day\": \"2025-04-19\",\\n    \"cov_name\": 20,\\n    \"lr\": \"0.1x0.1\",\\n    \"stepsize\": 0.01,\\n    \"lat_lon_resolution\": \"Algorithm1\",\\n    \"params\": {\\n        \"param1\": 10\\n    },\\n    \"time\": 25,\\n    \"epoch\": 100\\n}', '{\\n    \"day\": \"2025-04-19\",\\n    \"cov_name\": 20,\\n    \"lr\": \"0.1x0.1\",\\n    \"stepsize\": 0.01,\\n    \"lat_lon_resolution\": \"Algorithm1\",\\n    \"params\": {\\n        \"param1\": 10\\n    },\\n    \"time\": 25,\\n    \"epoch\": 100\\n}']\n",
      "Data aggregated and saved successfully.\n",
      "[{'day': -2, 'timestamp': 300, 'product': 'AMETHYSTS', 'bid_price_1': 9994, 'bid_volume_1': 15, 'bid_price_2': None, 'bid_volume_2': None, 'bid_price_3': None, 'bid_volume_3': None, 'ask_price_1': 10006, 'ask_volume_1': 15, 'ask_price_2': None, 'ask_volume_2': None, 'ask_price_3': None, 'ask_volume_3': None, 'mid_price': 10000.0, 'profit_and_loss': 0.0}, '{\\n    \"day\": \"2025-04-19\",\\n    \"cov_name\": 20,\\n    \"lr\": \"0.1x0.1\",\\n    \"stepsize\": 0.01,\\n    \"lat_lon_resolution\": \"Algorithm1\",\\n    \"params\": {\\n        \"param1\": 10\\n    },\\n    \"time\": 25,\\n    \"epoch\": 100\\n}', '{\\n    \"day\": \"2025-04-19\",\\n    \"cov_name\": 20,\\n    \"lr\": \"0.1x0.1\",\\n    \"stepsize\": 0.01,\\n    \"lat_lon_resolution\": \"Algorithm1\",\\n    \"params\": {\\n        \"param1\": 10\\n    },\\n    \"time\": 25,\\n    \"epoch\": 100\\n}', '{\\n    \"day\": \"2025-04-19\",\\n    \"cov_name\": 20,\\n    \"lr\": \"0.1x0.1\",\\n    \"stepsize\": 0.01,\\n    \"lat_lon_resolution\": \"Algorithm1\",\\n    \"params\": {\\n        \"param1\": 10\\n    },\\n    \"time\": 25,\\n    \"epoch\": 100\\n}']\n"
     ]
    }
   ],
   "source": [
    "# Load the existing data from the JSON file\n",
    "try:\n",
    "    with input_filepath.open('r', encoding='utf-8') as f:\n",
    "        loaded_data = json.load(f)\n",
    "except FileNotFoundError:\n",
    "    loaded_data = []\n",
    "\n",
    "print(loaded_data)\n",
    "\n",
    "loaded_data.append(new_data)\n",
    "\n",
    "# Save the aggregated data back to the JSON file\n",
    "with input_filepath.open('w', encoding='utf-8') as json_file:\n",
    "    json.dump(loaded_data, json_file, indent=4)\n",
    "\n",
    "print(\"Data aggregated and saved successfully.\")\n",
    "\n",
    "\n",
    "print(loaded_data)\n",
    "\n",
    "\n",
    "\n"
   ]
  },
  {
   "cell_type": "markdown",
   "id": "c7ff0119",
   "metadata": {},
   "source": [
    "# log"
   ]
  },
  {
   "cell_type": "markdown",
   "id": "32c129c5",
   "metadata": {},
   "source": [
    " Day 13 data size per day: 200.0  50 nheads\n",
    "\n",
    "Converged at epoch 541\n",
    "Epoch 542, Gradients: Loss: 2112.350359645857, \n",
    " vecc Parameters: [29.99274304  3.95715826  6.18368    -0.10446809  0.13425892  0.08204481\n",
    "  1.99669404]\n",
    "FINAL STATE: Epoch 542, Loss: 2112.350359645857, \n",
    " vecc Parameters: [29.99274304  3.95715826  6.18368    -0.10446809  0.13425892  0.08204481\n",
    "  1.99669404]\n",
    "day vecc b2 13 took 65.86\n",
    "Converged at epoch 511\n",
    "Epoch 512, Gradients: Loss: 2112.465007909351, \n",
    " vecc Parameters: [29.67231327  3.91660944  6.11742524 -0.10531929  0.13351553  0.08282542\n",
    "  1.99702787]\n",
    "FINAL STATE: Epoch 512, Loss: 2112.465007909351, \n",
    " vecc Parameters: [29.67231327  3.91660944  6.11742524 -0.10531929  0.13351553  0.08282542\n",
    "  1.99702787]\n",
    "day testing 13 took 61.71\n",
    "Converged at epoch 1641\n",
    "Epoch 1642, Gradients: Loss: 2112.4396514777072, \n",
    " vecc Parameters: [29.71961552  3.9261388   6.13496301 -0.10435152  0.13339478  0.08224178\n",
    "  1.99863086]\n",
    "FINAL STATE: Epoch 1642, Loss: 2112.4396514777072, \n",
    " vecc Parameters: [29.71961552  3.9261388   6.13496301 -0.10435152  0.13339478  0.08224178\n",
    "  1.99863086]\n",
    "day full 13 took 193.16\n",
    "(base) joonwonlee@nbp-25-252-193 ~ % \n",
    "\n"
   ]
  },
  {
   "cell_type": "markdown",
   "id": "a93ad589",
   "metadata": {},
   "source": [
    "# reference for more compact, filepath mutable codes"
   ]
  },
  {
   "cell_type": "code",
   "execution_count": null,
   "id": "16e23cd8",
   "metadata": {},
   "outputs": [],
   "source": [
    "output_file = Path(__file__).parent / f\"{Path(__file__).stem}-long-short-threshold.json\"\n",
    "with output_file.open(\"w+\", encoding=\"utf-8\") as file:\n",
    "    file.write(json.dumps(results, separators=(\",\", \":\")))"
   ]
  }
 ],
 "metadata": {
  "kernelspec": {
   "display_name": "faiss_env",
   "language": "python",
   "name": "python3"
  },
  "language_info": {
   "codemirror_mode": {
    "name": "ipython",
    "version": 3
   },
   "file_extension": ".py",
   "mimetype": "text/x-python",
   "name": "python",
   "nbconvert_exporter": "python",
   "pygments_lexer": "ipython3",
   "version": "3.12.9"
  }
 },
 "nbformat": 4,
 "nbformat_minor": 5
}
