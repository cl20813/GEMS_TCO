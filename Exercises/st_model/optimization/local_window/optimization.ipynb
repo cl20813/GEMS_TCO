{
 "cells": [
  {
   "cell_type": "code",
   "execution_count": 1,
   "id": "b255b7ff",
   "metadata": {},
   "outputs": [],
   "source": [
    "import sys\n",
    "import os\n",
    "# gems_tco_path = \"/Users/joonwonlee/Documents/GEMS_TCO-1/src\"\n",
    "# sys.path.append(gems_tco_path)\n",
    "\n",
    "import sys\n",
    "sys.path.append('C:\\\\Users\\\\joonw\\\\anaconda3\\\\envs\\\\faiss_env\\\\Lib\\\\site-packages')\n",
    "\n",
    "dd = \"C:\\\\Users\\\\joonw\\\\tco\\\\GEMS_TCO-2\\\\src\\\\GEMS_TCO\"\n",
    "sys.path.append(dd)\n",
    "# Data manipulation and analysis\n",
    "import pandas as pd\n",
    "import numpy as np\n",
    "import pickle \n",
    "\n",
    "import GEMS_TCO\n",
    "from GEMS_TCO import kernels \n",
    "from GEMS_TCO import orderings as _orderings\n",
    "from GEMS_TCO import load_data_local_computer\n",
    "from GEMS_TCO import alg_optimization, alg_opt_Encoder\n",
    "\n",
    "import torch\n",
    "from collections import defaultdict\n",
    "\n",
    "import torch.optim as optim\n",
    "from torch.optim.lr_scheduler import StepLR\n",
    "import copy                    # clone tensor\n",
    "\n",
    "from pathlib import Path\n",
    "import json\n",
    "from json import JSONEncoder\n"
   ]
  },
  {
   "cell_type": "markdown",
   "id": "b43bf005",
   "metadata": {},
   "source": [
    "# Optimization"
   ]
  },
  {
   "cell_type": "markdown",
   "id": "01ea5e2c",
   "metadata": {},
   "source": [
    "/opt/anaconda3/envs/faiss_env/bin/python /Users/joonwonlee/Documents/GEMS_TCO-1/Exercises/st_model/optimization/local_version/vecc_alg_opt.py --space \"10,10\" --epochs 2500 --nheads 50 \n",
    "\n",
    "/opt/anaconda3/envs/faiss_env/bin/python /Users/joonwonlee/Documents/GEMS_TCO-1/Exercises/st_model/optimization/local_version/vecc_alg_opt.py --space \"20,20\" --epochs 2500 --nheads 200"
   ]
  },
  {
   "cell_type": "markdown",
   "id": "3cd61156",
   "metadata": {},
   "source": [
    "# Vecchia experiments"
   ]
  },
  {
   "cell_type": "code",
   "execution_count": null,
   "id": "0edee288",
   "metadata": {},
   "outputs": [],
   "source": [
    "C:\\Users\\joonw\\anaconda3\\envs\\faiss_env\\python.exe \"C:\\Users\\joonw\\tco\\GEMS_TCO-2\\Exercises\\st_model\\optimization\\local_window\\vecc_alg_opt.py\" --space \"20,20\" --epochs 2500 --nheads 200\n"
   ]
  },
  {
   "cell_type": "code",
   "execution_count": 5,
   "id": "17bbd9e8",
   "metadata": {},
   "outputs": [
    {
     "name": "stdout",
     "output_type": "stream",
     "text": [
      "['{\"day\": \"2025-04-19\", \"cov_name\": \"Algorithm1\", \"lat_lon_resolution\": 50, \"lr\": 0.01, \"stepsize\": 20, \"sigma\": 24, \"range_lat\": 2, \"range_lon\": 3, \"advec_lat\": 0.002, \"advec_lon\": -0.2, \"beta\": 0.1, \"nugget\": 3.5, \"loss\": 150, \"time\": 25, \"epoch\": 100}', '{\"day\": \"2025-04-19\", \"cov_name\": \"Algorithm1\", \"lat_lon_resolution\": 50, \"lr\": 0.01, \"stepsize\": 20, \"sigma\": 24, \"range_lat\": 2, \"range_lon\": 3, \"advec_lat\": 0.002, \"advec_lon\": -0.2, \"beta\": 0.1, \"nugget\": 3.5, \"loss\": 150, \"time\": 25, \"epoch\": 100}']\n"
     ]
    }
   ],
   "source": [
    "# Filepath to save and load the JSON data\n",
    "alg_opt = alg_optimization( \"2025-04-19\", \"Algorithm1\", 50, 0.01, 20, [24,2,3,0.002,-0.2,0.1,3.5,150], 25, 100)\n",
    "\n",
    "\n",
    "input_path = Path(\"C:\\\\Users\\\\joonw\\\\tco\\\\GEMS_TCO-2\\\\Exercises\\\\st_model\\\\optimization\\\\local_window\\\\\")\n",
    "input_filepath = input_path / \"vecc_alg_opt2.json\"\n",
    "loaded_data = alg_opt.load(input_filepath)\n",
    "loaded_data.append( alg_opt.toJSON() )\n",
    "\n",
    "\n",
    "print(loaded_data)\n",
    "alg_opt.save(input_filepath, loaded_data)\n",
    "fieldnames = ['day', 'cov_name', 'lat_lon_resolution', 'lr', 'stepsize',  'sigma','range_lat','range_lon','advec_lat','advec_lon','beta','nugget','loss', 'time', 'epoch']\n",
    "\n",
    "\n",
    "csv_filepath = input_path / \"vecc_alg_opt6.csv\"\n",
    "alg_opt.tocsv( loaded_data, fieldnames,csv_filepath )\n",
    "\n",
    "\n"
   ]
  },
  {
   "cell_type": "markdown",
   "id": "c7ff0119",
   "metadata": {},
   "source": [
    "# log"
   ]
  },
  {
   "cell_type": "markdown",
   "id": "32c129c5",
   "metadata": {},
   "source": [
    " Day 13 data size per day: 200.0  50 nheads\n",
    "\n",
    "Converged at epoch 541\n",
    "Epoch 542, Gradients: Loss: 2112.350359645857, \n",
    " vecc Parameters: [29.99274304  3.95715826  6.18368    -0.10446809  0.13425892  0.08204481\n",
    "  1.99669404]\n",
    "FINAL STATE: Epoch 542, Loss: 2112.350359645857, \n",
    " vecc Parameters: [29.99274304  3.95715826  6.18368    -0.10446809  0.13425892  0.08204481\n",
    "  1.99669404]\n",
    "day vecc b2 13 took 65.86\n",
    "Converged at epoch 511\n",
    "Epoch 512, Gradients: Loss: 2112.465007909351, \n",
    " vecc Parameters: [29.67231327  3.91660944  6.11742524 -0.10531929  0.13351553  0.08282542\n",
    "  1.99702787]\n",
    "FINAL STATE: Epoch 512, Loss: 2112.465007909351, \n",
    " vecc Parameters: [29.67231327  3.91660944  6.11742524 -0.10531929  0.13351553  0.08282542\n",
    "  1.99702787]\n",
    "day testing 13 took 61.71\n",
    "Converged at epoch 1641\n",
    "Epoch 1642, Gradients: Loss: 2112.4396514777072, \n",
    " vecc Parameters: [29.71961552  3.9261388   6.13496301 -0.10435152  0.13339478  0.08224178\n",
    "  1.99863086]\n",
    "FINAL STATE: Epoch 1642, Loss: 2112.4396514777072, \n",
    " vecc Parameters: [29.71961552  3.9261388   6.13496301 -0.10435152  0.13339478  0.08224178\n",
    "  1.99863086]\n",
    "day full 13 took 193.16\n",
    "(base) joonwonlee@nbp-25-252-193 ~ % \n",
    "\n"
   ]
  },
  {
   "cell_type": "markdown",
   "id": "a93ad589",
   "metadata": {},
   "source": [
    "# reference for more compact, filepath mutable codes"
   ]
  },
  {
   "cell_type": "code",
   "execution_count": null,
   "id": "16e23cd8",
   "metadata": {},
   "outputs": [],
   "source": [
    "output_file = Path(__file__).parent / f\"{Path(__file__).stem}-long-short-threshold.json\"\n",
    "with output_file.open(\"w+\", encoding=\"utf-8\") as file:\n",
    "    file.write(json.dumps(results, separators=(\",\", \":\")))"
   ]
  }
 ],
 "metadata": {
  "kernelspec": {
   "display_name": "faiss_env",
   "language": "python",
   "name": "python3"
  },
  "language_info": {
   "codemirror_mode": {
    "name": "ipython",
    "version": 3
   },
   "file_extension": ".py",
   "mimetype": "text/x-python",
   "name": "python",
   "nbconvert_exporter": "python",
   "pygments_lexer": "ipython3",
   "version": "3.12.9"
  }
 },
 "nbformat": 4,
 "nbformat_minor": 5
}
