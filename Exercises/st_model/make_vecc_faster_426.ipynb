{
 "cells": [
  {
   "cell_type": "code",
   "execution_count": 9,
   "id": "63731e67",
   "metadata": {},
   "outputs": [
    {
     "name": "stdout",
     "output_type": "stream",
     "text": [
      "\n",
      " Day 1 data size per day: 50.0 \n",
      "\n"
     ]
    }
   ],
   "source": [
    "import sys\n",
    "import os\n",
    "# gems_tco_path = \"/Users/joonwonlee/Documents/GEMS_TCO-1/src\"\n",
    "# sys.path.append(gems_tco_path)\n",
    "\n",
    "# Data manipulation and analysis\n",
    "import pandas as pd\n",
    "import numpy as np\n",
    "import pickle \n",
    "\n",
    "import GEMS_TCO\n",
    "from GEMS_TCO import kernels \n",
    "from GEMS_TCO import orderings as _orderings\n",
    "from GEMS_TCO import load_data\n",
    "\n",
    "import torch\n",
    "from collections import defaultdict\n",
    "\n",
    "import torch.optim as optim\n",
    "from torch.optim.lr_scheduler import StepLR\n",
    "import copy                    # clone tensor\n",
    "\n",
    "from pathlib import Path\n",
    "import json\n",
    "from json import JSONEncoder\n",
    "\n",
    "import time\n",
    "from line_profiler import LineProfiler\n",
    "     \n",
    "# kernprof -l script_to_profile.py\n",
    "# C:\\Users\\joonw\\anaconda3\\envs\\faiss_env\\python.exe -m kernprof -l \"C:\\Users\\joonw\\tco\\GEMS_TCO-2\\Exercises\\make_vecc_faster.py\"  window\n",
    "# /opt/anaconda3/envs/faiss_env/bin/python /Users/joonwonlee/Documents/GEMS_TCO-1/Exercises/make_vecc_faster.py  mac  \n",
    "\n",
    "\n",
    "# df = pd.read_csv(\"C:/Users/joonw/tco/GEMS_TCO-2/Exercises/st_model/estimates/full_estimates_1250_july24.csv\")   # window\n",
    "\n",
    "df = pd.read_csv(\"/Users/joonwonlee/Documents/GEMS_TCO-1/Exercises/st_model/estimates/full_estimates_1250_july24.csv\") \n",
    "\n",
    "lat_lon_resolution = [20,20]\n",
    "years = ['2024']\n",
    "month_range =[7,8]\n",
    "nheads = 2\n",
    "\n",
    "for day in range(1,2):\n",
    "    print(f'\\n Day {day} data size per day: { (200/lat_lon_resolution[0])*(100/lat_lon_resolution[0])  } \\n')\n",
    "\n",
    "    # parameters\n",
    "    mm_cond_number = 10+day\n",
    "    idx_for_datamap= [ 8*(day-1),8*day]\n",
    "    # params = [ 27.25, 2.18, 2.294, 4.099e-4, -0.07915, 0.0999, 3.65]   #200\n",
    "    params = list(df.iloc[day-1][:-1])\n",
    "    params = torch.tensor(params, dtype=torch.float64, requires_grad=True)\n",
    "\n",
    "    # data\n",
    "    # input_path = Path(\"C:\\\\Users\\\\joonw\\\\tco\\\\Extracted_data\")  # window\n",
    "\n",
    "    input_path = Path(\"/Users/joonwonlee/Documents/GEMS_DATA\")  # mac\n",
    "    instance = load_data(input_path)\n",
    "    map, ord_mm, nns_map= instance.load_mm20k_data_bymonthyear( lat_lon_resolution= lat_lon_resolution, mm_cond_number=mm_cond_number,years_=years, months_=month_range)\n",
    "    analysis_data_map, aggregated_data = instance.load_working_data_byday( map, ord_mm, nns_map, idx_for_datamap= idx_for_datamap)\n",
    "\n",
    "\n",
    "    # different approximations\n",
    "    key_order = [0,1,2,4,3,5,7,6]\n",
    "    reordered_dict, reordered_df = instance.reorder_data(analysis_data_map, key_order)\n",
    "    instance_ori = kernels.vecchia_experiment(0.5, analysis_data_map, aggregated_data,nns_map,mm_cond_number, nheads)\n",
    "    instance = kernels.vecchia_experiment(0.5, reordered_dict, reordered_df, nns_map,mm_cond_number, nheads)\n",
    "\n",
    "    '''  \n",
    "    start_time = time.time()\n",
    "    out1 = instance.full_likelihood(params, aggregated_data[:,:4],aggregated_data[:,2], instance_ori.matern_cov_anisotropy_v05)\n",
    "    end_time = time.time()\n",
    "    epoch_time1 = end_time - start_time\n",
    "    print(f'full two lags: {out1} took {epoch_time1:.2f}') \n",
    "    '''\n",
    "\n",
    "    instance_ori.cov_structure_saver(params, instance_ori.matern_cov_anisotropy_v05)\n"
   ]
  },
  {
   "cell_type": "code",
   "execution_count": 11,
   "id": "b20d1958",
   "metadata": {},
   "outputs": [
    {
     "name": "stdout",
     "output_type": "stream",
     "text": [
      "vecc efficient: 667.0032594202934 took 0.08\n"
     ]
    },
    {
     "ename": "TypeError",
     "evalue": "list indices must be integers or slices, not str",
     "output_type": "error",
     "traceback": [
      "\u001b[31m---------------------------------------------------------------------------\u001b[39m",
      "\u001b[31mTypeError\u001b[39m                                 Traceback (most recent call last)",
      "\u001b[36mCell\u001b[39m\u001b[36m \u001b[39m\u001b[32mIn[11]\u001b[39m\u001b[32m, line 8\u001b[39m\n\u001b[32m      5\u001b[39m \u001b[38;5;28mprint\u001b[39m(\u001b[33mf\u001b[39m\u001b[33m'\u001b[39m\u001b[33mvecc efficient: \u001b[39m\u001b[38;5;132;01m{\u001b[39;00mout2\u001b[38;5;132;01m}\u001b[39;00m\u001b[33m took \u001b[39m\u001b[38;5;132;01m{\u001b[39;00mepoch_time2\u001b[38;5;132;01m:\u001b[39;00m\u001b[33m.2f\u001b[39m\u001b[38;5;132;01m}\u001b[39;00m\u001b[33m'\u001b[39m) \n\u001b[32m      7\u001b[39m start_time = time.time()\n\u001b[32m----> \u001b[39m\u001b[32m8\u001b[39m out2 = \u001b[43minstance_ori\u001b[49m\u001b[43m.\u001b[49m\u001b[43mvecchia_efficient\u001b[49m\u001b[43m(\u001b[49m\u001b[43mparams\u001b[49m\u001b[43m,\u001b[49m\u001b[43m \u001b[49m\u001b[43minstance_ori\u001b[49m\u001b[43m.\u001b[49m\u001b[43mmatern_cov_anisotropy_v05\u001b[49m\u001b[43m)\u001b[49m\n\u001b[32m      9\u001b[39m end_time = time.time()\n\u001b[32m     10\u001b[39m epoch_time2 = end_time - start_time\n",
      "\u001b[36mFile \u001b[39m\u001b[32m~/Documents/GEMS_TCO-1/src/GEMS_TCO/kernels.py:922\u001b[39m, in \u001b[36mvecchia_experiment.vecchia_efficient\u001b[39m\u001b[34m(self, params, covariance_function)\u001b[39m\n\u001b[32m    920\u001b[39m     data_list.append(current_np[past])  \n\u001b[32m    921\u001b[39m \u001b[38;5;28;01mif\u001b[39;00m time_idx < \u001b[32m2\u001b[39m:\n\u001b[32m--> \u001b[39m\u001b[32m922\u001b[39m     cov_matrix = \u001b[38;5;28;43mself\u001b[39;49m\u001b[43m.\u001b[49m\u001b[43mcov_map\u001b[49m\u001b[43m[\u001b[49m\u001b[43m(\u001b[49m\u001b[43mtime_idx\u001b[49m\u001b[43m,\u001b[49m\u001b[43mindex\u001b[49m\u001b[43m)\u001b[49m\u001b[43m]\u001b[49m\u001b[43m[\u001b[49m\u001b[33;43m'\u001b[39;49m\u001b[33;43mcov_matrix\u001b[39;49m\u001b[33;43m'\u001b[39;49m\u001b[43m]\u001b[49m\n\u001b[32m    923\u001b[39m     tmp1 = \u001b[38;5;28mself\u001b[39m.cov_map[(time_idx,index)][\u001b[33m'\u001b[39m\u001b[33mtmp1\u001b[39m\u001b[33m'\u001b[39m]\n\u001b[32m    924\u001b[39m     cov_xx_inv = \u001b[38;5;28mself\u001b[39m.cov_map[(time_idx,index)][\u001b[33m'\u001b[39m\u001b[33mcov_xx_inv\u001b[39m\u001b[33m'\u001b[39m]\n",
      "\u001b[31mTypeError\u001b[39m: list indices must be integers or slices, not str"
     ]
    }
   ],
   "source": [
    "start_time = time.time()\n",
    "out2 = instance_ori.vecchia_b2_cache(params, instance_ori.matern_cov_anisotropy_v05)\n",
    "end_time = time.time()\n",
    "epoch_time2 = end_time - start_time\n",
    "print(f'vecc efficient: {out2} took {epoch_time2:.2f}') \n",
    "\n",
    "start_time = time.time()\n",
    "out2 = instance_ori.vecchia_efficient(params, instance_ori.matern_cov_anisotropy_v05)\n",
    "end_time = time.time()\n",
    "epoch_time2 = end_time - start_time\n",
    "print(f'vecc efficient: {out2} took {epoch_time2:.2f}') "
   ]
  }
 ],
 "metadata": {
  "kernelspec": {
   "display_name": "faiss_env",
   "language": "python",
   "name": "python3"
  },
  "language_info": {
   "codemirror_mode": {
    "name": "ipython",
    "version": 3
   },
   "file_extension": ".py",
   "mimetype": "text/x-python",
   "name": "python",
   "nbconvert_exporter": "python",
   "pygments_lexer": "ipython3",
   "version": "3.12.9"
  }
 },
 "nbformat": 4,
 "nbformat_minor": 5
}
